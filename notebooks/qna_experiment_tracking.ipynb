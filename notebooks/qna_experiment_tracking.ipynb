{
 "cells": [
  {
   "cell_type": "markdown",
   "id": "109de42f",
   "metadata": {},
   "source": [
    "### Experiment Tracking"
   ]
  },
  {
   "cell_type": "code",
   "execution_count": 42,
   "id": "869fb92b",
   "metadata": {},
   "outputs": [
    {
     "data": {
      "text/plain": [
       "<module 'constants' from '/Users/rachitjoshi/Documents/Finbot/notebooks/../scripts/constants.py'>"
      ]
     },
     "execution_count": 42,
     "metadata": {},
     "output_type": "execute_result"
    }
   ],
   "source": [
    "import os\n",
    "import sys\n",
    "import glob\n",
    "import re\n",
    "import importlib\n",
    "import random\n",
    "sys.path.append(os.path.join(os.getcwd(), '../scripts'))\n",
    "import qna_memory_jn as qna_m\n",
    "import constants as c\n",
    "importlib.reload(qna_m)\n",
    "importlib.reload(c)"
   ]
  },
  {
   "cell_type": "markdown",
   "id": "a7269850",
   "metadata": {},
   "source": [
    "#### Environment"
   ]
  },
  {
   "cell_type": "code",
   "execution_count": 8,
   "id": "797152d8",
   "metadata": {},
   "outputs": [],
   "source": [
    "os.environ[\"OPENAI_API_KEY\"] = \"6cdb659e5a9d402e80c212fe8ea26483\""
   ]
  },
  {
   "cell_type": "code",
   "execution_count": 9,
   "id": "1f1d835b",
   "metadata": {},
   "outputs": [],
   "source": [
    "os.environ[\"OPENAI_API_TYPE\"] = \"azure\"\n",
    "os.environ[\"OPENAI_API_VERSION\"] = \"2023-03-15-preview\"\n",
    "os.environ[\"OPENAI_API_BASE\"] = \"https://test-chatgpt-flomoney.openai.azure.com/\"\n",
    "os.environ[\"OPENAI_API_KEY\"] = os.getenv(\"OPENAI_API_KEY\")"
   ]
  },
  {
   "cell_type": "code",
   "execution_count": 95,
   "id": "543f4a88",
   "metadata": {},
   "outputs": [],
   "source": [
    "os.environ[\"MLFLOW_TRACKING_URI\"] = Path.cwd().joinpath(\"../mlruns\").as_posix()"
   ]
  },
  {
   "cell_type": "code",
   "execution_count": 98,
   "id": "30784a1e",
   "metadata": {},
   "outputs": [
    {
     "data": {
      "text/plain": [
       "'/Users/rachitjoshi/Documents/Finbot/notebooks/../mlruns'"
      ]
     },
     "execution_count": 98,
     "metadata": {},
     "output_type": "execute_result"
    }
   ],
   "source": [
    "os.environ[\"MLFLOW_TRACKING_URI\"]"
   ]
  },
  {
   "cell_type": "markdown",
   "id": "2f6aa040",
   "metadata": {},
   "source": [
    "#### Parameters"
   ]
  },
  {
   "cell_type": "code",
   "execution_count": 84,
   "id": "c06b82ad",
   "metadata": {},
   "outputs": [],
   "source": [
    "import mlflow\n",
    "from pathlib import Path\n",
    "from datetime import date\n",
    "from itertools import product"
   ]
  },
  {
   "cell_type": "code",
   "execution_count": 85,
   "id": "f2c2803c",
   "metadata": {},
   "outputs": [],
   "source": [
    "company_name = 'chope'"
   ]
  },
  {
   "cell_type": "code",
   "execution_count": 86,
   "id": "9c2bc53a",
   "metadata": {},
   "outputs": [],
   "source": [
    "tuning_params = {\n",
    "    'answer_max_tokens': [256, 512],\n",
    "    'temperature' : [0, 0.5]\n",
    "}\n",
    "tuning_scripts = [qna_m.__name__, 'buffer']"
   ]
  },
  {
   "cell_type": "markdown",
   "id": "b7946db4",
   "metadata": {},
   "source": [
    "#### Experiments"
   ]
  },
  {
   "cell_type": "code",
   "execution_count": 87,
   "id": "52ddfd5b",
   "metadata": {},
   "outputs": [],
   "source": [
    "experiment_name = f\"{company_name}-{date.today().strftime('%Y-%m-%d')}\""
   ]
  },
  {
   "cell_type": "code",
   "execution_count": 88,
   "id": "ea9c4e66",
   "metadata": {},
   "outputs": [],
   "source": [
    "mlflow.set_tracking_uri(Path.cwd().joinpath(\"../mlruns\").as_uri())"
   ]
  },
  {
   "cell_type": "code",
   "execution_count": 89,
   "id": "3c31dfa1",
   "metadata": {},
   "outputs": [],
   "source": [
    "if mlflow.get_experiment_by_name(experiment_name) is None:\n",
    "    experiment_id = mlflow.create_experiment(\n",
    "        name=experiment_name,\n",
    "        artifact_location=Path.cwd().joinpath(\"../mlruns\").as_uri(),\n",
    "        tags={\"version\":'v1', \"priority\":'p2'},\n",
    "\n",
    "    )\n",
    "else:\n",
    "    experiment = mlflow.set_experiment(experiment_name)\n",
    "    experiment_id = experiment.experiment_id"
   ]
  },
  {
   "cell_type": "code",
   "execution_count": 90,
   "id": "679a702a",
   "metadata": {},
   "outputs": [
    {
     "data": {
      "text/plain": [
       "<Experiment: artifact_location='file:///Users/rachitjoshi/Documents/Finbot/notebooks/../mlruns', creation_time=1698470436872, experiment_id='438196797336341294', last_update_time=1698470436872, lifecycle_stage='active', name='chope-2023-10-28', tags={'priority': 'p2', 'version': 'v1'}>"
      ]
     },
     "execution_count": 90,
     "metadata": {},
     "output_type": "execute_result"
    }
   ],
   "source": [
    "experiment"
   ]
  },
  {
   "cell_type": "code",
   "execution_count": 91,
   "id": "0dbb3d4f",
   "metadata": {},
   "outputs": [],
   "source": [
    "for script in tuning_scripts:\n",
    "    with mlflow.start_run(\n",
    "        run_name=f'script_{script}',\n",
    "        experiment_id=experiment_id,\n",
    "        tags={\"version\": \"v1\", \"priority\": \"p2\"},\n",
    "    #     description=\"parent\",    \n",
    "    ) as parent_run :\n",
    "        mlflow.log_param(\"parent\", \"yes\")\n",
    "        for t, a in list(\n",
    "            product(\n",
    "                tuning_params[\"temperature\"],\n",
    "                tuning_params[\"answer_max_tokens\"]\n",
    "            )\n",
    "        ):  \n",
    "            with mlflow.start_run(\n",
    "                run_name=f\"params:{t, a}\",\n",
    "                experiment_id=experiment_id,\n",
    "                nested=True,\n",
    "        #         description=\"child1\"\n",
    "            ) as child_run:\n",
    "                run_params = {\n",
    "                    \"temperature\": t,\n",
    "                    \"answer_max_tokens\": a,\n",
    "                }                \n",
    "                mlflow.log_param(\"child\", \"yes\")\n",
    "                mlflow.log_params(run_params)\n",
    "                run_metrics = {\n",
    "                    \"metric1\": random.random(),\n",
    "                    \"metric2\": random.random(),\n",
    "                }                 \n",
    "                mlflow.log_metrics(run_metrics)\n",
    "#                 mlflow.log_artifacts(local_dir=Path.cwd().joinpath(\"mlruns\"))\n",
    "                "
   ]
  },
  {
   "cell_type": "code",
   "execution_count": 93,
   "id": "0d25c467",
   "metadata": {},
   "outputs": [
    {
     "data": {
      "text/plain": [
       "'file:///Users/rachitjoshi/Documents/Finbot/notebooks/../mlruns'"
      ]
     },
     "execution_count": 93,
     "metadata": {},
     "output_type": "execute_result"
    }
   ],
   "source": [
    "mlflow.get_tracking_uri()"
   ]
  },
  {
   "cell_type": "code",
   "execution_count": 61,
   "id": "188f1ede",
   "metadata": {},
   "outputs": [],
   "source": [
    "mlflow.end_run()"
   ]
  },
  {
   "cell_type": "code",
   "execution_count": 99,
   "id": "edb44815",
   "metadata": {},
   "outputs": [
    {
     "name": "stdout",
     "output_type": "stream",
     "text": [
      "[2023-10-28 17:17:45 +0800] [9357] [INFO] Starting gunicorn 20.1.0\n",
      "[2023-10-28 17:17:45 +0800] [9357] [INFO] Listening at: http://127.0.0.1:5000 (9357)\n",
      "[2023-10-28 17:17:45 +0800] [9357] [INFO] Using worker: sync\n",
      "[2023-10-28 17:17:45 +0800] [9358] [INFO] Booting worker with pid: 9358\n",
      "[2023-10-28 17:17:45 +0800] [9359] [INFO] Booting worker with pid: 9359\n",
      "[2023-10-28 17:17:45 +0800] [9360] [INFO] Booting worker with pid: 9360\n",
      "[2023-10-28 17:17:45 +0800] [9361] [INFO] Booting worker with pid: 9361\n",
      "^C\n",
      "[2023-10-28 17:18:03 +0800] [9357] [INFO] Handling signal: int\n",
      "[2023-10-28 17:18:03 +0800] [9358] [INFO] Worker exiting (pid: 9358)\n",
      "[2023-10-28 17:18:03 +0800] [9360] [INFO] Worker exiting (pid: 9360)\n",
      "[2023-10-28 17:18:03 +0800] [9359] [INFO] Worker exiting (pid: 9359)\n",
      "[2023-10-28 17:18:03 +0800] [9361] [INFO] Worker exiting (pid: 9361)\n"
     ]
    }
   ],
   "source": [
    "!mlflow ui --backend-store-uri {mlflow.get_tracking_uri()}"
   ]
  },
  {
   "cell_type": "code",
   "execution_count": null,
   "id": "59ba312c",
   "metadata": {},
   "outputs": [],
   "source": []
  }
 ],
 "metadata": {
  "kernelspec": {
   "display_name": "finbot",
   "language": "python",
   "name": "finbot"
  },
  "language_info": {
   "codemirror_mode": {
    "name": "ipython",
    "version": 3
   },
   "file_extension": ".py",
   "mimetype": "text/x-python",
   "name": "python",
   "nbconvert_exporter": "python",
   "pygments_lexer": "ipython3",
   "version": "3.9.6"
  }
 },
 "nbformat": 4,
 "nbformat_minor": 5
}
