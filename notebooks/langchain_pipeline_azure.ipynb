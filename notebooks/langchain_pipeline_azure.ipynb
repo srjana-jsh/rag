{
 "cells": [
  {
   "cell_type": "markdown",
   "id": "cc2732d0",
   "metadata": {},
   "source": [
    "### Pipeline for QnA using Langchain [In Progress]"
   ]
  },
  {
   "cell_type": "code",
   "execution_count": 1,
   "id": "591866e7",
   "metadata": {},
   "outputs": [],
   "source": [
    "####Notes####\n",
    "# chunked data length can be atmost 16 for azureopenai"
   ]
  },
  {
   "cell_type": "code",
   "execution_count": 2,
   "id": "0b44b03c",
   "metadata": {},
   "outputs": [],
   "source": [
    "# !pip3 install langchain\n",
    "# !pip install openai\n",
    "# !pip3 install openai chromadb\n",
    "# !pip3 install tiktoken"
   ]
  },
  {
   "cell_type": "code",
   "execution_count": 3,
   "id": "1e3b368d",
   "metadata": {},
   "outputs": [],
   "source": [
    "# !pip3 install unstructured\n",
    "# !pip3 install pdf2image\n",
    "# !pip3 install pdfminer\n",
    "# !pip3 install pdfminer.six\n",
    "# !pip3 install pymupdf "
   ]
  },
  {
   "cell_type": "code",
   "execution_count": 5,
   "id": "65d86529",
   "metadata": {},
   "outputs": [
    {
     "data": {
      "text/plain": [
       "<module 'constants' from '/Users/rachitjoshi/Documents/Finbot/notebooks/../scripts/constants.py'>"
      ]
     },
     "execution_count": 5,
     "metadata": {},
     "output_type": "execute_result"
    }
   ],
   "source": [
    "import os\n",
    "import sys\n",
    "import glob\n",
    "import re\n",
    "import importlib\n",
    "import langchain\n",
    "from langchain.document_loaders import WebBaseLoader, UnstructuredPDFLoader, PyMuPDFLoader\n",
    "from langchain.text_splitter import RecursiveCharacterTextSplitter\n",
    "from langchain.indexes import VectorstoreIndexCreator\n",
    "from langchain.embeddings import OpenAIEmbeddings\n",
    "from langchain.vectorstores import Chroma\n",
    "from langchain.chains import RetrievalQA\n",
    "from langchain.llms import AzureOpenAI\n",
    "from langchain.prompts import PromptTemplate\n",
    "sys.path.append(os.path.join(os.getcwd(), '../scripts'))\n",
    "import helpers as h\n",
    "import constants as c\n",
    "importlib.reload(h)\n",
    "importlib.reload(c)"
   ]
  },
  {
   "cell_type": "markdown",
   "id": "a7269850",
   "metadata": {},
   "source": [
    "#### Environment"
   ]
  },
  {
   "cell_type": "code",
   "execution_count": 6,
   "id": "797152d8",
   "metadata": {},
   "outputs": [],
   "source": [
    "os.environ[\"OPENAI_API_KEY\"] = \"6cdb659e5a9d402e80c212fe8ea26483\""
   ]
  },
  {
   "cell_type": "code",
   "execution_count": 7,
   "id": "1f1d835b",
   "metadata": {},
   "outputs": [],
   "source": [
    "os.environ[\"OPENAI_API_TYPE\"] = \"azure\"\n",
    "os.environ[\"OPENAI_API_VERSION\"] = \"2023-03-15-preview\"\n",
    "os.environ[\"OPENAI_API_BASE\"] = \"https://test-chatgpt-flomoney.openai.azure.com/\"\n",
    "os.environ[\"OPENAI_API_KEY\"] = os.getenv(\"OPENAI_API_KEY\")"
   ]
  },
  {
   "cell_type": "markdown",
   "id": "ddeb387c",
   "metadata": {},
   "source": [
    "#### Paths"
   ]
  },
  {
   "cell_type": "code",
   "execution_count": 8,
   "id": "689055b3",
   "metadata": {},
   "outputs": [],
   "source": [
    "pdfs_path = os.path.join(os.getcwd(), '../data/pdfs')\n",
    "merged_pdfs_path = os.path.join(os.getcwd(), '../data/pdfs_processed/merged')"
   ]
  },
  {
   "cell_type": "markdown",
   "id": "288a6688",
   "metadata": {},
   "source": [
    "#### PDF"
   ]
  },
  {
   "cell_type": "code",
   "execution_count": 9,
   "id": "d849861f",
   "metadata": {},
   "outputs": [],
   "source": [
    "investorcom_pdfs = [ _ for _ in glob.glob(os.path.join(pdfs_path, '*.pdf')) if 'investorcom' in _]"
   ]
  },
  {
   "cell_type": "markdown",
   "id": "6569d75a",
   "metadata": {},
   "source": [
    "##### - Load"
   ]
  },
  {
   "cell_type": "code",
   "execution_count": 10,
   "id": "f078336e",
   "metadata": {},
   "outputs": [],
   "source": [
    "loaded_data = []\n",
    "for pdf in investorcom_pdfs :\n",
    "    loaded_data.extend(UnstructuredPDFLoader(file_path=pdf).load())        "
   ]
  },
  {
   "cell_type": "code",
   "execution_count": 11,
   "id": "e841f1f5",
   "metadata": {},
   "outputs": [
    {
     "data": {
      "text/plain": [
       "7"
      ]
     },
     "execution_count": 11,
     "metadata": {},
     "output_type": "execute_result"
    }
   ],
   "source": [
    "len(loaded_data)"
   ]
  },
  {
   "cell_type": "code",
   "execution_count": 12,
   "id": "05d1c289",
   "metadata": {},
   "outputs": [
    {
     "data": {
      "text/plain": [
       "6702"
      ]
     },
     "execution_count": 12,
     "metadata": {},
     "output_type": "execute_result"
    }
   ],
   "source": [
    "len(loaded_data[0].page_content)"
   ]
  },
  {
   "cell_type": "code",
   "execution_count": 13,
   "id": "3c69da54",
   "metadata": {},
   "outputs": [],
   "source": [
    "# for pdf in pdf_list :\n",
    "#     try :\n",
    "#         pdf_data.extend(UnstructuredPDFLoader(file_path=pdf).load())        \n",
    "#     except NameError:\n",
    "#         pdf_loader = UnstructuredPDFLoader(file_path=pdf)\n",
    "#         pdf_data = pdf_loader.load()"
   ]
  },
  {
   "cell_type": "markdown",
   "id": "6215c716",
   "metadata": {},
   "source": [
    "##### - Split"
   ]
  },
  {
   "cell_type": "code",
   "execution_count": 14,
   "id": "1288cf29",
   "metadata": {},
   "outputs": [],
   "source": [
    "chunk_size = 2000\n",
    "chunk_overlap = 0"
   ]
  },
  {
   "cell_type": "code",
   "execution_count": 15,
   "id": "00017c4a",
   "metadata": {},
   "outputs": [],
   "source": [
    "data_splitter = RecursiveCharacterTextSplitter(\n",
    "    chunk_size = chunk_size, chunk_overlap = chunk_overlap\n",
    ")"
   ]
  },
  {
   "cell_type": "code",
   "execution_count": 16,
   "id": "046f7b04",
   "metadata": {},
   "outputs": [],
   "source": [
    "chunked_data = data_splitter.split_documents(loaded_data)"
   ]
  },
  {
   "cell_type": "code",
   "execution_count": 17,
   "id": "3f7175a3",
   "metadata": {},
   "outputs": [
    {
     "data": {
      "text/plain": [
       "33"
      ]
     },
     "execution_count": 17,
     "metadata": {},
     "output_type": "execute_result"
    }
   ],
   "source": [
    "len(chunked_data)"
   ]
  },
  {
   "cell_type": "code",
   "execution_count": 18,
   "id": "e04ba1a3",
   "metadata": {},
   "outputs": [
    {
     "data": {
      "text/plain": [
       "1942"
      ]
     },
     "execution_count": 18,
     "metadata": {},
     "output_type": "execute_result"
    }
   ],
   "source": [
    "len(chunked_data[4].page_content)"
   ]
  },
  {
   "cell_type": "markdown",
   "id": "7f965017",
   "metadata": {},
   "source": [
    "##### - Store"
   ]
  },
  {
   "cell_type": "code",
   "execution_count": 19,
   "id": "76e93aa0",
   "metadata": {},
   "outputs": [],
   "source": [
    "chunks_max = 15"
   ]
  },
  {
   "cell_type": "code",
   "execution_count": 20,
   "id": "6bae9700",
   "metadata": {},
   "outputs": [],
   "source": [
    "vectorstore_engine = 'Finbot-embedding-2'"
   ]
  },
  {
   "cell_type": "code",
   "execution_count": 21,
   "id": "844575f6",
   "metadata": {},
   "outputs": [],
   "source": [
    "embedding_model = OpenAIEmbeddings(deployment=vectorstore_engine)"
   ]
  },
  {
   "cell_type": "code",
   "execution_count": 22,
   "id": "7bad3ae4",
   "metadata": {},
   "outputs": [],
   "source": [
    "try:\n",
    "    vectorstore.delete_collection()\n",
    "except (ValueError, NameError):\n",
    "    pass\n",
    "for c in range(0, len(chunked_data), chunks_max):\n",
    "    vectorstore = Chroma.from_documents(\n",
    "        documents=chunked_data[c: c + chunks_max], embedding=embedding_model\n",
    "    )"
   ]
  },
  {
   "cell_type": "code",
   "execution_count": 23,
   "id": "cdfe08e1",
   "metadata": {
    "scrolled": true
   },
   "outputs": [
    {
     "data": {
      "text/plain": [
       "33"
      ]
     },
     "execution_count": 23,
     "metadata": {},
     "output_type": "execute_result"
    }
   ],
   "source": [
    "len(vectorstore.get()['documents'])"
   ]
  },
  {
   "cell_type": "code",
   "execution_count": 24,
   "id": "cfb0605d",
   "metadata": {},
   "outputs": [
    {
     "data": {
      "text/plain": [
       "dict_keys(['ids', 'embeddings', 'metadatas', 'documents'])"
      ]
     },
     "execution_count": 24,
     "metadata": {},
     "output_type": "execute_result"
    }
   ],
   "source": [
    "vectorstore.get().keys()"
   ]
  },
  {
   "cell_type": "markdown",
   "id": "4d893183",
   "metadata": {},
   "source": [
    "##### - Retrieve"
   ]
  },
  {
   "cell_type": "code",
   "execution_count": 25,
   "id": "231675b2",
   "metadata": {},
   "outputs": [
    {
     "data": {
      "text/plain": [
       "7"
      ]
     },
     "execution_count": 25,
     "metadata": {},
     "output_type": "execute_result"
    }
   ],
   "source": [
    "question = \"what are the pros and cons of tesla stock and nvidia stock?\"\n",
    "docs = vectorstore.similarity_search_with_relevance_scores(question, k=7)\n",
    "len(docs)"
   ]
  },
  {
   "cell_type": "code",
   "execution_count": 26,
   "id": "37d47485",
   "metadata": {},
   "outputs": [
    {
     "data": {
      "text/plain": [
       "1951"
      ]
     },
     "execution_count": 26,
     "metadata": {},
     "output_type": "execute_result"
    }
   ],
   "source": [
    "len(docs[0][0].page_content)"
   ]
  },
  {
   "cell_type": "code",
   "execution_count": 27,
   "id": "97a1fdce",
   "metadata": {},
   "outputs": [],
   "source": [
    "# print(docs[1][0].page_content)"
   ]
  },
  {
   "cell_type": "markdown",
   "id": "b3756b18",
   "metadata": {},
   "source": [
    "##### - Generate"
   ]
  },
  {
   "cell_type": "code",
   "execution_count": 28,
   "id": "617476d9",
   "metadata": {},
   "outputs": [],
   "source": [
    "llm_engine = 'finbot-gpt'\n",
    "llm_model = 'text-davinci-002'\n",
    "temperature = 0\n",
    "search_type = 'mmr'\n",
    "retrieval_kwargs = {'k': 5, 'lambda_mult': 0.5, 'fetch_k':10}\n",
    "answer_max_tokens = 512\n",
    "save_folder = '../data/pdfs/'\n",
    "prompt_template_file = os.path.join(os.getcwd(), '../scripts/prompt_template.txt')\n",
    "pdf_list = [\n",
    "    _ for _ in glob.glob(os.path.join(os.getcwd(), save_folder, '*.pdf'))\n",
    "]\n",
    "web_list = []\n",
    "langchain.debug=False"
   ]
  },
  {
   "cell_type": "code",
   "execution_count": 29,
   "id": "af609b03",
   "metadata": {},
   "outputs": [
    {
     "name": "stderr",
     "output_type": "stream",
     "text": [
      "/Users/rachitjoshi/finbot/lib/python3.9/site-packages/langchain/utils/utils.py:155: UserWarning: WARNING! engine is not default parameter.\n",
      "                engine was transferred to model_kwargs.\n",
      "                Please confirm that engine is what you intended.\n",
      "  warnings.warn(\n"
     ]
    }
   ],
   "source": [
    "base_llm = AzureOpenAI(\n",
    "    engine=llm_engine, \n",
    "    model_name=llm_model, \n",
    "    temperature=temperature, \n",
    "    max_tokens=answer_max_tokens\n",
    ")"
   ]
  },
  {
   "cell_type": "code",
   "execution_count": 30,
   "id": "9c37296d",
   "metadata": {},
   "outputs": [],
   "source": [
    "##### see chunks retrieved (in order of probability ?)\n",
    "##### what chunks are passed onto the prompt"
   ]
  },
  {
   "cell_type": "code",
   "execution_count": 31,
   "id": "c32e4e9d",
   "metadata": {},
   "outputs": [],
   "source": [
    "chunk_retriever=vectorstore.as_retriever(\n",
    "    search_type=search_type, search_kwargs=retrieval_kwargs\n",
    ")"
   ]
  },
  {
   "cell_type": "code",
   "execution_count": 32,
   "id": "ba8e05da",
   "metadata": {},
   "outputs": [],
   "source": [
    "relevant_chunks = chunk_retriever.get_relevant_documents(query=question)"
   ]
  },
  {
   "cell_type": "code",
   "execution_count": 33,
   "id": "b5e4d7a1",
   "metadata": {},
   "outputs": [],
   "source": [
    "# chunk_retriever.aget_relevant_documents(query=question)"
   ]
  },
  {
   "cell_type": "code",
   "execution_count": 35,
   "id": "c77e7470",
   "metadata": {},
   "outputs": [],
   "source": [
    "import constants as c"
   ]
  },
  {
   "cell_type": "code",
   "execution_count": 36,
   "id": "7fdd46b6",
   "metadata": {},
   "outputs": [
    {
     "ename": "AttributeError",
     "evalue": "module 'constants' has no attribute 'prompt_role'",
     "output_type": "error",
     "traceback": [
      "\u001b[0;31m---------------------------------------------------------------------------\u001b[0m",
      "\u001b[0;31mAttributeError\u001b[0m                            Traceback (most recent call last)",
      "Cell \u001b[0;32mIn[36], line 4\u001b[0m\n\u001b[1;32m      1\u001b[0m chain_prompt \u001b[38;5;241m=\u001b[39m PromptTemplate\u001b[38;5;241m.\u001b[39mfrom_file(\n\u001b[1;32m      2\u001b[0m     prompt_template_file,\n\u001b[1;32m      3\u001b[0m     input_variables\u001b[38;5;241m=\u001b[39mc\u001b[38;5;241m.\u001b[39mprompt_input_variables,\n\u001b[0;32m----> 4\u001b[0m     partial_variables\u001b[38;5;241m=\u001b[39m{\u001b[38;5;124m'\u001b[39m\u001b[38;5;124mrole\u001b[39m\u001b[38;5;124m'\u001b[39m:\u001b[43mc\u001b[49m\u001b[38;5;241;43m.\u001b[39;49m\u001b[43mprompt_role\u001b[49m}\n\u001b[1;32m      5\u001b[0m )\n",
      "\u001b[0;31mAttributeError\u001b[0m: module 'constants' has no attribute 'prompt_role'"
     ]
    }
   ],
   "source": [
    "chain_prompt = PromptTemplate.from_file(\n",
    "    prompt_template_file,\n",
    "    input_variables=c.prompt_input_variables,\n",
    "    partial_variables={'role':c.prompt_role}\n",
    ")"
   ]
  },
  {
   "cell_type": "code",
   "execution_count": 37,
   "id": "1a8e6758",
   "metadata": {},
   "outputs": [],
   "source": [
    "qna_chain = RetrievalQA.from_chain_type(\n",
    "    base_llm, \n",
    "    retriever=vectorstore.as_retriever(\n",
    "        search_type=search_type, search_kwargs=retrieval_kwargs\n",
    "    ),\n",
    "    return_source_documents=True,  \n",
    "#     verbose=True,\n",
    "    chain_type_kwargs={\"prompt\": None}\n",
    ")"
   ]
  },
  {
   "cell_type": "code",
   "execution_count": 38,
   "id": "643600ae",
   "metadata": {},
   "outputs": [],
   "source": [
    "# qna_chain.verbose=True"
   ]
  },
  {
   "cell_type": "code",
   "execution_count": 39,
   "id": "8e6a3278",
   "metadata": {},
   "outputs": [
    {
     "data": {
      "text/plain": [
       "PromptTemplate(input_variables=['context', 'question'], output_parser=None, partial_variables={}, template=\"Use the following pieces of context to answer the question at the end. If you don't know the answer, just say that you don't know, don't try to make up an answer.\\n\\n{context}\\n\\nQuestion: {question}\\nHelpful Answer:\", template_format='f-string', validate_template=True)"
      ]
     },
     "execution_count": 39,
     "metadata": {},
     "output_type": "execute_result"
    }
   ],
   "source": [
    "qna_chain.combine_documents_chain.llm_chain.prompt"
   ]
  },
  {
   "cell_type": "code",
   "execution_count": 66,
   "id": "4a40ceed",
   "metadata": {},
   "outputs": [
    {
     "name": "stdout",
     "output_type": "stream",
     "text": [
      "\u001b[32;1m\u001b[1;3m[chain/start]\u001b[0m \u001b[1m[1:chain:RetrievalQA] Entering Chain run with input:\n",
      "\u001b[0m{\n",
      "  \"query\": \"what are the pros and cons of tesla stock and nvidia stock?\"\n",
      "}\n",
      "\u001b[32;1m\u001b[1;3m[chain/start]\u001b[0m \u001b[1m[1:chain:RetrievalQA > 3:chain:StuffDocumentsChain] Entering Chain run with input:\n",
      "\u001b[0m[inputs]\n",
      "\u001b[32;1m\u001b[1;3m[chain/start]\u001b[0m \u001b[1m[1:chain:RetrievalQA > 3:chain:StuffDocumentsChain > 4:chain:LLMChain] Entering Chain run with input:\n",
      "\u001b[0m{\n",
      "  \"question\": \"what are the pros and cons of tesla stock and nvidia stock?\",\n",
      "  \"context\": \"NEWS\\n\\nIs Tesla Stock A Buy Or A Sell With California's Attorney General Investigating The EV Giant?\\n\\nKIT NORTON 11:05 AM ET 07/27/2023\\n\\nT esla (TSLA) stock appears to be pulling back after second-quarter \\u0000nancials\\n\\non July 19, as investor concerns over falling gross margins seems to be outweighing\\n\\nthe global EV giant's earnings and revenue-beating numbers.\\n\\nX\\n\\n00:00\\n\\nMeanwhile, California's attorney general is investigating Tesla, seeking information\\n\\nfrom customers and former employees regarding Autopilot safety and false\\n\\nadvertising complaints, CNBC reported Wednesday.\\n\\nThis comes after Tesla reported Q2 pro\\u0000ts growing 20% to 91 cents per share while\\n\\nrevenue increased 47% to $24.93 billion. Analysts expected pro\\u0000ts to edge up\\n\\naround 4% to 80 cents per share with revenue totaling $24.22 billion, up 43%\\n\\ncompared with last year.\\n\\nTesla's total gross pro\\u0000t grew 7% to $4.53 billion in the second quarter. Meanwhile,\\n\\ntotal gross margins came in at 18.2%, down from 19.3% in Q1 and a decline of 682\\n\\nbasis points vs. last year. Auto gross margins, excluding regulatory credits and\\n\\nleases, came in at 18.1%, down from 18.3% in Q1.\\n\\nThat is below the 20% gross margin \\\"\\u0000oor\\\" Tesla previously targeted. Ahead of\\n\\nearnings, a slew of analysts rang warning bells on gross margins.\\n\\n\\\"The short-term variances in gross margins and pro\\u0000tability really are minor\\n\\nrelative to the long term picture,\\\" Chief Executive Elon Musk told investors during\\n\\nthe Q2 earnings call.\\n\\n\\\"Autonomy will make all of these numbers look silly,\\\" he added.\\n\\nStock Falls After Earnings\\n\\nHowever on July 20, TSLA tumbled 9.7% to 262.90, falling below the 21-day line\\n\\nbut only giving up July gains.\\n\\nAhead of earnings, Wood sold tranches of her \\u0000rm's Tesla stock holdings in\\n\\nconsecutive sessions, unloading more than 73,000 shares before the EV giant\\n\\nreported second-quarter \\u0000nancials.\\n\\nMorgan Stanley analyst Adam Jonas on July 24 wrote he expects Tesla's full-year\\n\\nsales gain. Last year, Nvidia earnings fell 25%.\\n\\nIts next quarterly report is expected on Aug. 23.\\n\\nOut of 50 analysts covering NVDA stock, 43 rate it a buy. Six have a hold and one\\n\\nhas a sell, according to FactSet.\\n\\nLooking For The Next Big Stock Market Winners? Start With These 3 Steps\\n\\nNVDA Backstory, Rivals\\n\\nThe fabless chipmaker pioneered graphics processing units, or GPUs, to make video\\n\\ngames more realistic. It's expanding in AI chips, used in supercomputers, data\\n\\ncenters and drug development.\\n\\nNvidia's GPUs act as accelerators for central processing units, or CPUs, made by\\n\\nother companies. It's working on \\\"supercomputers\\\" combining its own CPUs and\\n\\nGPUs.\\n\\nIn addition, Nvidia chips are used for Bitcoin mining and self-driving electric cars.\\n\\nNvidia has made a big push into metaverse applications.\\n\\nFabless chip stocks include Qualcomm (QCOM), Broadcom (AVGO) and Monolithic\\n\\nPower Systems (MPWR).\\n\\nCurrently, the fabless group ranks No. 2 out of 197 industry groups. Fabless\\n\\ncompanies design the hardware while outsourcing the manufacturing to a third-\\n\\nparty \\u0000rm.\\n\\nFor the best returns, investors should focus on companies that are leading the\\n\\nmarket and their own industry group.\\n\\nIs Nvidia Stock A Buy?\\n\\nOn a fundamental level, Nvidia earnings are expected to return to growth. They\\n\\nshould more than double this \\u0000scal year, driven by booming chip sales for data\\n\\ncenters and arti\\u0000cial intelligence.\\n\\nThe fabless chipmaker is expanding in other growth areas such as automated\\n\\nelectric cars and cloud gaming as well. The adoption of the metaverse and\\n\\ncryptocurrencies could further stoke demand for Nvidia chips.\\n\\nHowever, macroeconomic uncertainties and risk of global recession linger.\\n\\nNVDA stock has staged a massive comeback, more than tripling in 2023 so far.\\n\\nShares have reclaimed their latest follow-on entry after a retreat and are now back\\n\\nin a proper buy zone. But investors may want to wait for a pullback to key levels or a\\n\\nnew base, especially with the market rally under pressure.\\n\\nBottom line: Nvidia stock is a buy right now, but with caveats.\\n\\nAs a leading chip company with exposure to top end-markets, Nvidia is always one\\n\\nto watch.\\n\\nCheck out IBD Stock Lists and other IBD content to \\u0000nd dozens of the best stocks\\n\\nto buy or watch.\\n\\nYOU MAY ALSO LIKE:\\n\\nIs AMD Stock A Buy?\\n\\nSee The Best Stocks To Buy And Watch\\n\\nCatch The Next Big Winning Stock With MarketSmith\\n\\nJoin IBD Live And Learn Top Chart-Reading And Trading Techniques From The\\n\\nPros\\n\\nTSLA stock is greatly extended from a cup base with a 207.79 buy point. Shares\\n\\nhave climbed 118% so far in 2023, according to Leaderboard analysis. After the\\n\\npullback on Q2 earnings, TSLA is up around 3% in July.\\n\\nNow Tesla is working on a deeper cup base going back to September 2022 with a\\n\\n313.80 buy point.\\n\\nTesla (TSLA)\\n\\n$251.41 2.45 0.97%\\n\\n25\\n\\n09\\n\\n23\\n\\n06\\n\\n20\\n\\n03 Feb\\n\\n17\\n\\n03 Mar\\n\\n17\\n\\n31 Apr\\n\\n14\\n\\n28 May\\n\\n12\\n\\n26\\n\\n09\\n\\n23\\n\\n07\\n\\nDec\\n\\nJan\\n\\nJun\\n\\nJul\\n\\n08/07/2023 (Market Close)\\n\\nTechnically, Tesla now has a handle on a weekly chart, offering 299.29 buy point.\\n\\nBut a slightly deeper pullback or pause could create a meaningful handle. That\\n\\nhandle could end up developing into a new base with the broader consolidation.\\n\\nAn extended handle or new base would offer more time for moving averages to\\n\\ncatch up to the TSLA stock price.\\n\\nTesla stock ranks third in IBD's automaker industry group. It has a 98 Composite\\n\\nRating out of 99. Tesla has a 95 Relative Strength Rating and its EPS Rating is 94\\n\\nout of 99.\\n\\nThe market status is showing a \\\"con\\u0000rmed uptrend.\\\" However, Tesla stock is greatly\\n\\nextended from a cup base and TSLA is not a buy right now.\\n\\nYOU MAY ALSO LIKE:\\n\\nGet An Edge In The Stock Market With IBD Digital\\n\\nLabor Unions Keep The Heat On Starbucks And Amazon\\n\\nTesla Signals IRA Tax Credit Reduction For Model 3\\n\\nFed, Big Earnings Loom; Tesla Downgraded\\n\\nTECHNOLOGY\\n\\nIs Amazon Stock A Buy As It Restructures Workforce In Tough Times?\\n\\nBRIAN DEAGON 03:03 PM ET 04/14/2023\\n\\nF or years, Amazon seemed invincible, an e-commerce giant that made other\\n\\ncompanies shiver when it muscled into their markets. It helped Amazon stock soar\\n\\ninto four-digit territory, and the company's earnings reports often delighted\\n\\ninvestors.\\n\\nNow, after a year of troubling earnings reports, Amazon has launched a major\\n\\nrestructuring, including plans to cut 27,000 employees from its workforce. Is\\n\\nAmazon stock a buy?\\n\\nIn late March, Amazon announced plans to slash 9,000 jobs. That's on top of the\\n\\n18,000 job cuts it announced in January.\\n\\n\\\"Given the uncertain economy in which we reside, and the uncertainty that exists in\\n\\nthe near future, we have chosen to be more streamlined in our costs and head\\n\\ncount,\\\" Amazon Chief Executive Andy Jassy said in a written notice to employees\\n\\nwhen the layoffs were announced. He also suggested more layoffs are possible. The\\n\\ncuts mainly focus on Amazon Web Services, advertising, Twitch, human resources\\n\\nand its stores divisions.\\n\\nAmazon Jumps Into Arti\\u0000cial Intelligence\\n\\nOn April 13, Amazon jumped into the booming \\u0000eld of generative arti\\u0000cial\\n\\nintelligence, the technology behind ChatGPT. Amazon stock climbed on the news,\\n\\nas did other AI companies.\\n\\nAlphabet and Microsoft (MSFT) previously announced plans to bring ChatGPT to\\n\\nthe public. Meanwhile, Amazon's cloud computing unit, Amazon Web Services,\\n\\nplans to target corporate customers.\\n\\nAWS will also expand access to custom-made chips. They say the chips can run AI\\n\\nsoftware more ef\\u0000ciently and cheaper than competitors can.\\n\\n\\\"Machine learning has been a technology with high promise for several decades. But\\n\\nit's only been the last \\u0000ve to 10 years that it's started to be used more pervasively\\n\\nby companies,\\\" Chief Executive Andy Jassy said in his letter to shareholders.\\n\\nMachine learning is a form of arti\\u0000cial intelligence.\"\n",
      "}\n",
      "\u001b[32;1m\u001b[1;3m[llm/start]\u001b[0m \u001b[1m[1:chain:RetrievalQA > 3:chain:StuffDocumentsChain > 4:chain:LLMChain > 5:llm:AzureOpenAI] Entering LLM run with input:\n",
      "\u001b[0m{\n",
      "  \"prompts\": [\n",
      "    \"template=\\\"\\\"\\\"Use the following pieces of context to answer the question at the end.\\nNEWS\\n\\nIs Tesla Stock A Buy Or A Sell With California's Attorney General Investigating The EV Giant?\\n\\nKIT NORTON 11:05 AM ET 07/27/2023\\n\\nT esla (TSLA) stock appears to be pulling back after second-quarter \\u0000nancials\\n\\non July 19, as investor concerns over falling gross margins seems to be outweighing\\n\\nthe global EV giant's earnings and revenue-beating numbers.\\n\\nX\\n\\n00:00\\n\\nMeanwhile, California's attorney general is investigating Tesla, seeking information\\n\\nfrom customers and former employees regarding Autopilot safety and false\\n\\nadvertising complaints, CNBC reported Wednesday.\\n\\nThis comes after Tesla reported Q2 pro\\u0000ts growing 20% to 91 cents per share while\\n\\nrevenue increased 47% to $24.93 billion. Analysts expected pro\\u0000ts to edge up\\n\\naround 4% to 80 cents per share with revenue totaling $24.22 billion, up 43%\\n\\ncompared with last year.\\n\\nTesla's total gross pro\\u0000t grew 7% to $4.53 billion in the second quarter. Meanwhile,\\n\\ntotal gross margins came in at 18.2%, down from 19.3% in Q1 and a decline of 682\\n\\nbasis points vs. last year. Auto gross margins, excluding regulatory credits and\\n\\nleases, came in at 18.1%, down from 18.3% in Q1.\\n\\nThat is below the 20% gross margin \\\"\\u0000oor\\\" Tesla previously targeted. Ahead of\\n\\nearnings, a slew of analysts rang warning bells on gross margins.\\n\\n\\\"The short-term variances in gross margins and pro\\u0000tability really are minor\\n\\nrelative to the long term picture,\\\" Chief Executive Elon Musk told investors during\\n\\nthe Q2 earnings call.\\n\\n\\\"Autonomy will make all of these numbers look silly,\\\" he added.\\n\\nStock Falls After Earnings\\n\\nHowever on July 20, TSLA tumbled 9.7% to 262.90, falling below the 21-day line\\n\\nbut only giving up July gains.\\n\\nAhead of earnings, Wood sold tranches of her \\u0000rm's Tesla stock holdings in\\n\\nconsecutive sessions, unloading more than 73,000 shares before the EV giant\\n\\nreported second-quarter \\u0000nancials.\\n\\nMorgan Stanley analyst Adam Jonas on July 24 wrote he expects Tesla's full-year\\n\\nsales gain. Last year, Nvidia earnings fell 25%.\\n\\nIts next quarterly report is expected on Aug. 23.\\n\\nOut of 50 analysts covering NVDA stock, 43 rate it a buy. Six have a hold and one\\n\\nhas a sell, according to FactSet.\\n\\nLooking For The Next Big Stock Market Winners? Start With These 3 Steps\\n\\nNVDA Backstory, Rivals\\n\\nThe fabless chipmaker pioneered graphics processing units, or GPUs, to make video\\n\\ngames more realistic. It's expanding in AI chips, used in supercomputers, data\\n\\ncenters and drug development.\\n\\nNvidia's GPUs act as accelerators for central processing units, or CPUs, made by\\n\\nother companies. It's working on \\\"supercomputers\\\" combining its own CPUs and\\n\\nGPUs.\\n\\nIn addition, Nvidia chips are used for Bitcoin mining and self-driving electric cars.\\n\\nNvidia has made a big push into metaverse applications.\\n\\nFabless chip stocks include Qualcomm (QCOM), Broadcom (AVGO) and Monolithic\\n\\nPower Systems (MPWR).\\n\\nCurrently, the fabless group ranks No. 2 out of 197 industry groups. Fabless\\n\\ncompanies design the hardware while outsourcing the manufacturing to a third-\\n\\nparty \\u0000rm.\\n\\nFor the best returns, investors should focus on companies that are leading the\\n\\nmarket and their own industry group.\\n\\nIs Nvidia Stock A Buy?\\n\\nOn a fundamental level, Nvidia earnings are expected to return to growth. They\\n\\nshould more than double this \\u0000scal year, driven by booming chip sales for data\\n\\ncenters and arti\\u0000cial intelligence.\\n\\nThe fabless chipmaker is expanding in other growth areas such as automated\\n\\nelectric cars and cloud gaming as well. The adoption of the metaverse and\\n\\ncryptocurrencies could further stoke demand for Nvidia chips.\\n\\nHowever, macroeconomic uncertainties and risk of global recession linger.\\n\\nNVDA stock has staged a massive comeback, more than tripling in 2023 so far.\\n\\nShares have reclaimed their latest follow-on entry after a retreat and are now back\\n\\nin a proper buy zone. But investors may want to wait for a pullback to key levels or a\\n\\nnew base, especially with the market rally under pressure.\\n\\nBottom line: Nvidia stock is a buy right now, but with caveats.\\n\\nAs a leading chip company with exposure to top end-markets, Nvidia is always one\\n\\nto watch.\\n\\nCheck out IBD Stock Lists and other IBD content to \\u0000nd dozens of the best stocks\\n\\nto buy or watch.\\n\\nYOU MAY ALSO LIKE:\\n\\nIs AMD Stock A Buy?\\n\\nSee The Best Stocks To Buy And Watch\\n\\nCatch The Next Big Winning Stock With MarketSmith\\n\\nJoin IBD Live And Learn Top Chart-Reading And Trading Techniques From The\\n\\nPros\\n\\nTSLA stock is greatly extended from a cup base with a 207.79 buy point. Shares\\n\\nhave climbed 118% so far in 2023, according to Leaderboard analysis. After the\\n\\npullback on Q2 earnings, TSLA is up around 3% in July.\\n\\nNow Tesla is working on a deeper cup base going back to September 2022 with a\\n\\n313.80 buy point.\\n\\nTesla (TSLA)\\n\\n$251.41 2.45 0.97%\\n\\n25\\n\\n09\\n\\n23\\n\\n06\\n\\n20\\n\\n03 Feb\\n\\n17\\n\\n03 Mar\\n\\n17\\n\\n31 Apr\\n\\n14\\n\\n28 May\\n\\n12\\n\\n26\\n\\n09\\n\\n23\\n\\n07\\n\\nDec\\n\\nJan\\n\\nJun\\n\\nJul\\n\\n08/07/2023 (Market Close)\\n\\nTechnically, Tesla now has a handle on a weekly chart, offering 299.29 buy point.\\n\\nBut a slightly deeper pullback or pause could create a meaningful handle. That\\n\\nhandle could end up developing into a new base with the broader consolidation.\\n\\nAn extended handle or new base would offer more time for moving averages to\\n\\ncatch up to the TSLA stock price.\\n\\nTesla stock ranks third in IBD's automaker industry group. It has a 98 Composite\\n\\nRating out of 99. Tesla has a 95 Relative Strength Rating and its EPS Rating is 94\\n\\nout of 99.\\n\\nThe market status is showing a \\\"con\\u0000rmed uptrend.\\\" However, Tesla stock is greatly\\n\\nextended from a cup base and TSLA is not a buy right now.\\n\\nYOU MAY ALSO LIKE:\\n\\nGet An Edge In The Stock Market With IBD Digital\\n\\nLabor Unions Keep The Heat On Starbucks And Amazon\\n\\nTesla Signals IRA Tax Credit Reduction For Model 3\\n\\nFed, Big Earnings Loom; Tesla Downgraded\\n\\nTECHNOLOGY\\n\\nIs Amazon Stock A Buy As It Restructures Workforce In Tough Times?\\n\\nBRIAN DEAGON 03:03 PM ET 04/14/2023\\n\\nF or years, Amazon seemed invincible, an e-commerce giant that made other\\n\\ncompanies shiver when it muscled into their markets. It helped Amazon stock soar\\n\\ninto four-digit territory, and the company's earnings reports often delighted\\n\\ninvestors.\\n\\nNow, after a year of troubling earnings reports, Amazon has launched a major\\n\\nrestructuring, including plans to cut 27,000 employees from its workforce. Is\\n\\nAmazon stock a buy?\\n\\nIn late March, Amazon announced plans to slash 9,000 jobs. That's on top of the\\n\\n18,000 job cuts it announced in January.\\n\\n\\\"Given the uncertain economy in which we reside, and the uncertainty that exists in\\n\\nthe near future, we have chosen to be more streamlined in our costs and head\\n\\ncount,\\\" Amazon Chief Executive Andy Jassy said in a written notice to employees\\n\\nwhen the layoffs were announced. He also suggested more layoffs are possible. The\\n\\ncuts mainly focus on Amazon Web Services, advertising, Twitch, human resources\\n\\nand its stores divisions.\\n\\nAmazon Jumps Into Arti\\u0000cial Intelligence\\n\\nOn April 13, Amazon jumped into the booming \\u0000eld of generative arti\\u0000cial\\n\\nintelligence, the technology behind ChatGPT. Amazon stock climbed on the news,\\n\\nas did other AI companies.\\n\\nAlphabet and Microsoft (MSFT) previously announced plans to bring ChatGPT to\\n\\nthe public. Meanwhile, Amazon's cloud computing unit, Amazon Web Services,\\n\\nplans to target corporate customers.\\n\\nAWS will also expand access to custom-made chips. They say the chips can run AI\\n\\nsoftware more ef\\u0000ciently and cheaper than competitors can.\\n\\n\\\"Machine learning has been a technology with high promise for several decades. But\\n\\nit's only been the last \\u0000ve to 10 years that it's started to be used more pervasively\\n\\nby companies,\\\" Chief Executive Andy Jassy said in his letter to shareholders.\\n\\nMachine learning is a form of arti\\u0000cial intelligence.\\nAnswer like a financial advisor. If you don't know the answer, just say that you don't know, don't try to make up an answer. what are the pros and cons of tesla stock and nvidia stock?\\n\\\"\\\"\\\"\"\n",
      "  ]\n",
      "}\n"
     ]
    },
    {
     "name": "stdout",
     "output_type": "stream",
     "text": [
      "\u001b[36;1m\u001b[1;3m[llm/end]\u001b[0m \u001b[1m[1:chain:RetrievalQA > 3:chain:StuffDocumentsChain > 4:chain:LLMChain > 5:llm:AzureOpenAI] [7.50s] Exiting LLM run with output:\n",
      "\u001b[0m{\n",
      "  \"generations\": [\n",
      "    [\n",
      "      {\n",
      "        \"text\": \"\\n\\n\\n\\n# Tesla\\n# Pros:\\n# - Tesla is a leader in the electric vehicle market, which is a rapidly growing industry.\\n# - Tesla has a strong brand and a loyal customer base.\\n# - Tesla has a strong balance sheet with a lot of cash on hand.\\n# - Tesla has a visionary CEO in Elon Musk who has a track record of innovation and success.\\n\\n# Cons:\\n# - Tesla faces increasing competition in the electric vehicle market from established automakers and new entrants.\\n# - Tesla's valuation is very high, which makes it vulnerable to a market downturn or a shift in investor sentiment.\\n# - Tesla has faced regulatory scrutiny and legal challenges related to its Autopilot system and other safety issues.\\n# - Tesla's gross margins have been declining, which could put pressure on its profitability in the long term.\\n\\n# Nvidia\\n# Pros:\\n# - Nvidia is a leader in the graphics processing unit (GPU) market, which is a key component of many high-growth industries such as gaming, artificial intelligence, and self-driving cars.\\n# - Nvidia has a strong balance sheet with a lot of cash on hand.\\n# - Nvidia has a visionary CEO in Jensen Huang who has a track record of innovation and success.\\n# - Nvidia has a diverse product portfolio that includes GPUs, data center chips, and automotive chips.\\n\\n# Cons:\\n# - Nvidia faces increasing competition in the GPU market from established players such as Intel and AMD.\\n# - Nvidia's valuation is very high, which makes it vulnerable to a market downturn or a shift in investor sentiment.\\n# - Nvidia's growth is heavily dependent on the success of the industries it serves, which could be impacted by economic or technological factors.\\n# - Nvidia has faced regulatory scrutiny and legal challenges related to its acquisition of ARM Holdings and other issues.<|im_end|>\",\n",
      "        \"generation_info\": {\n",
      "          \"finish_reason\": \"stop\",\n",
      "          \"logprobs\": null\n",
      "        }\n",
      "      }\n",
      "    ]\n",
      "  ],\n",
      "  \"llm_output\": {\n",
      "    \"token_usage\": {\n",
      "      \"completion_tokens\": 362,\n",
      "      \"prompt_tokens\": 1927,\n",
      "      \"total_tokens\": 2289\n",
      "    },\n",
      "    \"model_name\": \"text-davinci-002\"\n",
      "  },\n",
      "  \"run\": null\n",
      "}\n",
      "\u001b[36;1m\u001b[1;3m[chain/end]\u001b[0m \u001b[1m[1:chain:RetrievalQA > 3:chain:StuffDocumentsChain > 4:chain:LLMChain] [7.50s] Exiting Chain run with output:\n",
      "\u001b[0m{\n",
      "  \"text\": \"\\n\\n\\n\\n# Tesla\\n# Pros:\\n# - Tesla is a leader in the electric vehicle market, which is a rapidly growing industry.\\n# - Tesla has a strong brand and a loyal customer base.\\n# - Tesla has a strong balance sheet with a lot of cash on hand.\\n# - Tesla has a visionary CEO in Elon Musk who has a track record of innovation and success.\\n\\n# Cons:\\n# - Tesla faces increasing competition in the electric vehicle market from established automakers and new entrants.\\n# - Tesla's valuation is very high, which makes it vulnerable to a market downturn or a shift in investor sentiment.\\n# - Tesla has faced regulatory scrutiny and legal challenges related to its Autopilot system and other safety issues.\\n# - Tesla's gross margins have been declining, which could put pressure on its profitability in the long term.\\n\\n# Nvidia\\n# Pros:\\n# - Nvidia is a leader in the graphics processing unit (GPU) market, which is a key component of many high-growth industries such as gaming, artificial intelligence, and self-driving cars.\\n# - Nvidia has a strong balance sheet with a lot of cash on hand.\\n# - Nvidia has a visionary CEO in Jensen Huang who has a track record of innovation and success.\\n# - Nvidia has a diverse product portfolio that includes GPUs, data center chips, and automotive chips.\\n\\n# Cons:\\n# - Nvidia faces increasing competition in the GPU market from established players such as Intel and AMD.\\n# - Nvidia's valuation is very high, which makes it vulnerable to a market downturn or a shift in investor sentiment.\\n# - Nvidia's growth is heavily dependent on the success of the industries it serves, which could be impacted by economic or technological factors.\\n# - Nvidia has faced regulatory scrutiny and legal challenges related to its acquisition of ARM Holdings and other issues.<|im_end|>\"\n",
      "}\n",
      "\u001b[36;1m\u001b[1;3m[chain/end]\u001b[0m \u001b[1m[1:chain:RetrievalQA > 3:chain:StuffDocumentsChain] [7.51s] Exiting Chain run with output:\n",
      "\u001b[0m{\n",
      "  \"output_text\": \"\\n\\n\\n\\n# Tesla\\n# Pros:\\n# - Tesla is a leader in the electric vehicle market, which is a rapidly growing industry.\\n# - Tesla has a strong brand and a loyal customer base.\\n# - Tesla has a strong balance sheet with a lot of cash on hand.\\n# - Tesla has a visionary CEO in Elon Musk who has a track record of innovation and success.\\n\\n# Cons:\\n# - Tesla faces increasing competition in the electric vehicle market from established automakers and new entrants.\\n# - Tesla's valuation is very high, which makes it vulnerable to a market downturn or a shift in investor sentiment.\\n# - Tesla has faced regulatory scrutiny and legal challenges related to its Autopilot system and other safety issues.\\n# - Tesla's gross margins have been declining, which could put pressure on its profitability in the long term.\\n\\n# Nvidia\\n# Pros:\\n# - Nvidia is a leader in the graphics processing unit (GPU) market, which is a key component of many high-growth industries such as gaming, artificial intelligence, and self-driving cars.\\n# - Nvidia has a strong balance sheet with a lot of cash on hand.\\n# - Nvidia has a visionary CEO in Jensen Huang who has a track record of innovation and success.\\n# - Nvidia has a diverse product portfolio that includes GPUs, data center chips, and automotive chips.\\n\\n# Cons:\\n# - Nvidia faces increasing competition in the GPU market from established players such as Intel and AMD.\\n# - Nvidia's valuation is very high, which makes it vulnerable to a market downturn or a shift in investor sentiment.\\n# - Nvidia's growth is heavily dependent on the success of the industries it serves, which could be impacted by economic or technological factors.\\n# - Nvidia has faced regulatory scrutiny and legal challenges related to its acquisition of ARM Holdings and other issues.<|im_end|>\"\n",
      "}\n",
      "\u001b[36;1m\u001b[1;3m[chain/end]\u001b[0m \u001b[1m[1:chain:RetrievalQA] [9.85s] Exiting Chain run with output:\n",
      "\u001b[0m[outputs]\n"
     ]
    }
   ],
   "source": [
    "query_result = qna_chain({\"query\": question})"
   ]
  },
  {
   "cell_type": "code",
   "execution_count": 44,
   "id": "221b85af",
   "metadata": {},
   "outputs": [
    {
     "data": {
      "text/plain": [
       "dict_keys(['query', 'result', 'source_documents'])"
      ]
     },
     "execution_count": 44,
     "metadata": {},
     "output_type": "execute_result"
    }
   ],
   "source": [
    "query_result.keys()"
   ]
  },
  {
   "cell_type": "code",
   "execution_count": 45,
   "id": "586bab93",
   "metadata": {},
   "outputs": [
    {
     "name": "stdout",
     "output_type": "stream",
     "text": [
      "\n",
      "\n",
      "\n",
      "\n",
      "# Tesla\n",
      "# Pros:\n",
      "# - Tesla is a leader in the electric vehicle market, which is a rapidly growing industry.\n",
      "# - Tesla has a strong brand and a loyal customer base.\n",
      "# - Tesla has a strong balance sheet with a lot of cash on hand.\n",
      "# - Tesla has a visionary CEO in Elon Musk who has a track record of innovation and success.\n",
      "\n",
      "# Cons:\n",
      "# - Tesla has a high valuation, which makes it vulnerable to market downturns.\n",
      "# - Tesla faces increasing competition from other automakers who are investing heavily in electric vehicles.\n",
      "# - Tesla has had some quality control issues in the past, which could hurt its reputation.\n",
      "# - Tesla is facing regulatory scrutiny over its Autopilot system, which could lead to increased costs and liability.\n",
      "\n",
      "# Nvidia\n",
      "# Pros:\n",
      "# - Nvidia is a leader in the graphics processing unit (GPU) market, which is a rapidly growing industry.\n",
      "# - Nvidia has a strong balance sheet with a lot of cash on hand.\n",
      "# - Nvidia has a strong brand and a loyal customer base.\n",
      "# - Nvidia is expanding into new markets such as artificial intelligence and self-driving cars.\n",
      "\n",
      "# Cons:\n",
      "# - Nvidia faces increasing competition from other chipmakers who are investing heavily in GPUs.\n",
      "# - Nvidia is vulnerable to market downturns due to its high valuation.\n",
      "# - Nvidia's growth is dependent on the success of new markets such as artificial intelligence and self-driving cars, which are still in the early stages of development.\n",
      "# - Nvidia's reliance on the gaming industry for a large portion of its revenue makes it vulnerable to changes in that industry.<|im_end|>\n"
     ]
    }
   ],
   "source": [
    "print(query_result['result'])"
   ]
  },
  {
   "cell_type": "code",
   "execution_count": 289,
   "id": "e6106a38",
   "metadata": {},
   "outputs": [
    {
     "name": "stdout",
     "output_type": "stream",
     "text": [
      "{'source': '/Users/rachitjoshi/Documents/Finbot/notebooks/../data/pdfs/tesla_investorcom_1.pdf'}\n"
     ]
    }
   ],
   "source": [
    "print(query_result['source_documents'][0].metadata)"
   ]
  },
  {
   "cell_type": "code",
   "execution_count": 120,
   "id": "ce335a2c",
   "metadata": {},
   "outputs": [
    {
     "name": "stdout",
     "output_type": "stream",
     "text": [
      " Tesla stock is a high-risk, high-reward investment. The company has a history of volatility and is heavily dependent on the success of its electric vehicles. Nvidia stock is a more stable investment, with a strong track record of growth and a diversified business model. However, it is also subject to the cyclical nature of the semiconductor industry. Ultimately, the decision to invest in either stock will depend on your risk tolerance and investment goals. It is important to do your own research and consult with a financial advisor before making any investment decisions.<|im_end|>\n"
     ]
    }
   ],
   "source": [
    "print(query_result['result'])"
   ]
  },
  {
   "cell_type": "code",
   "execution_count": null,
   "id": "47eb4780",
   "metadata": {},
   "outputs": [],
   "source": []
  },
  {
   "cell_type": "code",
   "execution_count": null,
   "id": "e2b4ce1e",
   "metadata": {},
   "outputs": [],
   "source": []
  },
  {
   "cell_type": "code",
   "execution_count": 119,
   "id": "c852a31d",
   "metadata": {},
   "outputs": [
    {
     "data": {
      "text/plain": [
       "23866"
      ]
     },
     "execution_count": 119,
     "metadata": {},
     "output_type": "execute_result"
    }
   ],
   "source": [
    "source_doc_length = 0\n",
    "for doc in query_result['source_documents']:\n",
    "    source_doc_length += len(doc.page_content)\n",
    "source_doc_length    \n"
   ]
  },
  {
   "cell_type": "code",
   "execution_count": 120,
   "id": "57520699",
   "metadata": {},
   "outputs": [
    {
     "data": {
      "text/plain": [
       "'what are the pros and cons of tesla stock and nvidia stock?'"
      ]
     },
     "execution_count": 120,
     "metadata": {},
     "output_type": "execute_result"
    }
   ],
   "source": [
    "query_result['query']"
   ]
  },
  {
   "cell_type": "code",
   "execution_count": 123,
   "id": "76a7ab6e",
   "metadata": {
    "scrolled": true
   },
   "outputs": [
    {
     "name": "stdout",
     "output_type": "stream",
     "text": [
      "TECHNOLOGY\n",
      "\n",
      "Is Amazon Stock A Buy As It Restructures Workforce In Tough Times?\n",
      "\n",
      "BRIAN DEAGON 03:03 PM ET 04/14/2023\n",
      "\n",
      "F or years, Amazon seemed invincible, an e-commerce giant that made other\n",
      "\n",
      "companies shiver when it muscled into their markets. It helped Amazon stock soar\n",
      "\n",
      "into four-digit territory, and the company's earnings reports often delighted\n",
      "\n",
      "investors.\n",
      "\n",
      "Now, after a year of troubling earnings reports, Amazon has launched a major\n",
      "\n",
      "restructuring, including plans to cut 27,000 employees from its workforce. Is\n",
      "\n",
      "Amazon stock a buy?\n",
      "\n",
      "In late March, Amazon announced plans to slash 9,000 jobs. That's on top of the\n",
      "\n",
      "18,000 job cuts it announced in January.\n",
      "\n",
      "\"Given the uncertain economy in which we reside, and the uncertainty that exists in\n",
      "\n",
      "the near future, we have chosen to be more streamlined in our costs and head\n",
      "\n",
      "count,\" Amazon Chief Executive Andy Jassy said in a written notice to employees\n",
      "\n",
      "when the layoffs were announced. He also suggested more layoffs are possible. The\n",
      "\n",
      "cuts mainly focus on Amazon Web Services, advertising, Twitch, human resources\n",
      "\n",
      "and its stores divisions.\n",
      "\n",
      "Amazon Jumps Into Arti\u0000cial Intelligence\n",
      "\n",
      "On April 13, Amazon jumped into the booming \u0000eld of generative arti\u0000cial\n",
      "\n",
      "intelligence, the technology behind ChatGPT. Amazon stock climbed on the news,\n",
      "\n",
      "as did other AI companies.\n",
      "\n",
      "Alphabet and Microsoft (MSFT) previously announced plans to bring ChatGPT to\n",
      "\n",
      "the public. Meanwhile, Amazon's cloud computing unit, Amazon Web Services,\n",
      "\n",
      "plans to target corporate customers.\n",
      "\n",
      "AWS will also expand access to custom-made chips. They say the chips can run AI\n",
      "\n",
      "software more ef\u0000ciently and cheaper than competitors can.\n",
      "\n",
      "\"Machine learning has been a technology with high promise for several decades. But\n",
      "\n",
      "it's only been the last \u0000ve to 10 years that it's started to be used more pervasively\n",
      "\n",
      "by companies,\" Chief Executive Andy Jassy said in his letter to shareholders.\n",
      "\n",
      "Machine learning is a form of arti\u0000cial intelligence.\n",
      "\n",
      "Jassy went on to say: \"We will continue to invest substantially in these models\n",
      "\n",
      "across all of our consumer, seller, brand and creator experience.\"\n",
      "\n",
      "The three largest cloud computing companies, AWS, Microsoft and Google, have\n",
      "\n",
      "moved AI development to the top of their to-do list. Each is trying to capitalize on\n",
      "\n",
      "the booming interest in arti\u0000cial intelligence technology.\n",
      "\n",
      "A Heightened Focus On Cost Savings\n",
      "\n",
      "After the second round of job cuts, Arun Sundaram, senior equity analyst at CFRA,\n",
      "\n",
      "maintained a buy rating on Amazon stock.\n",
      "\n",
      "\"While some may view these job cuts as a sign of a gloomier macro outlook,\n",
      "\n",
      "especially as it relates to cloud computing and digital advertising, we believe\n",
      "\n",
      "investors will appreciate Amazon's heightened focus on cost savings and free cash\n",
      "\n",
      "\u0000ow,\" Sundaram wrote in a note to clients.\n",
      "\n",
      "The most recent layoff announcements, in March, came after Amazon announced\n",
      "\n",
      "fourth-quarter results on Feb. 2. The company beat on revenue but missed on\n",
      "\n",
      "earnings, as its typically strong cloud computing unit failed to rescue the e-\n",
      "\n",
      "commerce giant.\n",
      "\n",
      "The cloud unit showed that revenue decelerated. AWS sales jumped 20% to $21.4\n",
      "\n",
      "billion, but that was below expectations and a deceleration from 27% growth in the\n",
      "\n",
      "prior quarter\n",
      "\n",
      "Oppenheimer analyst Jason Helfstein said more cost-cutting efforts are needed.\n",
      "\n",
      "\"We believe more layoffs are necessary for e-commerce to become meaningfully\n",
      "\n",
      "pro\u0000table,\" he said in his note to clients.\n",
      "\n",
      "Amazon Continues Push Into Health Care\n",
      "\n",
      "In late February, Amazon completed its $3.9 billion acquisition of One Medical,\n",
      "\n",
      "giving it a primary health care provider with in-person and virtual treatment as well\n",
      "\n",
      "as lab tests and programs for preventive care.\n",
      "\n",
      "\"We're on a mission to make it dramatically easier for people to \u0000nd, choose, afford\n",
      "\n",
      "and engage with the services, products, and professionals they need to get and stay\n",
      "\n",
      "healthy,\" said Neil Lindsay, senior vice president of Amazon Health Services, in a\n",
      "\n",
      "written statement with the Amazon news release.\n",
      "\n",
      "Amazon has made several forays into the health care market. In 2018 Amazon paid\n",
      "\n",
      "about $1 billion to acquire PillPack. That gave Amazon the ability to ship\n",
      "\n",
      "prescriptions around the country, making it a direct threat to the more than $400\n",
      "\n",
      "billion pharmacy business.\n",
      "\n",
      "Amazon has long-held ambitions to greatly simplify how consumers receive health\n",
      "\n",
      "care, but it remains a lofty goal that has yet to emerge as a moneymaking venture.\n",
      "\n",
      "Technical Analysis Of Amazon Stock\n",
      "\n",
      "In the stock market, timing is critical. So when you're looking for stocks to buy or\n",
      "\n",
      "sell, it's important to do the fundamental and technical analysis that identi\u0000es\n",
      "\n",
      "lower-risk entry points that also offer solid potential rewards.\n",
      "\n",
      "The IBD Stock Checkup tool shows that Amazon stock has a weak IBD Composite\n",
      "\n",
      "Rating of 36 out of 99. When choosing growth stocks for the biggest potential,\n",
      "\n",
      "based on technical and fundamental criteria, try to focus on those with a\n",
      "\n",
      "Composite Rating of 90 or higher.\n",
      "\n",
      "Amazon's Relative Strength Rating now stands at 32 out of 99. Ideally, look for\n",
      "\n",
      "stocks with a rating of 80 or higher.\n",
      "\n",
      "Is Amazon Stock A Buy?\n",
      "\n",
      "AMZN is not a buy at this time. It's still in a long-term downtrend but has been\n",
      "\n",
      "recovering since it hit a low at the start of the year.\n",
      "\n",
      "AMZN stock is now forming a cup base with a 114.10 buy point, and the price\n",
      "\n",
      "action is so far pretty smooth.\n",
      "\n",
      "Even if Amazon breaks out, it has a mountain to climb back. Overhead supply could\n",
      "\n",
      "retard any advance AMZN tries in the next several months.\n",
      "\n",
      "The stock continues to hit resistance at the 200-day line, which has been a\n",
      "\n",
      "resistance level for about a year. Amazon is currently sitting on its 50-day line.\n",
      "\n",
      "Falling below that would be reason for caution. But holding above it and then\n",
      "\n",
      "piercing through the 200-day line and holding would be a positive sign.\n",
      "\n",
      "Recognizing stock chart patterns is one key to the investment guidelines. IBD offers\n",
      "\n",
      "a broad range of growth stock lists, such as Leaderboard and SwingTrader.\n",
      "\n",
      "Investors also can create watchlists, \u0000nd companies nearing a buy point, or develop\n",
      "\n",
      "custom screens at IBD MarketSmith.\n",
      "\n",
      "If you're interested in buying large-cap stocks, in these articles you'll \u0000nd technical\n",
      "\n",
      "analysis of leading large caps to see if they are in or near a proper buy zone.\n",
      "\n",
      "Please follow Brian Deagon on Twitter at @IBD_BDeagon for more on tech stocks,\n",
      "\n",
      "analysis and \u0000nancial markets.\n",
      "\n",
      "YOU MIGHT ALSO LIKE:\n",
      "\n",
      "Amazon Makes Its Swan Dive Into ChatGPT Arti\u0000cial Intelligence Pool\n",
      "\n",
      "No Silver Lining In Amazon's Cloud Business As Results Fail To Excite\n",
      "\n",
      "Amazon's Alexa Smart Speaker Blazed A Trail, Then Burned Out\n",
      "\n",
      "Looking For Market Insights? Check Out Our IBD Live Daily Segment\n",
      "\n",
      "Join IBD Live Each Morning For Stock Tips Before The Open\n",
      "\n",
      "NEWS\n",
      "\n",
      "Nvidia More Than Triples In 2023 On AI Boost — Is It A Buy?\n",
      "\n",
      "APARNA NARAYANAN 03:25 PM ET 08/04/2023\n",
      "\n",
      "N vidia (NVDA), a giant in data centers and gaming, continues to sizzle. The\n",
      "\n",
      "chip giant is seen as one of the biggest winners of the AI boom. Is Nvidia stock a buy\n",
      "\n",
      "right now, with earnings due?\n",
      "\n",
      "Semiconductor, AI News\n",
      "\n",
      "In May, Nvidia Chief Executive Jensen Huang announced a new supercomputer,\n",
      "\n",
      "software and services for generative AI (arti\u0000cial intelligence). Generative AI can\n",
      "\n",
      "create content, including written articles, from simple descriptive phrases by\n",
      "\n",
      "analyzing and digesting vast amounts of data. It can also write computer\n",
      "\n",
      "programming code.\n",
      "\n",
      "For its latest quarter, graphics-chip maker Nvidia crushed Wall Street's targets on\n",
      "\n",
      "record data-center sales. Production is ramping up to meet huge demand for AI\n",
      "\n",
      "technology, CEO Huang said.\n",
      "\n",
      "Nvidia is a leader in AI chips. In the tech industry's \u0000erce battle for AI dominance,\n",
      "\n",
      "the advanced chips needed for generative AI, such as the ChatGPT chatbot, are key.\n",
      "\n",
      "For those looking for top large-cap stocks to buy now, here's a dive into NVDA\n",
      "\n",
      "stock.\n",
      "\n",
      "Nvidia Stock Technical Analysis\n",
      "\n",
      "Nvidia rebounded Aug. 3 after three down days, technically regaining a 439.90 buy\n",
      "\n",
      "point. Shares edged higher on Aug. 4. The latest entry from a three-weeks-tight\n",
      "\n",
      "pattern offered a place for existing investors to add a few more shares. The buy\n",
      "\n",
      "range goes to 461.90, the IBD Leaderboard stock analysis shows.\n",
      "\n",
      "But with the market rally shifting to under pressure, investors may want to wait to\n",
      "\n",
      "see if Nvidia can \u0000nd support at the 50-day/10-week line for the \u0000rst time since\n",
      "\n",
      "early January.\n",
      "\n",
      "A rebound from those levels would offer a buying opportunity. But shares aren't\n",
      "\n",
      "there yet.\n",
      "\n",
      "A further pullback also could be part of a full-\u0000edged base.\n",
      "\n",
      "Shares still aren't far from the 52-week high, set on July 14.\n",
      "\n",
      "NVDA joined the prestigious IBD Leaderboard in February on an earnings gap-up. It\n",
      "\n",
      "surged again in May on blowout earnings and strong guidance.\n",
      "\n",
      "Year to date, Nvidia stock has skyrocketed 206%, after crashing in 2022.\n",
      "\n",
      "The relative strength line is \u0000attening out a bit after a strong rally, the IBD\n",
      "\n",
      "MarketSmith charts show. A rising RS line means that a stock is outperforming the\n",
      "\n",
      "S&P 500. It is the blue line in the chart shown.\n",
      "\n",
      "NVDA earns an IBD Composite Rating of 97, out of a best-possible 99. In other\n",
      "\n",
      "words, Nvidia stock is in the top 3% of all stocks in terms of technical and\n",
      "\n",
      "fundamental metrics.\n",
      "\n",
      "NVIDIA (NVDA)\n",
      "\n",
      "$454.17 7.37 1.65%\n",
      "\n",
      "Dec 20\n",
      "\n",
      "Mar 21\n",
      "\n",
      "Jun 21\n",
      "\n",
      "Sep 21\n",
      "\n",
      "Dec 21\n",
      "\n",
      "Mar 22\n",
      "\n",
      "Jun 22\n",
      "\n",
      "Sep 22\n",
      "\n",
      "Dec 22\n",
      "\n",
      "Mar 23\n",
      "\n",
      "Ju\n",
      "\n",
      "08/07/2023 (Market Close)\n",
      "\n",
      "Investors generally should focus on stocks with Comp Ratings of 90 or even 95 and\n",
      "\n",
      "above. Nvidia stock often earns a spot on the IBD 50, Big Cap 20 and Sector\n",
      "\n",
      "Leaders lists.\n",
      "\n",
      "The IBD Stock Checkup tool shows that NVDA carries a Relative Strength Rating\n",
      "\n",
      "of 99. That means it has outperformed 99% of all other stocks over the past year.\n",
      "\n",
      "The iShares PHLX Semiconductor ETF (SOXX) holds both Nvidia stock and AMD\n",
      "\n",
      "stock.\n",
      "\n",
      "IBD Live: A New Tool For Daily Stock Market Analysis\n",
      "\n",
      "Nvidia Earnings\n",
      "\n",
      "Nvidia's EPS Rating is 68 out of 99 and its SMR Rating is a B, on a scale of A to a\n",
      "\n",
      "worst E. The EPS rating compares a company's earnings growth to other stocks. Its\n",
      "\n",
      "SMR Rating gauges sales growth, pro\u0000t margins and return on equity.\n",
      "\n",
      "On May 24, the chip giant delivered a big beat-and-raise report. The Nvidia\n",
      "\n",
      "earnings report included a bullish, AI-fueled sales forecast.\n",
      "\n",
      "The Santa Clara, Calif.-based company earned $1.09 a share on sales of $7.19 billion\n",
      "\n",
      "in the quarter ended April 30. Year over year, Nvidia earnings dropped 20% while\n",
      "\n",
      "sales fell 13%. But the results easily outpaced Wall Street's expectations.\n",
      "\n",
      "In Q1, data-center sales rose 14% to $4.28 billion. Gaming-chip sales fell 38% to\n",
      "\n",
      "$2.24 billion.\n",
      "\n",
      "Analysts expect Nvidia earnings per share to rebound 138% in \u0000scal 2024, on a 61%\n",
      "\n",
      "sales gain. Last year, Nvidia earnings fell 25%.\n",
      "\n",
      "Its next quarterly report is expected on Aug. 23.\n",
      "\n",
      "Out of 50 analysts covering NVDA stock, 43 rate it a buy. Six have a hold and one\n",
      "\n",
      "has a sell, according to FactSet.\n",
      "\n",
      "Looking For The Next Big Stock Market Winners? Start With These 3 Steps\n",
      "\n",
      "NVDA Backstory, Rivals\n",
      "\n",
      "The fabless chipmaker pioneered graphics processing units, or GPUs, to make video\n",
      "\n",
      "games more realistic. It's expanding in AI chips, used in supercomputers, data\n",
      "\n",
      "centers and drug development.\n",
      "\n",
      "Nvidia's GPUs act as accelerators for central processing units, or CPUs, made by\n",
      "\n",
      "other companies. It's working on \"supercomputers\" combining its own CPUs and\n",
      "\n",
      "GPUs.\n",
      "\n",
      "In addition, Nvidia chips are used for Bitcoin mining and self-driving electric cars.\n",
      "\n",
      "Nvidia has made a big push into metaverse applications.\n",
      "\n",
      "Fabless chip stocks include Qualcomm (QCOM), Broadcom (AVGO) and Monolithic\n",
      "\n",
      "Power Systems (MPWR).\n",
      "\n",
      "Currently, the fabless group ranks No. 2 out of 197 industry groups. Fabless\n",
      "\n",
      "companies design the hardware while outsourcing the manufacturing to a third-\n",
      "\n",
      "party \u0000rm.\n",
      "\n",
      "For the best returns, investors should focus on companies that are leading the\n",
      "\n",
      "market and their own industry group.\n",
      "\n",
      "Is Nvidia Stock A Buy?\n",
      "\n",
      "On a fundamental level, Nvidia earnings are expected to return to growth. They\n"
     ]
    }
   ],
   "source": [
    "print(query_result['source_documents'][1].page_content)"
   ]
  },
  {
   "cell_type": "code",
   "execution_count": 122,
   "id": "9f57f0fe",
   "metadata": {},
   "outputs": [
    {
     "data": {
      "text/plain": [
       "\" \\nTesla stock has been a monster stock over much of its history, especially during its stratospheric run from mid-2019 to late 2021. The stock hit a bear market low of 101.84 on Jan. 6, but roared back until Q1 earnings. Nvidia is seen as one of the biggest winners of the AI boom. Nvidia stock has skyrocketed 206% year to date, after crashing in 2022. Nvidia is a leader in AI chips. In the tech industry's fierce battle for AI dominance, the advanced chips needed for generative AI, such as the ChatGPT chatbot, are key. However, Nvidia stock is not a buy at this time. It's still in a long-term downtrend but has been recovering since it hit a low at the start of the year. Nvidia stock is now forming a cup base with a 114.10 buy point, and the price action is so far pretty smooth. Even if Nvidia breaks out, it has a mountain to climb back. Overhead supply could retard any advance Nvidia tries in the next several months. Tesla stock is greatly extended from a cup base with a 207.79 buy point. Shares have climbed 118% so far in 2023,\""
      ]
     },
     "execution_count": 122,
     "metadata": {},
     "output_type": "execute_result"
    }
   ],
   "source": [
    "query_result['result']"
   ]
  },
  {
   "cell_type": "code",
   "execution_count": 70,
   "id": "38ffcf31",
   "metadata": {},
   "outputs": [
    {
     "data": {
      "text/plain": [
       "{'source': '/Users/rachitjoshi/Documents/Finbot/notebooks/../data/pdfs_processed/merged/investorcom_merged.pdf'}"
      ]
     },
     "execution_count": 70,
     "metadata": {},
     "output_type": "execute_result"
    }
   ],
   "source": [
    "query_result['source_documents'][0].metadata"
   ]
  },
  {
   "cell_type": "code",
   "execution_count": 71,
   "id": "a559ed45",
   "metadata": {},
   "outputs": [
    {
     "data": {
      "text/plain": [
       "11929"
      ]
     },
     "execution_count": 71,
     "metadata": {},
     "output_type": "execute_result"
    }
   ],
   "source": [
    "len(query_result['source_documents'][0].page_content)"
   ]
  },
  {
   "cell_type": "code",
   "execution_count": null,
   "id": "6392ee9a",
   "metadata": {},
   "outputs": [],
   "source": [
    "########"
   ]
  },
  {
   "cell_type": "code",
   "execution_count": null,
   "id": "d014231a",
   "metadata": {},
   "outputs": [],
   "source": [
    "qna_chain = RetrievalQA.from_chain_type(\n",
    "    base_llm, \n",
    "    retriever=vectorstore.as_retriever(\n",
    "        search_type=search_type, search_kwargs=retrieval_kwargs\n",
    "    )\n",
    ")"
   ]
  }
 ],
 "metadata": {
  "kernelspec": {
   "display_name": "finbot",
   "language": "python",
   "name": "finbot"
  },
  "language_info": {
   "codemirror_mode": {
    "name": "ipython",
    "version": 3
   },
   "file_extension": ".py",
   "mimetype": "text/x-python",
   "name": "python",
   "nbconvert_exporter": "python",
   "pygments_lexer": "ipython3",
   "version": "3.9.6"
  }
 },
 "nbformat": 4,
 "nbformat_minor": 5
}