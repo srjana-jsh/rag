{
 "cells": [
  {
   "cell_type": "markdown",
   "id": "0d389d7b",
   "metadata": {},
   "source": [
    "### Parse PDF "
   ]
  },
  {
   "cell_type": "code",
   "execution_count": 1,
   "id": "403264ed",
   "metadata": {},
   "outputs": [],
   "source": [
    "# !pip3 install PyMuPDF"
   ]
  },
  {
   "cell_type": "code",
   "execution_count": 10,
   "id": "39061ae7",
   "metadata": {},
   "outputs": [],
   "source": [
    "import os\n",
    "import sys\n",
    "import glob\n",
    "import fitz\n",
    "import pathlib"
   ]
  },
  {
   "cell_type": "markdown",
   "id": "fe128b64",
   "metadata": {},
   "source": [
    "#### Parameters"
   ]
  },
  {
   "cell_type": "code",
   "execution_count": 8,
   "id": "fff68813",
   "metadata": {},
   "outputs": [],
   "source": [
    "pdfs_raw_path = os.path.join(os.getcwd(), '../data/pdfs')\n",
    "pdfs_processed_path = os.path.join(os.getcwd(), '../data/pdfs_processed')"
   ]
  },
  {
   "cell_type": "markdown",
   "id": "a68c3b1d",
   "metadata": {},
   "source": [
    "#### PDF to Text"
   ]
  },
  {
   "cell_type": "code",
   "execution_count": 16,
   "id": "a4614d69",
   "metadata": {},
   "outputs": [],
   "source": [
    "all_pdfs = glob.glob(os.path.join(pdfs_raw_path, '*.pdf'))"
   ]
  },
  {
   "cell_type": "code",
   "execution_count": 24,
   "id": "52c9da02",
   "metadata": {},
   "outputs": [],
   "source": [
    "for pdf_file in all_pdfs:\n",
    "    with fitz.open(pdf_file) as doc:  # open document\n",
    "        text = chr(12).join([page.get_text() for page in doc])\n",
    "    # write as a binary file to support non-ASCII characters\n",
    "    (\n",
    "        pathlib\n",
    "        .Path(os.path.join(\n",
    "            pdfs_processed_path,\n",
    "            'text',\n",
    "            os.path.basename(pdf_file).replace('.pdf', '.txt')\n",
    "        ))\n",
    "        .write_bytes(text.encode())\n",
    "    )        "
   ]
  },
  {
   "cell_type": "code",
   "execution_count": 4,
   "id": "51b2fd6d",
   "metadata": {},
   "outputs": [],
   "source": [
    "################################################################"
   ]
  },
  {
   "cell_type": "code",
   "execution_count": 16,
   "id": "bc532519",
   "metadata": {},
   "outputs": [
    {
     "name": "stdout",
     "output_type": "stream",
     "text": [
      "TESSDATA_PREFIX\n"
     ]
    }
   ],
   "source": [
    "!echo TESSDATA_PREFIX "
   ]
  },
  {
   "cell_type": "code",
   "execution_count": 11,
   "id": "83284420",
   "metadata": {},
   "outputs": [
    {
     "name": "stderr",
     "output_type": "stream",
     "text": [
      "I/O Error: Couldn't open file '/c/Users/sgrjoshi/finbot/data/factsheetBGF139.pdf'\n"
     ]
    }
   ],
   "source": [
    "!pdftotext /c/Users/sgrjoshi/finbot/data/factsheetBGF139.pdf /c/Users/sgrjoshi/finbot/data/factsheetBGF139.txt"
   ]
  },
  {
   "cell_type": "code",
   "execution_count": null,
   "id": "7ea47d0f",
   "metadata": {},
   "outputs": [],
   "source": []
  }
 ],
 "metadata": {
  "kernelspec": {
   "display_name": "chatbot_env",
   "language": "python",
   "name": "python3"
  },
  "language_info": {
   "codemirror_mode": {
    "name": "ipython",
    "version": 3
   },
   "file_extension": ".py",
   "mimetype": "text/x-python",
   "name": "python",
   "nbconvert_exporter": "python",
   "pygments_lexer": "ipython3",
   "version": "3.8.13 (default, Apr 13 2022, 08:52:43) \n[Clang 12.0.5 (clang-1205.0.22.9)]"
  },
  "vscode": {
   "interpreter": {
    "hash": "ccb2e870ebfbe3232f7342d0641b3edc22d06c458ab0e8be45ca907ffcd77392"
   }
  }
 },
 "nbformat": 4,
 "nbformat_minor": 5
}
