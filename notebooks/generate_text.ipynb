{
 "cells": [
  {
   "cell_type": "markdown",
   "id": "cc2732d0",
   "metadata": {},
   "source": [
    "### Generate Text using PaLM"
   ]
  },
  {
   "cell_type": "code",
   "execution_count": 1,
   "id": "0b44b03c",
   "metadata": {},
   "outputs": [],
   "source": [
    "# !pip install -U google-generativeai"
   ]
  },
  {
   "cell_type": "code",
   "execution_count": 65,
   "id": "65d86529",
   "metadata": {},
   "outputs": [],
   "source": [
    "import google.generativeai as palm\n",
    "import os\n",
    "import sys\n",
    "import glob\n",
    "import re"
   ]
  },
  {
   "cell_type": "markdown",
   "id": "5142ec1b",
   "metadata": {},
   "source": [
    "#### Functions"
   ]
  },
  {
   "cell_type": "code",
   "execution_count": 88,
   "id": "ef4c8424",
   "metadata": {},
   "outputs": [],
   "source": [
    "def get_clean_content(input_string):\n",
    "    # Define the regular expression pattern for special characters not followed by a question mark\n",
    "    pattern = r\"[^\\w\\s!?,.]|(?<=[^\\?])\\?\"\n",
    "\n",
    "    # Use re.sub() to replace all occurrences of the pattern with an empty string\n",
    "    clean_string = re.sub(pattern, \"\", input_string)\n",
    "\n",
    "    return clean_string"
   ]
  },
  {
   "cell_type": "markdown",
   "id": "a7269850",
   "metadata": {},
   "source": [
    "#### API Key"
   ]
  },
  {
   "cell_type": "code",
   "execution_count": 92,
   "id": "797152d8",
   "metadata": {},
   "outputs": [],
   "source": [
    "palm.configure(api_key='')"
   ]
  },
  {
   "cell_type": "markdown",
   "id": "ddeb387c",
   "metadata": {},
   "source": [
    "#### Parameters"
   ]
  },
  {
   "cell_type": "code",
   "execution_count": 4,
   "id": "689055b3",
   "metadata": {},
   "outputs": [],
   "source": [
    "pdfs_text_path = os.path.join(os.getcwd(), '../data/pdfs_processed/text')"
   ]
  },
  {
   "cell_type": "markdown",
   "id": "288a6688",
   "metadata": {},
   "source": [
    "#### Model"
   ]
  },
  {
   "cell_type": "code",
   "execution_count": 21,
   "id": "3c97d6f9",
   "metadata": {},
   "outputs": [],
   "source": [
    "models = [m for m in palm.list_models() if 'generateText' in m.supported_generation_methods]\n",
    "model = models[0].name"
   ]
  },
  {
   "cell_type": "markdown",
   "id": "499bf423",
   "metadata": {},
   "source": [
    "#### Prompt Testing"
   ]
  },
  {
   "cell_type": "code",
   "execution_count": 93,
   "id": "85056f29",
   "metadata": {},
   "outputs": [],
   "source": [
    "all_pdfs_text = glob.glob(os.path.join(pdfs_text_path, '*.txt'))"
   ]
  },
  {
   "cell_type": "code",
   "execution_count": 109,
   "id": "fee12441",
   "metadata": {},
   "outputs": [],
   "source": [
    "with open(all_pdfs_text[0], \"r\", encoding=\"utf-8\") as file:\n",
    "    file_ = file.read().replace('\\n', '').strip()"
   ]
  },
  {
   "cell_type": "code",
   "execution_count": 110,
   "id": "778b66b9",
   "metadata": {},
   "outputs": [],
   "source": [
    "file_cleaned = get_clean_content(file_)"
   ]
  },
  {
   "cell_type": "code",
   "execution_count": 122,
   "id": "8b7c8ce9",
   "metadata": {},
   "outputs": [],
   "source": [
    "question = \"summarise this text\""
   ]
  },
  {
   "cell_type": "code",
   "execution_count": 126,
   "id": "c95fe7c8",
   "metadata": {},
   "outputs": [],
   "source": [
    "prompt = file_cleaned[2000:6000] + \"\\n\" + question"
   ]
  },
  {
   "cell_type": "code",
   "execution_count": 127,
   "id": "28570525",
   "metadata": {},
   "outputs": [],
   "source": [
    "completion = palm.generate_text(\n",
    "    model=model,\n",
    "    prompt=prompt,\n",
    "    temperature=0,\n",
    "    # The maximum length of the response\n",
    "    max_output_tokens=800,\n",
    ")"
   ]
  },
  {
   "cell_type": "code",
   "execution_count": 128,
   "id": "86e00f5c",
   "metadata": {},
   "outputs": [
    {
     "name": "stdout",
     "output_type": "stream",
     "text": [
      "BlackRock Global Funds BGF is an open-ended investment company established in Luxembourg which is available for sale in certain jurisdictions only. BGF is not available for sale in the U.S. or to U.S. persons.\n",
      "The Fund's sector breakdown is as follows: Software Services 30.15%, Semiconductor Equip 27.83%, Tech Hardware Equip 11.97%, Financial Services 8.48%, Media Entertainment 8.07%, Consumer Discretionary Distribution Retail 4.63%, Cash and/or Derivatives 2.48%, Autos Components 2.43%, Consumer Serv. 0.78%, Transportation 0.75%, Capital Goods 0.66%, Commercial Professional Services 0.66%, Consumer Durables 0.58%, Other 0.52%.\n",
      "The Fund's geographic breakdown is as follows: US 78.14%, Netherlands 5.60%, France 2.98%, China 2.80%, Japan 2.67%, Cash and/or Derivatives 2.48%, Canada 1.55%, Australia 1.21%, United Kingdom 0.92%, Taiwan 0.92%, Other 0.74%.\n"
     ]
    }
   ],
   "source": [
    "print(completion.result)"
   ]
  },
  {
   "cell_type": "code",
   "execution_count": 129,
   "id": "72fae918",
   "metadata": {
    "scrolled": true
   },
   "outputs": [
    {
     "data": {
      "text/plain": [
       "'tary Authority of Singapore. For distributing share classes, dividendsare not guaranteed and may be paid out of capital. Dividend data may not be available on the issue date of this factsheet. Details ondistribution may be available on request. Payments on dividends result in a reduction of the NAV per share of the Fund on the exdividenddate.  Actual  dividend  payout  will  be  subject  to  the  managers  discretion.  Fund  performance  is  shown  on  a  NAV  to  NAV  basis  on  theassumption that all distributions are reinvested, taking into account all charges which would have been payable upon such reinvestment.The  Fund  may  use  or  invest  in  financial  derivatives.  In  Singapore,  this  material  is  issued  by  BlackRock  Singapore  Limited  companyregistration  number  200010143N.  This  material  is  for  informational  purposes  only  and  does  not  constitute  an  offer  or  solicitation  topurchase or sell units in the Fund. Sources BlackRock and Morningstar. Investment involves risk. Past performance is not necessarily aguide to future performance or returns. The value of investments and the income from them can fluctuate and is not guaranteed. Rates ofexchange may cause the value of investments to go up or down. Investors may not get back the amount they invest. Individual stock pricefigure does not represent the return of the Fund. BlackRock Global Funds BGF is an openended investment company established inLuxembourg which is available for sale in certain jurisdictions only. BGF is not available for sale in the U.S. or to U.S. persons. Productinformation  concerning  BGF  should  not  be  published  in  the  U.S.  BGF  has  appointed  BlackRock  Singapore  Limited  as  its  Singaporerepresentative and agent for service of process.Subscriptions  in  BGF  are  valid  only  if  made  on  the  basis  of  the  current  Prospectus  and  the  Product  Highlights  Sheet  available  on  ourwebsite www.blackrock.comsg and you must read these documents before you invest. Investors may wish to seek advice from a financialadviser before purchasing units of the Fund. In the event that you choose not to seek advice from a financial adviser, you should considercarefully whether the Fund in question is suitable for you. Any past payout yields and payments are not indicative of future payout yieldsand payments. Distributions if any is not guaranteed and might be changed at the discretion of the Directors or Manager. Distribution maybe declared out of income andor capital of the Fund, in accordance with the prospectus. Such distributions may result in an immediatereduction of the net asset value per unit in the Fund. Some funds may generate a material portion of their payout income from financialderivatives. This may expose the funds to a higher degree of risk. These risks are described in the funds prospectuses.  2023 BlackRock,Inc., All Rights Reserved.SECTOR BREAKDOWN FundSoftware  Services30.15Semiconductor  Equip27.83Tech Hardware  Equip11.97Financial Services8.48Media  Entertainment8.07Consumer Discretionary Distribution  Retail4.63Cash andor Derivatives2.48Autos  Components2.43Consumer Serv.0.78Transportation0.75Capital Goods0.66Commercial  Professional Services0.66Consumer Durables0.58Other0.52PORTFOLIO CHARACTERISTICSWeighted Average Market Capitalisation millions757104.8943Price to Earnings Ratio36.19xPrice to Book Ratio7.87x3 Years Volatility26.385 Years Volatility3 Years Beta1.005 Years BetaFEES AND CHARGESMax Initial Charge IC5.00GEOGRAPHIC BREAKDOWN FundUS78.14Netherlands5.60France2.98China2.80Japan2.67Cash andor Derivatives2.48Canada1.55Australia1.21United Kingdom0.92Taiwan0.92Other0.74Market Capitalisation FundCash and Derivatives2.48L. Cap 10bn91.46M. Cap 210bn4.23S. Cap 2bn1.82\\x0c65 6411 3000APACServiceBlackRock.comwww.blackrock.comsgPrior to 22 September 2022, the Fund was managed by Tony Kim and Reid Menge. Prior to 1 June 2020, the Fund was managed by TonyKim.This advertisement or publication has not been \\nsummarise this text'"
      ]
     },
     "execution_count": 129,
     "metadata": {},
     "output_type": "execute_result"
    }
   ],
   "source": [
    "prompt"
   ]
  },
  {
   "cell_type": "code",
   "execution_count": null,
   "id": "746ab7b6",
   "metadata": {},
   "outputs": [],
   "source": []
  }
 ],
 "metadata": {
  "kernelspec": {
   "display_name": "Python 3 (ipykernel)",
   "language": "python",
   "name": "python3"
  },
  "language_info": {
   "codemirror_mode": {
    "name": "ipython",
    "version": 3
   },
   "file_extension": ".py",
   "mimetype": "text/x-python",
   "name": "python",
   "nbconvert_exporter": "python",
   "pygments_lexer": "ipython3",
   "version": "3.9.6"
  }
 },
 "nbformat": 4,
 "nbformat_minor": 5
}
