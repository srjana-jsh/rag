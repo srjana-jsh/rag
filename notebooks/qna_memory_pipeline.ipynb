{
 "cells": [
  {
   "cell_type": "markdown",
   "id": "cc2732d0",
   "metadata": {},
   "source": [
    "### Pipeline for QnA with Memory"
   ]
  },
  {
   "cell_type": "code",
   "execution_count": 1,
   "id": "591866e7",
   "metadata": {},
   "outputs": [],
   "source": [
    "####Notes####\n",
    "# chunked data length can be atmost 16 for azureopenai"
   ]
  },
  {
   "cell_type": "code",
   "execution_count": 2,
   "id": "0b44b03c",
   "metadata": {},
   "outputs": [],
   "source": [
    "# !pip3 install langchain\n",
    "# !pip install openai\n",
    "# !pip3 install openai chromadb\n",
    "# !pip3 install tiktoken"
   ]
  },
  {
   "cell_type": "code",
   "execution_count": 3,
   "id": "1e3b368d",
   "metadata": {},
   "outputs": [],
   "source": [
    "# !pip3 install unstructured\n",
    "# !pip3 install pdf2image\n",
    "# !pip3 install pdfminer\n",
    "# !pip3 install pdfminer.six\n",
    "# !pip3 install pymupdf "
   ]
  },
  {
   "cell_type": "code",
   "execution_count": 4,
   "id": "65d86529",
   "metadata": {},
   "outputs": [
    {
     "data": {
      "text/plain": [
       "<module 'constants' from '/Users/rachitjoshi/Documents/Finbot/notebooks/../scripts/constants.py'>"
      ]
     },
     "execution_count": 4,
     "metadata": {},
     "output_type": "execute_result"
    }
   ],
   "source": [
    "import os\n",
    "import sys\n",
    "import glob\n",
    "import re\n",
    "import importlib\n",
    "import langchain\n",
    "from langchain.document_loaders import WebBaseLoader, UnstructuredPDFLoader, PyMuPDFLoader\n",
    "from langchain.text_splitter import RecursiveCharacterTextSplitter\n",
    "from langchain.indexes import VectorstoreIndexCreator\n",
    "from langchain.embeddings import OpenAIEmbeddings\n",
    "from langchain.vectorstores import Chroma\n",
    "from langchain.chains import RetrievalQA\n",
    "from langchain.llms import AzureOpenAI\n",
    "from langchain.prompts import PromptTemplate\n",
    "sys.path.append(os.path.join(os.getcwd(), '../scripts'))\n",
    "import helpers as h\n",
    "import constants as c\n",
    "importlib.reload(h)\n",
    "importlib.reload(c)"
   ]
  },
  {
   "cell_type": "markdown",
   "id": "a7269850",
   "metadata": {},
   "source": [
    "#### Environment"
   ]
  },
  {
   "cell_type": "code",
   "execution_count": 5,
   "id": "797152d8",
   "metadata": {},
   "outputs": [],
   "source": [
    "os.environ[\"OPENAI_API_KEY\"] = \"6cdb659e5a9d402e80c212fe8ea26483\""
   ]
  },
  {
   "cell_type": "code",
   "execution_count": 6,
   "id": "1f1d835b",
   "metadata": {},
   "outputs": [],
   "source": [
    "os.environ[\"OPENAI_API_TYPE\"] = \"azure\"\n",
    "os.environ[\"OPENAI_API_VERSION\"] = \"2023-03-15-preview\"\n",
    "os.environ[\"OPENAI_API_BASE\"] = \"https://test-chatgpt-flomoney.openai.azure.com/\"\n",
    "os.environ[\"OPENAI_API_KEY\"] = os.getenv(\"OPENAI_API_KEY\")"
   ]
  },
  {
   "cell_type": "markdown",
   "id": "ddeb387c",
   "metadata": {},
   "source": [
    "#### Paths"
   ]
  },
  {
   "cell_type": "code",
   "execution_count": 7,
   "id": "689055b3",
   "metadata": {},
   "outputs": [],
   "source": [
    "pdfs_path = os.path.join(os.getcwd(), '../data/pdfs')\n",
    "merged_pdfs_path = os.path.join(os.getcwd(), '../data/pdfs_processed/merged')"
   ]
  },
  {
   "cell_type": "markdown",
   "id": "288a6688",
   "metadata": {},
   "source": [
    "#### PDF"
   ]
  },
  {
   "cell_type": "code",
   "execution_count": 8,
   "id": "d849861f",
   "metadata": {},
   "outputs": [],
   "source": [
    "investorcom_pdfs = [ _ for _ in glob.glob(os.path.join(pdfs_path, '*.pdf')) if 'investorcom' in _]"
   ]
  },
  {
   "cell_type": "markdown",
   "id": "6569d75a",
   "metadata": {},
   "source": [
    "##### - Load"
   ]
  },
  {
   "cell_type": "code",
   "execution_count": 9,
   "id": "f078336e",
   "metadata": {},
   "outputs": [],
   "source": [
    "loaded_data = []\n",
    "for pdf in investorcom_pdfs :\n",
    "    loaded_data.extend(UnstructuredPDFLoader(file_path=pdf).load())        "
   ]
  },
  {
   "cell_type": "code",
   "execution_count": 10,
   "id": "e841f1f5",
   "metadata": {},
   "outputs": [
    {
     "data": {
      "text/plain": [
       "7"
      ]
     },
     "execution_count": 10,
     "metadata": {},
     "output_type": "execute_result"
    }
   ],
   "source": [
    "len(loaded_data)"
   ]
  },
  {
   "cell_type": "code",
   "execution_count": 11,
   "id": "05d1c289",
   "metadata": {},
   "outputs": [
    {
     "data": {
      "text/plain": [
       "6702"
      ]
     },
     "execution_count": 11,
     "metadata": {},
     "output_type": "execute_result"
    }
   ],
   "source": [
    "len(loaded_data[0].page_content)"
   ]
  },
  {
   "cell_type": "code",
   "execution_count": 12,
   "id": "3c69da54",
   "metadata": {},
   "outputs": [],
   "source": [
    "# for pdf in pdf_list :\n",
    "#     try :\n",
    "#         pdf_data.extend(UnstructuredPDFLoader(file_path=pdf).load())        \n",
    "#     except NameError:\n",
    "#         pdf_loader = UnstructuredPDFLoader(file_path=pdf)\n",
    "#         pdf_data = pdf_loader.load()"
   ]
  },
  {
   "cell_type": "markdown",
   "id": "6215c716",
   "metadata": {},
   "source": [
    "##### - Split"
   ]
  },
  {
   "cell_type": "code",
   "execution_count": 13,
   "id": "1288cf29",
   "metadata": {},
   "outputs": [],
   "source": [
    "chunk_size = c.prompt_max//c.retrieval_kwargs['k']\n",
    "chunk_overlap = 0"
   ]
  },
  {
   "cell_type": "code",
   "execution_count": 14,
   "id": "00017c4a",
   "metadata": {},
   "outputs": [],
   "source": [
    "data_splitter = RecursiveCharacterTextSplitter(\n",
    "    chunk_size = chunk_size, chunk_overlap = chunk_overlap\n",
    ")"
   ]
  },
  {
   "cell_type": "code",
   "execution_count": 15,
   "id": "046f7b04",
   "metadata": {},
   "outputs": [],
   "source": [
    "chunked_data = data_splitter.split_documents(loaded_data)"
   ]
  },
  {
   "cell_type": "code",
   "execution_count": 16,
   "id": "3f7175a3",
   "metadata": {},
   "outputs": [
    {
     "data": {
      "text/plain": [
       "7"
      ]
     },
     "execution_count": 16,
     "metadata": {},
     "output_type": "execute_result"
    }
   ],
   "source": [
    "len(chunked_data)"
   ]
  },
  {
   "cell_type": "code",
   "execution_count": 17,
   "id": "e04ba1a3",
   "metadata": {},
   "outputs": [
    {
     "data": {
      "text/plain": [
       "7388"
      ]
     },
     "execution_count": 17,
     "metadata": {},
     "output_type": "execute_result"
    }
   ],
   "source": [
    "len(chunked_data[4].page_content)"
   ]
  },
  {
   "cell_type": "markdown",
   "id": "7f965017",
   "metadata": {},
   "source": [
    "##### - Store"
   ]
  },
  {
   "cell_type": "code",
   "execution_count": 18,
   "id": "76e93aa0",
   "metadata": {},
   "outputs": [],
   "source": [
    "chunks_max = 15"
   ]
  },
  {
   "cell_type": "code",
   "execution_count": 19,
   "id": "6bae9700",
   "metadata": {},
   "outputs": [],
   "source": [
    "vectorstore_engine = 'Finbot-embedding-2'"
   ]
  },
  {
   "cell_type": "code",
   "execution_count": 20,
   "id": "844575f6",
   "metadata": {},
   "outputs": [],
   "source": [
    "embedding_model = OpenAIEmbeddings(deployment=vectorstore_engine)"
   ]
  },
  {
   "cell_type": "code",
   "execution_count": 21,
   "id": "7bad3ae4",
   "metadata": {},
   "outputs": [],
   "source": [
    "try:\n",
    "    vectorstore.delete_collection()\n",
    "except (ValueError, NameError):\n",
    "    pass\n",
    "for _ in range(0, len(chunked_data), chunks_max):\n",
    "    vectorstore = Chroma.from_documents(\n",
    "        documents=chunked_data[_: _ + chunks_max], embedding=embedding_model\n",
    "    )"
   ]
  },
  {
   "cell_type": "code",
   "execution_count": 22,
   "id": "cdfe08e1",
   "metadata": {
    "scrolled": true
   },
   "outputs": [
    {
     "data": {
      "text/plain": [
       "7"
      ]
     },
     "execution_count": 22,
     "metadata": {},
     "output_type": "execute_result"
    }
   ],
   "source": [
    "len(vectorstore.get()['documents'])"
   ]
  },
  {
   "cell_type": "code",
   "execution_count": 23,
   "id": "cfb0605d",
   "metadata": {},
   "outputs": [
    {
     "data": {
      "text/plain": [
       "dict_keys(['ids', 'embeddings', 'metadatas', 'documents'])"
      ]
     },
     "execution_count": 23,
     "metadata": {},
     "output_type": "execute_result"
    }
   ],
   "source": [
    "vectorstore.get().keys()"
   ]
  },
  {
   "cell_type": "markdown",
   "id": "4d893183",
   "metadata": {},
   "source": [
    "##### - Retrieve"
   ]
  },
  {
   "cell_type": "code",
   "execution_count": 24,
   "id": "231675b2",
   "metadata": {},
   "outputs": [
    {
     "data": {
      "text/plain": [
       "7"
      ]
     },
     "execution_count": 24,
     "metadata": {},
     "output_type": "execute_result"
    }
   ],
   "source": [
    "question = \"what are the pros and cons of tesla stock and nvidia stock?\"\n",
    "docs = vectorstore.similarity_search_with_relevance_scores(question, k=7)\n",
    "len(docs)"
   ]
  },
  {
   "cell_type": "code",
   "execution_count": 25,
   "id": "37d47485",
   "metadata": {},
   "outputs": [
    {
     "data": {
      "text/plain": [
       "9214"
      ]
     },
     "execution_count": 25,
     "metadata": {},
     "output_type": "execute_result"
    }
   ],
   "source": [
    "len(docs[0][0].page_content)"
   ]
  },
  {
   "cell_type": "code",
   "execution_count": 26,
   "id": "97a1fdce",
   "metadata": {},
   "outputs": [],
   "source": [
    "# print(docs[1][0].page_content)"
   ]
  },
  {
   "cell_type": "markdown",
   "id": "b3756b18",
   "metadata": {},
   "source": [
    "##### - Generate"
   ]
  },
  {
   "cell_type": "code",
   "execution_count": 27,
   "id": "617476d9",
   "metadata": {},
   "outputs": [],
   "source": [
    "llm_engine = 'finbot-gpt'\n",
    "llm_model = 'text-davinci-002'\n",
    "temperature = 0\n",
    "search_type = 'mmr'\n",
    "retrieval_kwargs = {'k': 5, 'lambda_mult': 0.5, 'fetch_k':10}\n",
    "answer_max_tokens = 512\n",
    "save_folder = '../data/pdfs/'\n",
    "prompt_template_file = os.path.join(os.getcwd(), '../scripts/prompt_template.txt')\n",
    "pdf_list = [\n",
    "    _ for _ in glob.glob(os.path.join(os.getcwd(), save_folder, '*.pdf'))\n",
    "]\n",
    "web_list = []\n",
    "langchain.debug=False"
   ]
  },
  {
   "cell_type": "code",
   "execution_count": 28,
   "id": "57f3c217",
   "metadata": {},
   "outputs": [],
   "source": [
    "############"
   ]
  },
  {
   "cell_type": "code",
   "execution_count": 29,
   "id": "61ac49ab",
   "metadata": {},
   "outputs": [
    {
     "name": "stderr",
     "output_type": "stream",
     "text": [
      "/Users/rachitjoshi/finbot/lib/python3.9/site-packages/langchain/utils/utils.py:155: UserWarning: WARNING! engine is not default parameter.\n",
      "                engine was transferred to model_kwargs.\n",
      "                Please confirm that engine is what you intended.\n",
      "  warnings.warn(\n"
     ]
    }
   ],
   "source": [
    "base_llm = AzureOpenAI(\n",
    "    engine=llm_engine, \n",
    "    model_name=llm_model, \n",
    "    temperature=temperature, \n",
    "    max_tokens=answer_max_tokens\n",
    ")"
   ]
  },
  {
   "cell_type": "code",
   "execution_count": 30,
   "id": "1cb7296e",
   "metadata": {},
   "outputs": [],
   "source": [
    "langchain.debug=True"
   ]
  },
  {
   "cell_type": "code",
   "execution_count": 31,
   "id": "a9ab4d3d",
   "metadata": {},
   "outputs": [],
   "source": [
    "from langchain.memory import ConversationSummaryBufferMemory\n",
    "from langchain.chains import ConversationalRetrievalChain"
   ]
  },
  {
   "cell_type": "code",
   "execution_count": 32,
   "id": "4313f632",
   "metadata": {},
   "outputs": [],
   "source": [
    "condense_question_template = os.path.join(\n",
    "    os.getcwd(), '..', 'scripts/condense_question_template.txt'\n",
    ")\n",
    "condense_question_input = c.condense_question_input"
   ]
  },
  {
   "cell_type": "code",
   "execution_count": 33,
   "id": "00c07a71",
   "metadata": {},
   "outputs": [],
   "source": [
    "chat_prompt = PromptTemplate.from_file(\n",
    "    condense_question_template,\n",
    "    input_variables=condense_question_input\n",
    ")"
   ]
  },
  {
   "cell_type": "code",
   "execution_count": 34,
   "id": "e5c57681",
   "metadata": {},
   "outputs": [],
   "source": [
    "qna_prompt_template = os.path.join(os.getcwd(), '..', 'scripts/qna_prompt_template.txt')\n",
    "qna_prompt_input = c.qna_prompt_input\n",
    "prompt_role = c.prompt_role"
   ]
  },
  {
   "cell_type": "code",
   "execution_count": 35,
   "id": "406d3d6a",
   "metadata": {},
   "outputs": [],
   "source": [
    "qna_prompt = PromptTemplate.from_file(\n",
    "    qna_prompt_template,\n",
    "    input_variables=qna_prompt_input,\n",
    "    partial_variables={'role':prompt_role}\n",
    ")"
   ]
  },
  {
   "cell_type": "code",
   "execution_count": 36,
   "id": "5f8db888",
   "metadata": {},
   "outputs": [],
   "source": [
    "history_tokens = 2000\n",
    "memory = ConversationSummaryBufferMemory(\n",
    "    llm=base_llm, \n",
    "    memory_key=\"chat_history\", \n",
    "    return_messages=True, \n",
    "    max_token_limit=history_tokens\n",
    ")"
   ]
  },
  {
   "cell_type": "code",
   "execution_count": 37,
   "id": "81e95a29",
   "metadata": {},
   "outputs": [],
   "source": [
    "qna_chain = ConversationalRetrievalChain.from_llm(\n",
    "    base_llm, \n",
    "    retriever=vectorstore.as_retriever(\n",
    "        search_type=search_type, search_kwargs=retrieval_kwargs\n",
    "    ),\n",
    "    memory=memory,\n",
    "    condense_question_prompt=chat_prompt,\n",
    "    combine_docs_chain_kwargs=dict(prompt=qna_prompt)\n",
    ")"
   ]
  },
  {
   "cell_type": "code",
   "execution_count": 38,
   "id": "b8d4fba2",
   "metadata": {},
   "outputs": [
    {
     "name": "stdout",
     "output_type": "stream",
     "text": [
      "\u001b[32;1m\u001b[1;3m[chain/start]\u001b[0m \u001b[1m[1:chain:ConversationalRetrievalChain] Entering Chain run with input:\n",
      "\u001b[0m{\n",
      "  \"question\": \"what are the pros and cons of investing in meta stock over nvidia stock\",\n",
      "  \"chat_history\": []\n",
      "}\n"
     ]
    },
    {
     "name": "stderr",
     "output_type": "stream",
     "text": [
      "Number of requested results 10 is greater than number of elements in index 7, updating n_results = 7\n"
     ]
    },
    {
     "name": "stdout",
     "output_type": "stream",
     "text": [
      "\u001b[32;1m\u001b[1;3m[chain/start]\u001b[0m \u001b[1m[1:chain:ConversationalRetrievalChain > 3:chain:StuffDocumentsChain] Entering Chain run with input:\n",
      "\u001b[0m[inputs]\n",
      "\u001b[32;1m\u001b[1;3m[chain/start]\u001b[0m \u001b[1m[1:chain:ConversationalRetrievalChain > 3:chain:StuffDocumentsChain > 4:chain:LLMChain] Entering Chain run with input:\n",
      "\u001b[0m{\n",
      "  \"question\": \"what are the pros and cons of investing in meta stock over nvidia stock\",\n",
      "  \"context\": \"NEWS\\n\\nIs Meta Stock Still A Buy After Facebook Parent Surges On Earnings, Outlook?\\n\\nJED GRAHAM 07:00 AM ET 07/29/2023\\n\\nM eta Platforms (META) continued to rally strongly in Friday stock market\\n\\naction, maintaining momentum after soundly beating Q2 earnings estimates late\\n\\nWednesday. Meta added an exclamation point with its much-stronger-than-\\n\\nexpected sales outlook for Q3. The turnaround for Meta stock has come in waves,\\n\\nas the parent of Instagram and Facebook progressed from multiple rounds of\\n\\nlayoffs and cost cuts to renewed revenue growth to excitement over generative AI's\\n\\npotential to provide a long-term sales and pro\\u0000t boost.\\n\\nX\\n\\nIs Meta Stock A Buy?\\n\\nMeta stock has now rallied 170% so far in 2023, second only to Nvidia (NVDA) in\\n\\nthe S&P 500. Investors have good reason to be excited about the outlook, and there\\n\\nare some potential near-term catalysts that might continue to fuel Meta stock. The\\n\\ncompany is hosting a Sept. 27 conference to reveal more about its AI and metaverse\\n\\ninitiatives. The event will feature the launch of Meta's new Quest 3 mixed reality\\n\\nheadset.\\n\\nThe launch of the Threads text-based social media site to capitalize on Twitter\\n\\nturmoil seized the spotlight in early July by racking up more than 100-million sign-\\n\\nups in the \\u0000rst week. But that gave way to doubt whether people would stick\\n\\naround. Now that Meta has belatedly begun rolling out basic features that Twitter\\n\\nusers take for granted, we may \\u0000nd out how serious of a challenge Threads will pose\\n\\nas daily user statistics are updated.\\n\\nStill, it wouldn't be surprising to see Meta stock's fantastic run take a breather.\\n\\nWhile there are de\\u0000nitely reasons to be excited about the impact of generative AI\\n\\non Meta results, that's more of a long-term story. A closer look at the earnings\\n\\nturnaround also suggests Meta's earnings momentum may be somewhat less than\\n\\nmeets the eye. That's only partly because of ongoing expenses on the metaverse\\n\\nthat won't pay off anytime soon. Regulation also continues to pose risks.\\n\\nMeta stock is trading at an 18-month high, but does not currently have a buy point.\\n\\nMeta Platforms (META)\\n\\n$316.56 5.83 1.88%\\n\\n25\\n\\n09\\n\\n23\\n\\n06\\n\\n20\\n\\n03 Feb\\n\\n17\\n\\n03 Mar\\n\\n17\\n\\n31 Apr\\n\\n14\\n\\n28 May\\n\\n12\\n\\n26\\n\\n09\\n\\n23\\n\\n07\\n\\nDec\\n\\nJan\\n\\nJun\\n\\nJul\\n\\n08/07/2023 (Market Close)\\n\\nMeta Earnings And Outlook\\n\\nThe Menlo Park, Calif.-based social media giant late Wednesday said it earned $2.98\\n\\na share on sales of $32 billion in the June quarter. Analysts polled by FactSet had\\n\\nexpected Meta earnings of $2.91 a share on sales of $31.08 billion. On a year-over-\\n\\nyear basis, Meta earnings increased 21% while sales advanced 11%.\\n\\nMeta's second-quarter earnings results broke a streak of six straight quarters of\\n\\nyear-over-year declines. Meanwhile, Meta's revenue rose for the second quarter in\\n\\na row after three straight quarters of declines.\\n\\nThe results re\\u0000ected continued user growth in all regions. The number of people\\n\\nusing at least one Meta app on a daily basis rose to 3.07 billion from 3.02 billion in\\n\\nQ1. That includes Facebook, Instagram, Messenger and WhatsApp. Facebook daily\\n\\nactive users rose to 2.064 billion from 2.037 billion overall. In the U.S., 202 million\\n\\npeople used Facebook on a daily basis, up from 200 million in Q1.\\n\\nFor the third quarter, Meta predicted revenue of $32 billion to $34.5 billion,\\n\\ngrowing by a range of 15.5% to 24.5%. The midpoint of $33.25 billion was well\\n\\nabove Wall Street's prediction of $31.22 billion.\\n\\nReels Monetization\\n\\nMeta CEO Mark Zuckerberg highlighted improving monetization of Reels short-\\n\\nform videos to an annual run rate of over $10 billion in Q2. That compares to a $1-\\n\\nbillion annual run rate a year ago. In other words, on a quarterly basis, Reels ad\\n\\nrevenue accounted for about $2.25 billion of the overall $3.2 billion in revenue\\n\\ngrowth vs. a year ago.\\n\\nThe massive jump in Reels revenue came as the number of short-form videos played\\n\\nacross Facebook and Instagram reached 200 billion per day, up more than 40% from\\n\\n140 billion last fall. That growth is partly because Meta, in a bid to compete against\\n\\nTikTok, has programmed its AI discovery engine that recommends content to users\\n\\nto prioritize Reels videos. As a result, time spent watching Reels videos subtracts to\\n\\nan extent from other activity on Facebook and Instagram. Still, Meta says that part\\n\\nof Reels growth re\\u0000ects \\\"incremental engagement,\\\" meaning that it is a net\\n\\ncontributor to overall time spent on Meta's apps.\\n\\nYet the biggest reason Reels revenue is rising so fast is that Meta has been taking a\\n\\nwhile to \\u0000gure out how to optimize ads on the TikTok competitor it launched in\\n\\n2020. Basically, Meta had been running a lot of ad-free content, sandbagging\\n\\nrevenue. Now, the rising ad load on Reels has provided a one-time jump in ad sales.\\n\\nMeta Regains Its Competitive Edge\\n\\nThe Q3 revenue outlook might give the impression that Meta has returned to fast\\n\\ngrowth, but that seems uncertain.\\n\\nConsider Q3 guidance for year-over-year sales growing by a range of $4.3 billion to\\n\\n$6.8 billion. Meta expects the weaker dollar to provide a 3% tailwind or as much as a\\n\\n$1 billion lift. The higher ad load alone on Reels could provide a boost of about $1.5\\n\\nbillion.\\n\\nOn top of that, CFO Susan Li noted that revenue declined 4.5% in the year-ago\\n\\nquarter. \\\"We're really lapping a much-weaker demand period a year ago.\\\"\\n\\nLi credited \\\"improvement in the macroeconomic landscape\\\" as a big factor in Q3\\n\\nguidance. She highlighted \\\"stabilization\\\" in key advertiser segments like online\\n\\ncommerce and gaming.\\n\\nAnother part of Meta's turnaround story involves overcoming the industry\\n\\nupheaval caused by Apple's privacy change. Starting with the iOS 14.5 update in the\\n\\nspring of 2021, Apple began requiring apps downloaded through the App Store to\\n\\nlet users opt in or out of tracking their activity across third-party sites. With the\\n\\nbulk of users opting out, Meta lost the data needed to help businesses narrowly\\n\\ntarget advertising to consumers likely to have an interest in their products or\\n\\nservices.\\n\\nIn February 2022, Meta revealed just how big of a revenue hit Apple's privacy shift\\n\\nwould deliver: $10 billion in 2022 alone, amounting to about $2.5 billion per\\n\\nquarter.\\n\\nThe good news is that Meta seems to have come a long way in rebuilding its\\n\\nadvertising edge, partly by substituting user data with AI and automation.\\n\\nJoin IBD Live And Learn Top Chart-Reading And Trading Techniques From The\\n\\nPros\\n\\nMeta Growth Avenues\\n\\nA big part of the Meta growth story is the ongoing shift to digital advertising, which\\n\\ngrew 5.5% from a year earlier in Q2 vs. 2% for the ad market across all media,\\n\\naccording to a July 13 Deutsche Bank note.\\n\\nBusiness messaging is another growth area. Click-to-message ads, which open up a\\n\\nWhatsApp or Messenger chat with businesses, have reached a $10-billion annual\\n\\nrate, Zuckerberg said on the Q4 call. In the latest call, he noted that the number of\\n\\nbusinesses using paid messaging products has doubled from a year ago.\\n\\nZuckerberg sees generative AI as a major impetus for improving — and monetizing\\n\\n— business communications.\\n\\nOne of the biggest issues limiting monetization of business messaging is that \\\"it's\\n\\nquite human labor-intensive,\\\" so Meta's click-to-message ads have taken off where\\n\\nthe cost of labor is relatively low. But in a world where every business has an AI\\n\\nagent, \\\"the kind of success that we're seeing in Thailand or Vietnam with business\\n\\nmessaging could kind of spread everywhere,\\\" he said.\\n\\n\\\"The two technological waves that we're riding are AI in the near term and the\\n\\nmetaverse over the long term,\\\" Zuckerberg said.\\n\\n\\\"There are 1 billion or 2 billion people who have glasses today. I think in the future,\\n\\nthey're all going to be smart glasses,\\\" essentially wearable computers. He also\\n\\npredicted that \\\"all the time that we spend on TVs and computers, I think that's going\\n\\nto get more immersive and look something more like VR (virtual reality) in the\\n\\nfuture.\\\"\\n\\nThreads is a wild card. It could become Meta's \\\"\\u0000fth great app,\\\" Zuckerberg said.\\n\\nThe goal now is to build the Threads community so there are hundreds of millions of\\n\\npeople using it at a high rate. \\\"Then we'll worry about monetization.\\\"\\n\\nMeta Worries\\n\\nDespite Meta's resurgence, the company won't shed its new \\\"year of ef\\u0000ciency\\\"\\n\\nethos, Zuckerberg said.\\n\\nStill, its Reality Labs division focused on the metaverse and smart-glasses\\n\\nopportunity lost $3.7 billion in Q2. And Meta said it expects year-over-year losses\\n\\nto rise in 2023 and to grow \\\"meaningfully\\\" again in 2024.\\n\\nRegulation is the other main worry. Meta was hit with a $1.3 billion \\u0000ne in Q2 for\\n\\nviolating the European Union's General Data Protection Regulation by transmitting\\n\\ndata on EU citizens to the U.S.\\n\\n\\\"We continue to see increasing legal and regulatory headwinds in the EU and U.S.,\\\"\\n\\nLi said. \\\"The adoption of guidelines that require penalties to be assessed on a\\n\\npercentage of global revenue\\\" is of particular concern.\\n\\nMeta has yet to launch Threads in the EU due to regulatory issues.\\n\\nMeta Platforms (META)\\n\\n$316.56 5.83 1.88%\\n\\nDec 20\\n\\nMar 21\\n\\nJun 21\\n\\nSep 21\\n\\nDec 21\\n\\nMar 22\\n\\nJun 22\\n\\nSep 22\\n\\nDec 22\\n\\nMar 23\\n\\nJu\\n\\n08/07/2023 (Market Close)\\n\\nMeta Stock\\n\\nIn Friday stock market action, Meta stock climbed 4.4% to 325.48. That matched\\n\\nThursday's 4.4% post-earnings gain. Shares leapt 10.7% for the week to an 18-\\n\\nmonth high.\\n\\nMeta stock is part of the IBD Leaderboard portfolio of elite stocks, picked up in\\n\\nMarch as Meta broke out of a short, \\u0000at base with a 197.16 buy point, according to\\n\\na MarketSmith analysis.\\n\\nMeta's 65% advance since that breakout did offer one more recent entry point.\\n\\nMeta etched out a three-weeks-tight pattern in late June and early July, creating an\\n\\nentry above 298.12.\\n\\nDespite the massive gain this year, Meta stock's run has kept a steady pace that has\\n\\nkept the stock from getting extended. A weekly chart shows Meta stock pulling\\n\\nback to just above its 50-day line just ahead of its big earnings report on\\n\\nWednesday.\\n\\nYet now Meta is well above its 50-day moving average and it would be too risky to\\n\\nchase.\\n\\nBottom Line: Meta stock has come nearly full circle. Wall Street thought the old\\n\\nFacebook was indomitable, then lost faith in Meta. Now faith is restored. But risk is\\n\\ncreeping in that Meta's growth story that mostly re\\u0000ects a turnaround is a bit\\n\\noverhyped. Wait for Meta to establish a new entry point. Meta stock is not currently\\n\\na buy.\\n\\nYOU MAY ALSO LIKE:\\n\\nWhy This IBD Tool Simpli\\u0000es The Search For Top Stocks\\n\\nCatch The Next Big Winning Stock With MarketSmith\\n\\nThese Are The Best Growth Stocks To Buy And Watch\\n\\nIBD Digital: Unlock IBD's Premium Stock Lists, Tools And Analysis Today\\n\\nNEWS\\n\\nNvidia More Than Triples In 2023 On AI Boost — Is It A Buy?\\n\\nAPARNA NARAYANAN 03:25 PM ET 08/04/2023\\n\\nN vidia (NVDA), a giant in data centers and gaming, continues to sizzle. The\\n\\nchip giant is seen as one of the biggest winners of the AI boom. Is Nvidia stock a buy\\n\\nright now, with earnings due?\\n\\nSemiconductor, AI News\\n\\nIn May, Nvidia Chief Executive Jensen Huang announced a new supercomputer,\\n\\nsoftware and services for generative AI (arti\\u0000cial intelligence). Generative AI can\\n\\ncreate content, including written articles, from simple descriptive phrases by\\n\\nanalyzing and digesting vast amounts of data. It can also write computer\\n\\nprogramming code.\\n\\nFor its latest quarter, graphics-chip maker Nvidia crushed Wall Street's targets on\\n\\nrecord data-center sales. Production is ramping up to meet huge demand for AI\\n\\ntechnology, CEO Huang said.\\n\\nNvidia is a leader in AI chips. In the tech industry's \\u0000erce battle for AI dominance,\\n\\nthe advanced chips needed for generative AI, such as the ChatGPT chatbot, are key.\\n\\nFor those looking for top large-cap stocks to buy now, here's a dive into NVDA\\n\\nstock.\\n\\nNvidia Stock Technical Analysis\\n\\nNvidia rebounded Aug. 3 after three down days, technically regaining a 439.90 buy\\n\\npoint. Shares edged higher on Aug. 4. The latest entry from a three-weeks-tight\\n\\npattern offered a place for existing investors to add a few more shares. The buy\\n\\nrange goes to 461.90, the IBD Leaderboard stock analysis shows.\\n\\nBut with the market rally shifting to under pressure, investors may want to wait to\\n\\nsee if Nvidia can \\u0000nd support at the 50-day/10-week line for the \\u0000rst time since\\n\\nearly January.\\n\\nA rebound from those levels would offer a buying opportunity. But shares aren't\\n\\nthere yet.\\n\\nA further pullback also could be part of a full-\\u0000edged base.\\n\\nShares still aren't far from the 52-week high, set on July 14.\\n\\nNVDA joined the prestigious IBD Leaderboard in February on an earnings gap-up. It\\n\\nsurged again in May on blowout earnings and strong guidance.\\n\\nYear to date, Nvidia stock has skyrocketed 206%, after crashing in 2022.\\n\\nThe relative strength line is \\u0000attening out a bit after a strong rally, the IBD\\n\\nMarketSmith charts show. A rising RS line means that a stock is outperforming the\\n\\nS&P 500. It is the blue line in the chart shown.\\n\\nNVDA earns an IBD Composite Rating of 97, out of a best-possible 99. In other\\n\\nwords, Nvidia stock is in the top 3% of all stocks in terms of technical and\\n\\nfundamental metrics.\\n\\nNVIDIA (NVDA)\\n\\n$454.17 7.37 1.65%\\n\\nDec 20\\n\\nMar 21\\n\\nJun 21\\n\\nSep 21\\n\\nDec 21\\n\\nMar 22\\n\\nJun 22\\n\\nSep 22\\n\\nDec 22\\n\\nMar 23\\n\\nJu\\n\\n08/07/2023 (Market Close)\\n\\nInvestors generally should focus on stocks with Comp Ratings of 90 or even 95 and\\n\\nabove. Nvidia stock often earns a spot on the IBD 50, Big Cap 20 and Sector\\n\\nLeaders lists.\\n\\nThe IBD Stock Checkup tool shows that NVDA carries a Relative Strength Rating\\n\\nof 99. That means it has outperformed 99% of all other stocks over the past year.\\n\\nThe iShares PHLX Semiconductor ETF (SOXX) holds both Nvidia stock and AMD\\n\\nstock.\\n\\nIBD Live: A New Tool For Daily Stock Market Analysis\\n\\nNvidia Earnings\\n\\nNvidia's EPS Rating is 68 out of 99 and its SMR Rating is a B, on a scale of A to a\\n\\nworst E. The EPS rating compares a company's earnings growth to other stocks. Its\\n\\nSMR Rating gauges sales growth, pro\\u0000t margins and return on equity.\\n\\nOn May 24, the chip giant delivered a big beat-and-raise report. The Nvidia\\n\\nearnings report included a bullish, AI-fueled sales forecast.\\n\\nThe Santa Clara, Calif.-based company earned $1.09 a share on sales of $7.19 billion\\n\\nin the quarter ended April 30. Year over year, Nvidia earnings dropped 20% while\\n\\nsales fell 13%. But the results easily outpaced Wall Street's expectations.\\n\\nIn Q1, data-center sales rose 14% to $4.28 billion. Gaming-chip sales fell 38% to\\n\\n$2.24 billion.\\n\\nAnalysts expect Nvidia earnings per share to rebound 138% in \\u0000scal 2024, on a 61%\\n\\nsales gain. Last year, Nvidia earnings fell 25%.\\n\\nIts next quarterly report is expected on Aug. 23.\\n\\nOut of 50 analysts covering NVDA stock, 43 rate it a buy. Six have a hold and one\\n\\nhas a sell, according to FactSet.\\n\\nLooking For The Next Big Stock Market Winners? Start With These 3 Steps\\n\\nNVDA Backstory, Rivals\\n\\nThe fabless chipmaker pioneered graphics processing units, or GPUs, to make video\\n\\ngames more realistic. It's expanding in AI chips, used in supercomputers, data\\n\\ncenters and drug development.\\n\\nNvidia's GPUs act as accelerators for central processing units, or CPUs, made by\\n\\nother companies. It's working on \\\"supercomputers\\\" combining its own CPUs and\\n\\nGPUs.\\n\\nIn addition, Nvidia chips are used for Bitcoin mining and self-driving electric cars.\\n\\nNvidia has made a big push into metaverse applications.\\n\\nFabless chip stocks include Qualcomm (QCOM), Broadcom (AVGO) and Monolithic\\n\\nPower Systems (MPWR).\\n\\nCurrently, the fabless group ranks No. 2 out of 197 industry groups. Fabless\\n\\ncompanies design the hardware while outsourcing the manufacturing to a third-\\n\\nparty \\u0000rm.\\n\\nFor the best returns, investors should focus on companies that are leading the\\n\\nmarket and their own industry group.\\n\\nIs Nvidia Stock A Buy?\\n\\nOn a fundamental level, Nvidia earnings are expected to return to growth. They\\n\\nshould more than double this \\u0000scal year, driven by booming chip sales for data\\n\\ncenters and arti\\u0000cial intelligence.\\n\\nThe fabless chipmaker is expanding in other growth areas such as automated\\n\\nelectric cars and cloud gaming as well. The adoption of the metaverse and\\n\\ncryptocurrencies could further stoke demand for Nvidia chips.\\n\\nHowever, macroeconomic uncertainties and risk of global recession linger.\\n\\nNVDA stock has staged a massive comeback, more than tripling in 2023 so far.\\n\\nShares have reclaimed their latest follow-on entry after a retreat and are now back\\n\\nin a proper buy zone. But investors may want to wait for a pullback to key levels or a\\n\\nnew base, especially with the market rally under pressure.\\n\\nBottom line: Nvidia stock is a buy right now, but with caveats.\\n\\nAs a leading chip company with exposure to top end-markets, Nvidia is always one\\n\\nto watch.\\n\\nCheck out IBD Stock Lists and other IBD content to \\u0000nd dozens of the best stocks\\n\\nto buy or watch.\\n\\nYOU MAY ALSO LIKE:\\n\\nIs AMD Stock A Buy?\\n\\nSee The Best Stocks To Buy And Watch\\n\\nCatch The Next Big Winning Stock With MarketSmith\\n\\nJoin IBD Live And Learn Top Chart-Reading And Trading Techniques From The\\n\\nPros\\n\\nNEWS\\n\\nIs Tesla Stock A Buy Or A Sell With California's Attorney General Investigating The EV Giant?\\n\\nKIT NORTON 11:05 AM ET 07/27/2023\\n\\nT esla (TSLA) stock appears to be pulling back after second-quarter \\u0000nancials\\n\\non July 19, as investor concerns over falling gross margins seems to be outweighing\\n\\nthe global EV giant's earnings and revenue-beating numbers.\\n\\nX\\n\\n00:00\\n\\nMeanwhile, California's attorney general is investigating Tesla, seeking information\\n\\nfrom customers and former employees regarding Autopilot safety and false\\n\\nadvertising complaints, CNBC reported Wednesday.\\n\\nThis comes after Tesla reported Q2 pro\\u0000ts growing 20% to 91 cents per share while\\n\\nrevenue increased 47% to $24.93 billion. Analysts expected pro\\u0000ts to edge up\\n\\naround 4% to 80 cents per share with revenue totaling $24.22 billion, up 43%\\n\\ncompared with last year.\\n\\nTesla's total gross pro\\u0000t grew 7% to $4.53 billion in the second quarter. Meanwhile,\\n\\ntotal gross margins came in at 18.2%, down from 19.3% in Q1 and a decline of 682\\n\\nbasis points vs. last year. Auto gross margins, excluding regulatory credits and\\n\\nleases, came in at 18.1%, down from 18.3% in Q1.\\n\\nThat is below the 20% gross margin \\\"\\u0000oor\\\" Tesla previously targeted. Ahead of\\n\\nearnings, a slew of analysts rang warning bells on gross margins.\\n\\n\\\"The short-term variances in gross margins and pro\\u0000tability really are minor\\n\\nrelative to the long term picture,\\\" Chief Executive Elon Musk told investors during\\n\\nthe Q2 earnings call.\\n\\n\\\"Autonomy will make all of these numbers look silly,\\\" he added.\\n\\nStock Falls After Earnings\\n\\nHowever on July 20, TSLA tumbled 9.7% to 262.90, falling below the 21-day line\\n\\nbut only giving up July gains.\\n\\nAhead of earnings, Wood sold tranches of her \\u0000rm's Tesla stock holdings in\\n\\nconsecutive sessions, unloading more than 73,000 shares before the EV giant\\n\\nreported second-quarter \\u0000nancials.\\n\\nMorgan Stanley analyst Adam Jonas on July 24 wrote he expects Tesla's full-year\\n\\nauto gross margins to remain below 20% until 2025.\\n\\nCathie Wood sold another 20,700 shares of Tesla stock on July 25 for around $5.49\\n\\nmillion, based on the closing price of 265.28.\\n\\nTesla Stock And Musk\\n\\nThere is never a dull moment for Tesla and Musk, with the two inextricably linked.\\n\\nSince Musk took over Twitter on Oct. 28, purchasing the social media platform for\\n\\n$44 billion, some longtime Tesla stock bulls have worried Musk's focus on Twitter,\\n\\nalong with negative attention, is weighing down Tesla stock.\\n\\nMusk appeared to lessen those fears when he hired Linda Yaccarino,\\n\\nNBCUniversal's advertising chief, as the new CEO for X Corp., formerly known as\\n\\nTwitter. The Tesla chief added Yaccarino will focus on business operations while he\\n\\nwill work on product design and new technology.\\n\\nWedbush analyst Daniel Ives wrote the news ends some of the \\\"distraction risk\\n\\naround the Tesla story.\\\"\\n\\nWith TSLA shares pulling back after earnings, the top question for investors is\\n\\nalways, when is it a good time to buy or sell Tesla stock.\\n\\nTesla and Musk are betting big on the Cybertruck and autonomous vehicle\\n\\ntechnology, along with a possible tailwind from the In\\u0000ation Reduction Act (IRA).\\n\\nTesla A Monster Stock Over Much Of Its History\\n\\nAlmost single-handedly, Musk has turned the auto industry on its head, essentially\\n\\nforcing it to get aboard the electric-vehicle train.\\n\\nIt's a reason why Tesla has been a monster stock over much of its history, especially\\n\\nduring its stratospheric run from mid-2019 to late 2021. The stock hit a bear\\n\\nmarket low of 101.84 on Jan. 6, but roared back until Q1 earnings.\\n\\nOn April 19, Tesla reported a big \\u0000rst-quarter earnings decline while revenue\\n\\nmissed views. Pro\\u0000t margins for the global EV giant also fell below 20% as the\\n\\ncompany executed an aggressive price-slashing strategy in the \\u0000rst part of 2023.\\n\\nTesla reported revenue increasing 24% to $23.33 billion with EPS of 85 cents, a\\n\\n20% decline compared to 2022.\\n\\nThe EV company's total gross pro\\u0000t came in at $4.5 billion, with Tesla's pro\\u0000t gross\\n\\nmargin at 19.3%, down from 23.8% in Q4 and 29.1% a year earlier.\\n\\nTesla's Global Price Cutting Strategy\\n\\nTesla has slashed prices worldwide multiple times in 2023, starting in January and\\n\\ncontinuing into April. The only exception is China, where Tesla cut prices\\n\\nsigni\\u0000cantly in late October before the reductions in early January.\\n\\nOn April 14, Tesla reduced prices in several European markets. Tesla also dropped\\n\\nthe price of its electric vehicles in Israel and Singapore in order to increase demand,\\n\\nexpanding a worldwide discount push that began in China in January.\\n\\nThe global EV maker also signi\\u0000cantly reduced prices in the U.S. and Europe on Jan.\\n\\n13, then reduced European prices again in early March.\\n\\nIn Germany, Tesla lowered the price of its Model 3 and Model Y vehicles by between\\n\\n4.5% and 9.8%, while it cut prices of the Model 3 and Model Y vehicles in Singapore\\n\\nbetween 4.3% and 5%.\\n\\nHowever, more recently Tesla raised Model S and Model X vehicle prices in China\\n\\nby around $2,750. That follows a $290 price hike in China on the Model 3 and\\n\\nModel Y. The global EV giant also increased prices on its two popular vehicles in\\n\\nother markets including the U.S.\\n\\nTesla Stock: Betting On Autonomous Vehicles And The Cybertruck\\n\\nMusk has long touted Tesla's Full Self-Driving (FSD) technology and the potential\\n\\nvalue it brings to the brand.\\n\\nThe Tesla CEO told investors during the Q1 earnings call the \\\"value of a car that is\\n\\nautonomous is enormous.\\\"\\n\\nMusk also stressed that improvements in the FSD beta are \\\"really quite dramatic.\\\"\\n\\n\\\"The trend is very clearly toward full autonomy, and I hesitate to say this, but I think\\n\\nwe'll do it this year,\\\" Musk said, referring to self-driving vehicles.\\n\\nMeanwhile, Musk has con\\u0000rmed that a Cybertruck delivery event will take place\\n\\nlater in 2023.\\n\\nTesla reported in its Q2 \\u0000nancials the Cybertruck \\\"remains on track to begin initial\\n\\nproduction later this year at Gigafactory Texas.\\\" However, the EV giant added it is\\n\\n\\\"testing Cybertruck vehicles around the world for \\u0000nal certi\\u0000cation and validation.\\\"\\n\\n\\\"We can't wait to start delivering it later this year,\\\" Musk told investors Wednesday,\\n\\nreferring to the Cybertruck.\\n\\nOn July 15, Tesla tweeted a photo of the \\u0000rst Tesla Cybertruck made at its Austin\\n\\nplant. Tesla stock responded jumping 3.2%.\\n\\nThe company also said it continues to \\\"make progress\\\" on its next generation\\n\\nplatform. Since the Tesla investor day in early March, the company has remained\\n\\nmostly silent on its next generation vehicle, to be produced at its new plant in\\n\\nMexico. At the annual shareholder meeting, Tesla unveiled a vehicle silhouette.\\n\\nThe Long-Awaited Semi Hauler Unveiled\\n\\nIn early December, Tesla unveiled its long-awaited Semi, an 18-wheel, long-haul\\n\\nelectric freight truck, \\u0000ve years after it was \\u0000rst announced. However, in March,\\n\\nTesla ordered a voluntary recall of 35 Semi trucks due to a parking brake issue.\\n\\nTesla began delivering its long-haul Semi trucks to PepsiCo (PEP) in December.\\n\\nFurther, Musk has indicated there are plans to build out a charging network for\\n\\nlong-haul trucks.\\n\\nMusk did not specify how much the eighteen-wheeler costs. The Semi is capable of\\n\\ntraveling an estimated 500 miles per charge. It can accelerate from zero to 60 in 20\\n\\nseconds, Tesla says. The company expects to ramp production over the next year\\n\\nand aims to deliver 50,000 units in 2024.\\n\\nBefore the recall, PepsiCo planned to deploy 36 Tesla Semi trucks, with 15 in\\n\\nModesto and 21 in Sacramento.\\n\\nPepsi placed its order for 100 EVs when the Semi was \\u0000rst announced in 2017.\\n\\nTesla is currently under investigation by National Highway Traf\\u0000c Safety\\n\\nAdministration over possible seat belt failures. Regulators are also probing the EV\\n\\ngiant over steering-wheel issues and driver-assistance concerns.\\n\\nIs Tesla Stock A Buy?\\n\\nTSLA stock is greatly extended from a cup base with a 207.79 buy point. Shares\\n\\nhave climbed 118% so far in 2023, according to Leaderboard analysis. After the\\n\\npullback on Q2 earnings, TSLA is up around 3% in July.\\n\\nNow Tesla is working on a deeper cup base going back to September 2022 with a\\n\\n313.80 buy point.\\n\\nTesla (TSLA)\\n\\n$251.41 2.45 0.97%\\n\\n25\\n\\n09\\n\\n23\\n\\n06\\n\\n20\\n\\n03 Feb\\n\\n17\\n\\n03 Mar\\n\\n17\\n\\n31 Apr\\n\\n14\\n\\n28 May\\n\\n12\\n\\n26\\n\\n09\\n\\n23\\n\\n07\\n\\nDec\\n\\nJan\\n\\nJun\\n\\nJul\\n\\n08/07/2023 (Market Close)\\n\\nTechnically, Tesla now has a handle on a weekly chart, offering 299.29 buy point.\\n\\nBut a slightly deeper pullback or pause could create a meaningful handle. That\\n\\nhandle could end up developing into a new base with the broader consolidation.\\n\\nAn extended handle or new base would offer more time for moving averages to\\n\\ncatch up to the TSLA stock price.\\n\\nTesla stock ranks third in IBD's automaker industry group. It has a 98 Composite\\n\\nRating out of 99. Tesla has a 95 Relative Strength Rating and its EPS Rating is 94\\n\\nout of 99.\\n\\nThe market status is showing a \\\"con\\u0000rmed uptrend.\\\" However, Tesla stock is greatly\\n\\nextended from a cup base and TSLA is not a buy right now.\\n\\nYOU MAY ALSO LIKE:\\n\\nGet An Edge In The Stock Market With IBD Digital\\n\\nLabor Unions Keep The Heat On Starbucks And Amazon\\n\\nTesla Signals IRA Tax Credit Reduction For Model 3\\n\\nFed, Big Earnings Loom; Tesla Downgraded\\n\\nRESEARCH\\n\\nIs Microsoft Stock A Buy As Software Giant Touts Arti\\u0000cial Intelligence?\\n\\nPATRICK SEITZ 08:15 AM ET 05/08/2023\\n\\nS oftware giant Microsoft (MSFT) has earned plaudits for its successful pivot\\n\\nfrom desktop computing to cloud computing. And MSFT stock has risen as a result.\\n\\nBut after a recent surge, many investors may be wondering: Is Microsoft stock a buy\\n\\nright now?\\n\\nBill Gates and Paul Allen started Microsoft in 1975 at the dawn of the personal\\n\\ncomputer era to make PC operating system software. The company's Windows\\n\\noperating system came to dominate the PC landscape. Microsoft expanded over the\\n\\nyears into productivity software, server software, internet services, video games,\\n\\nand PC hardware and accessories.\\n\\nCurrent Chief Executive Satya Nadella took the reins of the Redmond, Wash.-based\\n\\ncompany in 2014 and led Microsoft full steam into cloud computing. Recently, he\\n\\nhas been promoting the company's advances in arti\\u0000cial intelligence.\\n\\nThe company's cloud offerings today include Azure infrastructure services, Of\\u0000ce\\n\\n365 productivity software and Dynamics enterprise software. Also, Microsoft owns\\n\\nLinkedIn, Skype and GitHub.\\n\\nMicrosoft Trails Amazon In Cloud Computing\\n\\nMicrosoft is gaining on Amazon.com's (AMZN) Amazon Web Services in the market\\n\\nfor cloud infrastructure services.\\n\\nIn the \\u0000rst quarter, Amazon Web Services had 32% market share, according to\\n\\nresearch \\u0000rm Canalys. Microsoft was in second place with 23% market share. And\\n\\nAlphabet (GOOGL) unit Google Cloud Platform was a distant third with 9% market\\n\\nshare.\\n\\nOverall enterprise spending on cloud infrastructure services reached $66.4 billion\\n\\nin the \\u0000rst quarter, up 19% year over year, Canalys said.\\n\\nMSFT Stock News: OpenAI Partnership\\n\\nMicrosoft lately has been promoting its efforts to infuse arti\\u0000cial intelligence into\\n\\nits software and services.\\n\\nOn Jan. 23, Microsoft announced a new investment, reportedly worth $10 billion, in\\n\\narti\\u0000cial intelligence startup OpenAI. OpenAI is the organization behind text\\n\\ngenerator ChatGPT and image generator Dall-E. Microsoft previously had invested\\n\\nin OpenAI in 2019 and 2021.\\n\\nMicrosoft is providing its Azure cloud computing infrastructure for OpenAI. It also\\n\\nis adding OpenAI models to its consumer and enterprise software products.\\n\\nOn Feb. 7, Microsoft showed off its new Bing search engine and Edge web browser\\n\\nthat use AI technology. Microsoft hopes the OpenAI-based technology can help\\n\\nBing chip away at Google's dominance in the internet search market. MSFT stock\\n\\njumped 4.2% on the news.\\n\\nOn March 16, Microsoft announced that it is adding arti\\u0000cial intelligence tools to its\\n\\npopular Of\\u0000ce productivity applications. It introduced a feature called Microsoft\\n\\n365 Copilot. The Copilot feature uses next-generation AI to automate and simplify\\n\\ntasks and provide suggestions. Microsoft stock surged on the news.\\n\\nOn March 28, Microsoft added AI to its cybersecurity offerings. It launched\\n\\nMicrosoft Security Copilot, a new tool for enterprises to quickly detect and\\n\\nrespond to threats and better understand the threat landscape.\\n\\nActivision Blizzard Acquisition Stalled\\n\\nMeanwhile, Microsoft's proposed acquisition of video game publisher Activision\\n\\nBlizzard (ATVI) is facing challenges from antitrust regulators.\\n\\nMicrosoft announced a deal to buy Activision in January 2022 for $68.7 billion in\\n\\ncash. Microsoft said the Activision purchase will accelerate the growth of its\\n\\ngaming business and provide building blocks for the coming metaverse. But\\n\\nMicrosoft stock fell 2.4% on the news.\\n\\nOn Dec. 8, the Federal Trade Commission \\u0000led an antitrust lawsuit to block\\n\\nMicrosoft's purchase of Activision. Microsoft is \\u0000ghting the lawsuit.\\n\\nAnd on April 26, the U.K.'s Competition and Markets Authority blocked the deal\\n\\nover concerns that it would harm competition in the cloud gaming market.\\n\\nMicrosoft vowed to appeal the ruling.\\n\\nMicrosoft Stock Fundamental Analysis\\n\\nLate on April 25, Microsoft reported better-than-expected results for the March\\n\\nquarter and guided higher for the current period. MSFT stock jumped 7.2% in the\\n\\nnext trading session after the report.\\n\\nMicrosoft earned $2.45 a share on sales of $52.9 billion in its \\u0000scal third quarter\\n\\nended March 31. Analysts polled by FactSet had expected earnings of $2.24 a share\\n\\non sales of $51 billion. On a year-over-year basis, Microsoft earnings rose 10%\\n\\nwhile sales advanced 7%.\\n\\nFor the current quarter, Microsoft forecast revenue of $54.85 billion to $55.85\\n\\nbillion. The midpoint of $55.35 billion was above Wall Street's consensus target of\\n\\n$54.7 billion for the June quarter.\\n\\nThe next major catalyst for Microsoft stock could be the company's June-quarter\\n\\nearnings report, due in late July.\\n\\nMSFT Stock Technical Analysis\\n\\nAfter hitting a record high of 349.67 in November 2021, Microsoft stock had a\\n\\nsteady decline through 2022. But it has perked up this year.\\n\\nMicrosoft stock has a good IBD Relative Strength Rating of 92 out of 99. The best\\n\\ngrowth stocks typically have RS Ratings of at least 80. The Relative Strength rating\\n\\nshows how a stock's price performance stacks up against all other stocks over the\\n\\nlast 52 weeks.\\n\\nThe IBD Stock Checkup tool gives MSFT stock an IBD Composite Rating of 97 out\\n\\nof 99. IBD's Composite Rating combines \\u0000ve separate proprietary rankings into one\\n\\neasy-to-use number. The best growth stocks have a Composite Rating of 90 or\\n\\nbetter.\\n\\nAlso, Microsoft ranks \\u0000rst out of six stocks in IBD's Computer Software-Desktop\\n\\nindustry group. The desktop software group ranks No. 20 out of 197 industry\\n\\ngroups that IBD tracks. Choosing highly rated stocks from leading industry groups\\n\\nin a con\\u0000rmed stock market uptrend generally increases your chances of making\\n\\npro\\u0000ts in growth stocks.\\n\\nMicrosoft stock is in the IBD Long-Term Leaders Portfolio.\\n\\nPlus, Microsoft ranked \\u0000rst on IBD's 2021 list of ESG stocks for investors investors\\n\\nfocused on environmental, social and governance issues.\\n\\nIs Microsoft Stock A Buy Right Now?\\n\\nMicrosoft stock is not a buy right now. It is extended from its recent breakout.\\n\\nOn March 17, MSFT stock broke out of a \\u0000at base at a buy point of 276.86,\\n\\naccording to IBD MarketSmith charts. The 5% buy zone from\\n\\nMicrosoft's breakout runs from 276.86 to 290.70, based on IBD trading principles.\\n\\nMSFT stock ended the regular session May 5 at 310.65.\\n\\nMicrosoft needs to form a new base in the right market conditions before setting a\\n\\npotential buy point. Check out IBD's Big Picture column for the current market\\n\\ndirection.\\n\\nMicrosoft stock has an IBD Accumulation/Distribution Rating of B+. That rating\\n\\nindicates institutional buying of MSFT stock.\\n\\nKeep an eye on the overall stock market. If the market turns south, don't try to\\n\\n\\u0000ght the general stock market direction.\\n\\nTo \\u0000nd the best stocks to buy or watch, check out IBD Stock Lists. Also consult\\n\\nIBD's Leaderboard, MarketSmith and SwingTrader platforms.\\n\\nFollow Patrick Seitz on Twitter at @IBD_PSeitz for more stories on consumer technology,\\n\\nsoftware and semiconductor stocks.\\n\\nYOU MAY ALSO LIKE:\\n\\nIs Apple Stock A Buy Right Now? Here's What IBD Charts Show\\n\\nIs Net\\u0000ix Stock A Buy Right Now? Here's What IBD Charts Show\\n\\nLearn How To Time The Market With IBD's ETF Market Strategy\\n\\nBest Growth Stocks To Buy And Watch: See Updates To IBD Stock Lists\\n\\nJoin IBD Live For Stock Ideas Each Morning Before The Open\\n\\nTECHNOLOGY\\n\\nIs Amazon Stock A Buy As It Restructures Workforce In Tough Times?\\n\\nBRIAN DEAGON 03:03 PM ET 04/14/2023\\n\\nF or years, Amazon seemed invincible, an e-commerce giant that made other\\n\\ncompanies shiver when it muscled into their markets. It helped Amazon stock soar\\n\\ninto four-digit territory, and the company's earnings reports often delighted\\n\\ninvestors.\\n\\nNow, after a year of troubling earnings reports, Amazon has launched a major\\n\\nrestructuring, including plans to cut 27,000 employees from its workforce. Is\\n\\nAmazon stock a buy?\\n\\nIn late March, Amazon announced plans to slash 9,000 jobs. That's on top of the\\n\\n18,000 job cuts it announced in January.\\n\\n\\\"Given the uncertain economy in which we reside, and the uncertainty that exists in\\n\\nthe near future, we have chosen to be more streamlined in our costs and head\\n\\ncount,\\\" Amazon Chief Executive Andy Jassy said in a written notice to employees\\n\\nwhen the layoffs were announced. He also suggested more layoffs are possible. The\\n\\ncuts mainly focus on Amazon Web Services, advertising, Twitch, human resources\\n\\nand its stores divisions.\\n\\nAmazon Jumps Into Arti\\u0000cial Intelligence\\n\\nOn April 13, Amazon jumped into the booming \\u0000eld of generative arti\\u0000cial\\n\\nintelligence, the technology behind ChatGPT. Amazon stock climbed on the news,\\n\\nas did other AI companies.\\n\\nAlphabet and Microsoft (MSFT) previously announced plans to bring ChatGPT to\\n\\nthe public. Meanwhile, Amazon's cloud computing unit, Amazon Web Services,\\n\\nplans to target corporate customers.\\n\\nAWS will also expand access to custom-made chips. They say the chips can run AI\\n\\nsoftware more ef\\u0000ciently and cheaper than competitors can.\\n\\n\\\"Machine learning has been a technology with high promise for several decades. But\\n\\nit's only been the last \\u0000ve to 10 years that it's started to be used more pervasively\\n\\nby companies,\\\" Chief Executive Andy Jassy said in his letter to shareholders.\\n\\nMachine learning is a form of arti\\u0000cial intelligence.\\n\\nJassy went on to say: \\\"We will continue to invest substantially in these models\\n\\nacross all of our consumer, seller, brand and creator experience.\\\"\\n\\nThe three largest cloud computing companies, AWS, Microsoft and Google, have\\n\\nmoved AI development to the top of their to-do list. Each is trying to capitalize on\\n\\nthe booming interest in arti\\u0000cial intelligence technology.\\n\\nA Heightened Focus On Cost Savings\\n\\nAfter the second round of job cuts, Arun Sundaram, senior equity analyst at CFRA,\\n\\nmaintained a buy rating on Amazon stock.\\n\\n\\\"While some may view these job cuts as a sign of a gloomier macro outlook,\\n\\nespecially as it relates to cloud computing and digital advertising, we believe\\n\\ninvestors will appreciate Amazon's heightened focus on cost savings and free cash\\n\\n\\u0000ow,\\\" Sundaram wrote in a note to clients.\\n\\nThe most recent layoff announcements, in March, came after Amazon announced\\n\\nfourth-quarter results on Feb. 2. The company beat on revenue but missed on\\n\\nearnings, as its typically strong cloud computing unit failed to rescue the e-\\n\\ncommerce giant.\\n\\nThe cloud unit showed that revenue decelerated. AWS sales jumped 20% to $21.4\\n\\nbillion, but that was below expectations and a deceleration from 27% growth in the\\n\\nprior quarter\\n\\nOppenheimer analyst Jason Helfstein said more cost-cutting efforts are needed.\\n\\n\\\"We believe more layoffs are necessary for e-commerce to become meaningfully\\n\\npro\\u0000table,\\\" he said in his note to clients.\\n\\nAmazon Continues Push Into Health Care\\n\\nIn late February, Amazon completed its $3.9 billion acquisition of One Medical,\\n\\ngiving it a primary health care provider with in-person and virtual treatment as well\\n\\nas lab tests and programs for preventive care.\\n\\n\\\"We're on a mission to make it dramatically easier for people to \\u0000nd, choose, afford\\n\\nand engage with the services, products, and professionals they need to get and stay\\n\\nhealthy,\\\" said Neil Lindsay, senior vice president of Amazon Health Services, in a\\n\\nwritten statement with the Amazon news release.\\n\\nAmazon has made several forays into the health care market. In 2018 Amazon paid\\n\\nabout $1 billion to acquire PillPack. That gave Amazon the ability to ship\\n\\nprescriptions around the country, making it a direct threat to the more than $400\\n\\nbillion pharmacy business.\\n\\nAmazon has long-held ambitions to greatly simplify how consumers receive health\\n\\ncare, but it remains a lofty goal that has yet to emerge as a moneymaking venture.\\n\\nTechnical Analysis Of Amazon Stock\\n\\nIn the stock market, timing is critical. So when you're looking for stocks to buy or\\n\\nsell, it's important to do the fundamental and technical analysis that identi\\u0000es\\n\\nlower-risk entry points that also offer solid potential rewards.\\n\\nThe IBD Stock Checkup tool shows that Amazon stock has a weak IBD Composite\\n\\nRating of 36 out of 99. When choosing growth stocks for the biggest potential,\\n\\nbased on technical and fundamental criteria, try to focus on those with a\\n\\nComposite Rating of 90 or higher.\\n\\nAmazon's Relative Strength Rating now stands at 32 out of 99. Ideally, look for\\n\\nstocks with a rating of 80 or higher.\\n\\nIs Amazon Stock A Buy?\\n\\nAMZN is not a buy at this time. It's still in a long-term downtrend but has been\\n\\nrecovering since it hit a low at the start of the year.\\n\\nAMZN stock is now forming a cup base with a 114.10 buy point, and the price\\n\\naction is so far pretty smooth.\\n\\nEven if Amazon breaks out, it has a mountain to climb back. Overhead supply could\\n\\nretard any advance AMZN tries in the next several months.\\n\\nThe stock continues to hit resistance at the 200-day line, which has been a\\n\\nresistance level for about a year. Amazon is currently sitting on its 50-day line.\\n\\nFalling below that would be reason for caution. But holding above it and then\\n\\npiercing through the 200-day line and holding would be a positive sign.\\n\\nRecognizing stock chart patterns is one key to the investment guidelines. IBD offers\\n\\na broad range of growth stock lists, such as Leaderboard and SwingTrader.\\n\\nInvestors also can create watchlists, \\u0000nd companies nearing a buy point, or develop\\n\\ncustom screens at IBD MarketSmith.\\n\\nIf you're interested in buying large-cap stocks, in these articles you'll \\u0000nd technical\\n\\nanalysis of leading large caps to see if they are in or near a proper buy zone.\\n\\nPlease follow Brian Deagon on Twitter at @IBD_BDeagon for more on tech stocks,\\n\\nanalysis and \\u0000nancial markets.\\n\\nYOU MIGHT ALSO LIKE:\\n\\nAmazon Makes Its Swan Dive Into ChatGPT Arti\\u0000cial Intelligence Pool\\n\\nNo Silver Lining In Amazon's Cloud Business As Results Fail To Excite\\n\\nAmazon's Alexa Smart Speaker Blazed A Trail, Then Burned Out\\n\\nLooking For Market Insights? Check Out Our IBD Live Daily Segment\\n\\nJoin IBD Live Each Morning For Stock Tips Before The Open\"\n",
      "}\n",
      "\u001b[32;1m\u001b[1;3m[llm/start]\u001b[0m \u001b[1m[1:chain:ConversationalRetrievalChain > 3:chain:StuffDocumentsChain > 4:chain:LLMChain > 5:llm:AzureOpenAI] Entering LLM run with input:\n",
      "\u001b[0m{\n",
      "  \"prompts\": [\n",
      "    \"Use the following context (delimited by <ctx></ctx>) to answer the question like a financial advisor:\\n------\\n<ctx>\\nNEWS\\n\\nIs Meta Stock Still A Buy After Facebook Parent Surges On Earnings, Outlook?\\n\\nJED GRAHAM 07:00 AM ET 07/29/2023\\n\\nM eta Platforms (META) continued to rally strongly in Friday stock market\\n\\naction, maintaining momentum after soundly beating Q2 earnings estimates late\\n\\nWednesday. Meta added an exclamation point with its much-stronger-than-\\n\\nexpected sales outlook for Q3. The turnaround for Meta stock has come in waves,\\n\\nas the parent of Instagram and Facebook progressed from multiple rounds of\\n\\nlayoffs and cost cuts to renewed revenue growth to excitement over generative AI's\\n\\npotential to provide a long-term sales and pro\\u0000t boost.\\n\\nX\\n\\nIs Meta Stock A Buy?\\n\\nMeta stock has now rallied 170% so far in 2023, second only to Nvidia (NVDA) in\\n\\nthe S&P 500. Investors have good reason to be excited about the outlook, and there\\n\\nare some potential near-term catalysts that might continue to fuel Meta stock. The\\n\\ncompany is hosting a Sept. 27 conference to reveal more about its AI and metaverse\\n\\ninitiatives. The event will feature the launch of Meta's new Quest 3 mixed reality\\n\\nheadset.\\n\\nThe launch of the Threads text-based social media site to capitalize on Twitter\\n\\nturmoil seized the spotlight in early July by racking up more than 100-million sign-\\n\\nups in the \\u0000rst week. But that gave way to doubt whether people would stick\\n\\naround. Now that Meta has belatedly begun rolling out basic features that Twitter\\n\\nusers take for granted, we may \\u0000nd out how serious of a challenge Threads will pose\\n\\nas daily user statistics are updated.\\n\\nStill, it wouldn't be surprising to see Meta stock's fantastic run take a breather.\\n\\nWhile there are de\\u0000nitely reasons to be excited about the impact of generative AI\\n\\non Meta results, that's more of a long-term story. A closer look at the earnings\\n\\nturnaround also suggests Meta's earnings momentum may be somewhat less than\\n\\nmeets the eye. That's only partly because of ongoing expenses on the metaverse\\n\\nthat won't pay off anytime soon. Regulation also continues to pose risks.\\n\\nMeta stock is trading at an 18-month high, but does not currently have a buy point.\\n\\nMeta Platforms (META)\\n\\n$316.56 5.83 1.88%\\n\\n25\\n\\n09\\n\\n23\\n\\n06\\n\\n20\\n\\n03 Feb\\n\\n17\\n\\n03 Mar\\n\\n17\\n\\n31 Apr\\n\\n14\\n\\n28 May\\n\\n12\\n\\n26\\n\\n09\\n\\n23\\n\\n07\\n\\nDec\\n\\nJan\\n\\nJun\\n\\nJul\\n\\n08/07/2023 (Market Close)\\n\\nMeta Earnings And Outlook\\n\\nThe Menlo Park, Calif.-based social media giant late Wednesday said it earned $2.98\\n\\na share on sales of $32 billion in the June quarter. Analysts polled by FactSet had\\n\\nexpected Meta earnings of $2.91 a share on sales of $31.08 billion. On a year-over-\\n\\nyear basis, Meta earnings increased 21% while sales advanced 11%.\\n\\nMeta's second-quarter earnings results broke a streak of six straight quarters of\\n\\nyear-over-year declines. Meanwhile, Meta's revenue rose for the second quarter in\\n\\na row after three straight quarters of declines.\\n\\nThe results re\\u0000ected continued user growth in all regions. The number of people\\n\\nusing at least one Meta app on a daily basis rose to 3.07 billion from 3.02 billion in\\n\\nQ1. That includes Facebook, Instagram, Messenger and WhatsApp. Facebook daily\\n\\nactive users rose to 2.064 billion from 2.037 billion overall. In the U.S., 202 million\\n\\npeople used Facebook on a daily basis, up from 200 million in Q1.\\n\\nFor the third quarter, Meta predicted revenue of $32 billion to $34.5 billion,\\n\\ngrowing by a range of 15.5% to 24.5%. The midpoint of $33.25 billion was well\\n\\nabove Wall Street's prediction of $31.22 billion.\\n\\nReels Monetization\\n\\nMeta CEO Mark Zuckerberg highlighted improving monetization of Reels short-\\n\\nform videos to an annual run rate of over $10 billion in Q2. That compares to a $1-\\n\\nbillion annual run rate a year ago. In other words, on a quarterly basis, Reels ad\\n\\nrevenue accounted for about $2.25 billion of the overall $3.2 billion in revenue\\n\\ngrowth vs. a year ago.\\n\\nThe massive jump in Reels revenue came as the number of short-form videos played\\n\\nacross Facebook and Instagram reached 200 billion per day, up more than 40% from\\n\\n140 billion last fall. That growth is partly because Meta, in a bid to compete against\\n\\nTikTok, has programmed its AI discovery engine that recommends content to users\\n\\nto prioritize Reels videos. As a result, time spent watching Reels videos subtracts to\\n\\nan extent from other activity on Facebook and Instagram. Still, Meta says that part\\n\\nof Reels growth re\\u0000ects \\\"incremental engagement,\\\" meaning that it is a net\\n\\ncontributor to overall time spent on Meta's apps.\\n\\nYet the biggest reason Reels revenue is rising so fast is that Meta has been taking a\\n\\nwhile to \\u0000gure out how to optimize ads on the TikTok competitor it launched in\\n\\n2020. Basically, Meta had been running a lot of ad-free content, sandbagging\\n\\nrevenue. Now, the rising ad load on Reels has provided a one-time jump in ad sales.\\n\\nMeta Regains Its Competitive Edge\\n\\nThe Q3 revenue outlook might give the impression that Meta has returned to fast\\n\\ngrowth, but that seems uncertain.\\n\\nConsider Q3 guidance for year-over-year sales growing by a range of $4.3 billion to\\n\\n$6.8 billion. Meta expects the weaker dollar to provide a 3% tailwind or as much as a\\n\\n$1 billion lift. The higher ad load alone on Reels could provide a boost of about $1.5\\n\\nbillion.\\n\\nOn top of that, CFO Susan Li noted that revenue declined 4.5% in the year-ago\\n\\nquarter. \\\"We're really lapping a much-weaker demand period a year ago.\\\"\\n\\nLi credited \\\"improvement in the macroeconomic landscape\\\" as a big factor in Q3\\n\\nguidance. She highlighted \\\"stabilization\\\" in key advertiser segments like online\\n\\ncommerce and gaming.\\n\\nAnother part of Meta's turnaround story involves overcoming the industry\\n\\nupheaval caused by Apple's privacy change. Starting with the iOS 14.5 update in the\\n\\nspring of 2021, Apple began requiring apps downloaded through the App Store to\\n\\nlet users opt in or out of tracking their activity across third-party sites. With the\\n\\nbulk of users opting out, Meta lost the data needed to help businesses narrowly\\n\\ntarget advertising to consumers likely to have an interest in their products or\\n\\nservices.\\n\\nIn February 2022, Meta revealed just how big of a revenue hit Apple's privacy shift\\n\\nwould deliver: $10 billion in 2022 alone, amounting to about $2.5 billion per\\n\\nquarter.\\n\\nThe good news is that Meta seems to have come a long way in rebuilding its\\n\\nadvertising edge, partly by substituting user data with AI and automation.\\n\\nJoin IBD Live And Learn Top Chart-Reading And Trading Techniques From The\\n\\nPros\\n\\nMeta Growth Avenues\\n\\nA big part of the Meta growth story is the ongoing shift to digital advertising, which\\n\\ngrew 5.5% from a year earlier in Q2 vs. 2% for the ad market across all media,\\n\\naccording to a July 13 Deutsche Bank note.\\n\\nBusiness messaging is another growth area. Click-to-message ads, which open up a\\n\\nWhatsApp or Messenger chat with businesses, have reached a $10-billion annual\\n\\nrate, Zuckerberg said on the Q4 call. In the latest call, he noted that the number of\\n\\nbusinesses using paid messaging products has doubled from a year ago.\\n\\nZuckerberg sees generative AI as a major impetus for improving — and monetizing\\n\\n— business communications.\\n\\nOne of the biggest issues limiting monetization of business messaging is that \\\"it's\\n\\nquite human labor-intensive,\\\" so Meta's click-to-message ads have taken off where\\n\\nthe cost of labor is relatively low. But in a world where every business has an AI\\n\\nagent, \\\"the kind of success that we're seeing in Thailand or Vietnam with business\\n\\nmessaging could kind of spread everywhere,\\\" he said.\\n\\n\\\"The two technological waves that we're riding are AI in the near term and the\\n\\nmetaverse over the long term,\\\" Zuckerberg said.\\n\\n\\\"There are 1 billion or 2 billion people who have glasses today. I think in the future,\\n\\nthey're all going to be smart glasses,\\\" essentially wearable computers. He also\\n\\npredicted that \\\"all the time that we spend on TVs and computers, I think that's going\\n\\nto get more immersive and look something more like VR (virtual reality) in the\\n\\nfuture.\\\"\\n\\nThreads is a wild card. It could become Meta's \\\"\\u0000fth great app,\\\" Zuckerberg said.\\n\\nThe goal now is to build the Threads community so there are hundreds of millions of\\n\\npeople using it at a high rate. \\\"Then we'll worry about monetization.\\\"\\n\\nMeta Worries\\n\\nDespite Meta's resurgence, the company won't shed its new \\\"year of ef\\u0000ciency\\\"\\n\\nethos, Zuckerberg said.\\n\\nStill, its Reality Labs division focused on the metaverse and smart-glasses\\n\\nopportunity lost $3.7 billion in Q2. And Meta said it expects year-over-year losses\\n\\nto rise in 2023 and to grow \\\"meaningfully\\\" again in 2024.\\n\\nRegulation is the other main worry. Meta was hit with a $1.3 billion \\u0000ne in Q2 for\\n\\nviolating the European Union's General Data Protection Regulation by transmitting\\n\\ndata on EU citizens to the U.S.\\n\\n\\\"We continue to see increasing legal and regulatory headwinds in the EU and U.S.,\\\"\\n\\nLi said. \\\"The adoption of guidelines that require penalties to be assessed on a\\n\\npercentage of global revenue\\\" is of particular concern.\\n\\nMeta has yet to launch Threads in the EU due to regulatory issues.\\n\\nMeta Platforms (META)\\n\\n$316.56 5.83 1.88%\\n\\nDec 20\\n\\nMar 21\\n\\nJun 21\\n\\nSep 21\\n\\nDec 21\\n\\nMar 22\\n\\nJun 22\\n\\nSep 22\\n\\nDec 22\\n\\nMar 23\\n\\nJu\\n\\n08/07/2023 (Market Close)\\n\\nMeta Stock\\n\\nIn Friday stock market action, Meta stock climbed 4.4% to 325.48. That matched\\n\\nThursday's 4.4% post-earnings gain. Shares leapt 10.7% for the week to an 18-\\n\\nmonth high.\\n\\nMeta stock is part of the IBD Leaderboard portfolio of elite stocks, picked up in\\n\\nMarch as Meta broke out of a short, \\u0000at base with a 197.16 buy point, according to\\n\\na MarketSmith analysis.\\n\\nMeta's 65% advance since that breakout did offer one more recent entry point.\\n\\nMeta etched out a three-weeks-tight pattern in late June and early July, creating an\\n\\nentry above 298.12.\\n\\nDespite the massive gain this year, Meta stock's run has kept a steady pace that has\\n\\nkept the stock from getting extended. A weekly chart shows Meta stock pulling\\n\\nback to just above its 50-day line just ahead of its big earnings report on\\n\\nWednesday.\\n\\nYet now Meta is well above its 50-day moving average and it would be too risky to\\n\\nchase.\\n\\nBottom Line: Meta stock has come nearly full circle. Wall Street thought the old\\n\\nFacebook was indomitable, then lost faith in Meta. Now faith is restored. But risk is\\n\\ncreeping in that Meta's growth story that mostly re\\u0000ects a turnaround is a bit\\n\\noverhyped. Wait for Meta to establish a new entry point. Meta stock is not currently\\n\\na buy.\\n\\nYOU MAY ALSO LIKE:\\n\\nWhy This IBD Tool Simpli\\u0000es The Search For Top Stocks\\n\\nCatch The Next Big Winning Stock With MarketSmith\\n\\nThese Are The Best Growth Stocks To Buy And Watch\\n\\nIBD Digital: Unlock IBD's Premium Stock Lists, Tools And Analysis Today\\n\\nNEWS\\n\\nNvidia More Than Triples In 2023 On AI Boost — Is It A Buy?\\n\\nAPARNA NARAYANAN 03:25 PM ET 08/04/2023\\n\\nN vidia (NVDA), a giant in data centers and gaming, continues to sizzle. The\\n\\nchip giant is seen as one of the biggest winners of the AI boom. Is Nvidia stock a buy\\n\\nright now, with earnings due?\\n\\nSemiconductor, AI News\\n\\nIn May, Nvidia Chief Executive Jensen Huang announced a new supercomputer,\\n\\nsoftware and services for generative AI (arti\\u0000cial intelligence). Generative AI can\\n\\ncreate content, including written articles, from simple descriptive phrases by\\n\\nanalyzing and digesting vast amounts of data. It can also write computer\\n\\nprogramming code.\\n\\nFor its latest quarter, graphics-chip maker Nvidia crushed Wall Street's targets on\\n\\nrecord data-center sales. Production is ramping up to meet huge demand for AI\\n\\ntechnology, CEO Huang said.\\n\\nNvidia is a leader in AI chips. In the tech industry's \\u0000erce battle for AI dominance,\\n\\nthe advanced chips needed for generative AI, such as the ChatGPT chatbot, are key.\\n\\nFor those looking for top large-cap stocks to buy now, here's a dive into NVDA\\n\\nstock.\\n\\nNvidia Stock Technical Analysis\\n\\nNvidia rebounded Aug. 3 after three down days, technically regaining a 439.90 buy\\n\\npoint. Shares edged higher on Aug. 4. The latest entry from a three-weeks-tight\\n\\npattern offered a place for existing investors to add a few more shares. The buy\\n\\nrange goes to 461.90, the IBD Leaderboard stock analysis shows.\\n\\nBut with the market rally shifting to under pressure, investors may want to wait to\\n\\nsee if Nvidia can \\u0000nd support at the 50-day/10-week line for the \\u0000rst time since\\n\\nearly January.\\n\\nA rebound from those levels would offer a buying opportunity. But shares aren't\\n\\nthere yet.\\n\\nA further pullback also could be part of a full-\\u0000edged base.\\n\\nShares still aren't far from the 52-week high, set on July 14.\\n\\nNVDA joined the prestigious IBD Leaderboard in February on an earnings gap-up. It\\n\\nsurged again in May on blowout earnings and strong guidance.\\n\\nYear to date, Nvidia stock has skyrocketed 206%, after crashing in 2022.\\n\\nThe relative strength line is \\u0000attening out a bit after a strong rally, the IBD\\n\\nMarketSmith charts show. A rising RS line means that a stock is outperforming the\\n\\nS&P 500. It is the blue line in the chart shown.\\n\\nNVDA earns an IBD Composite Rating of 97, out of a best-possible 99. In other\\n\\nwords, Nvidia stock is in the top 3% of all stocks in terms of technical and\\n\\nfundamental metrics.\\n\\nNVIDIA (NVDA)\\n\\n$454.17 7.37 1.65%\\n\\nDec 20\\n\\nMar 21\\n\\nJun 21\\n\\nSep 21\\n\\nDec 21\\n\\nMar 22\\n\\nJun 22\\n\\nSep 22\\n\\nDec 22\\n\\nMar 23\\n\\nJu\\n\\n08/07/2023 (Market Close)\\n\\nInvestors generally should focus on stocks with Comp Ratings of 90 or even 95 and\\n\\nabove. Nvidia stock often earns a spot on the IBD 50, Big Cap 20 and Sector\\n\\nLeaders lists.\\n\\nThe IBD Stock Checkup tool shows that NVDA carries a Relative Strength Rating\\n\\nof 99. That means it has outperformed 99% of all other stocks over the past year.\\n\\nThe iShares PHLX Semiconductor ETF (SOXX) holds both Nvidia stock and AMD\\n\\nstock.\\n\\nIBD Live: A New Tool For Daily Stock Market Analysis\\n\\nNvidia Earnings\\n\\nNvidia's EPS Rating is 68 out of 99 and its SMR Rating is a B, on a scale of A to a\\n\\nworst E. The EPS rating compares a company's earnings growth to other stocks. Its\\n\\nSMR Rating gauges sales growth, pro\\u0000t margins and return on equity.\\n\\nOn May 24, the chip giant delivered a big beat-and-raise report. The Nvidia\\n\\nearnings report included a bullish, AI-fueled sales forecast.\\n\\nThe Santa Clara, Calif.-based company earned $1.09 a share on sales of $7.19 billion\\n\\nin the quarter ended April 30. Year over year, Nvidia earnings dropped 20% while\\n\\nsales fell 13%. But the results easily outpaced Wall Street's expectations.\\n\\nIn Q1, data-center sales rose 14% to $4.28 billion. Gaming-chip sales fell 38% to\\n\\n$2.24 billion.\\n\\nAnalysts expect Nvidia earnings per share to rebound 138% in \\u0000scal 2024, on a 61%\\n\\nsales gain. Last year, Nvidia earnings fell 25%.\\n\\nIts next quarterly report is expected on Aug. 23.\\n\\nOut of 50 analysts covering NVDA stock, 43 rate it a buy. Six have a hold and one\\n\\nhas a sell, according to FactSet.\\n\\nLooking For The Next Big Stock Market Winners? Start With These 3 Steps\\n\\nNVDA Backstory, Rivals\\n\\nThe fabless chipmaker pioneered graphics processing units, or GPUs, to make video\\n\\ngames more realistic. It's expanding in AI chips, used in supercomputers, data\\n\\ncenters and drug development.\\n\\nNvidia's GPUs act as accelerators for central processing units, or CPUs, made by\\n\\nother companies. It's working on \\\"supercomputers\\\" combining its own CPUs and\\n\\nGPUs.\\n\\nIn addition, Nvidia chips are used for Bitcoin mining and self-driving electric cars.\\n\\nNvidia has made a big push into metaverse applications.\\n\\nFabless chip stocks include Qualcomm (QCOM), Broadcom (AVGO) and Monolithic\\n\\nPower Systems (MPWR).\\n\\nCurrently, the fabless group ranks No. 2 out of 197 industry groups. Fabless\\n\\ncompanies design the hardware while outsourcing the manufacturing to a third-\\n\\nparty \\u0000rm.\\n\\nFor the best returns, investors should focus on companies that are leading the\\n\\nmarket and their own industry group.\\n\\nIs Nvidia Stock A Buy?\\n\\nOn a fundamental level, Nvidia earnings are expected to return to growth. They\\n\\nshould more than double this \\u0000scal year, driven by booming chip sales for data\\n\\ncenters and arti\\u0000cial intelligence.\\n\\nThe fabless chipmaker is expanding in other growth areas such as automated\\n\\nelectric cars and cloud gaming as well. The adoption of the metaverse and\\n\\ncryptocurrencies could further stoke demand for Nvidia chips.\\n\\nHowever, macroeconomic uncertainties and risk of global recession linger.\\n\\nNVDA stock has staged a massive comeback, more than tripling in 2023 so far.\\n\\nShares have reclaimed their latest follow-on entry after a retreat and are now back\\n\\nin a proper buy zone. But investors may want to wait for a pullback to key levels or a\\n\\nnew base, especially with the market rally under pressure.\\n\\nBottom line: Nvidia stock is a buy right now, but with caveats.\\n\\nAs a leading chip company with exposure to top end-markets, Nvidia is always one\\n\\nto watch.\\n\\nCheck out IBD Stock Lists and other IBD content to \\u0000nd dozens of the best stocks\\n\\nto buy or watch.\\n\\nYOU MAY ALSO LIKE:\\n\\nIs AMD Stock A Buy?\\n\\nSee The Best Stocks To Buy And Watch\\n\\nCatch The Next Big Winning Stock With MarketSmith\\n\\nJoin IBD Live And Learn Top Chart-Reading And Trading Techniques From The\\n\\nPros\\n\\nNEWS\\n\\nIs Tesla Stock A Buy Or A Sell With California's Attorney General Investigating The EV Giant?\\n\\nKIT NORTON 11:05 AM ET 07/27/2023\\n\\nT esla (TSLA) stock appears to be pulling back after second-quarter \\u0000nancials\\n\\non July 19, as investor concerns over falling gross margins seems to be outweighing\\n\\nthe global EV giant's earnings and revenue-beating numbers.\\n\\nX\\n\\n00:00\\n\\nMeanwhile, California's attorney general is investigating Tesla, seeking information\\n\\nfrom customers and former employees regarding Autopilot safety and false\\n\\nadvertising complaints, CNBC reported Wednesday.\\n\\nThis comes after Tesla reported Q2 pro\\u0000ts growing 20% to 91 cents per share while\\n\\nrevenue increased 47% to $24.93 billion. Analysts expected pro\\u0000ts to edge up\\n\\naround 4% to 80 cents per share with revenue totaling $24.22 billion, up 43%\\n\\ncompared with last year.\\n\\nTesla's total gross pro\\u0000t grew 7% to $4.53 billion in the second quarter. Meanwhile,\\n\\ntotal gross margins came in at 18.2%, down from 19.3% in Q1 and a decline of 682\\n\\nbasis points vs. last year. Auto gross margins, excluding regulatory credits and\\n\\nleases, came in at 18.1%, down from 18.3% in Q1.\\n\\nThat is below the 20% gross margin \\\"\\u0000oor\\\" Tesla previously targeted. Ahead of\\n\\nearnings, a slew of analysts rang warning bells on gross margins.\\n\\n\\\"The short-term variances in gross margins and pro\\u0000tability really are minor\\n\\nrelative to the long term picture,\\\" Chief Executive Elon Musk told investors during\\n\\nthe Q2 earnings call.\\n\\n\\\"Autonomy will make all of these numbers look silly,\\\" he added.\\n\\nStock Falls After Earnings\\n\\nHowever on July 20, TSLA tumbled 9.7% to 262.90, falling below the 21-day line\\n\\nbut only giving up July gains.\\n\\nAhead of earnings, Wood sold tranches of her \\u0000rm's Tesla stock holdings in\\n\\nconsecutive sessions, unloading more than 73,000 shares before the EV giant\\n\\nreported second-quarter \\u0000nancials.\\n\\nMorgan Stanley analyst Adam Jonas on July 24 wrote he expects Tesla's full-year\\n\\nauto gross margins to remain below 20% until 2025.\\n\\nCathie Wood sold another 20,700 shares of Tesla stock on July 25 for around $5.49\\n\\nmillion, based on the closing price of 265.28.\\n\\nTesla Stock And Musk\\n\\nThere is never a dull moment for Tesla and Musk, with the two inextricably linked.\\n\\nSince Musk took over Twitter on Oct. 28, purchasing the social media platform for\\n\\n$44 billion, some longtime Tesla stock bulls have worried Musk's focus on Twitter,\\n\\nalong with negative attention, is weighing down Tesla stock.\\n\\nMusk appeared to lessen those fears when he hired Linda Yaccarino,\\n\\nNBCUniversal's advertising chief, as the new CEO for X Corp., formerly known as\\n\\nTwitter. The Tesla chief added Yaccarino will focus on business operations while he\\n\\nwill work on product design and new technology.\\n\\nWedbush analyst Daniel Ives wrote the news ends some of the \\\"distraction risk\\n\\naround the Tesla story.\\\"\\n\\nWith TSLA shares pulling back after earnings, the top question for investors is\\n\\nalways, when is it a good time to buy or sell Tesla stock.\\n\\nTesla and Musk are betting big on the Cybertruck and autonomous vehicle\\n\\ntechnology, along with a possible tailwind from the In\\u0000ation Reduction Act (IRA).\\n\\nTesla A Monster Stock Over Much Of Its History\\n\\nAlmost single-handedly, Musk has turned the auto industry on its head, essentially\\n\\nforcing it to get aboard the electric-vehicle train.\\n\\nIt's a reason why Tesla has been a monster stock over much of its history, especially\\n\\nduring its stratospheric run from mid-2019 to late 2021. The stock hit a bear\\n\\nmarket low of 101.84 on Jan. 6, but roared back until Q1 earnings.\\n\\nOn April 19, Tesla reported a big \\u0000rst-quarter earnings decline while revenue\\n\\nmissed views. Pro\\u0000t margins for the global EV giant also fell below 20% as the\\n\\ncompany executed an aggressive price-slashing strategy in the \\u0000rst part of 2023.\\n\\nTesla reported revenue increasing 24% to $23.33 billion with EPS of 85 cents, a\\n\\n20% decline compared to 2022.\\n\\nThe EV company's total gross pro\\u0000t came in at $4.5 billion, with Tesla's pro\\u0000t gross\\n\\nmargin at 19.3%, down from 23.8% in Q4 and 29.1% a year earlier.\\n\\nTesla's Global Price Cutting Strategy\\n\\nTesla has slashed prices worldwide multiple times in 2023, starting in January and\\n\\ncontinuing into April. The only exception is China, where Tesla cut prices\\n\\nsigni\\u0000cantly in late October before the reductions in early January.\\n\\nOn April 14, Tesla reduced prices in several European markets. Tesla also dropped\\n\\nthe price of its electric vehicles in Israel and Singapore in order to increase demand,\\n\\nexpanding a worldwide discount push that began in China in January.\\n\\nThe global EV maker also signi\\u0000cantly reduced prices in the U.S. and Europe on Jan.\\n\\n13, then reduced European prices again in early March.\\n\\nIn Germany, Tesla lowered the price of its Model 3 and Model Y vehicles by between\\n\\n4.5% and 9.8%, while it cut prices of the Model 3 and Model Y vehicles in Singapore\\n\\nbetween 4.3% and 5%.\\n\\nHowever, more recently Tesla raised Model S and Model X vehicle prices in China\\n\\nby around $2,750. That follows a $290 price hike in China on the Model 3 and\\n\\nModel Y. The global EV giant also increased prices on its two popular vehicles in\\n\\nother markets including the U.S.\\n\\nTesla Stock: Betting On Autonomous Vehicles And The Cybertruck\\n\\nMusk has long touted Tesla's Full Self-Driving (FSD) technology and the potential\\n\\nvalue it brings to the brand.\\n\\nThe Tesla CEO told investors during the Q1 earnings call the \\\"value of a car that is\\n\\nautonomous is enormous.\\\"\\n\\nMusk also stressed that improvements in the FSD beta are \\\"really quite dramatic.\\\"\\n\\n\\\"The trend is very clearly toward full autonomy, and I hesitate to say this, but I think\\n\\nwe'll do it this year,\\\" Musk said, referring to self-driving vehicles.\\n\\nMeanwhile, Musk has con\\u0000rmed that a Cybertruck delivery event will take place\\n\\nlater in 2023.\\n\\nTesla reported in its Q2 \\u0000nancials the Cybertruck \\\"remains on track to begin initial\\n\\nproduction later this year at Gigafactory Texas.\\\" However, the EV giant added it is\\n\\n\\\"testing Cybertruck vehicles around the world for \\u0000nal certi\\u0000cation and validation.\\\"\\n\\n\\\"We can't wait to start delivering it later this year,\\\" Musk told investors Wednesday,\\n\\nreferring to the Cybertruck.\\n\\nOn July 15, Tesla tweeted a photo of the \\u0000rst Tesla Cybertruck made at its Austin\\n\\nplant. Tesla stock responded jumping 3.2%.\\n\\nThe company also said it continues to \\\"make progress\\\" on its next generation\\n\\nplatform. Since the Tesla investor day in early March, the company has remained\\n\\nmostly silent on its next generation vehicle, to be produced at its new plant in\\n\\nMexico. At the annual shareholder meeting, Tesla unveiled a vehicle silhouette.\\n\\nThe Long-Awaited Semi Hauler Unveiled\\n\\nIn early December, Tesla unveiled its long-awaited Semi, an 18-wheel, long-haul\\n\\nelectric freight truck, \\u0000ve years after it was \\u0000rst announced. However, in March,\\n\\nTesla ordered a voluntary recall of 35 Semi trucks due to a parking brake issue.\\n\\nTesla began delivering its long-haul Semi trucks to PepsiCo (PEP) in December.\\n\\nFurther, Musk has indicated there are plans to build out a charging network for\\n\\nlong-haul trucks.\\n\\nMusk did not specify how much the eighteen-wheeler costs. The Semi is capable of\\n\\ntraveling an estimated 500 miles per charge. It can accelerate from zero to 60 in 20\\n\\nseconds, Tesla says. The company expects to ramp production over the next year\\n\\nand aims to deliver 50,000 units in 2024.\\n\\nBefore the recall, PepsiCo planned to deploy 36 Tesla Semi trucks, with 15 in\\n\\nModesto and 21 in Sacramento.\\n\\nPepsi placed its order for 100 EVs when the Semi was \\u0000rst announced in 2017.\\n\\nTesla is currently under investigation by National Highway Traf\\u0000c Safety\\n\\nAdministration over possible seat belt failures. Regulators are also probing the EV\\n\\ngiant over steering-wheel issues and driver-assistance concerns.\\n\\nIs Tesla Stock A Buy?\\n\\nTSLA stock is greatly extended from a cup base with a 207.79 buy point. Shares\\n\\nhave climbed 118% so far in 2023, according to Leaderboard analysis. After the\\n\\npullback on Q2 earnings, TSLA is up around 3% in July.\\n\\nNow Tesla is working on a deeper cup base going back to September 2022 with a\\n\\n313.80 buy point.\\n\\nTesla (TSLA)\\n\\n$251.41 2.45 0.97%\\n\\n25\\n\\n09\\n\\n23\\n\\n06\\n\\n20\\n\\n03 Feb\\n\\n17\\n\\n03 Mar\\n\\n17\\n\\n31 Apr\\n\\n14\\n\\n28 May\\n\\n12\\n\\n26\\n\\n09\\n\\n23\\n\\n07\\n\\nDec\\n\\nJan\\n\\nJun\\n\\nJul\\n\\n08/07/2023 (Market Close)\\n\\nTechnically, Tesla now has a handle on a weekly chart, offering 299.29 buy point.\\n\\nBut a slightly deeper pullback or pause could create a meaningful handle. That\\n\\nhandle could end up developing into a new base with the broader consolidation.\\n\\nAn extended handle or new base would offer more time for moving averages to\\n\\ncatch up to the TSLA stock price.\\n\\nTesla stock ranks third in IBD's automaker industry group. It has a 98 Composite\\n\\nRating out of 99. Tesla has a 95 Relative Strength Rating and its EPS Rating is 94\\n\\nout of 99.\\n\\nThe market status is showing a \\\"con\\u0000rmed uptrend.\\\" However, Tesla stock is greatly\\n\\nextended from a cup base and TSLA is not a buy right now.\\n\\nYOU MAY ALSO LIKE:\\n\\nGet An Edge In The Stock Market With IBD Digital\\n\\nLabor Unions Keep The Heat On Starbucks And Amazon\\n\\nTesla Signals IRA Tax Credit Reduction For Model 3\\n\\nFed, Big Earnings Loom; Tesla Downgraded\\n\\nRESEARCH\\n\\nIs Microsoft Stock A Buy As Software Giant Touts Arti\\u0000cial Intelligence?\\n\\nPATRICK SEITZ 08:15 AM ET 05/08/2023\\n\\nS oftware giant Microsoft (MSFT) has earned plaudits for its successful pivot\\n\\nfrom desktop computing to cloud computing. And MSFT stock has risen as a result.\\n\\nBut after a recent surge, many investors may be wondering: Is Microsoft stock a buy\\n\\nright now?\\n\\nBill Gates and Paul Allen started Microsoft in 1975 at the dawn of the personal\\n\\ncomputer era to make PC operating system software. The company's Windows\\n\\noperating system came to dominate the PC landscape. Microsoft expanded over the\\n\\nyears into productivity software, server software, internet services, video games,\\n\\nand PC hardware and accessories.\\n\\nCurrent Chief Executive Satya Nadella took the reins of the Redmond, Wash.-based\\n\\ncompany in 2014 and led Microsoft full steam into cloud computing. Recently, he\\n\\nhas been promoting the company's advances in arti\\u0000cial intelligence.\\n\\nThe company's cloud offerings today include Azure infrastructure services, Of\\u0000ce\\n\\n365 productivity software and Dynamics enterprise software. Also, Microsoft owns\\n\\nLinkedIn, Skype and GitHub.\\n\\nMicrosoft Trails Amazon In Cloud Computing\\n\\nMicrosoft is gaining on Amazon.com's (AMZN) Amazon Web Services in the market\\n\\nfor cloud infrastructure services.\\n\\nIn the \\u0000rst quarter, Amazon Web Services had 32% market share, according to\\n\\nresearch \\u0000rm Canalys. Microsoft was in second place with 23% market share. And\\n\\nAlphabet (GOOGL) unit Google Cloud Platform was a distant third with 9% market\\n\\nshare.\\n\\nOverall enterprise spending on cloud infrastructure services reached $66.4 billion\\n\\nin the \\u0000rst quarter, up 19% year over year, Canalys said.\\n\\nMSFT Stock News: OpenAI Partnership\\n\\nMicrosoft lately has been promoting its efforts to infuse arti\\u0000cial intelligence into\\n\\nits software and services.\\n\\nOn Jan. 23, Microsoft announced a new investment, reportedly worth $10 billion, in\\n\\narti\\u0000cial intelligence startup OpenAI. OpenAI is the organization behind text\\n\\ngenerator ChatGPT and image generator Dall-E. Microsoft previously had invested\\n\\nin OpenAI in 2019 and 2021.\\n\\nMicrosoft is providing its Azure cloud computing infrastructure for OpenAI. It also\\n\\nis adding OpenAI models to its consumer and enterprise software products.\\n\\nOn Feb. 7, Microsoft showed off its new Bing search engine and Edge web browser\\n\\nthat use AI technology. Microsoft hopes the OpenAI-based technology can help\\n\\nBing chip away at Google's dominance in the internet search market. MSFT stock\\n\\njumped 4.2% on the news.\\n\\nOn March 16, Microsoft announced that it is adding arti\\u0000cial intelligence tools to its\\n\\npopular Of\\u0000ce productivity applications. It introduced a feature called Microsoft\\n\\n365 Copilot. The Copilot feature uses next-generation AI to automate and simplify\\n\\ntasks and provide suggestions. Microsoft stock surged on the news.\\n\\nOn March 28, Microsoft added AI to its cybersecurity offerings. It launched\\n\\nMicrosoft Security Copilot, a new tool for enterprises to quickly detect and\\n\\nrespond to threats and better understand the threat landscape.\\n\\nActivision Blizzard Acquisition Stalled\\n\\nMeanwhile, Microsoft's proposed acquisition of video game publisher Activision\\n\\nBlizzard (ATVI) is facing challenges from antitrust regulators.\\n\\nMicrosoft announced a deal to buy Activision in January 2022 for $68.7 billion in\\n\\ncash. Microsoft said the Activision purchase will accelerate the growth of its\\n\\ngaming business and provide building blocks for the coming metaverse. But\\n\\nMicrosoft stock fell 2.4% on the news.\\n\\nOn Dec. 8, the Federal Trade Commission \\u0000led an antitrust lawsuit to block\\n\\nMicrosoft's purchase of Activision. Microsoft is \\u0000ghting the lawsuit.\\n\\nAnd on April 26, the U.K.'s Competition and Markets Authority blocked the deal\\n\\nover concerns that it would harm competition in the cloud gaming market.\\n\\nMicrosoft vowed to appeal the ruling.\\n\\nMicrosoft Stock Fundamental Analysis\\n\\nLate on April 25, Microsoft reported better-than-expected results for the March\\n\\nquarter and guided higher for the current period. MSFT stock jumped 7.2% in the\\n\\nnext trading session after the report.\\n\\nMicrosoft earned $2.45 a share on sales of $52.9 billion in its \\u0000scal third quarter\\n\\nended March 31. Analysts polled by FactSet had expected earnings of $2.24 a share\\n\\non sales of $51 billion. On a year-over-year basis, Microsoft earnings rose 10%\\n\\nwhile sales advanced 7%.\\n\\nFor the current quarter, Microsoft forecast revenue of $54.85 billion to $55.85\\n\\nbillion. The midpoint of $55.35 billion was above Wall Street's consensus target of\\n\\n$54.7 billion for the June quarter.\\n\\nThe next major catalyst for Microsoft stock could be the company's June-quarter\\n\\nearnings report, due in late July.\\n\\nMSFT Stock Technical Analysis\\n\\nAfter hitting a record high of 349.67 in November 2021, Microsoft stock had a\\n\\nsteady decline through 2022. But it has perked up this year.\\n\\nMicrosoft stock has a good IBD Relative Strength Rating of 92 out of 99. The best\\n\\ngrowth stocks typically have RS Ratings of at least 80. The Relative Strength rating\\n\\nshows how a stock's price performance stacks up against all other stocks over the\\n\\nlast 52 weeks.\\n\\nThe IBD Stock Checkup tool gives MSFT stock an IBD Composite Rating of 97 out\\n\\nof 99. IBD's Composite Rating combines \\u0000ve separate proprietary rankings into one\\n\\neasy-to-use number. The best growth stocks have a Composite Rating of 90 or\\n\\nbetter.\\n\\nAlso, Microsoft ranks \\u0000rst out of six stocks in IBD's Computer Software-Desktop\\n\\nindustry group. The desktop software group ranks No. 20 out of 197 industry\\n\\ngroups that IBD tracks. Choosing highly rated stocks from leading industry groups\\n\\nin a con\\u0000rmed stock market uptrend generally increases your chances of making\\n\\npro\\u0000ts in growth stocks.\\n\\nMicrosoft stock is in the IBD Long-Term Leaders Portfolio.\\n\\nPlus, Microsoft ranked \\u0000rst on IBD's 2021 list of ESG stocks for investors investors\\n\\nfocused on environmental, social and governance issues.\\n\\nIs Microsoft Stock A Buy Right Now?\\n\\nMicrosoft stock is not a buy right now. It is extended from its recent breakout.\\n\\nOn March 17, MSFT stock broke out of a \\u0000at base at a buy point of 276.86,\\n\\naccording to IBD MarketSmith charts. The 5% buy zone from\\n\\nMicrosoft's breakout runs from 276.86 to 290.70, based on IBD trading principles.\\n\\nMSFT stock ended the regular session May 5 at 310.65.\\n\\nMicrosoft needs to form a new base in the right market conditions before setting a\\n\\npotential buy point. Check out IBD's Big Picture column for the current market\\n\\ndirection.\\n\\nMicrosoft stock has an IBD Accumulation/Distribution Rating of B+. That rating\\n\\nindicates institutional buying of MSFT stock.\\n\\nKeep an eye on the overall stock market. If the market turns south, don't try to\\n\\n\\u0000ght the general stock market direction.\\n\\nTo \\u0000nd the best stocks to buy or watch, check out IBD Stock Lists. Also consult\\n\\nIBD's Leaderboard, MarketSmith and SwingTrader platforms.\\n\\nFollow Patrick Seitz on Twitter at @IBD_PSeitz for more stories on consumer technology,\\n\\nsoftware and semiconductor stocks.\\n\\nYOU MAY ALSO LIKE:\\n\\nIs Apple Stock A Buy Right Now? Here's What IBD Charts Show\\n\\nIs Net\\u0000ix Stock A Buy Right Now? Here's What IBD Charts Show\\n\\nLearn How To Time The Market With IBD's ETF Market Strategy\\n\\nBest Growth Stocks To Buy And Watch: See Updates To IBD Stock Lists\\n\\nJoin IBD Live For Stock Ideas Each Morning Before The Open\\n\\nTECHNOLOGY\\n\\nIs Amazon Stock A Buy As It Restructures Workforce In Tough Times?\\n\\nBRIAN DEAGON 03:03 PM ET 04/14/2023\\n\\nF or years, Amazon seemed invincible, an e-commerce giant that made other\\n\\ncompanies shiver when it muscled into their markets. It helped Amazon stock soar\\n\\ninto four-digit territory, and the company's earnings reports often delighted\\n\\ninvestors.\\n\\nNow, after a year of troubling earnings reports, Amazon has launched a major\\n\\nrestructuring, including plans to cut 27,000 employees from its workforce. Is\\n\\nAmazon stock a buy?\\n\\nIn late March, Amazon announced plans to slash 9,000 jobs. That's on top of the\\n\\n18,000 job cuts it announced in January.\\n\\n\\\"Given the uncertain economy in which we reside, and the uncertainty that exists in\\n\\nthe near future, we have chosen to be more streamlined in our costs and head\\n\\ncount,\\\" Amazon Chief Executive Andy Jassy said in a written notice to employees\\n\\nwhen the layoffs were announced. He also suggested more layoffs are possible. The\\n\\ncuts mainly focus on Amazon Web Services, advertising, Twitch, human resources\\n\\nand its stores divisions.\\n\\nAmazon Jumps Into Arti\\u0000cial Intelligence\\n\\nOn April 13, Amazon jumped into the booming \\u0000eld of generative arti\\u0000cial\\n\\nintelligence, the technology behind ChatGPT. Amazon stock climbed on the news,\\n\\nas did other AI companies.\\n\\nAlphabet and Microsoft (MSFT) previously announced plans to bring ChatGPT to\\n\\nthe public. Meanwhile, Amazon's cloud computing unit, Amazon Web Services,\\n\\nplans to target corporate customers.\\n\\nAWS will also expand access to custom-made chips. They say the chips can run AI\\n\\nsoftware more ef\\u0000ciently and cheaper than competitors can.\\n\\n\\\"Machine learning has been a technology with high promise for several decades. But\\n\\nit's only been the last \\u0000ve to 10 years that it's started to be used more pervasively\\n\\nby companies,\\\" Chief Executive Andy Jassy said in his letter to shareholders.\\n\\nMachine learning is a form of arti\\u0000cial intelligence.\\n\\nJassy went on to say: \\\"We will continue to invest substantially in these models\\n\\nacross all of our consumer, seller, brand and creator experience.\\\"\\n\\nThe three largest cloud computing companies, AWS, Microsoft and Google, have\\n\\nmoved AI development to the top of their to-do list. Each is trying to capitalize on\\n\\nthe booming interest in arti\\u0000cial intelligence technology.\\n\\nA Heightened Focus On Cost Savings\\n\\nAfter the second round of job cuts, Arun Sundaram, senior equity analyst at CFRA,\\n\\nmaintained a buy rating on Amazon stock.\\n\\n\\\"While some may view these job cuts as a sign of a gloomier macro outlook,\\n\\nespecially as it relates to cloud computing and digital advertising, we believe\\n\\ninvestors will appreciate Amazon's heightened focus on cost savings and free cash\\n\\n\\u0000ow,\\\" Sundaram wrote in a note to clients.\\n\\nThe most recent layoff announcements, in March, came after Amazon announced\\n\\nfourth-quarter results on Feb. 2. The company beat on revenue but missed on\\n\\nearnings, as its typically strong cloud computing unit failed to rescue the e-\\n\\ncommerce giant.\\n\\nThe cloud unit showed that revenue decelerated. AWS sales jumped 20% to $21.4\\n\\nbillion, but that was below expectations and a deceleration from 27% growth in the\\n\\nprior quarter\\n\\nOppenheimer analyst Jason Helfstein said more cost-cutting efforts are needed.\\n\\n\\\"We believe more layoffs are necessary for e-commerce to become meaningfully\\n\\npro\\u0000table,\\\" he said in his note to clients.\\n\\nAmazon Continues Push Into Health Care\\n\\nIn late February, Amazon completed its $3.9 billion acquisition of One Medical,\\n\\ngiving it a primary health care provider with in-person and virtual treatment as well\\n\\nas lab tests and programs for preventive care.\\n\\n\\\"We're on a mission to make it dramatically easier for people to \\u0000nd, choose, afford\\n\\nand engage with the services, products, and professionals they need to get and stay\\n\\nhealthy,\\\" said Neil Lindsay, senior vice president of Amazon Health Services, in a\\n\\nwritten statement with the Amazon news release.\\n\\nAmazon has made several forays into the health care market. In 2018 Amazon paid\\n\\nabout $1 billion to acquire PillPack. That gave Amazon the ability to ship\\n\\nprescriptions around the country, making it a direct threat to the more than $400\\n\\nbillion pharmacy business.\\n\\nAmazon has long-held ambitions to greatly simplify how consumers receive health\\n\\ncare, but it remains a lofty goal that has yet to emerge as a moneymaking venture.\\n\\nTechnical Analysis Of Amazon Stock\\n\\nIn the stock market, timing is critical. So when you're looking for stocks to buy or\\n\\nsell, it's important to do the fundamental and technical analysis that identi\\u0000es\\n\\nlower-risk entry points that also offer solid potential rewards.\\n\\nThe IBD Stock Checkup tool shows that Amazon stock has a weak IBD Composite\\n\\nRating of 36 out of 99. When choosing growth stocks for the biggest potential,\\n\\nbased on technical and fundamental criteria, try to focus on those with a\\n\\nComposite Rating of 90 or higher.\\n\\nAmazon's Relative Strength Rating now stands at 32 out of 99. Ideally, look for\\n\\nstocks with a rating of 80 or higher.\\n\\nIs Amazon Stock A Buy?\\n\\nAMZN is not a buy at this time. It's still in a long-term downtrend but has been\\n\\nrecovering since it hit a low at the start of the year.\\n\\nAMZN stock is now forming a cup base with a 114.10 buy point, and the price\\n\\naction is so far pretty smooth.\\n\\nEven if Amazon breaks out, it has a mountain to climb back. Overhead supply could\\n\\nretard any advance AMZN tries in the next several months.\\n\\nThe stock continues to hit resistance at the 200-day line, which has been a\\n\\nresistance level for about a year. Amazon is currently sitting on its 50-day line.\\n\\nFalling below that would be reason for caution. But holding above it and then\\n\\npiercing through the 200-day line and holding would be a positive sign.\\n\\nRecognizing stock chart patterns is one key to the investment guidelines. IBD offers\\n\\na broad range of growth stock lists, such as Leaderboard and SwingTrader.\\n\\nInvestors also can create watchlists, \\u0000nd companies nearing a buy point, or develop\\n\\ncustom screens at IBD MarketSmith.\\n\\nIf you're interested in buying large-cap stocks, in these articles you'll \\u0000nd technical\\n\\nanalysis of leading large caps to see if they are in or near a proper buy zone.\\n\\nPlease follow Brian Deagon on Twitter at @IBD_BDeagon for more on tech stocks,\\n\\nanalysis and \\u0000nancial markets.\\n\\nYOU MIGHT ALSO LIKE:\\n\\nAmazon Makes Its Swan Dive Into ChatGPT Arti\\u0000cial Intelligence Pool\\n\\nNo Silver Lining In Amazon's Cloud Business As Results Fail To Excite\\n\\nAmazon's Alexa Smart Speaker Blazed A Trail, Then Burned Out\\n\\nLooking For Market Insights? Check Out Our IBD Live Daily Segment\\n\\nJoin IBD Live Each Morning For Stock Tips Before The Open\\n</ctx>\\n------\\nwhat are the pros and cons of investing in meta stock over nvidia stock\\nAnswer:\"\n",
      "  ]\n",
      "}\n"
     ]
    },
    {
     "name": "stdout",
     "output_type": "stream",
     "text": [
      "\u001b[36;1m\u001b[1;3m[llm/end]\u001b[0m \u001b[1m[1:chain:ConversationalRetrievalChain > 3:chain:StuffDocumentsChain > 4:chain:LLMChain > 5:llm:AzureOpenAI] [14.94s] Exiting LLM run with output:\n",
      "\u001b[0m{\n",
      "  \"generations\": [\n",
      "    [\n",
      "      {\n",
      "        \"text\": \" Meta stock has rallied 170% so far in 2023, second only to Nvidia (NVDA) in the S&P 500. Investors have good reason to be excited about the outlook, and there are some potential near-term catalysts that might continue to fuel Meta stock. The company is hosting a Sept. 27 conference to reveal more about its AI and metaverse initiatives. The event will feature the launch of Meta's new Quest 3 mixed reality headset. Still, it wouldn't be surprising to see Meta stock's fantastic run take a breather. While there are definitely reasons to be excited about the impact of generative AI on Meta results, that's more of a long-term story. A closer look at the earnings turnaround also suggests Meta's earnings momentum may be somewhat less than meets the eye. That's only partly because of ongoing expenses on the metaverse that won't pay off anytime soon. Regulation also continues to pose risks. Nvidia, on the other hand, is a giant in data centers and gaming, and it continues to sizzle. The chip giant is seen as one of the biggest winners of the AI boom. Semiconductors and AI are two of the hottest areas in tech, and Nvidia is a leader in both. Nvidia's EPS Rating is 68 out of 99 and its SMR Rating is a B, on a scale of A to a worst E. The EPS rating compares a company's earnings growth to other stocks. Its SMR Rating gauges sales growth, profit margins and return on equity. On May 24, the chip giant delivered a big beat-and-raise report. The Nvidia earnings report included a bullish, AI-fueled sales forecast. The Santa Clara, Calif.-based company earned $1.09 a share on sales of $7.19 billion in the quarter ended April 30. Year over year, Nvidia earnings dropped 20% while sales fell 13%. But the results easily outpaced Wall Street's expectations. In Q1, data-center sales rose 14% to $4.28 billion. Gaming-chip sales fell 38% to $2.24 billion. Analysts expect Nvidia earnings per share to rebound 138% in fiscal 2024, on a 61% sales gain. Last year, Nvidia earnings fell 25%. Its next quarterly report is expected on Aug. 23. Out of 50 analysts covering NVDA stock, 43 rate it a buy. Six have a hold and one has a sell, according to Fact\",\n",
      "        \"generation_info\": {\n",
      "          \"finish_reason\": \"length\",\n",
      "          \"logprobs\": null\n",
      "        }\n",
      "      }\n",
      "    ]\n",
      "  ],\n",
      "  \"llm_output\": {\n",
      "    \"token_usage\": {\n",
      "      \"completion_tokens\": 512,\n",
      "      \"prompt_tokens\": 9558,\n",
      "      \"total_tokens\": 10070\n",
      "    },\n",
      "    \"model_name\": \"text-davinci-002\"\n",
      "  },\n",
      "  \"run\": null\n",
      "}\n",
      "\u001b[36;1m\u001b[1;3m[chain/end]\u001b[0m \u001b[1m[1:chain:ConversationalRetrievalChain > 3:chain:StuffDocumentsChain > 4:chain:LLMChain] [14.94s] Exiting Chain run with output:\n",
      "\u001b[0m{\n",
      "  \"text\": \" Meta stock has rallied 170% so far in 2023, second only to Nvidia (NVDA) in the S&P 500. Investors have good reason to be excited about the outlook, and there are some potential near-term catalysts that might continue to fuel Meta stock. The company is hosting a Sept. 27 conference to reveal more about its AI and metaverse initiatives. The event will feature the launch of Meta's new Quest 3 mixed reality headset. Still, it wouldn't be surprising to see Meta stock's fantastic run take a breather. While there are definitely reasons to be excited about the impact of generative AI on Meta results, that's more of a long-term story. A closer look at the earnings turnaround also suggests Meta's earnings momentum may be somewhat less than meets the eye. That's only partly because of ongoing expenses on the metaverse that won't pay off anytime soon. Regulation also continues to pose risks. Nvidia, on the other hand, is a giant in data centers and gaming, and it continues to sizzle. The chip giant is seen as one of the biggest winners of the AI boom. Semiconductors and AI are two of the hottest areas in tech, and Nvidia is a leader in both. Nvidia's EPS Rating is 68 out of 99 and its SMR Rating is a B, on a scale of A to a worst E. The EPS rating compares a company's earnings growth to other stocks. Its SMR Rating gauges sales growth, profit margins and return on equity. On May 24, the chip giant delivered a big beat-and-raise report. The Nvidia earnings report included a bullish, AI-fueled sales forecast. The Santa Clara, Calif.-based company earned $1.09 a share on sales of $7.19 billion in the quarter ended April 30. Year over year, Nvidia earnings dropped 20% while sales fell 13%. But the results easily outpaced Wall Street's expectations. In Q1, data-center sales rose 14% to $4.28 billion. Gaming-chip sales fell 38% to $2.24 billion. Analysts expect Nvidia earnings per share to rebound 138% in fiscal 2024, on a 61% sales gain. Last year, Nvidia earnings fell 25%. Its next quarterly report is expected on Aug. 23. Out of 50 analysts covering NVDA stock, 43 rate it a buy. Six have a hold and one has a sell, according to Fact\"\n",
      "}\n",
      "\u001b[36;1m\u001b[1;3m[chain/end]\u001b[0m \u001b[1m[1:chain:ConversationalRetrievalChain > 3:chain:StuffDocumentsChain] [14.94s] Exiting Chain run with output:\n",
      "\u001b[0m{\n",
      "  \"output_text\": \" Meta stock has rallied 170% so far in 2023, second only to Nvidia (NVDA) in the S&P 500. Investors have good reason to be excited about the outlook, and there are some potential near-term catalysts that might continue to fuel Meta stock. The company is hosting a Sept. 27 conference to reveal more about its AI and metaverse initiatives. The event will feature the launch of Meta's new Quest 3 mixed reality headset. Still, it wouldn't be surprising to see Meta stock's fantastic run take a breather. While there are definitely reasons to be excited about the impact of generative AI on Meta results, that's more of a long-term story. A closer look at the earnings turnaround also suggests Meta's earnings momentum may be somewhat less than meets the eye. That's only partly because of ongoing expenses on the metaverse that won't pay off anytime soon. Regulation also continues to pose risks. Nvidia, on the other hand, is a giant in data centers and gaming, and it continues to sizzle. The chip giant is seen as one of the biggest winners of the AI boom. Semiconductors and AI are two of the hottest areas in tech, and Nvidia is a leader in both. Nvidia's EPS Rating is 68 out of 99 and its SMR Rating is a B, on a scale of A to a worst E. The EPS rating compares a company's earnings growth to other stocks. Its SMR Rating gauges sales growth, profit margins and return on equity. On May 24, the chip giant delivered a big beat-and-raise report. The Nvidia earnings report included a bullish, AI-fueled sales forecast. The Santa Clara, Calif.-based company earned $1.09 a share on sales of $7.19 billion in the quarter ended April 30. Year over year, Nvidia earnings dropped 20% while sales fell 13%. But the results easily outpaced Wall Street's expectations. In Q1, data-center sales rose 14% to $4.28 billion. Gaming-chip sales fell 38% to $2.24 billion. Analysts expect Nvidia earnings per share to rebound 138% in fiscal 2024, on a 61% sales gain. Last year, Nvidia earnings fell 25%. Its next quarterly report is expected on Aug. 23. Out of 50 analysts covering NVDA stock, 43 rate it a buy. Six have a hold and one has a sell, according to Fact\"\n",
      "}\n",
      "\u001b[36;1m\u001b[1;3m[chain/end]\u001b[0m \u001b[1m[1:chain:ConversationalRetrievalChain] [15.28s] Exiting Chain run with output:\n",
      "\u001b[0m{\n",
      "  \"answer\": \" Meta stock has rallied 170% so far in 2023, second only to Nvidia (NVDA) in the S&P 500. Investors have good reason to be excited about the outlook, and there are some potential near-term catalysts that might continue to fuel Meta stock. The company is hosting a Sept. 27 conference to reveal more about its AI and metaverse initiatives. The event will feature the launch of Meta's new Quest 3 mixed reality headset. Still, it wouldn't be surprising to see Meta stock's fantastic run take a breather. While there are definitely reasons to be excited about the impact of generative AI on Meta results, that's more of a long-term story. A closer look at the earnings turnaround also suggests Meta's earnings momentum may be somewhat less than meets the eye. That's only partly because of ongoing expenses on the metaverse that won't pay off anytime soon. Regulation also continues to pose risks. Nvidia, on the other hand, is a giant in data centers and gaming, and it continues to sizzle. The chip giant is seen as one of the biggest winners of the AI boom. Semiconductors and AI are two of the hottest areas in tech, and Nvidia is a leader in both. Nvidia's EPS Rating is 68 out of 99 and its SMR Rating is a B, on a scale of A to a worst E. The EPS rating compares a company's earnings growth to other stocks. Its SMR Rating gauges sales growth, profit margins and return on equity. On May 24, the chip giant delivered a big beat-and-raise report. The Nvidia earnings report included a bullish, AI-fueled sales forecast. The Santa Clara, Calif.-based company earned $1.09 a share on sales of $7.19 billion in the quarter ended April 30. Year over year, Nvidia earnings dropped 20% while sales fell 13%. But the results easily outpaced Wall Street's expectations. In Q1, data-center sales rose 14% to $4.28 billion. Gaming-chip sales fell 38% to $2.24 billion. Analysts expect Nvidia earnings per share to rebound 138% in fiscal 2024, on a 61% sales gain. Last year, Nvidia earnings fell 25%. Its next quarterly report is expected on Aug. 23. Out of 50 analysts covering NVDA stock, 43 rate it a buy. Six have a hold and one has a sell, according to Fact\"\n",
      "}\n"
     ]
    }
   ],
   "source": [
    "question = \"what are the pros and cons of investing in meta stock over nvidia stock\"\n",
    "results = qna_chain({\"question\": question})"
   ]
  },
  {
   "cell_type": "code",
   "execution_count": 39,
   "id": "4b51312f",
   "metadata": {},
   "outputs": [
    {
     "name": "stdout",
     "output_type": "stream",
     "text": [
      " Meta stock has rallied 170% so far in 2023, second only to Nvidia (NVDA) in the S&P 500. Investors have good reason to be excited about the outlook, and there are some potential near-term catalysts that might continue to fuel Meta stock. The company is hosting a Sept. 27 conference to reveal more about its AI and metaverse initiatives. The event will feature the launch of Meta's new Quest 3 mixed reality headset. Still, it wouldn't be surprising to see Meta stock's fantastic run take a breather. While there are definitely reasons to be excited about the impact of generative AI on Meta results, that's more of a long-term story. A closer look at the earnings turnaround also suggests Meta's earnings momentum may be somewhat less than meets the eye. That's only partly because of ongoing expenses on the metaverse that won't pay off anytime soon. Regulation also continues to pose risks. Nvidia, on the other hand, is a giant in data centers and gaming, and it continues to sizzle. The chip giant is seen as one of the biggest winners of the AI boom. Semiconductors and AI are two of the hottest areas in tech, and Nvidia is a leader in both. Nvidia's EPS Rating is 68 out of 99 and its SMR Rating is a B, on a scale of A to a worst E. The EPS rating compares a company's earnings growth to other stocks. Its SMR Rating gauges sales growth, profit margins and return on equity. On May 24, the chip giant delivered a big beat-and-raise report. The Nvidia earnings report included a bullish, AI-fueled sales forecast. The Santa Clara, Calif.-based company earned $1.09 a share on sales of $7.19 billion in the quarter ended April 30. Year over year, Nvidia earnings dropped 20% while sales fell 13%. But the results easily outpaced Wall Street's expectations. In Q1, data-center sales rose 14% to $4.28 billion. Gaming-chip sales fell 38% to $2.24 billion. Analysts expect Nvidia earnings per share to rebound 138% in fiscal 2024, on a 61% sales gain. Last year, Nvidia earnings fell 25%. Its next quarterly report is expected on Aug. 23. Out of 50 analysts covering NVDA stock, 43 rate it a buy. Six have a hold and one has a sell, according to Fact\n"
     ]
    }
   ],
   "source": [
    "print(results['answer'])"
   ]
  },
  {
   "cell_type": "code",
   "execution_count": 457,
   "id": "c33846e4",
   "metadata": {},
   "outputs": [
    {
     "data": {
      "text/plain": [
       "ConversationSummaryBufferMemory(human_prefix='Human', ai_prefix='AI', llm=AzureOpenAI(cache=None, verbose=False, callbacks=None, callback_manager=None, tags=None, metadata=None, client=<class 'openai.api_resources.completion.Completion'>, model_name='text-davinci-002', temperature=0.0, max_tokens=512, top_p=1, frequency_penalty=0, presence_penalty=0, n=1, best_of=1, model_kwargs={'engine': 'finbot-gpt'}, openai_api_key='6cdb659e5a9d402e80c212fe8ea26483', openai_api_base='https://test-chatgpt-flomoney.openai.azure.com/', openai_organization='', openai_proxy='', batch_size=20, request_timeout=None, logit_bias={}, max_retries=6, streaming=False, allowed_special=set(), disallowed_special='all', tiktoken_model_name=None, deployment_name='', openai_api_type='azure', openai_api_version='2023-03-15-preview'), prompt=PromptTemplate(input_variables=['summary', 'new_lines'], output_parser=None, partial_variables={}, template='Progressively summarize the lines of conversation provided, adding onto the previous summary returning a new summary.\\n\\nEXAMPLE\\nCurrent summary:\\nThe human asks what the AI thinks of artificial intelligence. The AI thinks artificial intelligence is a force for good.\\n\\nNew lines of conversation:\\nHuman: Why do you think artificial intelligence is a force for good?\\nAI: Because artificial intelligence will help humans reach their full potential.\\n\\nNew summary:\\nThe human asks what the AI thinks of artificial intelligence. The AI thinks artificial intelligence is a force for good because it will help humans reach their full potential.\\nEND OF EXAMPLE\\n\\nCurrent summary:\\n{summary}\\n\\nNew lines of conversation:\\n{new_lines}\\n\\nNew summary:', template_format='f-string', validate_template=True), summary_message_cls=<class 'langchain.schema.messages.SystemMessage'>, chat_memory=ChatMessageHistory(messages=[HumanMessage(content='what are the pros and cons of nvidia stock', additional_kwargs={}, example=False), AIMessage(content='Pros:\\nNvidia is a leader in AI chips.\\nNvidia stock has skyrocketed 206% year to date.\\nNvidia earns an IBD Composite Rating of 97, out of a best-possible 99.\\nNvidia often earns a spot on the IBD 50, Big Cap 20 and Sector Leaders lists.\\nCons:\\nInvestors may want to wait for a pullback to key levels or a new base, especially with the market rally under pressure.\\nShares still aren\\'t far from the 52-week high, set on July 14.\\nNvidia\\'s EPS Rating is 68 out of 99 and its SMR Rating is a B, on a scale of A to a worst E. The EPS rating compares a company\\'s earnings growth to other stocks. Its SMR Rating gauges sales growth, profit margins and return on equity.\"\"\"\\n<|im_end|>', additional_kwargs={}, example=False), HumanMessage(content='what are the pros and cons of tesla stock', additional_kwargs={}, example=False), AIMessage(content='Nvidia stock is a buy right now, but with caveats.\"\"\"<|im_end|>', additional_kwargs={}, example=False)]), output_key=None, input_key=None, return_messages=True, max_token_limit=2000, moving_summary_buffer='', memory_key='chat_history')"
      ]
     },
     "execution_count": 457,
     "metadata": {},
     "output_type": "execute_result"
    }
   ],
   "source": [
    "qna_chain.memory"
   ]
  },
  {
   "cell_type": "code",
   "execution_count": null,
   "id": "f3574c21",
   "metadata": {},
   "outputs": [],
   "source": [
    "#######"
   ]
  },
  {
   "cell_type": "code",
   "execution_count": 31,
   "id": "c32e4e9d",
   "metadata": {},
   "outputs": [],
   "source": [
    "chunk_retriever=vectorstore.as_retriever(\n",
    "    search_type=search_type, search_kwargs=retrieval_kwargs\n",
    ")"
   ]
  },
  {
   "cell_type": "code",
   "execution_count": 32,
   "id": "ba8e05da",
   "metadata": {},
   "outputs": [],
   "source": [
    "relevant_chunks = chunk_retriever.get_relevant_documents(query=question)"
   ]
  },
  {
   "cell_type": "code",
   "execution_count": 33,
   "id": "b5e4d7a1",
   "metadata": {},
   "outputs": [],
   "source": [
    "# chunk_retriever.aget_relevant_documents(query=question)"
   ]
  },
  {
   "cell_type": "code",
   "execution_count": 35,
   "id": "c77e7470",
   "metadata": {},
   "outputs": [],
   "source": [
    "import constants as c"
   ]
  },
  {
   "cell_type": "code",
   "execution_count": 36,
   "id": "7fdd46b6",
   "metadata": {},
   "outputs": [
    {
     "ename": "AttributeError",
     "evalue": "module 'constants' has no attribute 'prompt_role'",
     "output_type": "error",
     "traceback": [
      "\u001b[0;31m---------------------------------------------------------------------------\u001b[0m",
      "\u001b[0;31mAttributeError\u001b[0m                            Traceback (most recent call last)",
      "Cell \u001b[0;32mIn[36], line 4\u001b[0m\n\u001b[1;32m      1\u001b[0m chain_prompt \u001b[38;5;241m=\u001b[39m PromptTemplate\u001b[38;5;241m.\u001b[39mfrom_file(\n\u001b[1;32m      2\u001b[0m     prompt_template_file,\n\u001b[1;32m      3\u001b[0m     input_variables\u001b[38;5;241m=\u001b[39mc\u001b[38;5;241m.\u001b[39mprompt_input_variables,\n\u001b[0;32m----> 4\u001b[0m     partial_variables\u001b[38;5;241m=\u001b[39m{\u001b[38;5;124m'\u001b[39m\u001b[38;5;124mrole\u001b[39m\u001b[38;5;124m'\u001b[39m:\u001b[43mc\u001b[49m\u001b[38;5;241;43m.\u001b[39;49m\u001b[43mprompt_role\u001b[49m}\n\u001b[1;32m      5\u001b[0m )\n",
      "\u001b[0;31mAttributeError\u001b[0m: module 'constants' has no attribute 'prompt_role'"
     ]
    }
   ],
   "source": [
    "chain_prompt = PromptTemplate.from_file(\n",
    "    prompt_template_file,\n",
    "    input_variables=c.prompt_input_variables,\n",
    "    partial_variables={'role':c.prompt_role}\n",
    ")"
   ]
  },
  {
   "cell_type": "code",
   "execution_count": 37,
   "id": "1a8e6758",
   "metadata": {},
   "outputs": [],
   "source": [
    "qna_chain = RetrievalQA.from_chain_type(\n",
    "    base_llm, \n",
    "    retriever=vectorstore.as_retriever(\n",
    "        search_type=search_type, search_kwargs=retrieval_kwargs\n",
    "    ),\n",
    "    return_source_documents=True,  \n",
    "#     verbose=True,\n",
    "    chain_type_kwargs={\"prompt\": None}\n",
    ")"
   ]
  },
  {
   "cell_type": "code",
   "execution_count": 38,
   "id": "643600ae",
   "metadata": {},
   "outputs": [],
   "source": [
    "# qna_chain.verbose=True"
   ]
  },
  {
   "cell_type": "code",
   "execution_count": 39,
   "id": "8e6a3278",
   "metadata": {},
   "outputs": [
    {
     "data": {
      "text/plain": [
       "PromptTemplate(input_variables=['context', 'question'], output_parser=None, partial_variables={}, template=\"Use the following pieces of context to answer the question at the end. If you don't know the answer, just say that you don't know, don't try to make up an answer.\\n\\n{context}\\n\\nQuestion: {question}\\nHelpful Answer:\", template_format='f-string', validate_template=True)"
      ]
     },
     "execution_count": 39,
     "metadata": {},
     "output_type": "execute_result"
    }
   ],
   "source": [
    "qna_chain.combine_documents_chain.llm_chain.prompt"
   ]
  },
  {
   "cell_type": "code",
   "execution_count": 66,
   "id": "4a40ceed",
   "metadata": {},
   "outputs": [
    {
     "name": "stdout",
     "output_type": "stream",
     "text": [
      "\u001b[32;1m\u001b[1;3m[chain/start]\u001b[0m \u001b[1m[1:chain:RetrievalQA] Entering Chain run with input:\n",
      "\u001b[0m{\n",
      "  \"query\": \"what are the pros and cons of tesla stock and nvidia stock?\"\n",
      "}\n",
      "\u001b[32;1m\u001b[1;3m[chain/start]\u001b[0m \u001b[1m[1:chain:RetrievalQA > 3:chain:StuffDocumentsChain] Entering Chain run with input:\n",
      "\u001b[0m[inputs]\n",
      "\u001b[32;1m\u001b[1;3m[chain/start]\u001b[0m \u001b[1m[1:chain:RetrievalQA > 3:chain:StuffDocumentsChain > 4:chain:LLMChain] Entering Chain run with input:\n",
      "\u001b[0m{\n",
      "  \"question\": \"what are the pros and cons of tesla stock and nvidia stock?\",\n",
      "  \"context\": \"NEWS\\n\\nIs Tesla Stock A Buy Or A Sell With California's Attorney General Investigating The EV Giant?\\n\\nKIT NORTON 11:05 AM ET 07/27/2023\\n\\nT esla (TSLA) stock appears to be pulling back after second-quarter \\u0000nancials\\n\\non July 19, as investor concerns over falling gross margins seems to be outweighing\\n\\nthe global EV giant's earnings and revenue-beating numbers.\\n\\nX\\n\\n00:00\\n\\nMeanwhile, California's attorney general is investigating Tesla, seeking information\\n\\nfrom customers and former employees regarding Autopilot safety and false\\n\\nadvertising complaints, CNBC reported Wednesday.\\n\\nThis comes after Tesla reported Q2 pro\\u0000ts growing 20% to 91 cents per share while\\n\\nrevenue increased 47% to $24.93 billion. Analysts expected pro\\u0000ts to edge up\\n\\naround 4% to 80 cents per share with revenue totaling $24.22 billion, up 43%\\n\\ncompared with last year.\\n\\nTesla's total gross pro\\u0000t grew 7% to $4.53 billion in the second quarter. Meanwhile,\\n\\ntotal gross margins came in at 18.2%, down from 19.3% in Q1 and a decline of 682\\n\\nbasis points vs. last year. Auto gross margins, excluding regulatory credits and\\n\\nleases, came in at 18.1%, down from 18.3% in Q1.\\n\\nThat is below the 20% gross margin \\\"\\u0000oor\\\" Tesla previously targeted. Ahead of\\n\\nearnings, a slew of analysts rang warning bells on gross margins.\\n\\n\\\"The short-term variances in gross margins and pro\\u0000tability really are minor\\n\\nrelative to the long term picture,\\\" Chief Executive Elon Musk told investors during\\n\\nthe Q2 earnings call.\\n\\n\\\"Autonomy will make all of these numbers look silly,\\\" he added.\\n\\nStock Falls After Earnings\\n\\nHowever on July 20, TSLA tumbled 9.7% to 262.90, falling below the 21-day line\\n\\nbut only giving up July gains.\\n\\nAhead of earnings, Wood sold tranches of her \\u0000rm's Tesla stock holdings in\\n\\nconsecutive sessions, unloading more than 73,000 shares before the EV giant\\n\\nreported second-quarter \\u0000nancials.\\n\\nMorgan Stanley analyst Adam Jonas on July 24 wrote he expects Tesla's full-year\\n\\nsales gain. Last year, Nvidia earnings fell 25%.\\n\\nIts next quarterly report is expected on Aug. 23.\\n\\nOut of 50 analysts covering NVDA stock, 43 rate it a buy. Six have a hold and one\\n\\nhas a sell, according to FactSet.\\n\\nLooking For The Next Big Stock Market Winners? Start With These 3 Steps\\n\\nNVDA Backstory, Rivals\\n\\nThe fabless chipmaker pioneered graphics processing units, or GPUs, to make video\\n\\ngames more realistic. It's expanding in AI chips, used in supercomputers, data\\n\\ncenters and drug development.\\n\\nNvidia's GPUs act as accelerators for central processing units, or CPUs, made by\\n\\nother companies. It's working on \\\"supercomputers\\\" combining its own CPUs and\\n\\nGPUs.\\n\\nIn addition, Nvidia chips are used for Bitcoin mining and self-driving electric cars.\\n\\nNvidia has made a big push into metaverse applications.\\n\\nFabless chip stocks include Qualcomm (QCOM), Broadcom (AVGO) and Monolithic\\n\\nPower Systems (MPWR).\\n\\nCurrently, the fabless group ranks No. 2 out of 197 industry groups. Fabless\\n\\ncompanies design the hardware while outsourcing the manufacturing to a third-\\n\\nparty \\u0000rm.\\n\\nFor the best returns, investors should focus on companies that are leading the\\n\\nmarket and their own industry group.\\n\\nIs Nvidia Stock A Buy?\\n\\nOn a fundamental level, Nvidia earnings are expected to return to growth. They\\n\\nshould more than double this \\u0000scal year, driven by booming chip sales for data\\n\\ncenters and arti\\u0000cial intelligence.\\n\\nThe fabless chipmaker is expanding in other growth areas such as automated\\n\\nelectric cars and cloud gaming as well. The adoption of the metaverse and\\n\\ncryptocurrencies could further stoke demand for Nvidia chips.\\n\\nHowever, macroeconomic uncertainties and risk of global recession linger.\\n\\nNVDA stock has staged a massive comeback, more than tripling in 2023 so far.\\n\\nShares have reclaimed their latest follow-on entry after a retreat and are now back\\n\\nin a proper buy zone. But investors may want to wait for a pullback to key levels or a\\n\\nnew base, especially with the market rally under pressure.\\n\\nBottom line: Nvidia stock is a buy right now, but with caveats.\\n\\nAs a leading chip company with exposure to top end-markets, Nvidia is always one\\n\\nto watch.\\n\\nCheck out IBD Stock Lists and other IBD content to \\u0000nd dozens of the best stocks\\n\\nto buy or watch.\\n\\nYOU MAY ALSO LIKE:\\n\\nIs AMD Stock A Buy?\\n\\nSee The Best Stocks To Buy And Watch\\n\\nCatch The Next Big Winning Stock With MarketSmith\\n\\nJoin IBD Live And Learn Top Chart-Reading And Trading Techniques From The\\n\\nPros\\n\\nTSLA stock is greatly extended from a cup base with a 207.79 buy point. Shares\\n\\nhave climbed 118% so far in 2023, according to Leaderboard analysis. After the\\n\\npullback on Q2 earnings, TSLA is up around 3% in July.\\n\\nNow Tesla is working on a deeper cup base going back to September 2022 with a\\n\\n313.80 buy point.\\n\\nTesla (TSLA)\\n\\n$251.41 2.45 0.97%\\n\\n25\\n\\n09\\n\\n23\\n\\n06\\n\\n20\\n\\n03 Feb\\n\\n17\\n\\n03 Mar\\n\\n17\\n\\n31 Apr\\n\\n14\\n\\n28 May\\n\\n12\\n\\n26\\n\\n09\\n\\n23\\n\\n07\\n\\nDec\\n\\nJan\\n\\nJun\\n\\nJul\\n\\n08/07/2023 (Market Close)\\n\\nTechnically, Tesla now has a handle on a weekly chart, offering 299.29 buy point.\\n\\nBut a slightly deeper pullback or pause could create a meaningful handle. That\\n\\nhandle could end up developing into a new base with the broader consolidation.\\n\\nAn extended handle or new base would offer more time for moving averages to\\n\\ncatch up to the TSLA stock price.\\n\\nTesla stock ranks third in IBD's automaker industry group. It has a 98 Composite\\n\\nRating out of 99. Tesla has a 95 Relative Strength Rating and its EPS Rating is 94\\n\\nout of 99.\\n\\nThe market status is showing a \\\"con\\u0000rmed uptrend.\\\" However, Tesla stock is greatly\\n\\nextended from a cup base and TSLA is not a buy right now.\\n\\nYOU MAY ALSO LIKE:\\n\\nGet An Edge In The Stock Market With IBD Digital\\n\\nLabor Unions Keep The Heat On Starbucks And Amazon\\n\\nTesla Signals IRA Tax Credit Reduction For Model 3\\n\\nFed, Big Earnings Loom; Tesla Downgraded\\n\\nTECHNOLOGY\\n\\nIs Amazon Stock A Buy As It Restructures Workforce In Tough Times?\\n\\nBRIAN DEAGON 03:03 PM ET 04/14/2023\\n\\nF or years, Amazon seemed invincible, an e-commerce giant that made other\\n\\ncompanies shiver when it muscled into their markets. It helped Amazon stock soar\\n\\ninto four-digit territory, and the company's earnings reports often delighted\\n\\ninvestors.\\n\\nNow, after a year of troubling earnings reports, Amazon has launched a major\\n\\nrestructuring, including plans to cut 27,000 employees from its workforce. Is\\n\\nAmazon stock a buy?\\n\\nIn late March, Amazon announced plans to slash 9,000 jobs. That's on top of the\\n\\n18,000 job cuts it announced in January.\\n\\n\\\"Given the uncertain economy in which we reside, and the uncertainty that exists in\\n\\nthe near future, we have chosen to be more streamlined in our costs and head\\n\\ncount,\\\" Amazon Chief Executive Andy Jassy said in a written notice to employees\\n\\nwhen the layoffs were announced. He also suggested more layoffs are possible. The\\n\\ncuts mainly focus on Amazon Web Services, advertising, Twitch, human resources\\n\\nand its stores divisions.\\n\\nAmazon Jumps Into Arti\\u0000cial Intelligence\\n\\nOn April 13, Amazon jumped into the booming \\u0000eld of generative arti\\u0000cial\\n\\nintelligence, the technology behind ChatGPT. Amazon stock climbed on the news,\\n\\nas did other AI companies.\\n\\nAlphabet and Microsoft (MSFT) previously announced plans to bring ChatGPT to\\n\\nthe public. Meanwhile, Amazon's cloud computing unit, Amazon Web Services,\\n\\nplans to target corporate customers.\\n\\nAWS will also expand access to custom-made chips. They say the chips can run AI\\n\\nsoftware more ef\\u0000ciently and cheaper than competitors can.\\n\\n\\\"Machine learning has been a technology with high promise for several decades. But\\n\\nit's only been the last \\u0000ve to 10 years that it's started to be used more pervasively\\n\\nby companies,\\\" Chief Executive Andy Jassy said in his letter to shareholders.\\n\\nMachine learning is a form of arti\\u0000cial intelligence.\"\n",
      "}\n",
      "\u001b[32;1m\u001b[1;3m[llm/start]\u001b[0m \u001b[1m[1:chain:RetrievalQA > 3:chain:StuffDocumentsChain > 4:chain:LLMChain > 5:llm:AzureOpenAI] Entering LLM run with input:\n",
      "\u001b[0m{\n",
      "  \"prompts\": [\n",
      "    \"template=\\\"\\\"\\\"Use the following pieces of context to answer the question at the end.\\nNEWS\\n\\nIs Tesla Stock A Buy Or A Sell With California's Attorney General Investigating The EV Giant?\\n\\nKIT NORTON 11:05 AM ET 07/27/2023\\n\\nT esla (TSLA) stock appears to be pulling back after second-quarter \\u0000nancials\\n\\non July 19, as investor concerns over falling gross margins seems to be outweighing\\n\\nthe global EV giant's earnings and revenue-beating numbers.\\n\\nX\\n\\n00:00\\n\\nMeanwhile, California's attorney general is investigating Tesla, seeking information\\n\\nfrom customers and former employees regarding Autopilot safety and false\\n\\nadvertising complaints, CNBC reported Wednesday.\\n\\nThis comes after Tesla reported Q2 pro\\u0000ts growing 20% to 91 cents per share while\\n\\nrevenue increased 47% to $24.93 billion. Analysts expected pro\\u0000ts to edge up\\n\\naround 4% to 80 cents per share with revenue totaling $24.22 billion, up 43%\\n\\ncompared with last year.\\n\\nTesla's total gross pro\\u0000t grew 7% to $4.53 billion in the second quarter. Meanwhile,\\n\\ntotal gross margins came in at 18.2%, down from 19.3% in Q1 and a decline of 682\\n\\nbasis points vs. last year. Auto gross margins, excluding regulatory credits and\\n\\nleases, came in at 18.1%, down from 18.3% in Q1.\\n\\nThat is below the 20% gross margin \\\"\\u0000oor\\\" Tesla previously targeted. Ahead of\\n\\nearnings, a slew of analysts rang warning bells on gross margins.\\n\\n\\\"The short-term variances in gross margins and pro\\u0000tability really are minor\\n\\nrelative to the long term picture,\\\" Chief Executive Elon Musk told investors during\\n\\nthe Q2 earnings call.\\n\\n\\\"Autonomy will make all of these numbers look silly,\\\" he added.\\n\\nStock Falls After Earnings\\n\\nHowever on July 20, TSLA tumbled 9.7% to 262.90, falling below the 21-day line\\n\\nbut only giving up July gains.\\n\\nAhead of earnings, Wood sold tranches of her \\u0000rm's Tesla stock holdings in\\n\\nconsecutive sessions, unloading more than 73,000 shares before the EV giant\\n\\nreported second-quarter \\u0000nancials.\\n\\nMorgan Stanley analyst Adam Jonas on July 24 wrote he expects Tesla's full-year\\n\\nsales gain. Last year, Nvidia earnings fell 25%.\\n\\nIts next quarterly report is expected on Aug. 23.\\n\\nOut of 50 analysts covering NVDA stock, 43 rate it a buy. Six have a hold and one\\n\\nhas a sell, according to FactSet.\\n\\nLooking For The Next Big Stock Market Winners? Start With These 3 Steps\\n\\nNVDA Backstory, Rivals\\n\\nThe fabless chipmaker pioneered graphics processing units, or GPUs, to make video\\n\\ngames more realistic. It's expanding in AI chips, used in supercomputers, data\\n\\ncenters and drug development.\\n\\nNvidia's GPUs act as accelerators for central processing units, or CPUs, made by\\n\\nother companies. It's working on \\\"supercomputers\\\" combining its own CPUs and\\n\\nGPUs.\\n\\nIn addition, Nvidia chips are used for Bitcoin mining and self-driving electric cars.\\n\\nNvidia has made a big push into metaverse applications.\\n\\nFabless chip stocks include Qualcomm (QCOM), Broadcom (AVGO) and Monolithic\\n\\nPower Systems (MPWR).\\n\\nCurrently, the fabless group ranks No. 2 out of 197 industry groups. Fabless\\n\\ncompanies design the hardware while outsourcing the manufacturing to a third-\\n\\nparty \\u0000rm.\\n\\nFor the best returns, investors should focus on companies that are leading the\\n\\nmarket and their own industry group.\\n\\nIs Nvidia Stock A Buy?\\n\\nOn a fundamental level, Nvidia earnings are expected to return to growth. They\\n\\nshould more than double this \\u0000scal year, driven by booming chip sales for data\\n\\ncenters and arti\\u0000cial intelligence.\\n\\nThe fabless chipmaker is expanding in other growth areas such as automated\\n\\nelectric cars and cloud gaming as well. The adoption of the metaverse and\\n\\ncryptocurrencies could further stoke demand for Nvidia chips.\\n\\nHowever, macroeconomic uncertainties and risk of global recession linger.\\n\\nNVDA stock has staged a massive comeback, more than tripling in 2023 so far.\\n\\nShares have reclaimed their latest follow-on entry after a retreat and are now back\\n\\nin a proper buy zone. But investors may want to wait for a pullback to key levels or a\\n\\nnew base, especially with the market rally under pressure.\\n\\nBottom line: Nvidia stock is a buy right now, but with caveats.\\n\\nAs a leading chip company with exposure to top end-markets, Nvidia is always one\\n\\nto watch.\\n\\nCheck out IBD Stock Lists and other IBD content to \\u0000nd dozens of the best stocks\\n\\nto buy or watch.\\n\\nYOU MAY ALSO LIKE:\\n\\nIs AMD Stock A Buy?\\n\\nSee The Best Stocks To Buy And Watch\\n\\nCatch The Next Big Winning Stock With MarketSmith\\n\\nJoin IBD Live And Learn Top Chart-Reading And Trading Techniques From The\\n\\nPros\\n\\nTSLA stock is greatly extended from a cup base with a 207.79 buy point. Shares\\n\\nhave climbed 118% so far in 2023, according to Leaderboard analysis. After the\\n\\npullback on Q2 earnings, TSLA is up around 3% in July.\\n\\nNow Tesla is working on a deeper cup base going back to September 2022 with a\\n\\n313.80 buy point.\\n\\nTesla (TSLA)\\n\\n$251.41 2.45 0.97%\\n\\n25\\n\\n09\\n\\n23\\n\\n06\\n\\n20\\n\\n03 Feb\\n\\n17\\n\\n03 Mar\\n\\n17\\n\\n31 Apr\\n\\n14\\n\\n28 May\\n\\n12\\n\\n26\\n\\n09\\n\\n23\\n\\n07\\n\\nDec\\n\\nJan\\n\\nJun\\n\\nJul\\n\\n08/07/2023 (Market Close)\\n\\nTechnically, Tesla now has a handle on a weekly chart, offering 299.29 buy point.\\n\\nBut a slightly deeper pullback or pause could create a meaningful handle. That\\n\\nhandle could end up developing into a new base with the broader consolidation.\\n\\nAn extended handle or new base would offer more time for moving averages to\\n\\ncatch up to the TSLA stock price.\\n\\nTesla stock ranks third in IBD's automaker industry group. It has a 98 Composite\\n\\nRating out of 99. Tesla has a 95 Relative Strength Rating and its EPS Rating is 94\\n\\nout of 99.\\n\\nThe market status is showing a \\\"con\\u0000rmed uptrend.\\\" However, Tesla stock is greatly\\n\\nextended from a cup base and TSLA is not a buy right now.\\n\\nYOU MAY ALSO LIKE:\\n\\nGet An Edge In The Stock Market With IBD Digital\\n\\nLabor Unions Keep The Heat On Starbucks And Amazon\\n\\nTesla Signals IRA Tax Credit Reduction For Model 3\\n\\nFed, Big Earnings Loom; Tesla Downgraded\\n\\nTECHNOLOGY\\n\\nIs Amazon Stock A Buy As It Restructures Workforce In Tough Times?\\n\\nBRIAN DEAGON 03:03 PM ET 04/14/2023\\n\\nF or years, Amazon seemed invincible, an e-commerce giant that made other\\n\\ncompanies shiver when it muscled into their markets. It helped Amazon stock soar\\n\\ninto four-digit territory, and the company's earnings reports often delighted\\n\\ninvestors.\\n\\nNow, after a year of troubling earnings reports, Amazon has launched a major\\n\\nrestructuring, including plans to cut 27,000 employees from its workforce. Is\\n\\nAmazon stock a buy?\\n\\nIn late March, Amazon announced plans to slash 9,000 jobs. That's on top of the\\n\\n18,000 job cuts it announced in January.\\n\\n\\\"Given the uncertain economy in which we reside, and the uncertainty that exists in\\n\\nthe near future, we have chosen to be more streamlined in our costs and head\\n\\ncount,\\\" Amazon Chief Executive Andy Jassy said in a written notice to employees\\n\\nwhen the layoffs were announced. He also suggested more layoffs are possible. The\\n\\ncuts mainly focus on Amazon Web Services, advertising, Twitch, human resources\\n\\nand its stores divisions.\\n\\nAmazon Jumps Into Arti\\u0000cial Intelligence\\n\\nOn April 13, Amazon jumped into the booming \\u0000eld of generative arti\\u0000cial\\n\\nintelligence, the technology behind ChatGPT. Amazon stock climbed on the news,\\n\\nas did other AI companies.\\n\\nAlphabet and Microsoft (MSFT) previously announced plans to bring ChatGPT to\\n\\nthe public. Meanwhile, Amazon's cloud computing unit, Amazon Web Services,\\n\\nplans to target corporate customers.\\n\\nAWS will also expand access to custom-made chips. They say the chips can run AI\\n\\nsoftware more ef\\u0000ciently and cheaper than competitors can.\\n\\n\\\"Machine learning has been a technology with high promise for several decades. But\\n\\nit's only been the last \\u0000ve to 10 years that it's started to be used more pervasively\\n\\nby companies,\\\" Chief Executive Andy Jassy said in his letter to shareholders.\\n\\nMachine learning is a form of arti\\u0000cial intelligence.\\nAnswer like a financial advisor. If you don't know the answer, just say that you don't know, don't try to make up an answer. what are the pros and cons of tesla stock and nvidia stock?\\n\\\"\\\"\\\"\"\n",
      "  ]\n",
      "}\n"
     ]
    },
    {
     "name": "stdout",
     "output_type": "stream",
     "text": [
      "\u001b[36;1m\u001b[1;3m[llm/end]\u001b[0m \u001b[1m[1:chain:RetrievalQA > 3:chain:StuffDocumentsChain > 4:chain:LLMChain > 5:llm:AzureOpenAI] [7.50s] Exiting LLM run with output:\n",
      "\u001b[0m{\n",
      "  \"generations\": [\n",
      "    [\n",
      "      {\n",
      "        \"text\": \"\\n\\n\\n\\n# Tesla\\n# Pros:\\n# - Tesla is a leader in the electric vehicle market, which is a rapidly growing industry.\\n# - Tesla has a strong brand and a loyal customer base.\\n# - Tesla has a strong balance sheet with a lot of cash on hand.\\n# - Tesla has a visionary CEO in Elon Musk who has a track record of innovation and success.\\n\\n# Cons:\\n# - Tesla faces increasing competition in the electric vehicle market from established automakers and new entrants.\\n# - Tesla's valuation is very high, which makes it vulnerable to a market downturn or a shift in investor sentiment.\\n# - Tesla has faced regulatory scrutiny and legal challenges related to its Autopilot system and other safety issues.\\n# - Tesla's gross margins have been declining, which could put pressure on its profitability in the long term.\\n\\n# Nvidia\\n# Pros:\\n# - Nvidia is a leader in the graphics processing unit (GPU) market, which is a key component of many high-growth industries such as gaming, artificial intelligence, and self-driving cars.\\n# - Nvidia has a strong balance sheet with a lot of cash on hand.\\n# - Nvidia has a visionary CEO in Jensen Huang who has a track record of innovation and success.\\n# - Nvidia has a diverse product portfolio that includes GPUs, data center chips, and automotive chips.\\n\\n# Cons:\\n# - Nvidia faces increasing competition in the GPU market from established players such as Intel and AMD.\\n# - Nvidia's valuation is very high, which makes it vulnerable to a market downturn or a shift in investor sentiment.\\n# - Nvidia's growth is heavily dependent on the success of the industries it serves, which could be impacted by economic or technological factors.\\n# - Nvidia has faced regulatory scrutiny and legal challenges related to its acquisition of ARM Holdings and other issues.<|im_end|>\",\n",
      "        \"generation_info\": {\n",
      "          \"finish_reason\": \"stop\",\n",
      "          \"logprobs\": null\n",
      "        }\n",
      "      }\n",
      "    ]\n",
      "  ],\n",
      "  \"llm_output\": {\n",
      "    \"token_usage\": {\n",
      "      \"completion_tokens\": 362,\n",
      "      \"prompt_tokens\": 1927,\n",
      "      \"total_tokens\": 2289\n",
      "    },\n",
      "    \"model_name\": \"text-davinci-002\"\n",
      "  },\n",
      "  \"run\": null\n",
      "}\n",
      "\u001b[36;1m\u001b[1;3m[chain/end]\u001b[0m \u001b[1m[1:chain:RetrievalQA > 3:chain:StuffDocumentsChain > 4:chain:LLMChain] [7.50s] Exiting Chain run with output:\n",
      "\u001b[0m{\n",
      "  \"text\": \"\\n\\n\\n\\n# Tesla\\n# Pros:\\n# - Tesla is a leader in the electric vehicle market, which is a rapidly growing industry.\\n# - Tesla has a strong brand and a loyal customer base.\\n# - Tesla has a strong balance sheet with a lot of cash on hand.\\n# - Tesla has a visionary CEO in Elon Musk who has a track record of innovation and success.\\n\\n# Cons:\\n# - Tesla faces increasing competition in the electric vehicle market from established automakers and new entrants.\\n# - Tesla's valuation is very high, which makes it vulnerable to a market downturn or a shift in investor sentiment.\\n# - Tesla has faced regulatory scrutiny and legal challenges related to its Autopilot system and other safety issues.\\n# - Tesla's gross margins have been declining, which could put pressure on its profitability in the long term.\\n\\n# Nvidia\\n# Pros:\\n# - Nvidia is a leader in the graphics processing unit (GPU) market, which is a key component of many high-growth industries such as gaming, artificial intelligence, and self-driving cars.\\n# - Nvidia has a strong balance sheet with a lot of cash on hand.\\n# - Nvidia has a visionary CEO in Jensen Huang who has a track record of innovation and success.\\n# - Nvidia has a diverse product portfolio that includes GPUs, data center chips, and automotive chips.\\n\\n# Cons:\\n# - Nvidia faces increasing competition in the GPU market from established players such as Intel and AMD.\\n# - Nvidia's valuation is very high, which makes it vulnerable to a market downturn or a shift in investor sentiment.\\n# - Nvidia's growth is heavily dependent on the success of the industries it serves, which could be impacted by economic or technological factors.\\n# - Nvidia has faced regulatory scrutiny and legal challenges related to its acquisition of ARM Holdings and other issues.<|im_end|>\"\n",
      "}\n",
      "\u001b[36;1m\u001b[1;3m[chain/end]\u001b[0m \u001b[1m[1:chain:RetrievalQA > 3:chain:StuffDocumentsChain] [7.51s] Exiting Chain run with output:\n",
      "\u001b[0m{\n",
      "  \"output_text\": \"\\n\\n\\n\\n# Tesla\\n# Pros:\\n# - Tesla is a leader in the electric vehicle market, which is a rapidly growing industry.\\n# - Tesla has a strong brand and a loyal customer base.\\n# - Tesla has a strong balance sheet with a lot of cash on hand.\\n# - Tesla has a visionary CEO in Elon Musk who has a track record of innovation and success.\\n\\n# Cons:\\n# - Tesla faces increasing competition in the electric vehicle market from established automakers and new entrants.\\n# - Tesla's valuation is very high, which makes it vulnerable to a market downturn or a shift in investor sentiment.\\n# - Tesla has faced regulatory scrutiny and legal challenges related to its Autopilot system and other safety issues.\\n# - Tesla's gross margins have been declining, which could put pressure on its profitability in the long term.\\n\\n# Nvidia\\n# Pros:\\n# - Nvidia is a leader in the graphics processing unit (GPU) market, which is a key component of many high-growth industries such as gaming, artificial intelligence, and self-driving cars.\\n# - Nvidia has a strong balance sheet with a lot of cash on hand.\\n# - Nvidia has a visionary CEO in Jensen Huang who has a track record of innovation and success.\\n# - Nvidia has a diverse product portfolio that includes GPUs, data center chips, and automotive chips.\\n\\n# Cons:\\n# - Nvidia faces increasing competition in the GPU market from established players such as Intel and AMD.\\n# - Nvidia's valuation is very high, which makes it vulnerable to a market downturn or a shift in investor sentiment.\\n# - Nvidia's growth is heavily dependent on the success of the industries it serves, which could be impacted by economic or technological factors.\\n# - Nvidia has faced regulatory scrutiny and legal challenges related to its acquisition of ARM Holdings and other issues.<|im_end|>\"\n",
      "}\n",
      "\u001b[36;1m\u001b[1;3m[chain/end]\u001b[0m \u001b[1m[1:chain:RetrievalQA] [9.85s] Exiting Chain run with output:\n",
      "\u001b[0m[outputs]\n"
     ]
    }
   ],
   "source": [
    "query_result = qna_chain({\"query\": question})"
   ]
  },
  {
   "cell_type": "code",
   "execution_count": 44,
   "id": "221b85af",
   "metadata": {},
   "outputs": [
    {
     "data": {
      "text/plain": [
       "dict_keys(['query', 'result', 'source_documents'])"
      ]
     },
     "execution_count": 44,
     "metadata": {},
     "output_type": "execute_result"
    }
   ],
   "source": [
    "query_result.keys()"
   ]
  },
  {
   "cell_type": "code",
   "execution_count": 45,
   "id": "586bab93",
   "metadata": {},
   "outputs": [
    {
     "name": "stdout",
     "output_type": "stream",
     "text": [
      "\n",
      "\n",
      "\n",
      "\n",
      "# Tesla\n",
      "# Pros:\n",
      "# - Tesla is a leader in the electric vehicle market, which is a rapidly growing industry.\n",
      "# - Tesla has a strong brand and a loyal customer base.\n",
      "# - Tesla has a strong balance sheet with a lot of cash on hand.\n",
      "# - Tesla has a visionary CEO in Elon Musk who has a track record of innovation and success.\n",
      "\n",
      "# Cons:\n",
      "# - Tesla has a high valuation, which makes it vulnerable to market downturns.\n",
      "# - Tesla faces increasing competition from other automakers who are investing heavily in electric vehicles.\n",
      "# - Tesla has had some quality control issues in the past, which could hurt its reputation.\n",
      "# - Tesla is facing regulatory scrutiny over its Autopilot system, which could lead to increased costs and liability.\n",
      "\n",
      "# Nvidia\n",
      "# Pros:\n",
      "# - Nvidia is a leader in the graphics processing unit (GPU) market, which is a rapidly growing industry.\n",
      "# - Nvidia has a strong balance sheet with a lot of cash on hand.\n",
      "# - Nvidia has a strong brand and a loyal customer base.\n",
      "# - Nvidia is expanding into new markets such as artificial intelligence and self-driving cars.\n",
      "\n",
      "# Cons:\n",
      "# - Nvidia faces increasing competition from other chipmakers who are investing heavily in GPUs.\n",
      "# - Nvidia is vulnerable to market downturns due to its high valuation.\n",
      "# - Nvidia's growth is dependent on the success of new markets such as artificial intelligence and self-driving cars, which are still in the early stages of development.\n",
      "# - Nvidia's reliance on the gaming industry for a large portion of its revenue makes it vulnerable to changes in that industry.<|im_end|>\n"
     ]
    }
   ],
   "source": [
    "print(query_result['result'])"
   ]
  },
  {
   "cell_type": "code",
   "execution_count": 289,
   "id": "e6106a38",
   "metadata": {
    "scrolled": true
   },
   "outputs": [
    {
     "name": "stdout",
     "output_type": "stream",
     "text": [
      "{'source': '/Users/rachitjoshi/Documents/Finbot/notebooks/../data/pdfs/tesla_investorcom_1.pdf'}\n"
     ]
    }
   ],
   "source": [
    "print(query_result['source_documents'][0].metadata)"
   ]
  },
  {
   "cell_type": "code",
   "execution_count": 120,
   "id": "ce335a2c",
   "metadata": {},
   "outputs": [
    {
     "name": "stdout",
     "output_type": "stream",
     "text": [
      " Tesla stock is a high-risk, high-reward investment. The company has a history of volatility and is heavily dependent on the success of its electric vehicles. Nvidia stock is a more stable investment, with a strong track record of growth and a diversified business model. However, it is also subject to the cyclical nature of the semiconductor industry. Ultimately, the decision to invest in either stock will depend on your risk tolerance and investment goals. It is important to do your own research and consult with a financial advisor before making any investment decisions.<|im_end|>\n"
     ]
    }
   ],
   "source": [
    "print(query_result['result'])"
   ]
  },
  {
   "cell_type": "code",
   "execution_count": null,
   "id": "47eb4780",
   "metadata": {},
   "outputs": [],
   "source": []
  },
  {
   "cell_type": "code",
   "execution_count": null,
   "id": "e2b4ce1e",
   "metadata": {},
   "outputs": [],
   "source": []
  },
  {
   "cell_type": "code",
   "execution_count": 119,
   "id": "c852a31d",
   "metadata": {},
   "outputs": [
    {
     "data": {
      "text/plain": [
       "23866"
      ]
     },
     "execution_count": 119,
     "metadata": {},
     "output_type": "execute_result"
    }
   ],
   "source": [
    "source_doc_length = 0\n",
    "for doc in query_result['source_documents']:\n",
    "    source_doc_length += len(doc.page_content)\n",
    "source_doc_length    \n"
   ]
  },
  {
   "cell_type": "code",
   "execution_count": 120,
   "id": "57520699",
   "metadata": {},
   "outputs": [
    {
     "data": {
      "text/plain": [
       "'what are the pros and cons of tesla stock and nvidia stock?'"
      ]
     },
     "execution_count": 120,
     "metadata": {},
     "output_type": "execute_result"
    }
   ],
   "source": [
    "query_result['query']"
   ]
  },
  {
   "cell_type": "code",
   "execution_count": 123,
   "id": "76a7ab6e",
   "metadata": {
    "scrolled": true
   },
   "outputs": [
    {
     "name": "stdout",
     "output_type": "stream",
     "text": [
      "TECHNOLOGY\n",
      "\n",
      "Is Amazon Stock A Buy As It Restructures Workforce In Tough Times?\n",
      "\n",
      "BRIAN DEAGON 03:03 PM ET 04/14/2023\n",
      "\n",
      "F or years, Amazon seemed invincible, an e-commerce giant that made other\n",
      "\n",
      "companies shiver when it muscled into their markets. It helped Amazon stock soar\n",
      "\n",
      "into four-digit territory, and the company's earnings reports often delighted\n",
      "\n",
      "investors.\n",
      "\n",
      "Now, after a year of troubling earnings reports, Amazon has launched a major\n",
      "\n",
      "restructuring, including plans to cut 27,000 employees from its workforce. Is\n",
      "\n",
      "Amazon stock a buy?\n",
      "\n",
      "In late March, Amazon announced plans to slash 9,000 jobs. That's on top of the\n",
      "\n",
      "18,000 job cuts it announced in January.\n",
      "\n",
      "\"Given the uncertain economy in which we reside, and the uncertainty that exists in\n",
      "\n",
      "the near future, we have chosen to be more streamlined in our costs and head\n",
      "\n",
      "count,\" Amazon Chief Executive Andy Jassy said in a written notice to employees\n",
      "\n",
      "when the layoffs were announced. He also suggested more layoffs are possible. The\n",
      "\n",
      "cuts mainly focus on Amazon Web Services, advertising, Twitch, human resources\n",
      "\n",
      "and its stores divisions.\n",
      "\n",
      "Amazon Jumps Into Arti\u0000cial Intelligence\n",
      "\n",
      "On April 13, Amazon jumped into the booming \u0000eld of generative arti\u0000cial\n",
      "\n",
      "intelligence, the technology behind ChatGPT. Amazon stock climbed on the news,\n",
      "\n",
      "as did other AI companies.\n",
      "\n",
      "Alphabet and Microsoft (MSFT) previously announced plans to bring ChatGPT to\n",
      "\n",
      "the public. Meanwhile, Amazon's cloud computing unit, Amazon Web Services,\n",
      "\n",
      "plans to target corporate customers.\n",
      "\n",
      "AWS will also expand access to custom-made chips. They say the chips can run AI\n",
      "\n",
      "software more ef\u0000ciently and cheaper than competitors can.\n",
      "\n",
      "\"Machine learning has been a technology with high promise for several decades. But\n",
      "\n",
      "it's only been the last \u0000ve to 10 years that it's started to be used more pervasively\n",
      "\n",
      "by companies,\" Chief Executive Andy Jassy said in his letter to shareholders.\n",
      "\n",
      "Machine learning is a form of arti\u0000cial intelligence.\n",
      "\n",
      "Jassy went on to say: \"We will continue to invest substantially in these models\n",
      "\n",
      "across all of our consumer, seller, brand and creator experience.\"\n",
      "\n",
      "The three largest cloud computing companies, AWS, Microsoft and Google, have\n",
      "\n",
      "moved AI development to the top of their to-do list. Each is trying to capitalize on\n",
      "\n",
      "the booming interest in arti\u0000cial intelligence technology.\n",
      "\n",
      "A Heightened Focus On Cost Savings\n",
      "\n",
      "After the second round of job cuts, Arun Sundaram, senior equity analyst at CFRA,\n",
      "\n",
      "maintained a buy rating on Amazon stock.\n",
      "\n",
      "\"While some may view these job cuts as a sign of a gloomier macro outlook,\n",
      "\n",
      "especially as it relates to cloud computing and digital advertising, we believe\n",
      "\n",
      "investors will appreciate Amazon's heightened focus on cost savings and free cash\n",
      "\n",
      "\u0000ow,\" Sundaram wrote in a note to clients.\n",
      "\n",
      "The most recent layoff announcements, in March, came after Amazon announced\n",
      "\n",
      "fourth-quarter results on Feb. 2. The company beat on revenue but missed on\n",
      "\n",
      "earnings, as its typically strong cloud computing unit failed to rescue the e-\n",
      "\n",
      "commerce giant.\n",
      "\n",
      "The cloud unit showed that revenue decelerated. AWS sales jumped 20% to $21.4\n",
      "\n",
      "billion, but that was below expectations and a deceleration from 27% growth in the\n",
      "\n",
      "prior quarter\n",
      "\n",
      "Oppenheimer analyst Jason Helfstein said more cost-cutting efforts are needed.\n",
      "\n",
      "\"We believe more layoffs are necessary for e-commerce to become meaningfully\n",
      "\n",
      "pro\u0000table,\" he said in his note to clients.\n",
      "\n",
      "Amazon Continues Push Into Health Care\n",
      "\n",
      "In late February, Amazon completed its $3.9 billion acquisition of One Medical,\n",
      "\n",
      "giving it a primary health care provider with in-person and virtual treatment as well\n",
      "\n",
      "as lab tests and programs for preventive care.\n",
      "\n",
      "\"We're on a mission to make it dramatically easier for people to \u0000nd, choose, afford\n",
      "\n",
      "and engage with the services, products, and professionals they need to get and stay\n",
      "\n",
      "healthy,\" said Neil Lindsay, senior vice president of Amazon Health Services, in a\n",
      "\n",
      "written statement with the Amazon news release.\n",
      "\n",
      "Amazon has made several forays into the health care market. In 2018 Amazon paid\n",
      "\n",
      "about $1 billion to acquire PillPack. That gave Amazon the ability to ship\n",
      "\n",
      "prescriptions around the country, making it a direct threat to the more than $400\n",
      "\n",
      "billion pharmacy business.\n",
      "\n",
      "Amazon has long-held ambitions to greatly simplify how consumers receive health\n",
      "\n",
      "care, but it remains a lofty goal that has yet to emerge as a moneymaking venture.\n",
      "\n",
      "Technical Analysis Of Amazon Stock\n",
      "\n",
      "In the stock market, timing is critical. So when you're looking for stocks to buy or\n",
      "\n",
      "sell, it's important to do the fundamental and technical analysis that identi\u0000es\n",
      "\n",
      "lower-risk entry points that also offer solid potential rewards.\n",
      "\n",
      "The IBD Stock Checkup tool shows that Amazon stock has a weak IBD Composite\n",
      "\n",
      "Rating of 36 out of 99. When choosing growth stocks for the biggest potential,\n",
      "\n",
      "based on technical and fundamental criteria, try to focus on those with a\n",
      "\n",
      "Composite Rating of 90 or higher.\n",
      "\n",
      "Amazon's Relative Strength Rating now stands at 32 out of 99. Ideally, look for\n",
      "\n",
      "stocks with a rating of 80 or higher.\n",
      "\n",
      "Is Amazon Stock A Buy?\n",
      "\n",
      "AMZN is not a buy at this time. It's still in a long-term downtrend but has been\n",
      "\n",
      "recovering since it hit a low at the start of the year.\n",
      "\n",
      "AMZN stock is now forming a cup base with a 114.10 buy point, and the price\n",
      "\n",
      "action is so far pretty smooth.\n",
      "\n",
      "Even if Amazon breaks out, it has a mountain to climb back. Overhead supply could\n",
      "\n",
      "retard any advance AMZN tries in the next several months.\n",
      "\n",
      "The stock continues to hit resistance at the 200-day line, which has been a\n",
      "\n",
      "resistance level for about a year. Amazon is currently sitting on its 50-day line.\n",
      "\n",
      "Falling below that would be reason for caution. But holding above it and then\n",
      "\n",
      "piercing through the 200-day line and holding would be a positive sign.\n",
      "\n",
      "Recognizing stock chart patterns is one key to the investment guidelines. IBD offers\n",
      "\n",
      "a broad range of growth stock lists, such as Leaderboard and SwingTrader.\n",
      "\n",
      "Investors also can create watchlists, \u0000nd companies nearing a buy point, or develop\n",
      "\n",
      "custom screens at IBD MarketSmith.\n",
      "\n",
      "If you're interested in buying large-cap stocks, in these articles you'll \u0000nd technical\n",
      "\n",
      "analysis of leading large caps to see if they are in or near a proper buy zone.\n",
      "\n",
      "Please follow Brian Deagon on Twitter at @IBD_BDeagon for more on tech stocks,\n",
      "\n",
      "analysis and \u0000nancial markets.\n",
      "\n",
      "YOU MIGHT ALSO LIKE:\n",
      "\n",
      "Amazon Makes Its Swan Dive Into ChatGPT Arti\u0000cial Intelligence Pool\n",
      "\n",
      "No Silver Lining In Amazon's Cloud Business As Results Fail To Excite\n",
      "\n",
      "Amazon's Alexa Smart Speaker Blazed A Trail, Then Burned Out\n",
      "\n",
      "Looking For Market Insights? Check Out Our IBD Live Daily Segment\n",
      "\n",
      "Join IBD Live Each Morning For Stock Tips Before The Open\n",
      "\n",
      "NEWS\n",
      "\n",
      "Nvidia More Than Triples In 2023 On AI Boost — Is It A Buy?\n",
      "\n",
      "APARNA NARAYANAN 03:25 PM ET 08/04/2023\n",
      "\n",
      "N vidia (NVDA), a giant in data centers and gaming, continues to sizzle. The\n",
      "\n",
      "chip giant is seen as one of the biggest winners of the AI boom. Is Nvidia stock a buy\n",
      "\n",
      "right now, with earnings due?\n",
      "\n",
      "Semiconductor, AI News\n",
      "\n",
      "In May, Nvidia Chief Executive Jensen Huang announced a new supercomputer,\n",
      "\n",
      "software and services for generative AI (arti\u0000cial intelligence). Generative AI can\n",
      "\n",
      "create content, including written articles, from simple descriptive phrases by\n",
      "\n",
      "analyzing and digesting vast amounts of data. It can also write computer\n",
      "\n",
      "programming code.\n",
      "\n",
      "For its latest quarter, graphics-chip maker Nvidia crushed Wall Street's targets on\n",
      "\n",
      "record data-center sales. Production is ramping up to meet huge demand for AI\n",
      "\n",
      "technology, CEO Huang said.\n",
      "\n",
      "Nvidia is a leader in AI chips. In the tech industry's \u0000erce battle for AI dominance,\n",
      "\n",
      "the advanced chips needed for generative AI, such as the ChatGPT chatbot, are key.\n",
      "\n",
      "For those looking for top large-cap stocks to buy now, here's a dive into NVDA\n",
      "\n",
      "stock.\n",
      "\n",
      "Nvidia Stock Technical Analysis\n",
      "\n",
      "Nvidia rebounded Aug. 3 after three down days, technically regaining a 439.90 buy\n",
      "\n",
      "point. Shares edged higher on Aug. 4. The latest entry from a three-weeks-tight\n",
      "\n",
      "pattern offered a place for existing investors to add a few more shares. The buy\n",
      "\n",
      "range goes to 461.90, the IBD Leaderboard stock analysis shows.\n",
      "\n",
      "But with the market rally shifting to under pressure, investors may want to wait to\n",
      "\n",
      "see if Nvidia can \u0000nd support at the 50-day/10-week line for the \u0000rst time since\n",
      "\n",
      "early January.\n",
      "\n",
      "A rebound from those levels would offer a buying opportunity. But shares aren't\n",
      "\n",
      "there yet.\n",
      "\n",
      "A further pullback also could be part of a full-\u0000edged base.\n",
      "\n",
      "Shares still aren't far from the 52-week high, set on July 14.\n",
      "\n",
      "NVDA joined the prestigious IBD Leaderboard in February on an earnings gap-up. It\n",
      "\n",
      "surged again in May on blowout earnings and strong guidance.\n",
      "\n",
      "Year to date, Nvidia stock has skyrocketed 206%, after crashing in 2022.\n",
      "\n",
      "The relative strength line is \u0000attening out a bit after a strong rally, the IBD\n",
      "\n",
      "MarketSmith charts show. A rising RS line means that a stock is outperforming the\n",
      "\n",
      "S&P 500. It is the blue line in the chart shown.\n",
      "\n",
      "NVDA earns an IBD Composite Rating of 97, out of a best-possible 99. In other\n",
      "\n",
      "words, Nvidia stock is in the top 3% of all stocks in terms of technical and\n",
      "\n",
      "fundamental metrics.\n",
      "\n",
      "NVIDIA (NVDA)\n",
      "\n",
      "$454.17 7.37 1.65%\n",
      "\n",
      "Dec 20\n",
      "\n",
      "Mar 21\n",
      "\n",
      "Jun 21\n",
      "\n",
      "Sep 21\n",
      "\n",
      "Dec 21\n",
      "\n",
      "Mar 22\n",
      "\n",
      "Jun 22\n",
      "\n",
      "Sep 22\n",
      "\n",
      "Dec 22\n",
      "\n",
      "Mar 23\n",
      "\n",
      "Ju\n",
      "\n",
      "08/07/2023 (Market Close)\n",
      "\n",
      "Investors generally should focus on stocks with Comp Ratings of 90 or even 95 and\n",
      "\n",
      "above. Nvidia stock often earns a spot on the IBD 50, Big Cap 20 and Sector\n",
      "\n",
      "Leaders lists.\n",
      "\n",
      "The IBD Stock Checkup tool shows that NVDA carries a Relative Strength Rating\n",
      "\n",
      "of 99. That means it has outperformed 99% of all other stocks over the past year.\n",
      "\n",
      "The iShares PHLX Semiconductor ETF (SOXX) holds both Nvidia stock and AMD\n",
      "\n",
      "stock.\n",
      "\n",
      "IBD Live: A New Tool For Daily Stock Market Analysis\n",
      "\n",
      "Nvidia Earnings\n",
      "\n",
      "Nvidia's EPS Rating is 68 out of 99 and its SMR Rating is a B, on a scale of A to a\n",
      "\n",
      "worst E. The EPS rating compares a company's earnings growth to other stocks. Its\n",
      "\n",
      "SMR Rating gauges sales growth, pro\u0000t margins and return on equity.\n",
      "\n",
      "On May 24, the chip giant delivered a big beat-and-raise report. The Nvidia\n",
      "\n",
      "earnings report included a bullish, AI-fueled sales forecast.\n",
      "\n",
      "The Santa Clara, Calif.-based company earned $1.09 a share on sales of $7.19 billion\n",
      "\n",
      "in the quarter ended April 30. Year over year, Nvidia earnings dropped 20% while\n",
      "\n",
      "sales fell 13%. But the results easily outpaced Wall Street's expectations.\n",
      "\n",
      "In Q1, data-center sales rose 14% to $4.28 billion. Gaming-chip sales fell 38% to\n",
      "\n",
      "$2.24 billion.\n",
      "\n",
      "Analysts expect Nvidia earnings per share to rebound 138% in \u0000scal 2024, on a 61%\n",
      "\n",
      "sales gain. Last year, Nvidia earnings fell 25%.\n",
      "\n",
      "Its next quarterly report is expected on Aug. 23.\n",
      "\n",
      "Out of 50 analysts covering NVDA stock, 43 rate it a buy. Six have a hold and one\n",
      "\n",
      "has a sell, according to FactSet.\n",
      "\n",
      "Looking For The Next Big Stock Market Winners? Start With These 3 Steps\n",
      "\n",
      "NVDA Backstory, Rivals\n",
      "\n",
      "The fabless chipmaker pioneered graphics processing units, or GPUs, to make video\n",
      "\n",
      "games more realistic. It's expanding in AI chips, used in supercomputers, data\n",
      "\n",
      "centers and drug development.\n",
      "\n",
      "Nvidia's GPUs act as accelerators for central processing units, or CPUs, made by\n",
      "\n",
      "other companies. It's working on \"supercomputers\" combining its own CPUs and\n",
      "\n",
      "GPUs.\n",
      "\n",
      "In addition, Nvidia chips are used for Bitcoin mining and self-driving electric cars.\n",
      "\n",
      "Nvidia has made a big push into metaverse applications.\n",
      "\n",
      "Fabless chip stocks include Qualcomm (QCOM), Broadcom (AVGO) and Monolithic\n",
      "\n",
      "Power Systems (MPWR).\n",
      "\n",
      "Currently, the fabless group ranks No. 2 out of 197 industry groups. Fabless\n",
      "\n",
      "companies design the hardware while outsourcing the manufacturing to a third-\n",
      "\n",
      "party \u0000rm.\n",
      "\n",
      "For the best returns, investors should focus on companies that are leading the\n",
      "\n",
      "market and their own industry group.\n",
      "\n",
      "Is Nvidia Stock A Buy?\n",
      "\n",
      "On a fundamental level, Nvidia earnings are expected to return to growth. They\n"
     ]
    }
   ],
   "source": [
    "print(query_result['source_documents'][1].page_content)"
   ]
  },
  {
   "cell_type": "code",
   "execution_count": 122,
   "id": "9f57f0fe",
   "metadata": {},
   "outputs": [
    {
     "data": {
      "text/plain": [
       "\" \\nTesla stock has been a monster stock over much of its history, especially during its stratospheric run from mid-2019 to late 2021. The stock hit a bear market low of 101.84 on Jan. 6, but roared back until Q1 earnings. Nvidia is seen as one of the biggest winners of the AI boom. Nvidia stock has skyrocketed 206% year to date, after crashing in 2022. Nvidia is a leader in AI chips. In the tech industry's fierce battle for AI dominance, the advanced chips needed for generative AI, such as the ChatGPT chatbot, are key. However, Nvidia stock is not a buy at this time. It's still in a long-term downtrend but has been recovering since it hit a low at the start of the year. Nvidia stock is now forming a cup base with a 114.10 buy point, and the price action is so far pretty smooth. Even if Nvidia breaks out, it has a mountain to climb back. Overhead supply could retard any advance Nvidia tries in the next several months. Tesla stock is greatly extended from a cup base with a 207.79 buy point. Shares have climbed 118% so far in 2023,\""
      ]
     },
     "execution_count": 122,
     "metadata": {},
     "output_type": "execute_result"
    }
   ],
   "source": [
    "query_result['result']"
   ]
  },
  {
   "cell_type": "code",
   "execution_count": 70,
   "id": "38ffcf31",
   "metadata": {},
   "outputs": [
    {
     "data": {
      "text/plain": [
       "{'source': '/Users/rachitjoshi/Documents/Finbot/notebooks/../data/pdfs_processed/merged/investorcom_merged.pdf'}"
      ]
     },
     "execution_count": 70,
     "metadata": {},
     "output_type": "execute_result"
    }
   ],
   "source": [
    "query_result['source_documents'][0].metadata"
   ]
  },
  {
   "cell_type": "code",
   "execution_count": 71,
   "id": "a559ed45",
   "metadata": {},
   "outputs": [
    {
     "data": {
      "text/plain": [
       "11929"
      ]
     },
     "execution_count": 71,
     "metadata": {},
     "output_type": "execute_result"
    }
   ],
   "source": [
    "len(query_result['source_documents'][0].page_content)"
   ]
  },
  {
   "cell_type": "code",
   "execution_count": null,
   "id": "6392ee9a",
   "metadata": {},
   "outputs": [],
   "source": [
    "########"
   ]
  },
  {
   "cell_type": "code",
   "execution_count": null,
   "id": "d014231a",
   "metadata": {},
   "outputs": [],
   "source": [
    "qna_chain = RetrievalQA.from_chain_type(\n",
    "    base_llm, \n",
    "    retriever=vectorstore.as_retriever(\n",
    "        search_type=search_type, search_kwargs=retrieval_kwargs\n",
    "    )\n",
    ")"
   ]
  }
 ],
 "metadata": {
  "kernelspec": {
   "display_name": "finbot",
   "language": "python",
   "name": "finbot"
  },
  "language_info": {
   "codemirror_mode": {
    "name": "ipython",
    "version": 3
   },
   "file_extension": ".py",
   "mimetype": "text/x-python",
   "name": "python",
   "nbconvert_exporter": "python",
   "pygments_lexer": "ipython3",
   "version": "3.9.6"
  }
 },
 "nbformat": 4,
 "nbformat_minor": 5
}
