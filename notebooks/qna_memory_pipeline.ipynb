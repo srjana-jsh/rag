{
 "cells": [
  {
   "cell_type": "markdown",
   "id": "cc2732d0",
   "metadata": {},
   "source": [
    "### Pipeline for QnA with Memory"
   ]
  },
  {
   "cell_type": "code",
   "execution_count": 142,
   "id": "591866e7",
   "metadata": {},
   "outputs": [],
   "source": [
    "####Notes####\n",
    "# chunked data length can be atmost 16 for azureopenai"
   ]
  },
  {
   "cell_type": "code",
   "execution_count": 143,
   "id": "0b44b03c",
   "metadata": {},
   "outputs": [],
   "source": [
    "# !pip3 install langchain\n",
    "# !pip install openai\n",
    "# !pip3 install openai chromadb\n",
    "# !pip3 install tiktoken"
   ]
  },
  {
   "cell_type": "code",
   "execution_count": 144,
   "id": "1e3b368d",
   "metadata": {},
   "outputs": [],
   "source": [
    "# !pip3 install unstructured\n",
    "# !pip3 install pdf2image\n",
    "# !pip3 install pdfminer\n",
    "# !pip3 install pdfminer.six\n",
    "# !pip3 install pymupdf \n",
    "# !pip3 install lxml\n",
    "# !pip3 install lxml"
   ]
  },
  {
   "cell_type": "code",
   "execution_count": 145,
   "id": "65d86529",
   "metadata": {},
   "outputs": [
    {
     "data": {
      "text/plain": [
       "<module 'scraper' from '/Users/rachitjoshi/Documents/Finbot/notebooks/../scripts/scraper.py'>"
      ]
     },
     "execution_count": 145,
     "metadata": {},
     "output_type": "execute_result"
    }
   ],
   "source": [
    "import os\n",
    "import sys\n",
    "import glob\n",
    "import re\n",
    "import importlib\n",
    "import langchain\n",
    "from langchain.document_loaders import WebBaseLoader, UnstructuredPDFLoader, PyMuPDFLoader\n",
    "from langchain.text_splitter import RecursiveCharacterTextSplitter, TextSplitter\n",
    "from langchain.indexes import VectorstoreIndexCreator\n",
    "from langchain.embeddings import OpenAIEmbeddings\n",
    "from langchain.vectorstores import Chroma\n",
    "from langchain.chains import RetrievalQA\n",
    "from langchain.llms import AzureOpenAI\n",
    "from langchain.prompts import PromptTemplate\n",
    "sys.path.append(os.path.join(os.getcwd(), '../scripts'))\n",
    "import helpers as h\n",
    "import constants as c\n",
    "import scraper as sc\n",
    "importlib.reload(h)\n",
    "importlib.reload(c)\n",
    "importlib.reload(sc)"
   ]
  },
  {
   "cell_type": "markdown",
   "id": "a7269850",
   "metadata": {},
   "source": [
    "#### Environment"
   ]
  },
  {
   "cell_type": "code",
   "execution_count": 146,
   "id": "797152d8",
   "metadata": {},
   "outputs": [],
   "source": [
    "os.environ[\"OPENAI_API_KEY\"] = \"6cdb659e5a9d402e80c212fe8ea26483\""
   ]
  },
  {
   "cell_type": "code",
   "execution_count": 147,
   "id": "1f1d835b",
   "metadata": {},
   "outputs": [],
   "source": [
    "os.environ[\"OPENAI_API_TYPE\"] = \"azure\"\n",
    "os.environ[\"OPENAI_API_VERSION\"] = \"2023-03-15-preview\"\n",
    "os.environ[\"OPENAI_API_BASE\"] = \"https://test-chatgpt-flomoney.openai.azure.com/\"\n",
    "os.environ[\"OPENAI_API_KEY\"] = os.getenv(\"OPENAI_API_KEY\")"
   ]
  },
  {
   "cell_type": "markdown",
   "id": "ddeb387c",
   "metadata": {},
   "source": [
    "#### Paths"
   ]
  },
  {
   "cell_type": "code",
   "execution_count": 148,
   "id": "689055b3",
   "metadata": {},
   "outputs": [],
   "source": [
    "pdfs_path = os.path.join(os.getcwd(), '../data/pdfs')\n",
    "merged_pdfs_path = os.path.join(os.getcwd(), '../data/pdfs_processed/merged')"
   ]
  },
  {
   "cell_type": "markdown",
   "id": "288a6688",
   "metadata": {},
   "source": [
    "#### Data"
   ]
  },
  {
   "cell_type": "code",
   "execution_count": 149,
   "id": "d849861f",
   "metadata": {},
   "outputs": [],
   "source": [
    "investorcom_pdfs = [ _ for _ in glob.glob(os.path.join(pdfs_path, '*.pdf')) if 'investorcom' in _]"
   ]
  },
  {
   "cell_type": "code",
   "execution_count": 150,
   "id": "a16cb6b9",
   "metadata": {
    "scrolled": true
   },
   "outputs": [
    {
     "data": {
      "text/plain": [
       "['https://www.instagram.com/theeconomist',\n",
       " 'https://www.economist.com//finance-and-economics/2023/09/25/why-china-may-struggle-to-escape-stagnation',\n",
       " 'https://www.economist.com//international/2023/10/03/africas-coups-are-part-of-a-far-bigger-crisis',\n",
       " 'https://www.economist.com//special-report/2023/10/02/video-busting-globalisation-myths',\n",
       " 'https://www.economistgroup.com/esg/modern-slavery-act-statement',\n",
       " 'https://www.economist.com/1843',\n",
       " 'https://www.economist.com//graphic-detail/2023/09/28/places-claiming-to-be-centenarian-hotspots-may-just-have-bad-data',\n",
       " 'https://www.economist.com//europe/2023/09/28/the-eu-is-finally-rebooting-the-enlargement-machine',\n",
       " 'https://www.economist.com//britain/2023/10/03/the-conservative-party-conference-is-all-about-the-partying',\n",
       " 'https://www.economist.com//technology-quarterly/2023/09/26/video-in-search-of-forever',\n",
       " 'https://www.economist.com//',\n",
       " 'https://www.economist.com//1843',\n",
       " 'https://www.economist.com//films/2023/10/02/video-busting-globalisation-myths',\n",
       " 'https://www.economist.com//special-reports',\n",
       " 'https://www.economist.com//business/2023/09/28/customer-service-is-getting-worse-and-so-are-customers',\n",
       " 'https://www.economistgroup.com/group-news',\n",
       " 'https://www.economist.com//president-joe-biden',\n",
       " 'https://www.economist.com//the-world-in-brief',\n",
       " 'https://www.economist.com/climate-change',\n",
       " 'https://impact.economist.com/',\n",
       " 'https://www.economist.com//leaders/2023/09/28/living-to-120-is-becoming-an-imaginable-prospect?itm_source=parsely-api',\n",
       " 'https://www.economist.com//the-economist-explains/2023/09/27/what-happens-if-americas-government-shuts-down-this-weekend',\n",
       " 'https://www.linkedin.com/company/the-economist',\n",
       " 'https://www.economist.com//films/2023/09/29/the-impact-of-ai-in-society',\n",
       " 'https://www.economist.com//special-report/2023/10/02/green-protectionism-comes-with-big-risks',\n",
       " 'https://www.economist.com//finance-and-economics/2023/09/10/does-china-face-a-lost-decade',\n",
       " 'https://www.economist.com//business/2023/09/28/can-europes-power-grid-cope-with-the-green-transition',\n",
       " 'https://www.economist.com//business',\n",
       " 'https://www.economist.com//api/my-account',\n",
       " 'https://www.economist.com//science-and-technology',\n",
       " 'https://www.economist.com//special-report/2023/10/02/new-industrial-policies-will-not-help-economic-stability',\n",
       " 'https://www.economistgroup.com/careers',\n",
       " 'https://www.economist.com//china/2023/09/28/politics-hamper-chinas-efforts-to-stimulate-the-economy',\n",
       " 'https://www.economist.com/sitemap',\n",
       " 'https://www.economist.com//middle-east-and-africa/2023/10/03/egypts-rushed-election-shows-abdel-fattah-al-sisi-is-nervous',\n",
       " 'https://www.economist.com//get-the-app',\n",
       " 'https://www.economist.com//technology-quarterly/2023/09/25/slowing-human-ageing-is-now-the-subject-of-serious-research',\n",
       " 'https://www.economist.com//asia',\n",
       " 'https://www.economist.com//europe/2023/09/25/war-has-arrived-in-crimea',\n",
       " 'https://www.economist.com/#',\n",
       " 'https://www.economist.com//economy',\n",
       " 'https://www.economist.com//special-report/2023/10/02/homeland-economics-will-make-the-world-poorer',\n",
       " 'https://www.eiu.com/n/',\n",
       " 'https://www.economist.com//big-mac-index',\n",
       " 'http://jobs.economist.com/',\n",
       " 'https://www.economist.com//briefing',\n",
       " 'https://www.twitter.com/theeconomist',\n",
       " 'https://www.economist.com//united-states/2023/10/01/by-averting-a-government-shutdown-kevin-mccarthy-risks-his-job?itm_source=parsely-api',\n",
       " 'https://www.economistgroup.com/terms-of-use',\n",
       " 'https://www.economist.com//podcasts/2023/10/03/what-is-the-future-of-us-china-relations',\n",
       " 'https://www.economist.com//military-terms-a-to-z',\n",
       " 'https://www.economist.com/the-economist-explains',\n",
       " 'https://www.economist.com//united-states/2023/10/04/the-sacking-of-kevin-mccarthy-will-make-supporting-ukraine-harder',\n",
       " 'https://www.economist.com//technology-quarterly',\n",
       " 'https://www.economist.com//schools-brief',\n",
       " 'https://www.economist.com//leaders/2023/09/28/living-to-120-is-becoming-an-imaginable-prospect',\n",
       " 'https://www.economist.com//international-relations-a-to-z',\n",
       " 'https://www.economist.com//science-and-technology/2023/10/03/a-nobel-prize-for-electron-watchers',\n",
       " 'https://www.economist.com//special-report/2023/10/02/attempts-to-make-supply-chains-resilient-are-likely-to-fail',\n",
       " 'https://www.economist.com//middle-east-and-africa',\n",
       " 'https://www.economist.com//the-americas',\n",
       " 'https://www.economist.com//europe/2023/10/02/ukraine-prepares-for-winter-again-as-russia-targets-its-power-grid',\n",
       " 'https://www.economist.com//graphic-detail/2023/10/02/americas-university-graduates-live-much-longer-than-non-graduates',\n",
       " 'https://www.economist.com//artificial-intelligence',\n",
       " 'https://www.economist.com/rss',\n",
       " 'https://www.economist.com//climate-change',\n",
       " 'https://www.economist.com//the-economist-reads/2023/09/22/a-selection-of-novels-to-read-this-autumn',\n",
       " 'https://www.economist.com//britain/2023/10/02/rishi-sunaks-misguided-attempt-to-woo-irritated-british-drivers',\n",
       " 'https://www.economist.com//economic-and-financial-indicators',\n",
       " 'https://www.economist.com//podcasts',\n",
       " 'https://www.economist.com//business/2023/10/02/americas-bosses-grapple-with-threats-to-diversity-policies',\n",
       " 'https://www.economist.com//films/2023/09/27/the-fight-to-stop-ageing',\n",
       " 'https://www.economist.com/group-subscriptions/',\n",
       " 'https://www.economist.com//economics-a-to-z',\n",
       " 'https://www.economist.com//the-world-this-week',\n",
       " 'https://www.economist.com//the-world-ahead',\n",
       " 'https://www.economist.com//weeklyedition',\n",
       " 'https://www.economist.com//special-report/2023/10/02/sources-and-acknowledgments',\n",
       " 'https://www.economist.com//china',\n",
       " 'https://www.economist.com//christmas-specials',\n",
       " 'https://whichmba.economist.com/',\n",
       " 'https://www.economist.com//asia/2023/10/03/ms-swaminathan-the-man-who-fed-india',\n",
       " 'https://www.economist.com//britain/2023/09/28/blind-optimism-is-the-only-bet-for-britains-tories',\n",
       " 'https://www.economist.com//1843/2023/10/03/an-autistic-ukrainian-boy-lived-by-routine-then-the-russians-upended-his-world',\n",
       " 'https://www.economist.com//the-economist-reads/2023/09/12/what-to-read-about-boardroom-battles',\n",
       " 'https://subscriberevents.economist.com/',\n",
       " 'https://www.economist.com//international',\n",
       " 'https://www.economist.com//finance-and-economics/2023/10/03/will-oil-hit-100-a-barrel',\n",
       " 'https://www.economist.com//the-economist-explains/2023/09/21/why-poland-is-halting-its-supply-of-weapons-to-ukraine',\n",
       " 'https://www.economist.com//culture/2023/10/03/decoding-sam-bankman-fried-alleged-titan-of-crypto-conmen',\n",
       " 'https://www.economist.com//1843/2023/09/29/who-moved-my-chips-life-in-an-ai-entrepreneurs-houseshare',\n",
       " 'https://www.economist.com//leaders',\n",
       " 'https://www.economist.com//leaders/2023/09/21/ukraine-faces-a-long-war-a-change-of-course-is-needed',\n",
       " 'https://www.youtube.com/user/economistmagazine',\n",
       " 'https://execed.economist.com',\n",
       " 'https://www.economistgroup.com/',\n",
       " 'https://www.economist.com//culture/2023/09/27/some-people-in-china-are-bravely-trying-to-document-the-past',\n",
       " 'https://www.economist.com//europe/2023/07/20/frances-foreign-policy-revolution',\n",
       " 'https://www.economist.com//special-report/2023/10/02/governments-across-the-world-are-discovering-homeland-economics?itm_source=parsely-api',\n",
       " 'https://www.economist.com//by-invitation/2023/09/22/a-web-of-security-guarantees-could-give-ukraine-all-the-help-it-needs-says-fabrice-pothier',\n",
       " 'https://www.economist.com//essay',\n",
       " 'https://www.economist.com//business/2023/09/26/ties-between-foreign-businesses-and-china-go-from-bad-to-worse',\n",
       " 'https://www.economist.com//europe/2023/10/03/turkeys-president-picks-a-fight-with-the-council-of-europe',\n",
       " 'https://www.economist.com//api/auth/login',\n",
       " 'https://www.economist.com//americanevents',\n",
       " 'https://www.economist.com//summer-reads',\n",
       " 'https://www.economist.com//the-economist-explains',\n",
       " 'https://www.economist.com//weeklyedition/2023-09-30',\n",
       " 'https://www.economist.com//saved-stories',\n",
       " 'https://www.economist.com/api/auth/subscribe?path=%2FDE%2FECOM-Home%2FHoliday20%2FFooter',\n",
       " 'https://www.economist.com//obituary',\n",
       " 'https://www.economist.com//europe',\n",
       " 'https://www.economist.com//europe/2023/09/27/the-definition-of-europe-has-always-been-both-inspiring-and-incoherent',\n",
       " 'https://www.economist.com//special-report/2023-10-07',\n",
       " 'https://www.economist.com//api/auth/logout',\n",
       " 'https://www.economist.com//technology-quarterly/2023/09/25/eating-fewer-calories-can-ward-off-ageing',\n",
       " 'https://www.economist.com//by-invitation/2023/09/29/javier-milei-argues-that-argentinas-central-bank-should-not-exist',\n",
       " 'https://www.economist.com/frequently-asked-questions',\n",
       " 'https://www.economist.com//culture/2023/09/28/a-new-book-by-mary-beard-looks-at-the-glitz-and-gore-of-rome',\n",
       " 'https://www.economist.com//letters',\n",
       " 'https://www.economist.com//special-report/2023/10/02/new-industrial-policies-will-make-the-world-more-unequal',\n",
       " 'https://www.economist.com//graphic-detail/2023/09/28/bowel-cancer-is-rising-among-young-people',\n",
       " 'https://rights.economist.com/',\n",
       " 'https://www.economist.com//the-economist-explains/2023/09/26/what-is-americas-farm-bill-and-why-does-it-matter',\n",
       " 'https://education.economist.com/',\n",
       " 'https://www.economist.com//by-invitation',\n",
       " 'https://www.economist.com//culture',\n",
       " 'https://www.economistgroup.com/privacy-policy',\n",
       " 'https://www.economist.com//podcasts/2023/10/03/sam-bankman-fried-heads-to-court-for-a-wildly-complex-cryptocurrency-case',\n",
       " 'https://www.economist.com//middle-east-and-africa/2023/09/28/saudi-arabia-wants-to-become-a-force-in-electric-vehicle-manufacturing',\n",
       " 'https://www.economist.com/films',\n",
       " 'https://www.economistgroup.com/cookies-policy',\n",
       " 'https://www.economist.com//china/2023/10/02/communist-rappers-are-luring-chinas-disgruntled-youth',\n",
       " 'https://education.economist.com',\n",
       " 'https://www.economist.com//united-states',\n",
       " 'https://www.economist.com/by-invitation/',\n",
       " 'https://www.economist.com/privacyportal',\n",
       " 'https://www.economist.com//finance-and-economics/2023/09/28/the-costs-of-russias-war-are-about-to-hit-home?itm_source=parsely-api',\n",
       " 'https://www.economist.com//finance-and-economics/2023/10/01/how-carbon-prices-are-taking-over-the-world?itm_source=parsely-api',\n",
       " 'https://www.economist.com//by-invitation/2023/09/28/david-keith-on-why-carbon-removal-wont-save-big-oil-but-may-help-the-climate',\n",
       " 'https://www.economist.com//special-report/2023/10/02/governments-across-the-world-are-discovering-homeland-economics',\n",
       " 'https://www.economist.com/graphic-detail/',\n",
       " 'https://www.economist.com//the-economist-reads',\n",
       " 'https://www.economist.com//finance-and-economics',\n",
       " 'https://www.economistgroup.com/about-us',\n",
       " 'https://www.economist.com//ukraine-crisis',\n",
       " 'https://www.economist.com//group-subscriptions/',\n",
       " 'https://www.economist.com//leaders/2023/09/28/the-war-in-ukraine-is-a-powerful-reason-to-enlarge-and-improve-the-eu',\n",
       " 'https://www.economist.com//interactive/graphic-detail/ukraine-fires',\n",
       " 'https://www.economist.com//britain',\n",
       " 'https://www.economist.com//graphic-detail',\n",
       " 'https://www.economist.com//the-economist-reads/2023/09/29/what-to-read-to-understand-journalism',\n",
       " 'https://myaccount.economist.com/s/help',\n",
       " 'https://www.economist.com//britain/2023/09/28/britains-labour-party-takes-lessons-from-joe-biden',\n",
       " 'https://events.economist.com/?RefID=e.com-home&utm_source=e.com&utm_medium=website&utm_campaign=group-aff&utm_content=footer-link',\n",
       " 'https://www.economist.com//coronavirus-pandemic',\n",
       " 'https://www.economistgroup.com/accessibility-policy',\n",
       " 'https://www.economist.com/ukraine-crisis',\n",
       " 'https://www.economist.com//finance-and-economics/2023/10/01/how-carbon-prices-are-taking-over-the-world',\n",
       " 'https://www.economist.com/#content',\n",
       " 'https://www.economist.com//films',\n",
       " 'https://www.economist.com/podcasts',\n",
       " 'https://www.economist.com/the-economist-reads/',\n",
       " 'https://www.facebook.com/theeconomist',\n",
       " 'https://www.economist.com//podcasts/2023/10/02/introducing-boss-class-from-the-economist',\n",
       " 'https://www.economist.com//international/2023/09/26/states-are-becoming-more-brazen-about-killing-foes-abroad',\n",
       " 'https://www.economist.com//newsletters']"
      ]
     },
     "execution_count": 150,
     "metadata": {},
     "output_type": "execute_result"
    }
   ],
   "source": [
    "web_list = sc.scrape_site(\n",
    "    \"https://www.economist.com/\",\n",
    "    c.header_template\n",
    ")\n",
    "web_list"
   ]
  },
  {
   "cell_type": "code",
   "execution_count": 151,
   "id": "4ad7359b",
   "metadata": {},
   "outputs": [
    {
     "data": {
      "text/plain": [
       "167"
      ]
     },
     "execution_count": 151,
     "metadata": {},
     "output_type": "execute_result"
    }
   ],
   "source": [
    "len(web_list)"
   ]
  },
  {
   "cell_type": "code",
   "execution_count": 152,
   "id": "e8e63ab0",
   "metadata": {},
   "outputs": [
    {
     "data": {
      "text/plain": [
       "167"
      ]
     },
     "execution_count": 152,
     "metadata": {},
     "output_type": "execute_result"
    }
   ],
   "source": [
    "len(set(web_list))"
   ]
  },
  {
   "cell_type": "code",
   "execution_count": 153,
   "id": "6515da15",
   "metadata": {},
   "outputs": [
    {
     "data": {
      "text/plain": [
       "'https://www.economist.com//get-the-app'"
      ]
     },
     "execution_count": 153,
     "metadata": {},
     "output_type": "execute_result"
    }
   ],
   "source": [
    "web_list[35]"
   ]
  },
  {
   "cell_type": "code",
   "execution_count": 154,
   "id": "b0f3149d",
   "metadata": {},
   "outputs": [],
   "source": [
    "# web_list = [\n",
    "#     'https://www.scientificamerican.com/article/pangaea-ultima-the-next-supercontinent-may-doom-mammals-to-far-future-extinction/',\n",
    "#     'https://www.scientificamerican.com/article/ho-oleilana-a-billion-light-year-wide-bubble-of-galaxies-astounds-astronomers/',\n",
    "#     'https://www.scientificamerican.com/article/dead-trees-and-a-mysterious-cosmic-explosion-reveal-bigger-quake-risk-for-seattle/',\n",
    "#     'https://www.scientificamerican.com/article/streetlights-are-mysteriously-turning-purple-heres-why/',\n",
    "#     'https://www.scientificamerican.com/article/to-move-fast-quantum-maze-solvers-must-forget-the-past/',\n",
    "# ]"
   ]
  },
  {
   "cell_type": "markdown",
   "id": "6569d75a",
   "metadata": {},
   "source": [
    "##### - Load"
   ]
  },
  {
   "cell_type": "code",
   "execution_count": 155,
   "id": "f078336e",
   "metadata": {},
   "outputs": [],
   "source": [
    "# loaded_data = []\n",
    "# for pdf in investorcom_pdfs :\n",
    "#     loaded_data.extend(UnstructuredPDFLoader(file_path=pdf).load())        "
   ]
  },
  {
   "cell_type": "code",
   "execution_count": 156,
   "id": "8dba9531",
   "metadata": {},
   "outputs": [],
   "source": [
    "loaded_data = []\n",
    "for page in web_list[:40]:\n",
    "    try:\n",
    "        loaded_data.extend(WebBaseLoader(page).load())\n",
    "    except:\n",
    "        continue"
   ]
  },
  {
   "cell_type": "code",
   "execution_count": 157,
   "id": "e841f1f5",
   "metadata": {},
   "outputs": [
    {
     "data": {
      "text/plain": [
       "40"
      ]
     },
     "execution_count": 157,
     "metadata": {},
     "output_type": "execute_result"
    }
   ],
   "source": [
    "len(loaded_data)"
   ]
  },
  {
   "cell_type": "code",
   "execution_count": 158,
   "id": "dc420076",
   "metadata": {},
   "outputs": [
    {
     "name": "stdout",
     "output_type": "stream",
     "text": [
      "{'source': 'https://www.economist.com//the-world-in-brief', 'title': 'The world in brief | The Economist', 'description': 'Catch up quickly on the global stories that matter.', 'language': 'en'}\n"
     ]
    }
   ],
   "source": [
    "print(loaded_data[17].metadata)"
   ]
  },
  {
   "cell_type": "code",
   "execution_count": 159,
   "id": "05d1c289",
   "metadata": {},
   "outputs": [
    {
     "data": {
      "text/plain": [
       "'The world in brief | The EconomistThe EconomistThe EconomistSkip to contentMenuWeekly editionThe world in briefSearchLog inOpinionLeadersLetters to the editorBy InvitationCurrent topicsWar in UkraineSummer readsClimate changeCoronavirusThe Biden presidencyThe world economyThe Economist explainsArtificial intelligenceCurrent topicsWar in UkraineSummer readsClimate changeCoronavirusThe Biden presidencyThe world economyThe Economist explainsArtificial intelligenceWorldThe world this weekChinaUnited StatesEuropeBritainMiddle East & AfricaAsiaThe AmericasInternationalA-Z of international relationsA-Z of military termsIn depthScience & technologyGraphic detailSpecial reportsTechnology QuarterlyThe World AheadBriefingEssaySchools briefBusiness & economicsFinance & economicsBusinessBig Mac indexA-Z of economicsEconomic & financial indicatorsCulture & society1843 magazineCultureObituaryThe Economist readsChristmas SpecialsMorePodcastsNewslettersFilmsThe Economist appSubscriber eventsOnline coursesGroup subscriptionsThe Economist liveIncluded in your subscriptionPodcastsNewslettersFilmsLive virtual eventsThe Economist appMy EconomistSaved storiesLog outSaved storiesAccountLog outSearchSearchThe world in briefCatch up quickly on the global stories that matterKevin McCarthy was ousted as speaker of America’s House of Representatives in a vote forced by Matt Gaetz, a fellow Republican congressman. The motion to unseat Mr McCarthy was supported by eight Republicans and all 208 Democrats present. Mr Gaetz, a firebrand from Florida, filed the “motion to vacate” on Monday after Mr McCarthy pushed through a bipartisan spending bill. The House has taken such a vote only once before, in 1910; that effort, however, was unsuccessful. Mr McCarthy’s exit has thrown the House into turmoil. The Republican majority has no obvious replacement for him.The judge overseeing Donald Trump’s civil trial for alleged business fraud imposed a gagging order to bar the former president, and others involved in the case, from making public remarks about court staff. He warned that violating the order would result in “serious sanctions”. Mr Trump had denigrated a law clerk on social media; the judge then ordered that his post be deleted. It was removed from Mr Trump’s Truth Social site by Tuesday afternoon.America will impose sanctions on 25 companies and people in China for allegedly producing and distributing the chemicals used to make fentanyl, a deadly opioid. It is the Biden administration’s latest crackdown on China-based entities as it seeks to curb imports of the drug. A spokesperson for the Chinese government accused America of “scapegoating”. More than 250,000 Americans have died of a fentanyl overdose since 2018.The International Committee of the Red Cross published its first code of conduct for civilian cyber-hackers involved in conflicts. The eight rules of engagement include a ban on attacks on hospitals and those that foster terror among civilians. The aid agency said that unprecedented numbers of civilians had joined patriotic cyber “armies” since Russia’s invasion of Ukraine.At least 21 people, including two children, died after a coach veered off an overpass near Venice in Italy. Another 18 were injured. The bus, which was carrying tourists from Ukraine, fell 30 metres before catching fire. The mayor of Venice described the scene as “apocalyptic”. The cause of the crash is unclear.Niger’s government banned all exports of liquefied petroleum gas, an alternative fuel also known as propane, until further notice. It said that national production should be restricted to the domestic market, with exports allowed only under special authorisation. Niger usually exports its surplus LPG to neighbouring Nigeria.Mexico will increase protection for the vaquita porpoise, the world’s most endangered marine mammal, by expanding a protection zone, where fishing is forbidden, by over 60%. As few as ten of the tiny animals remain in the Gulf of California, which is their sole habitat. They face threats from illegal gill nets, which are used to harvest the bladder of the totoaba fish, an expensive delicacy in China.Figure of the day: 17%, the proportion of customers who admitted to being “uncivil” in their interactions with businesses, according to America’s National Customer Rage Survey. Read the full story.Photo: Getty ImagesIndia’s central bank meetsEarlier this year, the Reserve Bank of India thought its battle with inflation, fought with six consecutive interest-rate hikes, had ended. Starting in February, price increases had been steadily slowing. By May, the annual inflation rate had fallen to 4.3%, close to the central bank’s 4% target, allowing it to pause its tightening cycle. Since then, though, erratic monsoons have sent food prices soaring, pushing inflation to 6.8% in August, higher than even the RBI’s upper limit of 6%. Still, when the RBI begins a three-day meeting on Wednesday economists expect it to leave interest rates at 6.5%. Shaktikanta Das, the governor, has insisted that the rise in food prices is temporary and expects inflation to fall in the coming months. Risks, however, remain. The rising price of oil could push up inflation further, and crops could still be hit by the uneven monsoons. The RBI’s tussle with inflation continues.Photo: Getty ImagesThe Vatican’s new prioritiesThese are radical times by Vatican standards. On Saturday Pope Francis swore in 21 new cardinals. On Wednesday he will publish an apostolic exhortation—a type of papal pronouncement—entitled “Laudate Deum” (“Praise God”) and focusing on environmental concerns. The document develops on Francis’s “Laudato si” (“Praise Be”), published in 2015, which John Kerry, America’s climate envoy, has said had a “profound impact” on the signing of the Paris Agreement. Wednesday will also see the start of a meeting about how the Roman Catholic church functions. The General Assembly of the Synod of Bishops—a body that advises the pope—will be convened and given 12 months to find ways to make the church less hierarchical. Accordingly, of the 370 voting members around 70 are non-bishops, some of whom are members of the laity and roughly half of whom are women. Francis recently made a nun one of the Synod’s under-secretaries. Other changes may be afoot, too: he has hinted at the possibility of blessing same-sex unions.Photo: Getty ImagesBiden officials talk drugs in MexicoIn September Ovidio Guzmán—the son of “El Chapo”, a notorious Mexican drug lord—was extradited to America to face drug-trafficking charges. Court documents accuse him of “flooding” American cities with fentanyl, a dangerous synthetic opioid. This week American officials are making the reverse trip, flying south for a high-level meeting with Mexican officials on organised crime and drug smuggling on Tuesday and Wednesday. There is outrage in America over the flow of drugs across the border. The Biden administration must show that it has a plan, and that Mexico is co-operating with it. While in Mexico City Antony Blinken, America’s secretary of state, will meet Andrés Manuel López Obrador, Mexico’s president. Many Republicans favour harsher tactics. The House of Representatives recently voted to cut aid to Mexico as punishment for its failure to curtail fentanyl production. Some Republican candidates for the presidency even talk of bombing the laboratories out of existence.Photo: AlamyBritain’s government derails HS2The future of HS2, a long-planned high-speed rail network, has rarely seemed secure. After weeks of speculation Rishi Sunak, Britain’s prime minister, is on Wednesday expected to axe one planned line, from Birmingham to Manchester.Estimated costs for the network have spiralled from £37.5bn in 2009 (then $62bn) to as much as £100bn ($121bn) today. The project has already been cut back. A line from Birmingham to Leeds was dropped in 2021. Rather than coming into London, trains will stop 10km outside (at least initially). After the latest cancellation Britain will have spent tens of billions of pounds on 140 miles (225km) of track. Mr Sunak’s Conservative Party, which is convening this week in Manchester, has wasted political capital too. Mr Sunak is expected to argue that the money saved can be better spent on new east-west rail connections across the north. Rail-industry experts are sceptical. Existing plans for the so-called Northern Powerhouse Rail rely on HS2 having already been built.Photo: Science Photo LibraryHow earthworms help harvestsThe UN estimates that the number of people facing acute food insecurity, caused by war and extreme weather, more than doubled between 2021 and 2023, with 345m now facing hunger. Increasing crop yields is critical. Artificial fertilisers are one way. But scientists are realising that natural organisms provide anothere. A paper in Nature finds that each year earthworms, which eat and excrete plant matter, may improve annual global yields of grains, like rice and wheat, by 128m tonnes. Researchers from Colorado State University reach that estimate by merging maps of earthworm counts and crop growth. Combining soil data from 58 previous studies, they show that in sub-Saharan Africa earthworms are responsible for 10% of total grain production.Wriggly soil-dwellers capture water and release hormones, which help plants grow. They can even trigger plants’ defences against pests. Other organisms, like bacteria, play a similar role. The importance of such underground critters is coming to the surface.Daily quizOur baristas will serve you a new question each day this week. On Friday your challenge is to give us all five answers and, as important, tell us the connecting theme. Email your responses (and include mention of your home city and country) by 1700 GMT on Friday to [email\\xa0protected]. We’ll pick randomly from those with the right answers and crown three winners on Saturday.Wednesday: Who was the lead singer of The Doors, one of the many rock stars to die at the age of 27?Tuesday: What verb refers to the removal of a chemical from soil, or other material, by passing water through it?There is no improving the future without disturbing the present.Catherine BoothSubscribeGroup subscriptionsReuse our contentThe Trust ProjectHelp and contact usKeep updatedFacebookInstagramTwitterLinkedInYouTubeRSSPublished since September 1843 to take part in “a severe contest between intelligence, which presses forward, and an unworthy, timid ignorance obstructing our progress.” The EconomistAboutAdvertisePress centreThe Economist GroupThe Economist GroupEconomist IntelligenceEconomist ImpactEconomist Impact EventsWorking HereEconomist Education CoursesWhich MBA?Executive JobsExecutive Education NavigatorTerms of UsePrivacyCookie PolicyManage CookiesAccessibilityModern Slavery StatementSitemapYour Data RightsCopyright © The Economist Newspaper Limited 2023. All rights reserved.\\n'"
      ]
     },
     "execution_count": 159,
     "metadata": {},
     "output_type": "execute_result"
    }
   ],
   "source": [
    "loaded_data[17].page_content"
   ]
  },
  {
   "cell_type": "code",
   "execution_count": 160,
   "id": "3c69da54",
   "metadata": {},
   "outputs": [],
   "source": [
    "# for pdf in pdf_list :\n",
    "#     try :\n",
    "#         pdf_data.extend(UnstructuredPDFLoader(file_path=pdf).load())        \n",
    "#     except NameError:\n",
    "#         pdf_loader = UnstructuredPDFLoader(file_path=pdf)\n",
    "#         pdf_data = pdf_loader.load()"
   ]
  },
  {
   "cell_type": "markdown",
   "id": "6215c716",
   "metadata": {},
   "source": [
    "##### - Split"
   ]
  },
  {
   "cell_type": "code",
   "execution_count": 161,
   "id": "1288cf29",
   "metadata": {},
   "outputs": [],
   "source": [
    "# chunk_size = c.prompt_max//c.retrieval_kwargs['k']\n",
    "chunk_size = 4000\n",
    "chunk_overlap = 0"
   ]
  },
  {
   "cell_type": "code",
   "execution_count": 162,
   "id": "00017c4a",
   "metadata": {},
   "outputs": [],
   "source": [
    "data_splitter = RecursiveCharacterTextSplitter(\n",
    "    chunk_size = chunk_size, chunk_overlap = chunk_overlap\n",
    ")"
   ]
  },
  {
   "cell_type": "code",
   "execution_count": 163,
   "id": "046f7b04",
   "metadata": {},
   "outputs": [],
   "source": [
    "chunked_data = data_splitter.split_documents(loaded_data)"
   ]
  },
  {
   "cell_type": "code",
   "execution_count": 164,
   "id": "3f7175a3",
   "metadata": {},
   "outputs": [
    {
     "data": {
      "text/plain": [
       "87"
      ]
     },
     "execution_count": 164,
     "metadata": {},
     "output_type": "execute_result"
    }
   ],
   "source": [
    "len(chunked_data)"
   ]
  },
  {
   "cell_type": "code",
   "execution_count": 165,
   "id": "e04ba1a3",
   "metadata": {},
   "outputs": [
    {
     "data": {
      "text/plain": [
       "309"
      ]
     },
     "execution_count": 165,
     "metadata": {},
     "output_type": "execute_result"
    }
   ],
   "source": [
    "len(chunked_data[0].page_content)"
   ]
  },
  {
   "cell_type": "code",
   "execution_count": 166,
   "id": "c4a47608",
   "metadata": {},
   "outputs": [
    {
     "data": {
      "text/plain": [
       "'Customer service is getting worse—and so are customersThe EconomistThe EconomistSkip to contentMenuWeekly editionThe world in briefSearchLog inOpinionLeadersLetters to the editorBy InvitationCurrent topicsWar in UkraineSummer readsClimate changeCoronavirusThe Biden presidencyThe world economyThe Economist explainsArtificial intelligenceCurrent topicsWar in UkraineSummer readsClimate changeCoronavirusThe Biden presidencyThe world economyThe Economist explainsArtificial intelligenceWorldThe world this weekChinaUnited StatesEuropeBritainMiddle East & AfricaAsiaThe AmericasInternationalA-Z of international relationsA-Z of military termsIn depthScience & technologyGraphic detailSpecial reportsTechnology QuarterlyThe World AheadBriefingEssaySchools briefBusiness & economicsFinance & economicsBusinessBig Mac indexA-Z of economicsEconomic & financial indicatorsCulture & society1843 magazineCultureObituaryThe Economist readsChristmas SpecialsMorePodcastsNewslettersFilmsThe Economist appSubscriber eventsOnline coursesGroup subscriptionsThe Economist liveIncluded in your subscriptionPodcastsNewslettersFilmsLive virtual eventsThe Economist appMy EconomistSaved storiesLog outSaved storiesAccountLog outSearchSearchBusiness | SchumpeterCustomer service is getting worse—and so are customersWhat could fix it? image: Brett Ryder Sep 28th 2023ShareListen to this story. Enjoy more audio and podcasts on iOS or Android.Your browser does not support the <audio> element.Rare is the company today that does not claim to be “customer-centric”. Anyone unfortunate enough to have sought assistance or redress from big business may quibble. Many interactions with customer service make you feel central only in the sense of being the prime target of corporate abuse. Such experiences grew especially maddening amid the staff shortages and supply-chain snarl-ups of the pandemic. But trouble has been brewing for some time. After rising steadily for two decades, the American Customer Satisfaction Index (ACSI), a barometer of contentment, began declining in 2018. Although it has edged up from its pandemic nadir, it has shed all of its gains since 2006.Businesses have long known that it pays to keep customers happy. In 1976 the White House commissioned TARP, a consultancy, to study the state of complaints-handling in America. Among other things, TARP’s report concluded that businesses could profit from investing more in customer service, quantifying for different industries the value that loyal customers create through repeat purchases and referrals. In the years that followed, companies from American Express to General Motors set up contact centres with toll-free phone lines to make themselves more accessible to customers. A new genre of business books extolled the value of customer loyalty. A nascent industry of consultants peddled ways to improve customer-service operations.“In a well-functioning market, it should be profitable to satisfy your customers,” argues Claes Fornell, architect of the ACSI. What, then, has gone wrong? Increased concentration in industries from airlines and banking to telecoms could be a factor, in so far as market power weakens the will of companies to invest in pleasing their clients. Much of the consolidation in these and other industries, however, occurred before or during the period in which customer satisfaction was improving.Technology may be a bigger part of the problem. Besides dropped calls, the most common irritation in customer-service interactions is being stuck with a chatbot, according to research from Genesys, a maker of contact-centre software. In recent years many companies have been busily deploying automation software in their contact centres in an attempt to do away with human interactions. The results have sometimes been disappointing both for customers and for companies, says Darci Darnell of Bain, a consultancy. Tony Bates, the boss of Genesys, also notes that many customer-service operations have become hamstrung'"
      ]
     },
     "execution_count": 166,
     "metadata": {},
     "output_type": "execute_result"
    }
   ],
   "source": [
    "chunked_data[30].page_content"
   ]
  },
  {
   "cell_type": "markdown",
   "id": "7f965017",
   "metadata": {},
   "source": [
    "##### - Store"
   ]
  },
  {
   "cell_type": "code",
   "execution_count": 167,
   "id": "76e93aa0",
   "metadata": {},
   "outputs": [],
   "source": [
    "chunks_max = 15"
   ]
  },
  {
   "cell_type": "code",
   "execution_count": 168,
   "id": "6bae9700",
   "metadata": {},
   "outputs": [],
   "source": [
    "vectorstore_engine = 'Finbot-embedding-2'"
   ]
  },
  {
   "cell_type": "code",
   "execution_count": 169,
   "id": "844575f6",
   "metadata": {},
   "outputs": [],
   "source": [
    "embedding_model = OpenAIEmbeddings(deployment=vectorstore_engine)"
   ]
  },
  {
   "cell_type": "code",
   "execution_count": 170,
   "id": "7bad3ae4",
   "metadata": {},
   "outputs": [],
   "source": [
    "try:\n",
    "    vectorstore.delete_collection()\n",
    "except (ValueError, NameError):\n",
    "    pass\n",
    "for _ in range(0, len(chunked_data), chunks_max):\n",
    "    vectorstore = Chroma.from_documents(\n",
    "        documents=chunked_data[_: _ + chunks_max], embedding=embedding_model\n",
    "    )"
   ]
  },
  {
   "cell_type": "code",
   "execution_count": 171,
   "id": "cdfe08e1",
   "metadata": {
    "scrolled": true
   },
   "outputs": [
    {
     "data": {
      "text/plain": [
       "87"
      ]
     },
     "execution_count": 171,
     "metadata": {},
     "output_type": "execute_result"
    }
   ],
   "source": [
    "len(vectorstore.get()['documents'])"
   ]
  },
  {
   "cell_type": "code",
   "execution_count": 172,
   "id": "cfb0605d",
   "metadata": {},
   "outputs": [
    {
     "data": {
      "text/plain": [
       "dict_keys(['ids', 'embeddings', 'metadatas', 'documents'])"
      ]
     },
     "execution_count": 172,
     "metadata": {},
     "output_type": "execute_result"
    }
   ],
   "source": [
    "vectorstore.get().keys()"
   ]
  },
  {
   "cell_type": "markdown",
   "id": "4d893183",
   "metadata": {},
   "source": [
    "##### - Retrieve"
   ]
  },
  {
   "cell_type": "code",
   "execution_count": 173,
   "id": "231675b2",
   "metadata": {},
   "outputs": [
    {
     "data": {
      "text/plain": [
       "7"
      ]
     },
     "execution_count": 173,
     "metadata": {},
     "output_type": "execute_result"
    }
   ],
   "source": [
    "question = \"tell me about the world in brief?\"\n",
    "docs = vectorstore.similarity_search_with_relevance_scores(question, k=7)\n",
    "len(docs)"
   ]
  },
  {
   "cell_type": "code",
   "execution_count": 174,
   "id": "37d47485",
   "metadata": {},
   "outputs": [
    {
     "data": {
      "text/plain": [
       "3996"
      ]
     },
     "execution_count": 174,
     "metadata": {},
     "output_type": "execute_result"
    }
   ],
   "source": [
    "len(docs[0][0].page_content)"
   ]
  },
  {
   "cell_type": "code",
   "execution_count": 175,
   "id": "97a1fdce",
   "metadata": {},
   "outputs": [],
   "source": [
    "# print(docs[1][0].page_content)"
   ]
  },
  {
   "cell_type": "markdown",
   "id": "b3756b18",
   "metadata": {},
   "source": [
    "##### - Generate"
   ]
  },
  {
   "cell_type": "code",
   "execution_count": 176,
   "id": "617476d9",
   "metadata": {},
   "outputs": [],
   "source": [
    "llm_engine = 'finbot-gpt'\n",
    "llm_model = 'text-davinci-002'\n",
    "temperature = 0\n",
    "search_type = 'mmr'\n",
    "retrieval_kwargs = {'k': 5, 'lambda_mult': 0.5, 'fetch_k':10}\n",
    "answer_max_tokens = 512\n",
    "save_folder = '../data/pdfs/'\n",
    "prompt_template_file = os.path.join(os.getcwd(), '../scripts/prompt_template.txt')\n",
    "pdf_list = [\n",
    "    _ for _ in glob.glob(os.path.join(os.getcwd(), save_folder, '*.pdf'))\n",
    "]\n",
    "web_list = []\n",
    "langchain.debug=False"
   ]
  },
  {
   "cell_type": "code",
   "execution_count": 177,
   "id": "57f3c217",
   "metadata": {},
   "outputs": [],
   "source": [
    "############"
   ]
  },
  {
   "cell_type": "code",
   "execution_count": 178,
   "id": "61ac49ab",
   "metadata": {},
   "outputs": [],
   "source": [
    "base_llm = AzureOpenAI(\n",
    "    engine=llm_engine, \n",
    "    model_name=llm_model, \n",
    "    temperature=temperature, \n",
    "    max_tokens=answer_max_tokens\n",
    ")"
   ]
  },
  {
   "cell_type": "code",
   "execution_count": 179,
   "id": "1cb7296e",
   "metadata": {},
   "outputs": [],
   "source": [
    "langchain.debug=False"
   ]
  },
  {
   "cell_type": "code",
   "execution_count": 180,
   "id": "a9ab4d3d",
   "metadata": {},
   "outputs": [],
   "source": [
    "from langchain.memory import ConversationSummaryBufferMemory\n",
    "from langchain.chains import ConversationalRetrievalChain"
   ]
  },
  {
   "cell_type": "code",
   "execution_count": 181,
   "id": "4313f632",
   "metadata": {},
   "outputs": [],
   "source": [
    "condense_question_template = os.path.join(\n",
    "    os.getcwd(), '..', 'scripts/condense_question_template.txt'\n",
    ")\n",
    "condense_question_input = c.condense_question_input"
   ]
  },
  {
   "cell_type": "code",
   "execution_count": 182,
   "id": "00c07a71",
   "metadata": {},
   "outputs": [],
   "source": [
    "chat_prompt = PromptTemplate.from_file(\n",
    "    condense_question_template,\n",
    "    input_variables=condense_question_input\n",
    ")"
   ]
  },
  {
   "cell_type": "code",
   "execution_count": 183,
   "id": "e5c57681",
   "metadata": {},
   "outputs": [],
   "source": [
    "qna_prompt_template = os.path.join(os.getcwd(), '..', 'scripts/qna_prompt_template.txt')\n",
    "qna_prompt_input = c.qna_prompt_input\n",
    "prompt_role = c.prompt_role"
   ]
  },
  {
   "cell_type": "code",
   "execution_count": 184,
   "id": "406d3d6a",
   "metadata": {},
   "outputs": [],
   "source": [
    "qna_prompt = PromptTemplate.from_file(\n",
    "    qna_prompt_template,\n",
    "    input_variables=qna_prompt_input,\n",
    "    partial_variables={'role':prompt_role}\n",
    ")"
   ]
  },
  {
   "cell_type": "code",
   "execution_count": 185,
   "id": "5f8db888",
   "metadata": {},
   "outputs": [],
   "source": [
    "history_tokens = 2000\n",
    "memory = ConversationSummaryBufferMemory(\n",
    "    llm=base_llm, \n",
    "    memory_key=\"chat_history\", \n",
    "    return_messages=True, \n",
    "    max_token_limit=history_tokens\n",
    ")"
   ]
  },
  {
   "cell_type": "code",
   "execution_count": 186,
   "id": "81e95a29",
   "metadata": {},
   "outputs": [],
   "source": [
    "qna_chain = ConversationalRetrievalChain.from_llm(\n",
    "    base_llm, \n",
    "    retriever=vectorstore.as_retriever(\n",
    "        search_type=search_type, search_kwargs=retrieval_kwargs\n",
    "    ),\n",
    "    memory=memory,\n",
    "    condense_question_prompt=chat_prompt,\n",
    "    combine_docs_chain_kwargs=dict(prompt=qna_prompt)\n",
    ")"
   ]
  },
  {
   "cell_type": "code",
   "execution_count": 187,
   "id": "b8d4fba2",
   "metadata": {},
   "outputs": [],
   "source": [
    "question = \"tell me about the world in brief?\"\n",
    "results = qna_chain({\"question\": question})"
   ]
  },
  {
   "cell_type": "code",
   "execution_count": 188,
   "id": "4b51312f",
   "metadata": {},
   "outputs": [
    {
     "name": "stdout",
     "output_type": "stream",
     "text": [
      " Kevin McCarthy was ousted as speaker of America’s House of Representatives in a vote forced by Matt Gaetz, a fellow Republican congressman. The motion to unseat Mr McCarthy was supported by eight Republicans and all 208 Democrats present. Mr Gaetz, a firebrand from Florida, filed the “motion to vacate” on Monday after Mr McCarthy pushed through a bipartisan spending bill. The House has taken such a vote only once before, in 1910; that effort, however, was unsuccessful. Mr McCarthy’s exit has thrown the House into turmoil. The Republican majority has no obvious replacement for him. The judge overseeing Donald Trump’s civil trial for alleged business fraud imposed a gagging order to bar the former president, and others involved in the case, from making public remarks about court staff. He warned that violating the order would result in “serious sanctions”. Mr Trump had denigrated a law clerk on social media; the judge then ordered that his post be deleted. It was removed from Mr Trump’s Truth Social site by Tuesday afternoon. America will impose sanctions on 25 companies and people in China for allegedly producing and distributing the chemicals used to make fentanyl, a deadly opioid. It is the Biden administration’s latest crackdown on China-based entities as it seeks to curb imports of the drug. A spokesperson for the Chinese government accused America of “scapegoating”. More than 250,000 Americans have died of a fentanyl overdose since 2018. The International Committee of the Red Cross published its first code of conduct for civilian cyber-hackers involved in conflicts. The eight rules of engagement include a ban on attacks on hospitals and those that foster terror among civilians. The aid agency said that unprecedented numbers of civilians had joined patriotic cyber “armies” since Russia’s invasion of Ukraine. At least 21 people, including two children, died after a coach veered off an overpass near Venice in Italy. Another 18 were injured. The bus, which was carrying tourists from Ukraine, fell 30 metres before catching fire. The mayor of Venice described the scene as “apocalyptic”. The cause of the crash is unclear. Niger’s government banned all exports of liquefied petroleum gas, an alternative fuel also known as propane, until further notice. It said that national production should be restricted to the domestic market, with exports allowed only under special authorisation. Niger usually exports its surplus LPG to neighbouring Nigeria. Mexico will increase protection for the vaquita porpoise, the world’s most endangered marine mammal, by expanding a protection zone,\n"
     ]
    }
   ],
   "source": [
    "print(results['answer'])"
   ]
  },
  {
   "cell_type": "code",
   "execution_count": null,
   "id": "b7643849",
   "metadata": {},
   "outputs": [],
   "source": []
  }
 ],
 "metadata": {
  "kernelspec": {
   "display_name": "finbot",
   "language": "python",
   "name": "finbot"
  },
  "language_info": {
   "codemirror_mode": {
    "name": "ipython",
    "version": 3
   },
   "file_extension": ".py",
   "mimetype": "text/x-python",
   "name": "python",
   "nbconvert_exporter": "python",
   "pygments_lexer": "ipython3",
   "version": "3.9.6"
  }
 },
 "nbformat": 4,
 "nbformat_minor": 5
}
