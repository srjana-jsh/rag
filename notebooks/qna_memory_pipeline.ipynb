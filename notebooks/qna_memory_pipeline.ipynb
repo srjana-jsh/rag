{
 "cells": [
  {
   "cell_type": "markdown",
   "id": "cc2732d0",
   "metadata": {},
   "source": [
    "### Pipeline for QnA with Memory"
   ]
  },
  {
   "cell_type": "code",
   "execution_count": 51,
   "id": "591866e7",
   "metadata": {},
   "outputs": [],
   "source": [
    "####Notes####\n",
    "# chunked data length can be atmost 16 for azureopenai"
   ]
  },
  {
   "cell_type": "code",
   "execution_count": 52,
   "id": "0b44b03c",
   "metadata": {},
   "outputs": [],
   "source": [
    "# !pip3 install langchain\n",
    "# !pip install openai\n",
    "# !pip3 install openai chromadb\n",
    "# !pip3 install tiktoken"
   ]
  },
  {
   "cell_type": "code",
   "execution_count": 53,
   "id": "1e3b368d",
   "metadata": {},
   "outputs": [],
   "source": [
    "# !pip3 install unstructured\n",
    "# !pip3 install pdf2image\n",
    "# !pip3 install pdfminer\n",
    "# !pip3 install pdfminer.six\n",
    "# !pip3 install pymupdf \n",
    "# !pip3 install lxml\n",
    "# !pip3 install lxml"
   ]
  },
  {
   "cell_type": "code",
   "execution_count": 54,
   "id": "65d86529",
   "metadata": {},
   "outputs": [
    {
     "data": {
      "text/plain": [
       "<module 'scraper' from '/Users/rachitjoshi/Documents/Finbot/notebooks/../scripts/scraper.py'>"
      ]
     },
     "execution_count": 54,
     "metadata": {},
     "output_type": "execute_result"
    }
   ],
   "source": [
    "import os\n",
    "import sys\n",
    "import glob\n",
    "import re\n",
    "import importlib\n",
    "import langchain\n",
    "from langchain.document_loaders import WebBaseLoader, UnstructuredPDFLoader, PyMuPDFLoader\n",
    "from langchain.text_splitter import RecursiveCharacterTextSplitter\n",
    "from langchain.indexes import VectorstoreIndexCreator\n",
    "from langchain.embeddings import OpenAIEmbeddings\n",
    "from langchain.vectorstores import Chroma\n",
    "from langchain.chains import RetrievalQA\n",
    "from langchain.llms import AzureOpenAI\n",
    "from langchain.prompts import PromptTemplate\n",
    "sys.path.append(os.path.join(os.getcwd(), '../scripts'))\n",
    "import helpers as h\n",
    "import constants as c\n",
    "import scraper as sc\n",
    "importlib.reload(h)\n",
    "importlib.reload(c)\n",
    "importlib.reload(sc)"
   ]
  },
  {
   "cell_type": "markdown",
   "id": "a7269850",
   "metadata": {},
   "source": [
    "#### Environment"
   ]
  },
  {
   "cell_type": "code",
   "execution_count": 32,
   "id": "797152d8",
   "metadata": {},
   "outputs": [],
   "source": [
    "os.environ[\"OPENAI_API_KEY\"] = \"6cdb659e5a9d402e80c212fe8ea26483\""
   ]
  },
  {
   "cell_type": "code",
   "execution_count": 33,
   "id": "1f1d835b",
   "metadata": {},
   "outputs": [],
   "source": [
    "os.environ[\"OPENAI_API_TYPE\"] = \"azure\"\n",
    "os.environ[\"OPENAI_API_VERSION\"] = \"2023-03-15-preview\"\n",
    "os.environ[\"OPENAI_API_BASE\"] = \"https://test-chatgpt-flomoney.openai.azure.com/\"\n",
    "os.environ[\"OPENAI_API_KEY\"] = os.getenv(\"OPENAI_API_KEY\")"
   ]
  },
  {
   "cell_type": "markdown",
   "id": "ddeb387c",
   "metadata": {},
   "source": [
    "#### Paths"
   ]
  },
  {
   "cell_type": "code",
   "execution_count": 34,
   "id": "689055b3",
   "metadata": {},
   "outputs": [],
   "source": [
    "pdfs_path = os.path.join(os.getcwd(), '../data/pdfs')\n",
    "merged_pdfs_path = os.path.join(os.getcwd(), '../data/pdfs_processed/merged')"
   ]
  },
  {
   "cell_type": "markdown",
   "id": "288a6688",
   "metadata": {},
   "source": [
    "#### Data"
   ]
  },
  {
   "cell_type": "code",
   "execution_count": 35,
   "id": "d849861f",
   "metadata": {},
   "outputs": [],
   "source": [
    "investorcom_pdfs = [ _ for _ in glob.glob(os.path.join(pdfs_path, '*.pdf')) if 'investorcom' in _]"
   ]
  },
  {
   "cell_type": "code",
   "execution_count": 43,
   "id": "a16cb6b9",
   "metadata": {},
   "outputs": [
    {
     "data": {
      "text/plain": [
       "[[]]"
      ]
     },
     "execution_count": 43,
     "metadata": {},
     "output_type": "execute_result"
    }
   ],
   "source": [
    "web_list = sc.scrape_site(\"https://www.scientificamerican.com/\")\n",
    "web_list"
   ]
  },
  {
   "cell_type": "code",
   "execution_count": 56,
   "id": "0e6b5d02",
   "metadata": {},
   "outputs": [
    {
     "data": {
      "text/plain": [
       "['https://www.espncricinfo.com//series/icc-cricket-world-cup-warm-up-matches-2023-24-1393958/bangladesh-vs-england-warm-up-1393964/live-cricket-score',\n",
       " 'https://www.espncricinfo.com//series/icc-cricket-world-cup-warm-up-matches-2023-24-1393958/bangladesh-vs-england-warm-up-1393964/live-cricket-score',\n",
       " 'https://www.espncricinfo.com//series/icc-cricket-world-cup-warm-up-matches-2023-24-1393958/bangladesh-vs-england-warm-up-1393964/live-cricket-score',\n",
       " 'https://www.espncricinfo.com//series/icc-cricket-world-cup-warm-up-matches-2023-24-1393958/bangladesh-vs-england-warm-up-1393964/live-cricket-score',\n",
       " 'https://www.espncricinfo.com//series/icc-cricket-world-cup-warm-up-matches-2023-24-1393958/match-schedule-fixtures-and-results',\n",
       " 'https://www.espncricinfo.com//series/icc-cricket-world-cup-warm-up-matches-2023-24-1393958',\n",
       " 'https://www.espncricinfo.com//series/icc-cricket-world-cup-warm-up-matches-2023-24-1393958/new-zealand-vs-south-africa-warm-up-1393965/live-cricket-score',\n",
       " 'https://www.espncricinfo.com//series/icc-cricket-world-cup-warm-up-matches-2023-24-1393958/new-zealand-vs-south-africa-warm-up-1393965/live-cricket-score',\n",
       " 'https://www.espncricinfo.com//series/icc-cricket-world-cup-warm-up-matches-2023-24-1393958/new-zealand-vs-south-africa-warm-up-1393965/live-cricket-score',\n",
       " 'https://www.espncricinfo.com//series/icc-cricket-world-cup-warm-up-matches-2023-24-1393958/new-zealand-vs-south-africa-warm-up-1393965/live-cricket-score',\n",
       " 'https://www.espncricinfo.com//series/icc-cricket-world-cup-warm-up-matches-2023-24-1393958/match-schedule-fixtures-and-results',\n",
       " 'https://www.espncricinfo.com//series/icc-cricket-world-cup-warm-up-matches-2023-24-1393958',\n",
       " 'https://www.espncricinfo.com//series/west-indies-women-tour-of-australia-2023-24-1375853/australia-women-vs-west-indies-women-2nd-t20i-1375864/live-cricket-score',\n",
       " 'https://www.espncricinfo.com//series/west-indies-women-tour-of-australia-2023-24-1375853/australia-women-vs-west-indies-women-2nd-t20i-1375864/live-cricket-score',\n",
       " 'https://www.espncricinfo.com//series/west-indies-women-tour-of-australia-2023-24-1375853/australia-women-vs-west-indies-women-2nd-t20i-1375864/live-cricket-score',\n",
       " 'https://www.espncricinfo.com//series/west-indies-women-tour-of-australia-2023-24-1375853/australia-women-vs-west-indies-women-2nd-t20i-1375864/live-cricket-score',\n",
       " 'https://www.espncricinfo.com//series/west-indies-women-tour-of-australia-2023-24-1375853/match-schedule-fixtures-and-results',\n",
       " 'https://www.espncricinfo.com//series/west-indies-women-tour-of-australia-2023-24-1375853/videos',\n",
       " 'https://www.espncricinfo.com//series/west-indies-women-tour-of-australia-2023-24-1375853',\n",
       " 'https://www.espncricinfo.com//series/irani-cup-2023-24-1383409/saurashtra-vs-rest-of-india-1383433/live-cricket-score',\n",
       " 'https://www.espncricinfo.com//series/irani-cup-2023-24-1383409/saurashtra-vs-rest-of-india-1383433/live-cricket-score',\n",
       " 'https://www.espncricinfo.com//series/irani-cup-2023-24-1383409/saurashtra-vs-rest-of-india-1383433/live-cricket-score',\n",
       " 'https://www.espncricinfo.com//series/irani-cup-2023-24-1383409/saurashtra-vs-rest-of-india-1383433/live-cricket-score',\n",
       " 'https://www.espncricinfo.com//series/irani-cup-2023-24-1383409/match-schedule-fixtures-and-results',\n",
       " 'https://www.espncricinfo.com//series/irani-cup-2023-24-1383409/saurashtra-vs-rest-of-india-1383433/match-report',\n",
       " 'https://www.espncricinfo.com//series/irani-cup-2023-24-1383409',\n",
       " 'https://www.espncricinfo.com//series/men-s-t20-world-cup-sub-regional-asia-qualifier-a-2023-24-1399129/qatar-vs-kuwait-7th-match-1399144/live-cricket-score',\n",
       " 'https://www.espncricinfo.com//series/men-s-t20-world-cup-sub-regional-asia-qualifier-a-2023-24-1399129/qatar-vs-kuwait-7th-match-1399144/live-cricket-score',\n",
       " 'https://www.espncricinfo.com//series/men-s-t20-world-cup-sub-regional-asia-qualifier-a-2023-24-1399129/qatar-vs-kuwait-7th-match-1399144/live-cricket-score',\n",
       " 'https://www.espncricinfo.com//series/men-s-t20-world-cup-sub-regional-asia-qualifier-a-2023-24-1399129/qatar-vs-kuwait-7th-match-1399144/live-cricket-score',\n",
       " 'https://www.espncricinfo.com//series/men-s-t20-world-cup-sub-regional-asia-qualifier-a-2023-24-1399129/match-schedule-fixtures-and-results',\n",
       " 'https://www.espncricinfo.com//series/men-s-t20-world-cup-sub-regional-asia-qualifier-a-2023-24-1399129/qatar-vs-kuwait-7th-match-1399144/points-table-standings',\n",
       " 'https://www.espncricinfo.com//series/men-s-t20-world-cup-sub-regional-asia-qualifier-a-2023-24-1399129',\n",
       " 'https://www.espncricinfo.com//series/men-s-t20-world-cup-sub-regional-asia-qualifier-a-2023-24-1399129/maldives-vs-saudi-arabia-8th-match-1399145/live-cricket-score',\n",
       " 'https://www.espncricinfo.com//series/men-s-t20-world-cup-sub-regional-asia-qualifier-a-2023-24-1399129/maldives-vs-saudi-arabia-8th-match-1399145/live-cricket-score',\n",
       " 'https://www.espncricinfo.com//series/men-s-t20-world-cup-sub-regional-asia-qualifier-a-2023-24-1399129/maldives-vs-saudi-arabia-8th-match-1399145/live-cricket-score',\n",
       " 'https://www.espncricinfo.com//series/men-s-t20-world-cup-sub-regional-asia-qualifier-a-2023-24-1399129/maldives-vs-saudi-arabia-8th-match-1399145/live-cricket-score',\n",
       " 'https://www.espncricinfo.com//series/men-s-t20-world-cup-sub-regional-asia-qualifier-a-2023-24-1399129/match-schedule-fixtures-and-results',\n",
       " 'https://www.espncricinfo.com//series/men-s-t20-world-cup-sub-regional-asia-qualifier-a-2023-24-1399129/maldives-vs-saudi-arabia-8th-match-1399145/points-table-standings',\n",
       " 'https://www.espncricinfo.com//series/men-s-t20-world-cup-sub-regional-asia-qualifier-a-2023-24-1399129',\n",
       " 'https://www.espncricinfo.com//series/namibia-women-in-united-arab-emirates-2023-24-1400032/united-arab-emirates-women-vs-namibia-women-5th-t20i-1400040/live-cricket-score',\n",
       " 'https://www.espncricinfo.com//series/namibia-women-in-united-arab-emirates-2023-24-1400032/united-arab-emirates-women-vs-namibia-women-5th-t20i-1400040/live-cricket-score',\n",
       " 'https://www.espncricinfo.com//series/namibia-women-in-united-arab-emirates-2023-24-1400032/united-arab-emirates-women-vs-namibia-women-5th-t20i-1400040/live-cricket-score',\n",
       " 'https://www.espncricinfo.com//series/namibia-women-in-united-arab-emirates-2023-24-1400032/united-arab-emirates-women-vs-namibia-women-5th-t20i-1400040/live-cricket-score',\n",
       " 'https://www.espncricinfo.com//series/namibia-women-in-united-arab-emirates-2023-24-1400032/match-schedule-fixtures-and-results',\n",
       " 'https://www.espncricinfo.com//series/namibia-women-in-united-arab-emirates-2023-24-1400032',\n",
       " 'https://www.espncricinfo.com//series/new-zealand-women-in-south-africa-2023-24-1389754/south-africa-women-vs-new-zealand-women-3rd-odi-1392350/full-scorecard',\n",
       " 'https://www.espncricinfo.com//series/new-zealand-women-in-south-africa-2023-24-1389754/south-africa-women-vs-new-zealand-women-3rd-odi-1392350/full-scorecard',\n",
       " 'https://www.espncricinfo.com//series/new-zealand-women-in-south-africa-2023-24-1389754/south-africa-women-vs-new-zealand-women-3rd-odi-1392350/full-scorecard',\n",
       " 'https://www.espncricinfo.com//series/new-zealand-women-in-south-africa-2023-24-1389754/south-africa-women-vs-new-zealand-women-3rd-odi-1392350/full-scorecard',\n",
       " 'https://www.espncricinfo.com//series/new-zealand-women-in-south-africa-2023-24-1389754/match-schedule-fixtures-and-results',\n",
       " 'https://www.espncricinfo.com//series/new-zealand-women-in-south-africa-2023-24-1389754/south-africa-women-vs-new-zealand-women-3rd-odi-1392350/match-report',\n",
       " 'https://www.espncricinfo.com//series/new-zealand-women-in-south-africa-2023-24-1389754',\n",
       " 'https://www.espncricinfo.com//series/asian-games-men-s-cricket-competition-2023-1398685/malaysia-vs-thailand-9th-match-group-c-1399112/full-scorecard',\n",
       " 'https://www.espncricinfo.com//series/asian-games-men-s-cricket-competition-2023-1398685/malaysia-vs-thailand-9th-match-group-c-1399112/full-scorecard',\n",
       " 'https://www.espncricinfo.com//series/asian-games-men-s-cricket-competition-2023-1398685/malaysia-vs-thailand-9th-match-group-c-1399112/full-scorecard',\n",
       " 'https://www.espncricinfo.com//series/asian-games-men-s-cricket-competition-2023-1398685/malaysia-vs-thailand-9th-match-group-c-1399112/full-scorecard',\n",
       " 'https://www.espncricinfo.com//series/asian-games-men-s-cricket-competition-2023-1398685/match-schedule-fixtures-and-results',\n",
       " 'https://www.espncricinfo.com//series/asian-games-men-s-cricket-competition-2023-1398685/malaysia-vs-thailand-9th-match-group-c-1399112/points-table-standings',\n",
       " 'https://www.espncricinfo.com//series/asian-games-men-s-cricket-competition-2023-1398685',\n",
       " 'https://www.espncricinfo.com//',\n",
       " 'https://www.espncricinfo.com//live-cricket-score',\n",
       " 'https://www.espncricinfo.com/ci/content/match/fixtures_futures.html',\n",
       " 'https://www.espncricinfo.com//team',\n",
       " 'https://www.espncricinfo.com//cricket-news',\n",
       " 'https://www.espncricinfo.com//cricket-features',\n",
       " 'https://www.espncricinfo.com//cricket-videos/',\n",
       " 'https://www.espncricinfo.com/records',\n",
       " 'https://www.espncricinfo.com/series/icc-cricket-world-cup-2023-24-1367856',\n",
       " 'https://www.espncricinfo.com/series/icc-cricket-world-cup-2023-24-1367856/match-schedule-fixtures-and-results',\n",
       " 'https://www.espncricinfo.com/series/icc-cricket-world-cup-2023-24-1367856/squads',\n",
       " 'https://www.espncricinfo.com/series/icc-cricket-world-cup-warm-up-matches-2023-24-1393958/match-schedule-fixtures-and-results',\n",
       " 'https://www.espncricinfo.com//series/icc-cricket-world-cup-2023-24-1367856',\n",
       " 'https://www.espncricinfo.com/ci/content/page/211270.html',\n",
       " 'https://www.espncricinfo.com/ci/content/page/211271.html',\n",
       " 'https://www.espncricinfo.com//series/asian-games-men-s-cricket-competition-2023-1398685',\n",
       " 'https://www.espncricinfo.com/espncricinfo-writers-index',\n",
       " 'https://www.espncricinfo.com/ask',\n",
       " 'https://www.espncricinfo.com/cricinfo-30-years',\n",
       " 'https://www.espncricinfo.com/series/icc-cricket-world-cup-warm-up-matches-2023-24-1393958/new-zealand-vs-south-africa-warm-up-1393965/live-cricket-score',\n",
       " 'https://www.espncricinfo.com/series/icc-cricket-world-cup-warm-up-matches-2023-24-1393958/new-zealand-vs-south-africa-warm-up-1393965/live-cricket-score',\n",
       " 'https://www.espncricinfo.com//series/icc-cricket-world-cup-warm-up-matches-2023-24-1393958/new-zealand-vs-south-africa-warm-up-1393965/live-cricket-score',\n",
       " 'https://www.espncricinfo.com//story/david-miller-s-power-hitting-mantra-i-feel-when-i-m-comfortable-i-m-not-going-to-stop-1400198',\n",
       " 'https://www.espncricinfo.com//story/south-africa-world-cup-preview-david-miller-heinrich-klaasen-key-as-sa-look-to-shrug-off-nearly-men-tag-1400668',\n",
       " 'https://www.espncricinfo.com//story/new-zealand-world-cup-preview-one-last-ride-for-kane-williamson-tim-southee-and-trent-boult-1400442',\n",
       " 'https://www.espncricinfo.com//story/grant-elliott-on-the-2015-world-cup-semi-final-in-which-he-hit-a-match-winning-six-for-new-zealand-1189817',\n",
       " 'https://www.espncricinfo.com/series/icc-cricket-world-cup-warm-up-matches-2023-24-1393958/bangladesh-vs-england-warm-up-1393964/live-cricket-score',\n",
       " 'https://www.espncricinfo.com/series/icc-cricket-world-cup-warm-up-matches-2023-24-1393958/bangladesh-vs-england-warm-up-1393964/live-cricket-score',\n",
       " 'https://www.espncricinfo.com//series/icc-cricket-world-cup-warm-up-matches-2023-24-1393958/bangladesh-vs-england-warm-up-1393964/live-cricket-score',\n",
       " 'https://www.espncricinfo.com//story/icc-cricket-world-cup-shakib-al-hasan-set-to-play-bangladesh-first-game-vs-afghanistan-1400726',\n",
       " 'https://www.espncricinfo.com//story/mark-nicholas-mcc-president-odi-cricket-world-cups-1400719',\n",
       " 'https://www.espncricinfo.com//story/world-cup-2023-england-seek-world-cup-encore-despite-ageing-stars-1400159',\n",
       " 'https://www.espncricinfo.com//story/odi-world-cup-preview-shakib-the-key-as-bangladesh-aim-for-improved-returns-1400216',\n",
       " 'https://www.espncricinfo.com/series/west-indies-women-tour-of-australia-2023-24-1375853/australia-women-vs-west-indies-women-2nd-t20i-1375864/live-cricket-score',\n",
       " 'https://www.espncricinfo.com/series/west-indies-women-tour-of-australia-2023-24-1375853/australia-women-vs-west-indies-women-2nd-t20i-1375864/live-cricket-score',\n",
       " 'https://www.espncricinfo.com//series/west-indies-women-tour-of-australia-2023-24-1375853/australia-women-vs-west-indies-women-2nd-t20i-1375864/live-cricket-score',\n",
       " 'https://www.espncricinfo.com/series/irani-cup-2023-24-1383409/saurashtra-vs-rest-of-india-1383433/live-cricket-score',\n",
       " 'https://www.espncricinfo.com/series/irani-cup-2023-24-1383409/saurashtra-vs-rest-of-india-1383433/live-cricket-score',\n",
       " 'https://www.espncricinfo.com//series/irani-cup-2023-24-1383409/saurashtra-vs-rest-of-india-1383433/live-cricket-score',\n",
       " 'https://www.espncricinfo.com//series/irani-cup-2023-24-1383409/saurashtra-vs-rest-of-india-1383433/match-report-1',\n",
       " 'https://www.espncricinfo.com//series/new-zealand-women-in-south-africa-2023-24-1389754/south-africa-women-vs-new-zealand-women-3rd-odi-1392350/match-report',\n",
       " 'https://www.espncricinfo.com//series/new-zealand-women-in-south-africa-2023-24-1389754/south-africa-women-vs-new-zealand-women-3rd-odi-1392350/match-report',\n",
       " 'https://www.espncricinfo.com//series/new-zealand-women-in-south-africa-2023-24-1389754/south-africa-women-vs-new-zealand-women-3rd-odi-1392350/full-scorecard',\n",
       " 'https://www.espncricinfo.com/series/icc-women-s-championship-2022-23-2025-1308225/points-table-standings',\n",
       " 'https://www.espncricinfo.com//series/icc-cricket-world-cup-warm-up-matches-2023-24-1393958/australia-vs-netherlands-warm-up-1393963/match-report',\n",
       " 'https://www.espncricinfo.com//series/icc-cricket-world-cup-warm-up-matches-2023-24-1393958/australia-vs-netherlands-warm-up-1393963/match-report',\n",
       " 'https://www.espncricinfo.com//series/icc-cricket-world-cup-warm-up-matches-2023-24-1393958/australia-vs-netherlands-warm-up-1393963/full-scorecard',\n",
       " 'https://www.thecricketmonthly.com/story/1400305/men-in-orange-how-netherlands-grew-a-big-team-mentality',\n",
       " 'https://www.espncricinfo.com//story/world-cup-2023-australia-enter-familiar-territory-light-on-spin-heavy-on-confidence-1400464',\n",
       " 'https://www.espncricinfo.com//story/world-cup-2023-australia-say-glenn-maxwell-a-frontline-spin-option-1400493',\n",
       " 'https://www.espncricinfo.com//story/australia-have-some-pat-cummins-questions-going-into-the-world-cup-1399392',\n",
       " 'https://www.espncricinfo.com//story/from-andhra-pradesh-to-auckland-to-amsterdam-teja-nidamanuru-s-journey-to-the-2023-world-cup-1398140',\n",
       " 'https://www.espncricinfo.com//cricket-videos/what-role-will-travis-head-play-at-world-cup-for-australia-1400503',\n",
       " 'https://www.espncricinfo.com//cricket-videos/world-cup-preview-can-netherlands-rely-on-individual-brilliance-on-the-big-stage-1400628',\n",
       " 'https://www.espncricinfo.com//series/asian-games-men-s-cricket-competition-2023-1398685/malaysia-vs-thailand-9th-match-group-c-1399112/full-scorecard',\n",
       " 'https://www.espncricinfo.com//series/asian-games-men-s-cricket-competition-2023-1398685/maldives-vs-nepal-7th-match-group-a-1399110/full-scorecard',\n",
       " 'https://www.espncricinfo.com//series/asian-games-men-s-cricket-competition-2023-1398685/hong-kong-vs-japan-8th-match-group-b-1399111/full-scorecard',\n",
       " 'https://www.espncricinfo.com/series/asian-games-men-s-cricket-competition-2023-1398685/match-schedule-fixtures-and-results',\n",
       " 'https://www.espncricinfo.com//story/david-miller-s-power-hitting-mantra-i-feel-when-i-m-comfortable-i-m-not-going-to-stop-1400198',\n",
       " 'https://www.espncricinfo.com//story/david-miller-s-power-hitting-mantra-i-feel-when-i-m-comfortable-i-m-not-going-to-stop-1400198',\n",
       " 'https://www.espncricinfo.com//story/classic-world-cup-moments-ms-dhoni-s-run-out-against-new-zealand-in-the-semi-final-1390581',\n",
       " 'https://www.espncricinfo.com//cricket-videos/the-incredible-rise-of-haris-rauf-1400629',\n",
       " 'https://www.espncricinfo.com//story/world-cup-2023-better-late-than-ever-daryl-mitchell-is-on-the-up-and-up-1400343',\n",
       " 'https://www.thecricketmonthly.com/story/1400305/men-in-orange-how-netherlands-grew-a-big-team-mentality',\n",
       " 'https://www.espncricinfo.com//story/south-africa-world-cup-preview-david-miller-heinrich-klaasen-key-as-sa-look-to-shrug-off-nearly-men-tag-1400668',\n",
       " 'https://www.espncricinfo.com//story/south-africa-world-cup-preview-david-miller-heinrich-klaasen-key-as-sa-look-to-shrug-off-nearly-men-tag-1400668',\n",
       " 'https://www.espncricinfo.com//story/world-cup-2023-netherlands-have-the-spunk-but-do-they-have-the-steel-1400667',\n",
       " 'https://www.espncricinfo.com//story/odi-world-cup-preview-shakib-the-key-as-bangladesh-aim-for-improved-returns-1400216',\n",
       " 'https://www.espncricinfo.com//story/world-cup-2023-spunky-sl-out-to-prove-heydays-are-not-behind-them-1400593',\n",
       " 'https://www.espncricinfo.com//story/world-cup-2023-afghanistan-fortunes-once-again-hinge-on-their-spinners-1400495',\n",
       " 'https://www.espncricinfo.com//story/world-cup-2023-australia-enter-familiar-territory-light-on-spin-heavy-on-confidence-1400464',\n",
       " 'https://www.espncricinfo.com//story/pakistan-world-cup-preview-naseem-shah-less-pakistan-look-up-to-shaheen-afridi-for-lift-off-1400632',\n",
       " 'https://www.espncricinfo.com//story/world-cup-2023-india-preview-india-strong-favourites-yet-again-1400478',\n",
       " 'https://www.espncricinfo.com//story/world-cup-2023-england-seek-world-cup-encore-despite-ageing-stars-1400159',\n",
       " 'https://www.espncricinfo.com//story/new-zealand-world-cup-preview-one-last-ride-for-kane-williamson-tim-southee-and-trent-boult-1400442',\n",
       " 'https://www.espncricinfo.com/live-blog/the-buzz-england-get-ready-for-rugby-world-cup-1400697#13505',\n",
       " 'https://www.espncricinfo.com/live-blog/the-buzz-england-get-ready-for-rugby-world-cup-1400697#13505',\n",
       " 'https://www.espncricinfo.com/live-blog/the-buzz-england-get-ready-for-rugby-world-cup-1400697#13504',\n",
       " 'https://www.espncricinfo.com/live-blog/the-buzz-england-get-ready-for-rugby-world-cup-1400697#13503',\n",
       " 'https://www.espncricinfo.com/live-blog/the-buzz-england-get-ready-for-rugby-world-cup-1400697#13502',\n",
       " 'https://www.espncricinfo.com//live-blog/the-buzz-england-get-ready-for-rugby-world-cup-1400697',\n",
       " 'https://www.thecricketmonthly.com/story/1376404/greatest-odis-no-5-england-vs-ireland-world-cup-bangalore-2011',\n",
       " 'https://www.thecricketmonthly.com/story/1376404/greatest-odis-no-5-england-vs-ireland-world-cup-bangalore-2011',\n",
       " 'https://www.thecricketmonthly.com/story/1371805/greatest-odis-no-6-india-vs-west-indies-world-cup-final-1983',\n",
       " 'https://www.thecricketmonthly.com/story/1376405/greatest-odis-no-7-england-vs-india-natwest-series-final-lord-s-2002',\n",
       " 'https://www.thecricketmonthly.com/story/1390568/greatest-odis-no-8-australia-vs-west-indies-world-cup-semi-final-in-mohali-1996',\n",
       " 'https://www.thecricketmonthly.com/genre/753',\n",
       " 'https://www.espncricinfo.com//cricket-news',\n",
       " 'https://www.espncricinfo.com//story/icc-cricket-world-cup-shakib-al-hasan-set-to-play-bangladesh-first-game-vs-afghanistan-1400726',\n",
       " 'https://www.espncricinfo.com//series/west-indies-women-tour-of-australia-2023-24-1375853/australia-women-vs-west-indies-women-1st-t20i-1375863/match-report',\n",
       " 'https://www.espncricinfo.com//series/new-zealand-women-in-south-africa-2023-24-1389754/south-africa-women-vs-new-zealand-women-3rd-odi-1392350/match-report',\n",
       " 'https://www.espncricinfo.com//story/trent-bridge-rename-pavilion-end-honour-stuart-broad-1400538',\n",
       " 'https://www.espncricinfo.com//series/icc-cricket-world-cup-warm-up-matches-2023-24-1393958/australia-vs-netherlands-warm-up-1393963/match-report',\n",
       " 'https://www.espncricinfo.com//story/shane-deitz-s-message-to-west-indies-against-australia-play-with-freedom-and-have-fun-1400592',\n",
       " 'https://www.espncricinfo.com//story/knee-held-up-pretty-well-kane-williamson-marks-return-from-injury-with-half-century-1400579',\n",
       " 'https://www.espncricinfo.com//story/world-cup-2023-faqs-who-are-the-favourites-which-games-should-you-call-in-sick-for-1400212',\n",
       " 'https://www.espncricinfo.com//cricket-features',\n",
       " 'https://www.thecricketmonthly.com/story/1400148/the-antipodean-world-cups-south-africa-s-twin-heartbreaks-new-zealand-s-homecoming',\n",
       " 'https://www.espncricinfo.com//story/from-andhra-pradesh-to-auckland-to-amsterdam-teja-nidamanuru-s-journey-to-the-2023-world-cup-1398140',\n",
       " 'https://www.thecricketmonthly.com/story/1398142/nathan-leamon-what-happens-when-the-odi-world-cup-meets-a-t20-mindset',\n",
       " 'https://www.espncricinfo.com//story/shaheen-afridi-on-his-first-world-cup-the-tournament-that-turned-shaheen-the-boy-into-shaheen-shah-afridi-the-name-1399409',\n",
       " 'https://www.espncricinfo.com//story/megan-schutt-i-didnt-have-the-skill-or-work-ethic-i-just-happened-to-be-able-to-swing-a-ball-1399783',\n",
       " 'https://www.espncricinfo.com//story/once-a-modern-odi-great-shikhar-dhawan-fades-away-unnoticed-1399341',\n",
       " 'https://www.espncricinfo.com//story/australia-have-some-pat-cummins-questions-going-into-the-world-cup-1399392',\n",
       " 'https://www.espncricinfo.com//story/who-has-taken-the-quickest-five-for-in-an-odi-1399909',\n",
       " 'https://www.espncricinfo.com//story/it-s-a-pity-the-odi-has-been-allowed-to-wither-as-a-format-1399691',\n",
       " 'https://www.espncricinfo.com//cricketers/hardavinder-sandhu-228944',\n",
       " 'https://www.espncricinfo.com//cricketers/virat-kohli-253802',\n",
       " 'https://www.espncricinfo.com//cricketers/amelia-kerr-803971',\n",
       " 'https://www.espncricinfo.com//cricketers/anneke-bosch-482506',\n",
       " 'https://www.espncricinfo.com//cricketers/abinash-bohara-1058508',\n",
       " 'https://www.espncricinfo.com//cricketers/babar-azam-348144',\n",
       " 'https://www.espncricinfo.com//cricketers/rohit-sharma-34102',\n",
       " 'https://www.espncricinfo.com//cricketers/sai-sudharsan-1151288',\n",
       " 'https://www.espncricinfo.com//cricketers/parth-bhut-1211064',\n",
       " 'https://www.espncricinfo.com//cricketers/shubman-gill-1070173',\n",
       " 'https://www.espncricinfo.com//series/asian-games-men-s-cricket-competition-2023-1398685',\n",
       " 'https://www.espncricinfo.com//series/icc-cricket-world-cup-2023-24-1367856',\n",
       " 'https://www.espncricinfo.com//series/new-zealand-in-bangladesh-2023-24-1395688',\n",
       " 'https://www.espncricinfo.com//series/irani-cup-2023-24-1383409',\n",
       " 'https://www.espncricinfo.com//series/county-championship-division-one-2023-1347099',\n",
       " 'https://www.espncricinfo.com//series/county-championship-division-two-2023-1347098',\n",
       " 'https://www.espncricinfo.com//series/rachael-heyhoe-flint-trophy-2023-1347396',\n",
       " 'https://www.espncricinfo.com//series/icc-women-s-championship-2022-23-2025-1308225',\n",
       " 'https://www.espncricinfo.com//series/icc-world-test-championship-2023-2025-1345943',\n",
       " 'https://www.espncricinfo.com//series/world-cup-super-league-2020-2022-23-1227837',\n",
       " 'https://www.espncricinfo.com//series/world-cup-league-2-2019-2023-1196667',\n",
       " 'https://www.espncricinfo.com//series/cwc-challenge-league-a-2019-2022-23-1200432',\n",
       " 'https://www.espncricinfo.com//cricket-videos',\n",
       " 'https://www.espncricinfo.com//cricket-videos/anil-kumble-fact-or-fiction-does-he-have-padma-shri-is-there-traffic-circle-after-him-1399865',\n",
       " 'https://www.espncricinfo.com//cricket-videos/25-questions-with-suryakumar-yadav-who-would-win-a-staring-contest-between-suryakumar-yadav-and-vi-1343807',\n",
       " 'https://www.espncricinfo.com//cricket-videos/the-incredible-rise-of-haris-rauf-1400629',\n",
       " 'https://www.espncricinfo.com//cricket-videos/can-new-zealand-make-it-to-their-third-straight-odi-world-cup-final-1400566',\n",
       " 'https://www.espncricinfo.com//cricket-videos/middle-order-and-spin-department-a-concern-for-pakistan-1400584',\n",
       " 'https://www.espncricinfo.com//cricket-videos/what-role-will-travis-head-play-at-world-cup-for-australia-1400503',\n",
       " 'https://www.espncricinfo.com//cricket-videos/preview-can-england-defend-their-world-cup-title-1400539',\n",
       " 'https://www.espncricinfo.com//cricket-videos/piyush-chawla-says-ashwin-could-get-into-india-xi-for-the-world-cup-straightaway-1400393',\n",
       " 'https://www.espncricinfo.com//cricket-videos/what-does-marnus-labuschagne-inclusion-in-world-cup-squad-mean-for-australia-1400409',\n",
       " 'https://www.espncricinfo.com//cricket-videos/suzie-bates-prepares-to-play-her-300th-game-of-cricket-for-new-zealand-1400631',\n",
       " 'https://www.espncricinfo.com//cricket-videos/anil-kumble-fact-or-fiction-does-he-have-padma-shri-is-there-traffic-circle-after-him-1399865',\n",
       " 'https://www.espncricinfo.com//cricket-videos/25-questions-with-suryakumar-yadav-who-would-win-a-staring-contest-between-suryakumar-yadav-and-vi-1343807',\n",
       " 'https://www.espncricinfo.com//cricket-videos/the-incredible-rise-of-haris-rauf-1400629',\n",
       " 'https://www.espncricinfo.com//cricket-videos/can-new-zealand-make-it-to-their-third-straight-odi-world-cup-final-1400566',\n",
       " 'https://www.espncricinfo.com//cricket-videos/middle-order-and-spin-department-a-concern-for-pakistan-1400584',\n",
       " 'https://www.espncricinfo.com//cricket-videos/what-role-will-travis-head-play-at-world-cup-for-australia-1400503',\n",
       " 'https://www.espncricinfo.com//cricket-videos/preview-can-england-defend-their-world-cup-title-1400539',\n",
       " 'https://www.espncricinfo.com//cricket-videos/piyush-chawla-says-ashwin-could-get-into-india-xi-for-the-world-cup-straightaway-1400393',\n",
       " 'https://www.espncricinfo.com//cricket-videos/what-does-marnus-labuschagne-inclusion-in-world-cup-squad-mean-for-australia-1400409',\n",
       " 'https://www.espncricinfo.com//cricket-videos/suzie-bates-prepares-to-play-her-300th-game-of-cricket-for-new-zealand-1400631',\n",
       " 'https://www.espncricinfo.com//cricket-videos/anil-kumble-fact-or-fiction-does-he-have-padma-shri-is-there-traffic-circle-after-him-1399865',\n",
       " 'https://stats.espncricinfo.com/ci/engine/stats/index.html?class=2;filter=advanced;orderby=fifty_plus;runsmin1=50;runsval1=runs;template=results;trophy=12;type=batting',\n",
       " 'https://stats.espncricinfo.com/ci/engine/stats/index.html?class=2;filter=advanced;orderby=wickets;template=results;trophy=12;type=bowling;view=series',\n",
       " 'https://stats.espncricinfo.com/ci/engine/stats/index.html?class=3;filter=advanced;orderby=team_score;template=results;type=team;view=innings',\n",
       " 'https://www.espncricinfo.com/records/fastest-hundreds-386083',\n",
       " 'https://stats.espncricinfo.com/ci/engine/stats/index.html?class=10;filter=advanced;groupby=captains;orderby=matches;size=200;template=results;type=team',\n",
       " 'https://www.espncricinfo.com//on-this-day/cricket-events',\n",
       " 'https://www.espncricinfo.com//on-this-day/cricket-events/october/2',\n",
       " 'https://www.instagram.com/espncricinfo/',\n",
       " 'https://twitter.com/espncricinfo',\n",
       " 'https://www.facebook.com/Cricinfo/',\n",
       " 'https://www.youtube.com/espncricinfo',\n",
       " 'https://www.espncricinfo.com//story/south-africa-world-cup-preview-david-miller-heinrich-klaasen-key-as-sa-look-to-shrug-off-nearly-men-tag-1400668',\n",
       " 'https://www.espncricinfo.com//story/pakistan-world-cup-preview-naseem-shah-less-pakistan-look-up-to-shaheen-afridi-for-lift-off-1400632',\n",
       " 'https://www.espncricinfo.com//story/world-cup-2023-india-preview-india-strong-favourites-yet-again-1400478',\n",
       " 'https://www.espncricinfo.com//story/world-cup-2023-better-late-than-ever-daryl-mitchell-is-on-the-up-and-up-1400343',\n",
       " 'https://www.espncricinfo.com//story/world-cup-2023-australia-enter-familiar-territory-light-on-spin-heavy-on-confidence-1400464',\n",
       " 'https://www.espncricinfo.com//photo',\n",
       " 'https://www.espncricinfo.com/ci/content/quote/index.html',\n",
       " 'https://www.espncricinfo.com/ci/content/quote/index.html',\n",
       " 'https://www.espncricinfo.com//series/asian-games-men-s-cricket-competition-2023-1398685',\n",
       " 'https://www.espncricinfo.com//series/icc-cricket-world-cup-2023-24-1367856',\n",
       " 'https://www.espncricinfo.com//series/new-zealand-in-bangladesh-2023-24-1395688',\n",
       " 'https://www.espncricinfo.com//series/irani-cup-2023-24-1383409',\n",
       " 'https://www.espncricinfo.com//series/county-championship-division-one-2023-1347099',\n",
       " 'https://www.espncricinfo.com//series/county-championship-division-two-2023-1347098',\n",
       " 'https://www.espncricinfo.com//series/rachael-heyhoe-flint-trophy-2023-1347396',\n",
       " 'https://www.espncricinfo.com//series/icc-women-s-championship-2022-23-2025-1308225',\n",
       " 'https://www.espncricinfo.com//series/icc-world-test-championship-2023-2025-1345943',\n",
       " 'https://www.espncricinfo.com//series/world-cup-super-league-2020-2022-23-1227837',\n",
       " 'https://www.espncricinfo.com//series/world-cup-league-2-2019-2023-1196667',\n",
       " 'https://www.espncricinfo.com//series/cwc-challenge-league-a-2019-2022-23-1200432',\n",
       " 'https://www.instagram.com/espncricinfo/',\n",
       " 'https://twitter.com/espncricinfo',\n",
       " 'https://www.facebook.com/Cricinfo/',\n",
       " 'https://www.youtube.com/espncricinfo',\n",
       " 'https://www.instagram.com/espncricinfo/',\n",
       " 'https://twitter.com/espncricinfo',\n",
       " 'https://www.facebook.com/Cricinfo/',\n",
       " 'https://www.youtube.com/espncricinfo',\n",
       " 'https://play.google.com/store/apps/details?id=com.july.cricinfo&hl=en',\n",
       " 'https://apps.apple.com/in/app/cricinfo-live-cricket-scores/id417408017',\n",
       " 'http://www.thecricketmonthly.com/',\n",
       " 'http://www.espn.in/',\n",
       " 'https://disneytermsofuse.com/english-united-kingdom/',\n",
       " 'https://privacy.thewaltdisneycompany.com/en/current-privacy-policy/',\n",
       " 'https://preferences-mgr.truste.com/?pid=disney01&aid=espnemea01&type=espn',\n",
       " 'https://privacy.thewaltdisneycompany.com/en/current-privacy-policy/privacy-notice/',\n",
       " 'https://privacy.thewaltdisneycompany.com/en/current-privacy-policy/cookies-policy/',\n",
       " 'https://submit.espncricinfo.com/ci/content/submit/forms/feedback.html']"
      ]
     },
     "execution_count": 56,
     "metadata": {},
     "output_type": "execute_result"
    }
   ],
   "source": [
    "web_list = sc.scrape_site(\"https://www.espncricinfo.com/\")\n",
    "web_list"
   ]
  },
  {
   "cell_type": "code",
   "execution_count": 37,
   "id": "b0f3149d",
   "metadata": {},
   "outputs": [],
   "source": [
    "web_list = [\n",
    "    'https://www.scientificamerican.com/article/pangaea-ultima-the-next-supercontinent-may-doom-mammals-to-far-future-extinction/',\n",
    "    'https://www.scientificamerican.com/article/ho-oleilana-a-billion-light-year-wide-bubble-of-galaxies-astounds-astronomers/',\n",
    "    'https://www.scientificamerican.com/article/dead-trees-and-a-mysterious-cosmic-explosion-reveal-bigger-quake-risk-for-seattle/',\n",
    "    'https://www.scientificamerican.com/article/streetlights-are-mysteriously-turning-purple-heres-why/',\n",
    "    'https://www.scientificamerican.com/article/to-move-fast-quantum-maze-solvers-must-forget-the-past/',\n",
    "]"
   ]
  },
  {
   "cell_type": "code",
   "execution_count": 29,
   "id": "c9eb14a7",
   "metadata": {},
   "outputs": [],
   "source": []
  },
  {
   "cell_type": "code",
   "execution_count": 30,
   "id": "29a64113",
   "metadata": {},
   "outputs": [
    {
     "data": {
      "text/plain": [
       "[[]]"
      ]
     },
     "execution_count": 30,
     "metadata": {},
     "output_type": "execute_result"
    }
   ],
   "source": [
    "web_list"
   ]
  },
  {
   "cell_type": "markdown",
   "id": "6569d75a",
   "metadata": {},
   "source": [
    "##### - Load"
   ]
  },
  {
   "cell_type": "code",
   "execution_count": 10,
   "id": "f078336e",
   "metadata": {},
   "outputs": [],
   "source": [
    "# loaded_data = []\n",
    "# for pdf in investorcom_pdfs :\n",
    "#     loaded_data.extend(UnstructuredPDFLoader(file_path=pdf).load())        "
   ]
  },
  {
   "cell_type": "code",
   "execution_count": 11,
   "id": "8dba9531",
   "metadata": {},
   "outputs": [],
   "source": [
    "loaded_data = []\n",
    "for page in web_list :\n",
    "    loaded_data.extend(WebBaseLoader(page).load())       "
   ]
  },
  {
   "cell_type": "code",
   "execution_count": 12,
   "id": "e841f1f5",
   "metadata": {},
   "outputs": [
    {
     "data": {
      "text/plain": [
       "5"
      ]
     },
     "execution_count": 12,
     "metadata": {},
     "output_type": "execute_result"
    }
   ],
   "source": [
    "len(loaded_data)"
   ]
  },
  {
   "cell_type": "code",
   "execution_count": 13,
   "id": "05d1c289",
   "metadata": {},
   "outputs": [
    {
     "data": {
      "text/plain": [
       "7358"
      ]
     },
     "execution_count": 13,
     "metadata": {},
     "output_type": "execute_result"
    }
   ],
   "source": [
    "len(loaded_data[0].page_content)"
   ]
  },
  {
   "cell_type": "code",
   "execution_count": 14,
   "id": "3c69da54",
   "metadata": {},
   "outputs": [],
   "source": [
    "# for pdf in pdf_list :\n",
    "#     try :\n",
    "#         pdf_data.extend(UnstructuredPDFLoader(file_path=pdf).load())        \n",
    "#     except NameError:\n",
    "#         pdf_loader = UnstructuredPDFLoader(file_path=pdf)\n",
    "#         pdf_data = pdf_loader.load()"
   ]
  },
  {
   "cell_type": "markdown",
   "id": "6215c716",
   "metadata": {},
   "source": [
    "##### - Split"
   ]
  },
  {
   "cell_type": "code",
   "execution_count": 15,
   "id": "1288cf29",
   "metadata": {},
   "outputs": [],
   "source": [
    "chunk_size = c.prompt_max//c.retrieval_kwargs['k']\n",
    "chunk_overlap = 0"
   ]
  },
  {
   "cell_type": "code",
   "execution_count": 16,
   "id": "00017c4a",
   "metadata": {},
   "outputs": [],
   "source": [
    "data_splitter = RecursiveCharacterTextSplitter(\n",
    "    chunk_size = chunk_size, chunk_overlap = chunk_overlap\n",
    ")"
   ]
  },
  {
   "cell_type": "code",
   "execution_count": 17,
   "id": "046f7b04",
   "metadata": {},
   "outputs": [],
   "source": [
    "chunked_data = data_splitter.split_documents(loaded_data)"
   ]
  },
  {
   "cell_type": "code",
   "execution_count": 18,
   "id": "3f7175a3",
   "metadata": {},
   "outputs": [
    {
     "data": {
      "text/plain": [
       "8"
      ]
     },
     "execution_count": 18,
     "metadata": {},
     "output_type": "execute_result"
    }
   ],
   "source": [
    "len(chunked_data)"
   ]
  },
  {
   "cell_type": "code",
   "execution_count": 19,
   "id": "e04ba1a3",
   "metadata": {},
   "outputs": [
    {
     "data": {
      "text/plain": [
       "7357"
      ]
     },
     "execution_count": 19,
     "metadata": {},
     "output_type": "execute_result"
    }
   ],
   "source": [
    "len(chunked_data[0].page_content)"
   ]
  },
  {
   "cell_type": "markdown",
   "id": "7f965017",
   "metadata": {},
   "source": [
    "##### - Store"
   ]
  },
  {
   "cell_type": "code",
   "execution_count": 20,
   "id": "76e93aa0",
   "metadata": {},
   "outputs": [],
   "source": [
    "chunks_max = 15"
   ]
  },
  {
   "cell_type": "code",
   "execution_count": 21,
   "id": "6bae9700",
   "metadata": {},
   "outputs": [],
   "source": [
    "vectorstore_engine = 'Finbot-embedding-2'"
   ]
  },
  {
   "cell_type": "code",
   "execution_count": 22,
   "id": "844575f6",
   "metadata": {},
   "outputs": [],
   "source": [
    "embedding_model = OpenAIEmbeddings(deployment=vectorstore_engine)"
   ]
  },
  {
   "cell_type": "code",
   "execution_count": 23,
   "id": "7bad3ae4",
   "metadata": {},
   "outputs": [],
   "source": [
    "try:\n",
    "    vectorstore.delete_collection()\n",
    "except (ValueError, NameError):\n",
    "    pass\n",
    "for _ in range(0, len(chunked_data), chunks_max):\n",
    "    vectorstore = Chroma.from_documents(\n",
    "        documents=chunked_data[_: _ + chunks_max], embedding=embedding_model\n",
    "    )"
   ]
  },
  {
   "cell_type": "code",
   "execution_count": 24,
   "id": "cdfe08e1",
   "metadata": {
    "scrolled": true
   },
   "outputs": [
    {
     "data": {
      "text/plain": [
       "8"
      ]
     },
     "execution_count": 24,
     "metadata": {},
     "output_type": "execute_result"
    }
   ],
   "source": [
    "len(vectorstore.get()['documents'])"
   ]
  },
  {
   "cell_type": "code",
   "execution_count": 25,
   "id": "cfb0605d",
   "metadata": {},
   "outputs": [
    {
     "data": {
      "text/plain": [
       "dict_keys(['ids', 'embeddings', 'metadatas', 'documents'])"
      ]
     },
     "execution_count": 25,
     "metadata": {},
     "output_type": "execute_result"
    }
   ],
   "source": [
    "vectorstore.get().keys()"
   ]
  },
  {
   "cell_type": "markdown",
   "id": "4d893183",
   "metadata": {},
   "source": [
    "##### - Retrieve"
   ]
  },
  {
   "cell_type": "code",
   "execution_count": 26,
   "id": "231675b2",
   "metadata": {},
   "outputs": [
    {
     "data": {
      "text/plain": [
       "7"
      ]
     },
     "execution_count": 26,
     "metadata": {},
     "output_type": "execute_result"
    }
   ],
   "source": [
    "question = \"what are the pros and cons of tesla stock and nvidia stock?\"\n",
    "docs = vectorstore.similarity_search_with_relevance_scores(question, k=7)\n",
    "len(docs)"
   ]
  },
  {
   "cell_type": "code",
   "execution_count": 27,
   "id": "37d47485",
   "metadata": {},
   "outputs": [
    {
     "data": {
      "text/plain": [
       "77"
      ]
     },
     "execution_count": 27,
     "metadata": {},
     "output_type": "execute_result"
    }
   ],
   "source": [
    "len(docs[0][0].page_content)"
   ]
  },
  {
   "cell_type": "code",
   "execution_count": 28,
   "id": "97a1fdce",
   "metadata": {},
   "outputs": [],
   "source": [
    "# print(docs[1][0].page_content)"
   ]
  },
  {
   "cell_type": "markdown",
   "id": "b3756b18",
   "metadata": {},
   "source": [
    "##### - Generate"
   ]
  },
  {
   "cell_type": "code",
   "execution_count": 29,
   "id": "617476d9",
   "metadata": {},
   "outputs": [],
   "source": [
    "llm_engine = 'finbot-gpt'\n",
    "llm_model = 'text-davinci-002'\n",
    "temperature = 0\n",
    "search_type = 'mmr'\n",
    "retrieval_kwargs = {'k': 5, 'lambda_mult': 0.5, 'fetch_k':10}\n",
    "answer_max_tokens = 512\n",
    "save_folder = '../data/pdfs/'\n",
    "prompt_template_file = os.path.join(os.getcwd(), '../scripts/prompt_template.txt')\n",
    "pdf_list = [\n",
    "    _ for _ in glob.glob(os.path.join(os.getcwd(), save_folder, '*.pdf'))\n",
    "]\n",
    "web_list = []\n",
    "langchain.debug=False"
   ]
  },
  {
   "cell_type": "code",
   "execution_count": 30,
   "id": "57f3c217",
   "metadata": {},
   "outputs": [],
   "source": [
    "############"
   ]
  },
  {
   "cell_type": "code",
   "execution_count": 31,
   "id": "61ac49ab",
   "metadata": {},
   "outputs": [
    {
     "name": "stderr",
     "output_type": "stream",
     "text": [
      "/Users/rachitjoshi/finbot/lib/python3.9/site-packages/langchain/utils/utils.py:155: UserWarning: WARNING! engine is not default parameter.\n",
      "                engine was transferred to model_kwargs.\n",
      "                Please confirm that engine is what you intended.\n",
      "  warnings.warn(\n"
     ]
    }
   ],
   "source": [
    "base_llm = AzureOpenAI(\n",
    "    engine=llm_engine, \n",
    "    model_name=llm_model, \n",
    "    temperature=temperature, \n",
    "    max_tokens=answer_max_tokens\n",
    ")"
   ]
  },
  {
   "cell_type": "code",
   "execution_count": 32,
   "id": "1cb7296e",
   "metadata": {},
   "outputs": [],
   "source": [
    "langchain.debug=True"
   ]
  },
  {
   "cell_type": "code",
   "execution_count": 33,
   "id": "a9ab4d3d",
   "metadata": {},
   "outputs": [],
   "source": [
    "from langchain.memory import ConversationSummaryBufferMemory\n",
    "from langchain.chains import ConversationalRetrievalChain"
   ]
  },
  {
   "cell_type": "code",
   "execution_count": 34,
   "id": "4313f632",
   "metadata": {},
   "outputs": [],
   "source": [
    "condense_question_template = os.path.join(\n",
    "    os.getcwd(), '..', 'scripts/condense_question_template.txt'\n",
    ")\n",
    "condense_question_input = c.condense_question_input"
   ]
  },
  {
   "cell_type": "code",
   "execution_count": 35,
   "id": "00c07a71",
   "metadata": {},
   "outputs": [],
   "source": [
    "chat_prompt = PromptTemplate.from_file(\n",
    "    condense_question_template,\n",
    "    input_variables=condense_question_input\n",
    ")"
   ]
  },
  {
   "cell_type": "code",
   "execution_count": 36,
   "id": "e5c57681",
   "metadata": {},
   "outputs": [],
   "source": [
    "qna_prompt_template = os.path.join(os.getcwd(), '..', 'scripts/qna_prompt_template.txt')\n",
    "qna_prompt_input = c.qna_prompt_input\n",
    "prompt_role = c.prompt_role"
   ]
  },
  {
   "cell_type": "code",
   "execution_count": 37,
   "id": "406d3d6a",
   "metadata": {},
   "outputs": [],
   "source": [
    "qna_prompt = PromptTemplate.from_file(\n",
    "    qna_prompt_template,\n",
    "    input_variables=qna_prompt_input,\n",
    "    partial_variables={'role':prompt_role}\n",
    ")"
   ]
  },
  {
   "cell_type": "code",
   "execution_count": 38,
   "id": "5f8db888",
   "metadata": {},
   "outputs": [],
   "source": [
    "history_tokens = 2000\n",
    "memory = ConversationSummaryBufferMemory(\n",
    "    llm=base_llm, \n",
    "    memory_key=\"chat_history\", \n",
    "    return_messages=True, \n",
    "    max_token_limit=history_tokens\n",
    ")"
   ]
  },
  {
   "cell_type": "code",
   "execution_count": 39,
   "id": "81e95a29",
   "metadata": {},
   "outputs": [],
   "source": [
    "qna_chain = ConversationalRetrievalChain.from_llm(\n",
    "    base_llm, \n",
    "    retriever=vectorstore.as_retriever(\n",
    "        search_type=search_type, search_kwargs=retrieval_kwargs\n",
    "    ),\n",
    "    memory=memory,\n",
    "    condense_question_prompt=chat_prompt,\n",
    "    combine_docs_chain_kwargs=dict(prompt=qna_prompt)\n",
    ")"
   ]
  },
  {
   "cell_type": "code",
   "execution_count": 54,
   "id": "b8d4fba2",
   "metadata": {},
   "outputs": [
    {
     "name": "stdout",
     "output_type": "stream",
     "text": [
      "\u001b[32;1m\u001b[1;3m[chain/start]\u001b[0m \u001b[1m[1:chain:ConversationalRetrievalChain] Entering Chain run with input:\n",
      "\u001b[0m[inputs]\n",
      "\u001b[32;1m\u001b[1;3m[chain/start]\u001b[0m \u001b[1m[1:chain:ConversationalRetrievalChain > 2:chain:LLMChain] Entering Chain run with input:\n",
      "\u001b[0m{\n",
      "  \"question\": \"what others reasons can be behind streetlights turning purple\",\n",
      "  \"chat_history\": \"\\nHuman: why is there a danger of earthquake in seattle\\nAssistant:  Washington State’s Puget Sound could face previously unknown earthquake risks, according to a new study that has pinned down the date of an ancient earthquake using tree rings and the radiation left by a mysterious cosmic force. The study shows that multiple faults rupturing essentially simultaneously is a real possibility, which is currently not planned for in the area. “It’s showing that these complex, large earthquakes are a real possibility,” says Bryan Black, a dendrochronologist at the University of Arizona and lead author of the new study. The “one-two punch” of the individual but closely timed quakes is also worrying. “The first can cause damage, and thereby weakening, to both manmade structures and potential landslide slopes that would then fail in the second,” he adds.\\n<|im_end|>\\nHuman: how is the date of an earthquake determined using tree rings\\nAssistant:  \\nScientists can determine the date of an earthquake using tree rings by working out when trees were killed by seismic activity—directly by the shaking itself or indirectly by landslides, tsunamis or other quake-related mass movements. Radiocarbon dating of dead tree material in the Puget Sound region has suggested trees at multiple locations were killed by earthquakes around 1,100 years ago—give or take a few decades to a century or more. That uncertainty is not especially helpful for understanding a region’s seismic hazard potential. “Did these happen 100 years apart? That was a possibility. And that’s a much different seismic hazard than these happening within six months or less,” Black says. Fortunately, the field of dendrochronology can come to the rescue. Tree trunks have growth rings; each concentric circle represents one year. Sample enough living trees in a region, and you can produce a tree-ring “barcode” that spans the hundreds or thousands of years various tree species can live. If you examine the tree-ring pattern on a dead tree that is preserved by mud and water, you can compare it with the living-tree-ring barcode and work out exactly what year the dead tree perished.<|im_end|>\\nHuman: why are streetlights turning purple\\nAssistant:  \\n\\nThe article discusses the potential safety hazard of newly purple streetlights. The hue of the light illuminating a roadway could affect how drivers and pedestrians perceive their surroundings as they make their way through the night. Different types of photoreceptors in the eyes are responsible for vision under different light conditions. Cone-shaped photoreceptors in the human retina become active when exposed to daylight, enabling people to discern color. But in low-light conditions, rod-shaped ones become responsible for vision. Despite their inability to distinguish color, rods are more sensitive to low-wavelength light—the blue part of the electromagnetic spectrum—than cones are. Another difference between these two types of photoreceptors is that rods are mostly located in the peripheral part of the retina. As a result, people driving at night may notice a moving object in their peripheral vision more quickly under bluish-white light than under yellowish-white light.<|im_end|>\\nHuman: but why have streetlights turned purple\\nAssistant:  The hue of the light illuminating a roadway could affect how drivers and pedestrians perceive their surroundings as they make their way through the night. And that makes purple streetlights a potential safety hazard.<|im_end|>\\nHuman: what is the reason behind streetlights turning purple\\nAssistant:  The hue of the light illuminating a roadway could affect how drivers and pedestrians perceive their surroundings as they make their way through the night. And that makes purple streetlights a potential safety hazard. The phosphor layer around the lights has been “delaminated”—peeled off—exposing the blue LED light underneath. Although blue LED lights are, in principle, deep blue in color, they do naturally have a bit of a purple and violet tint.<|im_end|>\"\n",
      "}\n",
      "\u001b[32;1m\u001b[1;3m[llm/start]\u001b[0m \u001b[1m[1:chain:ConversationalRetrievalChain > 2:chain:LLMChain > 3:llm:AzureOpenAI] Entering LLM run with input:\n",
      "\u001b[0m{\n",
      "  \"prompts\": [\n",
      "    \"Given the following conversation and a follow up question, rephrase the follow up question to be a standalone question, in its original language.\\n\\nChat History:\\n\\nHuman: why is there a danger of earthquake in seattle\\nAssistant:  Washington State’s Puget Sound could face previously unknown earthquake risks, according to a new study that has pinned down the date of an ancient earthquake using tree rings and the radiation left by a mysterious cosmic force. The study shows that multiple faults rupturing essentially simultaneously is a real possibility, which is currently not planned for in the area. “It’s showing that these complex, large earthquakes are a real possibility,” says Bryan Black, a dendrochronologist at the University of Arizona and lead author of the new study. The “one-two punch” of the individual but closely timed quakes is also worrying. “The first can cause damage, and thereby weakening, to both manmade structures and potential landslide slopes that would then fail in the second,” he adds.\\n<|im_end|>\\nHuman: how is the date of an earthquake determined using tree rings\\nAssistant:  \\nScientists can determine the date of an earthquake using tree rings by working out when trees were killed by seismic activity—directly by the shaking itself or indirectly by landslides, tsunamis or other quake-related mass movements. Radiocarbon dating of dead tree material in the Puget Sound region has suggested trees at multiple locations were killed by earthquakes around 1,100 years ago—give or take a few decades to a century or more. That uncertainty is not especially helpful for understanding a region’s seismic hazard potential. “Did these happen 100 years apart? That was a possibility. And that’s a much different seismic hazard than these happening within six months or less,” Black says. Fortunately, the field of dendrochronology can come to the rescue. Tree trunks have growth rings; each concentric circle represents one year. Sample enough living trees in a region, and you can produce a tree-ring “barcode” that spans the hundreds or thousands of years various tree species can live. If you examine the tree-ring pattern on a dead tree that is preserved by mud and water, you can compare it with the living-tree-ring barcode and work out exactly what year the dead tree perished.<|im_end|>\\nHuman: why are streetlights turning purple\\nAssistant:  \\n\\nThe article discusses the potential safety hazard of newly purple streetlights. The hue of the light illuminating a roadway could affect how drivers and pedestrians perceive their surroundings as they make their way through the night. Different types of photoreceptors in the eyes are responsible for vision under different light conditions. Cone-shaped photoreceptors in the human retina become active when exposed to daylight, enabling people to discern color. But in low-light conditions, rod-shaped ones become responsible for vision. Despite their inability to distinguish color, rods are more sensitive to low-wavelength light—the blue part of the electromagnetic spectrum—than cones are. Another difference between these two types of photoreceptors is that rods are mostly located in the peripheral part of the retina. As a result, people driving at night may notice a moving object in their peripheral vision more quickly under bluish-white light than under yellowish-white light.<|im_end|>\\nHuman: but why have streetlights turned purple\\nAssistant:  The hue of the light illuminating a roadway could affect how drivers and pedestrians perceive their surroundings as they make their way through the night. And that makes purple streetlights a potential safety hazard.<|im_end|>\\nHuman: what is the reason behind streetlights turning purple\\nAssistant:  The hue of the light illuminating a roadway could affect how drivers and pedestrians perceive their surroundings as they make their way through the night. And that makes purple streetlights a potential safety hazard. The phosphor layer around the lights has been “delaminated”—peeled off—exposing the blue LED light underneath. Although blue LED lights are, in principle, deep blue in color, they do naturally have a bit of a purple and violet tint.<|im_end|>\\nFollow Up Input: what others reasons can be behind streetlights turning purple\\nStandalone question:\"\n",
      "  ]\n",
      "}\n"
     ]
    },
    {
     "name": "stdout",
     "output_type": "stream",
     "text": [
      "\u001b[36;1m\u001b[1;3m[llm/end]\u001b[0m \u001b[1m[1:chain:ConversationalRetrievalChain > 2:chain:LLMChain > 3:llm:AzureOpenAI] [886ms] Exiting LLM run with output:\n",
      "\u001b[0m{\n",
      "  \"generations\": [\n",
      "    [\n",
      "      {\n",
      "        \"text\": \"What are the other reasons behind streetlights turning purple?<|im_end|>\",\n",
      "        \"generation_info\": {\n",
      "          \"finish_reason\": \"stop\",\n",
      "          \"logprobs\": null\n",
      "        }\n",
      "      }\n",
      "    ]\n",
      "  ],\n",
      "  \"llm_output\": {\n",
      "    \"token_usage\": {\n",
      "      \"completion_tokens\": 12,\n",
      "      \"total_tokens\": 845,\n",
      "      \"prompt_tokens\": 833\n",
      "    },\n",
      "    \"model_name\": \"text-davinci-002\"\n",
      "  },\n",
      "  \"run\": null\n",
      "}\n",
      "\u001b[36;1m\u001b[1;3m[chain/end]\u001b[0m \u001b[1m[1:chain:ConversationalRetrievalChain > 2:chain:LLMChain] [887ms] Exiting Chain run with output:\n",
      "\u001b[0m{\n",
      "  \"text\": \"What are the other reasons behind streetlights turning purple?<|im_end|>\"\n",
      "}\n"
     ]
    },
    {
     "name": "stderr",
     "output_type": "stream",
     "text": [
      "Number of requested results 10 is greater than number of elements in index 8, updating n_results = 8\n"
     ]
    },
    {
     "name": "stdout",
     "output_type": "stream",
     "text": [
      "\u001b[32;1m\u001b[1;3m[chain/start]\u001b[0m \u001b[1m[1:chain:ConversationalRetrievalChain > 5:chain:StuffDocumentsChain] Entering Chain run with input:\n",
      "\u001b[0m[inputs]\n",
      "\u001b[32;1m\u001b[1;3m[chain/start]\u001b[0m \u001b[1m[1:chain:ConversationalRetrievalChain > 5:chain:StuffDocumentsChain > 6:chain:LLMChain] Entering Chain run with input:\n",
      "\u001b[0m{\n",
      "  \"question\": \"What are the other reasons behind streetlights turning purple?<|im_end|>\",\n",
      "  \"context\": \"Streetlights Are Mysteriously Turning Purple. Here's Why - Scientific American \\n\\n\\n\\n\\n\\n\\n\\n\\n\\n\\n\\n\\n\\n\\n\\n\\nSkip to main contentSubscribeLatest IssuesMenuScientific AmericanSign In|NewslettersSearchSubscribeCloseCOVIDHealthMind & BrainEnvironmentTechnologySpace & PhysicsVideoPodcastsOpinionSubscribeCurrent IssueSign InNewslettersShareLatestSave $10 on digital!SubscribeEngineeringStreetlights Are Mysteriously Turning Purple. Here’s WhyNewly purple streetlights might seem innocuous, but they could affect driver and pedestrian safetyBy Karen Kwon on September 27, 2023Share on FacebookShare on TwitterShare on RedditShare on LinkedInShare via EmailPrint Credit: aire images/Getty ImagesAdvertisement\\nAmerican cities and towns started switching their streetlights from sodium lamps to LEDs about 15 years ago, which changed the color of many nighttime roads from yellowish orange to bright white. But lately an odd new nocturnal color has been spotted across the nation—and the globe. Anecdotal reports of purple-looking streetlights have been popping up since early 2021 in states including Florida, Utah, Texas and Massachusetts, as well as in Canada and Ireland.\\nThis phenomenon might seem weird but innocuous. After all, what harm could purple streetlights possibly do other than scare nearby residents as Halloween approaches? But it turns out that the hue of the light illuminating a roadway could affect how drivers and pedestrians perceive their surroundings as they make their way through the night. And that makes purple streetlights a potential safety hazard.\\nHow do white LED streetlights work?\\nUpdating streetlights to use light-emitting diodes makes sense. LEDs are one of the most energy-efficient lighting technologies that currently exist, according to the U.S. Department of Energy. They also tend to be more durable and longer-lasting than other types of lighting while producing light that is comparable or better in quality.\\nThese diodes can emit light at a variety of wavelengths—but one color they do not produce naturally is white. So when you see white LEDs, such as those in streetlights, they are actually emanating some mixture of the colors red, green and blue (or red, yellow and blue), which together produce the appearance of white. There are two popular ways to create this illusion. One is to combine tiny LED lights that each emit red, green or blue into a single big device. The other is to use only blue LEDs but coat them with a type of fluorescent substance called phosphor. When the blue light from the diodes goes through this layer, the phosphor absorbs some of the blue wavelengths and spits out red and yellow ones. This results in a mixture of colors that, once again, appears white.\\nThe second method gained popularity because it’s more energy-efficient than the first. LEDs that generate red and green light require more energy than those that emit blue, says Jakoah Brgoch, an associate professor of chemistry at the University of Houston. In addition to saving energy, the phosphor method also requires less electric circuitry than LEDs of three different colors do. This makes the streetlights less expensive, says John D. Bullough, a program director at the Light and Health Research Center, part of the Icahn School of Medicine at Mount Sinai. This method does not work for all applications; televisions and color-changing lightbulbs, for instance, need to produce multiple colors of light. But to simply illuminate a street with a white light, manufacturers often opt for the cheaper and more efficient blue-LED-and-phosphor-coating combination.\\nBut why are some streetlights suddenly turning purple?\\nThe phosphor technique is sound, says Ram Seshadri, a materials science professor at the University of California, Santa Barbara. “Outside of my university, we’ve had LED lighting on the street for ... years, and there’s [been] no problem,” he adds.\\nAnd yet some streetlights have suddenly turned a jarring shade of purple. It is hard to determine the exact cause without dissecting one of the defective lights, but scientists have a hypothesis: bright purple light suggests the phosphor layer around the lights has been “delaminated”—peeled off—exposing the blue LED light underneath, Brgoch says. Although blue LED lights are, in principle, deep blue in color, they do naturally have a bit of a purple and violet tint, he explains.\\nIt’s possible that the lamps themselves could be malfunctioning in various ways, but other malfunctions would produce different results. If the LED part were flawed, the light would go dark. And if the problem were the chemical degradation of the phosphor layer, the color would gradually turn from white to off-white, says postdoctoral researcher Shruti Hariyani at Texas A&M University, who studied phosphor materials with Brgoch for her doctoral degree.\\nAs for the possible delamination of the lamps’ coating, it could be caused by anything: heat buildup inside the light fixture because of constant operation, vibrations from passing cars or even gravity tugging downward on the phosphor layer, according to Brgoch and Hariyani.\\nHow does the purple light affect vision?\\nSuddenly finding yourself in a street bathed in garish purple light can be unsettling. But a bigger concern is that this light can change how drivers and pedestrians perceive their surroundings. That’s because different types of photoreceptors in the eyes are responsible for vision under different light conditions.\\nCone-shaped photoreceptors in the human retina become active when exposed to daylight, enabling people to discern color. But in low-light conditions, rod-shaped ones become responsible for vision. Despite their inability to distinguish color, rods are more sensitive to low-wavelength light—the blue part of the electromagnetic spectrum—than cones are. Another difference between these two types of photoreceptors is that rods are mostly located in the peripheral part of the retina. As a result, people driving at night may notice a moving object in their peripheral vision more quickly under bluish-white light than under yellowish-white light, Bullough says. (He notes that most studies of this kind were done using relatively broad-spectrum lights, white lights with blue and yellow undertones, instead of completely blue or yellow lights.) Gaining improved peripheral vision under blue-tinged light comes with a trade-off, however: once the moving object comes into focus, it becomes harder to see. That’s because human eyes have very few blue-sensitive cone photoreceptors that are dominant in their central vision. Plus, cone receptors are less reliable in dim environments.\\nBullough says he believes purple streetlights aren’t good for driver or pedestrian safety. First, it’s possible that losing the phosphor layer dims the lamps’ brightness—and streetlights are supposed to emit a certain level of light depending on the type of the road that they’re used on. Second, blue- and violet-saturated light can worsen people’s ability to see details because of the lack of blue-sensitive cones in the center of the retina. Finally, the blue-violet light makes it very difficult to distinguish between different colors, Bullough says; everything becomes a shade of blue or black.\\nOne thing that Bullough suggests pedestrians and drivers do to stay safe under purple streetlights—or any lights, for that matter—is to remove sunglasses and blue-light-filtering glasses when walking or driving at night. Because blueish light tends to appear brighter to humans, one might be tempted to put on shades to prevent glare. “But at nighttime,” Bullough says, “we really want to have all the light that we can get.”\\nMost importantly, mishaps with purple streetlamps shouldn’t be used to vilify all LED lights, Seshadri says. “The materials that are normally used to make the phosphor are extremely stable,” he says. “There must be some issue with the manufacturing or some particular LEDs, because most LEDs that the world is using don’t face this problem.”\\n\\n\\n\\n Rights & Permissions\\n\\t\\t\\t\\t\\t\\n\\nABOUT THE AUTHOR(S)Karen Kwon is a science journalist and editor based in the Washington D.C. area. She was a 2020 AAAS Mass Media Fellow at Scientific American.Recent Articles by Karen KwonDo Blue-Light Glasses Help with Eyestrain?Queen Bee Sperm Storage Holds Clues to Colony CollapseMetal-Breathing Bacteria Synthesize High-Tech MaterialRead This NextElectronicsDo Blue-Light Glasses Help with Eyestrain?Karen KwonCultureHow did purple become a Halloween color?Krystal D'CostaSpace & PhysicsBe Seen in the DarkScience BuddiesAdvertisement NewsletterGet smart. Sign up for our email newsletter.Sign UpSupport Science JournalismDiscover world-changing science. Explore our digital archive back to 1845, including articles by more than 150 Nobel Prize winners.Subscribe Now!Follow us instagram soundcloud youtube twitter facebook rssScientific american arabicالعربية\\n\\nReturn & Refund Policy\\nAbout\\nPress Room\\n\\n\\n\\n\\nFAQs\\nContact Us\\nSite Map\\n\\n\\n\\n\\nAdvertise\\nSA Custom Media\\nTerms of Use\\n\\n\\n\\n\\nPrivacy Policy\\nYour US State Privacy Rights\\nYour Privacy Choices/Manage Cookies\\nInternational Editions\\n\\nScientific American is part of Springer Nature, which owns or has commercial relations with thousands of scientific publications (many of them can be found at www.springernature.com/us). Scientific American maintains a strict policy of editorial independence in reporting developments in science to our readers.© 2023 Scientific American, a Division of Springer Nature America, Inc.All Rights Reserved.Scroll To Top \\n\\nSupport science journalism.Thanks for reading Scientific American. Knowledge awaits.See Subscription OptionsAlready a subscriber? Sign in.Thanks for reading Scientific American. Create your free account or Sign in to continue.Create AccountSee Subscription OptionsContinue reading with a Scientific American subscription.Subscribe NowYou may cancel at any time.Sign in.\\n\\nHoʻoleilana, a Billion-Light-Year-Wide Bubble of Galaxies, Astounds Astronomers - Scientific American \\n\\n\\n\\n\\n\\n\\n\\n\\n\\n\\n\\n\\n\\n\\n\\n\\nSkip to main contentSubscribeLatest IssuesMenuScientific AmericanSign In|NewslettersSearchSubscribeCloseCOVIDHealthMind & BrainEnvironmentTechnologySpace & PhysicsVideoPodcastsOpinionSubscribeCurrent IssueSign InNewslettersShareLatestSave $10 on digital!SubscribeCosmologyHo’oleilana, a Billion-Light-Year-Wide Bubble of Galaxies, Astounds AstronomersThis enormous structure could help explain processes close to the dawn of time—or it could be a random cosmic flukeBy Adam Mann on September 27, 2023Share on FacebookShare on TwitterShare on RedditShare on LinkedInShare via EmailPrintAn artist's Illustration of Hoʻoleilana. Credit: Frédéric Durillon, Animea Studio; Daniel Pomarède, IRFU, CEA University Paris-Saclay. This work benefited from a government funding by France 2030 (P2I - Graduate School of Physics) under reference ANR-11-IDEX-0003Advertisement\\nCosmic cartographer Brent Tully was inspecting his team’s latest high-precision maps of the positions and motions of 56,000 galaxies in the local universe when he noticed a colossal ringlike structure.\\n“It was one billion light-years in diameter,” recalls his colleague Daniel Pomarède of Paris-Saclay University. “This is exactly what you’d expect for a BAO shell. I’ve been working with Brent for 13 years, and we’ve never talked about the possibility of uncovering a BAO.”\\nBAO stands for “baryon acoustic oscillation,” a sort of frozen sound wave created by processes near the dawn of time. For the first few hundred thousand years after the big bang, the entire universe was a blistering and dense plasma similar to the sun’s interior, with spots of heat that emanated pressure waves. But once the expanding cosmos turned 380,000 years old, the plasma cooled and thinned out, leaving those oscillations with no medium to travel through.\\nThis left behind titanic remnant bubbles centered on those former heat spots, each with slightly more baryons—building blocks of matter such as neutrons and protons—in them. Over billions of years, gravity pulled additional material into those baryon-dense regions, and galaxies and galactic clusters preferentially formed along their boundaries in thin shells like dust settling on a soap bubble. Astronomers have glimpsed these large-scale patterns in surveys of hundreds of thousands of galaxies across huge swaths of sky. But nobody had ever spotted an individual BAO until Tully and Pomarède’s finding—that is, if it’s real.\\nAccording to theoretical predictions, that formation—which the researchers named Hoʻoleilana, a term that means “sent murmurs of awakening” in Hawaiian—isn’t quite the right size to be a BAO. This discrepancy could either imply that conditions in the early universe weren’t quite what astronomers have expected or that the structure is a chance alignment of galaxies masquerading as a BAO. Tully and Pomarède think their discovery could be used to probe fundamental properties of the cosmos. But in order to do so, they need to convince the rest of the community that the result is what they believe it to be.\\nPomarède considers serendipity to have played a large part in his career. At a conference in Ouagadougou, Burkina Faso, many years ago, he was showing off a computer program he’d created for visualizing astronomical data when Tully approached him. Tully “looked at me and said, ‘All my life, I’ve dreamt of having this software,’” Pomarède says.\\nThe two have since worked together to map our cosmic surroundings in detail. In 2014 they co-discovered the Laniakea Supercluster, a collection of around 100,000 nearby galaxies, including the Milky Way, that stretches over half a billion light-years. Their most recent dataset uses information from multiple telescopes to produce distance measurements to celestial objects with a precision level as small as 0.001 percent, says Cullan Howlett of the University of Queensland in Australia, who is also a co-author of the Hoʻoleilana finding.\\nIt was while looking through this dataset, which maps things farther afield than the team’s previous catalogs, that Tully spied Hoʻoleilana. The spherical collection of galaxies is situated roughly 820 million light-years from Earth. In its center sit the Bootes superclusters, two collections of about a dozen galaxy clusters, while the bubble’s edges include other monumental cosmic structures, such as the Sloan Great Wall, the CfA2 Great Wall and the Hercules Supercluster. The team’s findings appeared in two recent papers in the Astrophysical Journal.\\nThe size of any individual BAO is set by the speed of sound in the early universe’s primordial plasma—which was roughly half the speed of light. This created pressure waves with particular amplitudes, which were stretched out by later cosmic expansion to a bit less than half a billion light-years. But Hoʻoleilana’s radius is actually about 10 percent greater than would be expected with such processes. To Tully and his colleagues, this could indicate something important about the nascent universe.\\nAccording to the standard model of cosmology, those early hot spots should have been scattered randomly throughout space. “But it may be that there was some intrinsic pattern that the basic model of cosmology doesn’t predict,” Howlett says, and this pattern could have caused things near us to be larger than naively presumed.\\nThe hotspots themselves are thought to have arisen from a bizarre hypothetical epoch a split second after the big bang known as inflation, during which the entire universe greatly ballooned in size. Subatomic quantum fluctuations in the primordial cosmos would have been magnified to a macroscopic level, generating the presumably random distribution of hot and cold patches that later formed BAOs.\\nInflation as a concept has been around since the 1980s, Howlett says, “but there’s a million different theories for the exact details of how it occurred.” In principle, crafting explanations for a slightly oversized BAO could help physicists narrow down these myriad theories, ideally to a single one.\\nOf course, the aberrant size of the team’s BAO could also lead to other conclusions. The outlines of the billionish-light-year bubbles are extremely faint and only become apparent when one examines an enormous number of objects over great distances, says Kyle Dawson of the University of Utah, co-spokesperson for the Dark Energy Spectroscopic Instrument (DESI). He’s more inclined to believe that this latest finding is something of a coincidence, a chance alignment that simply looks like a sphere with a radius around what you’d expect for a BAO.\\nSeeking to determine how often such statistical flukes might occur, Howlett created computer simulations that modeled universes that he artificially smoothed out to prevent the initial hotspots’ oscillations from turning into large-scale structures. Of the 256 simulations he ran, only two produced features that resembled BAOs—and even then, they weren’t as BAO-like as Hoʻoleilana. This suggests, Howlett says, that the chance of accidentally creating such structures is less than 1 percent.\\nDawson isn’t entirely convinced. “One percent still happens,” he says.\\nNathalie Palanque-Delabrouille, the other co-spokesperson for DESI, is more persuaded by the team’s arguments. After the putative BAO’s formation, subsequent gravitational interactions among the galaxies and clusters could have caused distortions to its size, she says. “It’s actually pretty close,” Palanque-Delabrouille adds. “The fact that it doesn’t match exactly could just be because, in this particular case, the motions of the galaxies were such that the feature is no longer exactly how we would expect it.” She suggests that future observations could try to determine how much variation there is among individual BAOs, perhaps explaining why this one is slightly off.\\nDESI in particular is poised to help weigh in on this matter and could be the key to finding additional structures like Hoʻoleilana. Mounted on the four-meter Mayall Telescope atop Kitt Peak in the desert outside Tucson, Ariz., the instrument is making a detailed three-dimensional map of 40 million galaxies in both the local and the distant universe. That surveyed slice of the cosmos should be big enough to allow DESI to find and study BAOs in detail. Additional information from the European Space Agency’s recently launched Euclid satellite, as well as ground-based telescopes such as the Square Kilometer Array, will help cosmographers produce even better plots of galaxies and galactic clusters, Pomarède says. Given such work, he often feels like he’s partaking in a long lineage of humans mapping their surroundings in order to better understand their place in the universe.\\nTully agrees. “As details are filled in, we see richer complexity,” he says, “and we increasingly appreciate the place we call home.”\\n\\n\\n\\n Rights & Permissions\\n\\t\\t\\t\\t\\t\\n\\nABOUT THE AUTHOR(S)Adam Mann is a journalist specializing in astronomy and physics. His work has appeared in National Geographic, the Wall Street Journal, Wired, and elsewhere. Credit: Nick HigginsRecent Articles by Adam MannBlack Holes Evaporate--Now Physicists Think Everything Else Does, TooHas Anyone Created a Black Hole on Earth?See the Facility That Tests whether Nuclear Weapons WorkRead This NextSpace & PhysicsWorld's Largest Map of Space Offers Clues on Dark EnergyKyle Dawson and Will PercivalSpace & PhysicsHow Astronomers Found Our Cosmic AddressNoam I. Libeskind and R. Brent TullySpace & PhysicsMapping Laniakea, the Milky Way's Cosmic Home [Video]Lee BillingsAdvertisement NewsletterGet smart. Sign up for our email newsletter.Sign UpSupport Science JournalismDiscover world-changing science. Explore our digital archive back to 1845, including articles by more than 150 Nobel Prize winners.Subscribe Now!Follow us instagram soundcloud youtube twitter facebook rssScientific american arabicالعربية\\n\\nReturn & Refund Policy\\nAbout\\nPress Room\\n\\n\\n\\n\\nFAQs\\nContact Us\\nSite Map\\n\\n\\n\\n\\nAdvertise\\nSA Custom Media\\nTerms of Use\\n\\n\\n\\n\\nPrivacy Policy\\nYour US State Privacy Rights\\nYour Privacy Choices/Manage Cookies\\nInternational Editions\\n\\nScientific American is part of Springer Nature, which owns or has commercial relations with thousands of scientific publications (many of them can be found at www.springernature.com/us). Scientific American maintains a strict policy of editorial independence in reporting developments in science to our readers.© 2023 Scientific American, a Division of Springer Nature America, Inc.All Rights Reserved.Scroll To Top \\n\\nSupport science journalism.Thanks for reading Scientific American. Knowledge awaits.See Subscription OptionsAlready a subscriber? Sign in.Thanks for reading Scientific American. Create your free account or Sign in to continue.Create AccountSee Subscription OptionsContinue reading with a Scientific American subscription.Subscribe NowYou may cancel at any time.Sign in.\\n\\nDead Trees and a Mysterious Cosmic Explosion Reveal Bigger Quake Risk for Seattle - Scientific American \\n\\n\\n\\n\\n\\n\\n\\n\\n\\n\\n\\n\\n\\n\\n\\n\\nSkip to main contentSubscribeLatest IssuesMenuScientific AmericanSign In|NewslettersSearchSubscribeCloseCOVIDHealthMind & BrainEnvironmentTechnologySpace & PhysicsVideoPodcastsOpinionSubscribeCurrent IssueSign InNewslettersShareLatestSave $10 on digital!SubscribeGeologyDead Trees and a Mysterious Cosmic Explosion Reveal Bigger Quake Risk for SeattleWashington State’s Puget Sound could face previously unknown earthquake risks, according to a new study that has pinned down the date of an ancient earthquake using tree rings and the radiation left by a mysterious cosmic forceBy Robin George Andrews on September 27, 2023Share on FacebookShare on TwitterShare on RedditShare on LinkedInShare via EmailPrint Credit: Kevin Cruff/Getty ImagesAdvertisement\\nWashington State’s Puget Sound—home to the metropolises of Seattle, Tacoma and Olympia—is a sitting duck for a major earthquake, whether it comes in the form of a deep tremor triggered by a fragmenting tectonic plate, a shallow crustal fracture or an almighty megathrust on the boundary where one tectonic plate tumbles beneath another.\\nAlthough nobody can say when the next significant quake will occur or precisely which of the region’s plentiful faults will be responsible, scientists can glean insights into contemporary seismic hazards by assembling a detailed record of the types and frequency of temblors that have rocked the region in the past few thousand years. But finding detailed evidence of major quakes prior to the dawn of modern seismology in the 20th century can be extremely difficult.\\nNow, thanks to some clever scientific detective work, a catastrophic “hidden” quake has come to light. Using the natural clocks preserved within the carcasses of trees and aided by a mysterious cosmic explosion that showered Earth in radiation, researchers have fairly precisely pinned down a seismic event in the Puget Sound area to within a six-month period in the 10th century C.E. Their results, published on Wednesday in Science Advances, point to the possibility of multiple faults rupturing essentially simultaneously—a risk that is currently not planned for in the area. “It’s showing that these complex, large earthquakes are a real possibility,” says Bryan Black, a dendrochronologist at the University of Arizona and lead author of the new study.\\nScientists know plenty of quakes have hit Puget Sound over the past few millennia. But the exact timing and manner of these ruptures is hazy. “Modern seismological instrumentation for global earthquake observations has only been around for a few decades, which is short, compared with the large earthquake cycles of hundreds to thousands of years,” says Zhe Jia, a geophysicist at the Scripps Institution of Oceanography, who wasn’t involved with the new study. “As a result, our observations of earthquake complexities remain limited.”\\nThat means “we have to use creative techniques to help us gather as many clues as we can about past earthquakes, because what happened in the past gives us constraints about what could happen in the future,” says Wendy Bohon, an independent earthquake geologist and science communicator, who also did not take part in the newly reported research.\\nOne way to identify “missing” major quakes is to work out when trees were killed by seismic activity—directly by the shaking itself or indirectly by landslides, tsunamis or other quake-related mass movements. Radiocarbon dating of dead tree material in the Puget Sound region has suggested trees at multiple locations were killed by earthquakes around 1,100 years ago—give or take a few decades to a century or more. That uncertainty is not especially helpful for understanding a region’s seismic hazard potential. “Did these happen 100 years apart? That was a possibility. And that’s a much different seismic hazard than these happening within six months or less,” Black says.\\nFortunately, the field of dendrochronology can come to the rescue. Tree trunks have growth rings; each concentric circle represents one year. Sample enough living trees in a region, and you can produce a tree-ring “barcode” that spans the hundreds or thousands of years various tree species can live. If you examine the tree-ring pattern on a dead tree that is preserved by mud and water, you can compare it with the living-tree-ring barcode and work out exactly what year the dead tree perished.\\n\\nThe hydraulic chainsaw and generator used to cut earthquake-killed trees that are submerged in Price Lake, Washington. Credit: Bryan Black\\n\\nThis technique has been previously used to determine the exact years of various cataclysms, ranging from volcanic explosions on the Greek island of Thíra (also called Santorini) to quake-generated tsunamis along the Pacific Northwest’s Cascadia subduction zone. Black’s team applied this forensic technique to dead preserved Douglas-fir-tree samples from multiple locations across Puget Sound, all associated with the area’s active Seattle and Saddle Mountain fault zones. “These were all underwater,” Black says. For example, one swath of trees in Seattle’s Lake Washington were submerged when an ancient, quake-induced landslide carried much of a forest down to the lake’s floor, drowning them.\\nAn enigmatic radioactivity spike also helped the researchers. Between C.E. 774 and 775, trees all over the world recorded an uptick in radiogenic carbon 14 from an unknown but extremely energetic event in space—a potent solar flare or the violent outburst of a dying star or a black hole, perhaps—that sprinkled Earth in radiation. That created a very convenient and extremely well-defined time stamp that anchored those dendrochronological time lines and let the scientists determine that a quake, or quakes, slaughtered all these trees within a six-month period between the late fall of C.E. 923 to the early spring of C.E. 924. “I am in awe of the power this method shows to precisely date earthquakes for which we have no direct historic records,” says Harold Tobin, director of the Pacific Northwest Seismic Network, who wasn’t involved with the new study. “The result seems extraordinarily robust.”\\nTurning to preexisting geophysical models that simulate the multitude of ways in which a studied fault can rupture, the researchers posit two versions of events that could have killed all those trees over that short time span: One scenario involves two distinct quakes—a magnitude 7.5 on the Seattle fault zone and a magnitude 7.3 on the Saddle Mountain fault zone—separated by a few hours to a few months. The other features a so-called compound earthquake, a single earthquake that happened nearly simultaneously across multiple faults in the region, with an estimated magnitude of 7.8.\\nThat latter possibility in particular has experts concerned about how much they still have to learn about the seismic behavior of the area. “This would produce longer and stronger shaking over a wider area than is currently used in regional disaster planning,” Tobin says. The “one-two punch” of the individual but closely timed quakes is also worrying. “The first can cause damage, and thereby weakening, to both manmade structures and potential landslide slopes that would then fail in the second,” he adds.\\nThe good news is that this is all coming to light before any such quakes have happened in the present. Emergency management plans can be tweaked accordingly, and communities can be better prepared for the days to come. Major quakes like these “are rare, fortunately,” Black says. “But they happen.”\\n\\n\\n\\n Rights & Permissions\\n\\t\\t\\t\\t\\t\\n\\nABOUT THE AUTHOR(S)Robin George Andrews is a volcanologist, author and science writer based in London. His first book, Super Volcanoes: What They Reveal about Earth and the Worlds Beyond, was published in November 2021. Follow Robin George Andrews on Twitter. Credit: Nick HigginsRecent Articles by Robin George AndrewsNASA's DART Mission Could Help Cancel an Asteroid ApocalypseStarlink Offers Internet Access in Times of Crisis, but Is It Just a PR Stunt?Looming Rocket Impact Forecasts Trouble for Future Lunar ExplorationRead This NextNatural DisastersWe May Never Predict Earthquakes, but We Can Make Them Less DeadlyHarold Tobin and The Conversation | OpinionNatural DisastersHow to Engineer Buildings That Withstand EarthquakesAndrea ThompsonNatural DisastersThe Longest Known Earthquake Lasted 32 YearsStephanie PappasEARTHScientists Uncover California's Hidden EarthquakesShannon HallAdvertisement NewsletterGet smart. Sign up for our email newsletter.Sign UpSupport Science JournalismDiscover world-changing science. Explore our digital archive back to 1845, including articles by more than 150 Nobel Prize winners.Subscribe Now!Follow us instagram soundcloud youtube twitter facebook rssScientific american arabicالعربية\\n\\nReturn & Refund Policy\\nAbout\\nPress Room\\n\\n\\n\\n\\nFAQs\\nContact Us\\nSite Map\\n\\n\\n\\n\\nAdvertise\\nSA Custom Media\\nTerms of Use\\n\\n\\n\\n\\nPrivacy Policy\\nYour US State Privacy Rights\\nYour Privacy Choices/Manage Cookies\\nInternational Editions\\n\\nScientific American is part of Springer Nature, which owns or has commercial relations with thousands of scientific publications (many of them can be found at www.springernature.com/us). Scientific American maintains a strict policy of editorial independence in reporting developments in science to our readers.© 2023 Scientific American, a Division of Springer Nature America, Inc.All Rights Reserved.Scroll To Top \\n\\nSupport science journalism.Thanks for reading Scientific American. Knowledge awaits.See Subscription OptionsAlready a subscriber? Sign in.Thanks for reading Scientific American. Create your free account or Sign in to continue.Create AccountSee Subscription OptionsContinue reading with a Scientific American subscription.Subscribe NowYou may cancel at any time.Sign in.\\n\\nSkip to main contentSubscribeLatest IssuesMenuScientific AmericanSign In|NewslettersSearchSubscribeCloseCOVIDHealthMind & BrainEnvironmentTechnologySpace & PhysicsVideoPodcastsOpinionSubscribeCurrent IssueSign InNewslettersShareLatestSave $10 on digital!SubscribeSave $10 on digital!SubscribeQuantum PhysicsTo Move Fast, Quantum Maze Solvers Must Forget the PastQuantum algorithms can find their way out of mazes exponentially faster than classical ones, at the cost of forgetting the paths they tookBy Ben Brubaker, Quanta Magazine on September 27, 2023Share on FacebookShare on TwitterShare on RedditShare on LinkedInShare via EmailPrint Credit: YAY Media AS/Alamy Stock PhotoAdvertisement\\nImagine you visit a maze with some friends. You emerge from the exit shortly after going in, and wait around for hours before your friends emerge. Naturally, they ask about the path you took — surely you can retrace your steps and show them the way, right?\\nNot so in a world governed by the strange laws of quantum physics. Twenty years ago, quantum computing researchers developed an algorithm that harnessed those laws to traverse a specific kind of mathematical maze much faster than any algorithm running on an ordinary classical computer. But that speedup comes at a cost: The fast quantum algorithm finds the exit but has no idea how it got there.\\nResearchers have long wondered whether this trade-off is inevitable. Is it really impossible to find the exit quickly without forgetting the way?\\n“It’s kind of mind-blowing that you would even need to ask this question,” said Matthew Coudron, a computer scientist at the National Institute of Standards and Technology in Gaithersburg, Maryland.\\nLast November, Coudron and two colleagues took a big step toward resolving that long-standing problem: They proved that no algorithm in a broad and natural class of fast quantum algorithms can find a path through that special maze, called a welded tree graph. The results show that any hypothetical path-finding algorithm that doesn’t blindly guess would have to temporarily lose track of the entrance to have any chance of succeeding. It seems that forgetting is inevitable.\\n“There is no way I would have guessed that they could actually prove that,” said Simon Apers, a quantum computing researcher with the National Center for Scientific Research at the Institute for Research in Foundations of Computer Science in Paris, adding that the result “is very useful in illustrating what quantum algorithms can and cannot do.”\\nThe Quantum Boost\\nQuantum computers owe their power in part to a phenomenon known as superposition, which effectively allows them to simultaneously explore many options that a classical computer would need to consider individually. But it’s not as simple as performing multiple calculations at once to save time. Checking the result of a superposition of choices never reveals a superposition of outcomes — rather, you only ever obtain one of the possible outcomes, each of which has a different probability. Quantum algorithms rely on the fact that contributions to these probabilities can interfere with each other like waves on the surface of a pond, boosting the probability of getting the right answer while reducing the probability of every other outcome.\\nBecause the interference has to work out just right, not every computational task is amenable to a quantum speedup, and indeed researchers are still working out where quantum algorithms can help, decades after quantum computing was first proposed. But they’ve had some notable successes. In 1994, Peter Shor developed a quantum algorithm for factoring large numbers — a task whose apparent difficulty for classical computers underlies much of modern cryptography. Shor’s algorithm could rapidly factor numbers so large that all known classical algorithms would be practically useless.\\nIn 1996, the computer scientist Lov Grover found a second potentially practical example: a quantum algorithm for a very generic search problem, one akin to finding a single item hidden inside one of many identical boxes.\\n“Classically, what you could do is just randomly try one and see if it’s good, and then try again and see if it’s good, and you keep on trying until you find a good element,” Apers said. This approach takes time proportional to the number of boxes. Multiply that number by 100, and the search will be 100 times slower.\\nWith a quantum algorithm, you can do better. Grover proved that if you set up a superposition of all the boxes, you can exploit interference to practically guarantee that the algorithm will select the right box at the end. The whole process takes time proportional to the square root of the number of boxes: Increasing that number by a factor of 100 only increases the runtime by a factor of 10.\\nGrover’s algorithm was a remarkably simple illustration of the value of quantum superposition, but the speedup it achieved was relatively modest — tasks that were far beyond the reach of the best classical algorithms would also stump Grover’s algorithm. Shor’s factoring algorithm had offered a glimpse of a dramatic gulf between the capabilities of quantum and classical computers. Was there a variant of Grover’s search problem that was like factoring — practically intractable for classical computers yet easy for quantum computers?\\nIn the late 1990s, researchers began exploring this question by reformulating it as a question about graphs — networks of points, or nodes, connected by lines, called edges. Any search problem can be framed in the language of graph theory, with one node representing the starting point, another node representing the destination, and edges representing the possible choices at each step along the way\\nGrover’s problem, for example, corresponds to searching a graph in which every node is connected to every other node (because you can open boxes in any order). Different classical algorithms for a given search problem amount to different strategies for exploring the corresponding graph one node at a time, while quantum algorithms can move along multiple edges in superposition.\\nBranching Out\\nIn 2002, a team of computer scientists finally identified a classically intractable search problem that a quantum algorithm could solve easily. They started with a simple graph called a tree, in which each node sprouts two edges leading to two more nodes, which each split into two more branches, and so on. Starting from a single “root” node, a tree graph branches many times before ending in a final layer of nodes called “leaves.” The team imagined taking two identical trees and “welding” them together by positioning them with the leaves facing each other and then using a random process to connect each leaf on one tree to two leaves on the other. They then posed the following question: Starting at one root of the welded tree graph, can you find your way to the other?\\nWithout a bird’s-eye view of the graph, any classical algorithm that attempts to solve this search problem will get hopelessly lost after reaching the middle layers of the graph — all the edges look identical, and there’s no way to distinguish those that point forward from those leading backward. An algorithm might stumble upon the exit node accidentally, but the average time it spends wandering around grows exponentially with the number of layers in the tree.\\nThe authors of the 2002 paper proved that a simple quantum algorithm — a “quantum walk” that spreads through the graph evenly by taking many paths in superposition — can find its way to the exit much faster. That’s because the symmetric layout of the welded tree graph leads to interference between paths that concentrates flow in the forward direction. The exit node is “like a focus point of the algorithm,” said Alexander Belov, a computer scientist at the University of Latvia.\\nThere’s a good chance that this quantum walk algorithm converges on the exit in time that’s merely proportional to the number of layers. That makes it exponentially faster than any classical algorithm — a speedup comparable to that of Shor’s factoring algorithm. But the interference that causes the quantum speedup also wipes out all record of the paths the algorithm traverses on its way to the exit.\\nResearchers wondered if there was some way to get the best of both worlds — a fast algorithm that identifies a path from entrance to exit.\\n“If it’s just the basic quantum walk that somehow finds the exit, that’s not going to work,” said Andrew Childs, a computer scientist at the University of Maryland, College Park who co-authored the 2002 paper as a graduate student and worked with Coudron on the new result. “But maybe you could soup it up in some way.”\\nSouping It Up\\nAmong the first to approach the problem was Ansis Rosmanis, a computer scientist now at the Nagoya University Graduate School of Mathematics. In a 2010 paper, Rosmanis developed a class of algorithms that he dubbed “quantum snake walks,” which supplement the standard quantum walk algorithm with a memory of where they’ve been.\\nAs the standard quantum walk algorithm flows through the graph, its next step depends solely on where it is currently — how it got there doesn’t matter. In Rosmanis’ snake walks, by contrast, you need to know the past to predict the future. Specifically, the evolution of the snake walk is determined by “snakes,” strings of adjacent nodes that the walk has previously passed through. There are many varieties of snake walks, differing among other respects in how the length of those snakes changes over the course of the walk.\\nRosmanis showed that quantum snake walks using superpositions of multiple snakes could still exhibit helpful interference, despite remembering their trajectories, and that some snake walks could in principle find a path to the exit. But he couldn’t find a specific snake walk algorithm that did so quickly, and he also couldn’t prove that such an algorithm didn’t exist. Snake walks, it seemed, were promising, but too slippery to pin down. Rosmanis’ work was the last word on the path-finding problem for nearly a decade.\\nThen in 2019, Coudron encountered the welded tree graph in a different context: He and a colleague proved that all quantum walk algorithms that find the exit lack a property universal among algorithms that were known to yield exponential quantum speedups for other problems. The result wasn’t directly related to path-finding, but Coudron began to suspect that the mathematical techniques that allowed him to prove this sweeping statement about the properties of all welded tree graph algorithms might also help resolve the question of whether snake walks (or other algorithms) could find a path. After moving to Maryland later that year, he struck up a collaboration with Childs, hoping to settle that question decisively.\\nChilds, Coudron and their graduate student Amin Shiraz Gilani began by making two assumptions to constrain the scope of the problem. First, they decided to ignore outlandish algorithms that would try to teleport to random points in the graph in hopes of stumbling upon the exit. This strategy is like trying to beat a video game by rooting around for a glitch to exploit — technically possible, perhaps, but against the spirit of the problem. It’s also hard to imagine that such behavior could be helpful, since the odds of landing in the right spot become minuscule on large graphs. Ignoring algorithms that hop around randomly made it easier to analyze the algorithms that remained, which the authors dubbed “genuine” algorithms — these included Rosmanis’ snake walk algorithms and perhaps others that nobody had yet discovered.\\n\\nReturn & Refund Policy\\nAbout\\nPress Room\\n\\n\\n\\n\\nFAQs\\nContact Us\\nSite Map\\n\\n\\n\\n\\nAdvertise\\nSA Custom Media\\nTerms of Use\\n\\n\\n\\n\\nPrivacy Policy\\nYour US State Privacy Rights\\nYour Privacy Choices/Manage Cookies\\nInternational Editions\\n\\nScientific American is part of Springer Nature, which owns or has commercial relations with thousands of scientific publications (many of them can be found at www.springernature.com/us). Scientific American maintains a strict policy of editorial independence in reporting developments in science to our readers.© 2023 Scientific American, a Division of Springer Nature America, Inc.All Rights Reserved.Scroll To Top \\n\\nSupport science journalism.Thanks for reading Scientific American. Knowledge awaits.See Subscription OptionsAlready a subscriber? Sign in.Thanks for reading Scientific American. Create your free account or Sign in to continue.Create AccountSee Subscription OptionsContinue reading with a Scientific American subscription.Subscribe NowYou may cancel at any time.Sign in.\"\n",
      "}\n",
      "\u001b[32;1m\u001b[1;3m[llm/start]\u001b[0m \u001b[1m[1:chain:ConversationalRetrievalChain > 5:chain:StuffDocumentsChain > 6:chain:LLMChain > 7:llm:AzureOpenAI] Entering LLM run with input:\n",
      "\u001b[0m{\n",
      "  \"prompts\": [\n",
      "    \"Use the following context (delimited by <ctx></ctx>) to answer the question like a financial advisor:\\n------\\n<ctx>\\nStreetlights Are Mysteriously Turning Purple. Here's Why - Scientific American \\n\\n\\n\\n\\n\\n\\n\\n\\n\\n\\n\\n\\n\\n\\n\\n\\nSkip to main contentSubscribeLatest IssuesMenuScientific AmericanSign In|NewslettersSearchSubscribeCloseCOVIDHealthMind & BrainEnvironmentTechnologySpace & PhysicsVideoPodcastsOpinionSubscribeCurrent IssueSign InNewslettersShareLatestSave $10 on digital!SubscribeEngineeringStreetlights Are Mysteriously Turning Purple. Here’s WhyNewly purple streetlights might seem innocuous, but they could affect driver and pedestrian safetyBy Karen Kwon on September 27, 2023Share on FacebookShare on TwitterShare on RedditShare on LinkedInShare via EmailPrint Credit: aire images/Getty ImagesAdvertisement\\nAmerican cities and towns started switching their streetlights from sodium lamps to LEDs about 15 years ago, which changed the color of many nighttime roads from yellowish orange to bright white. But lately an odd new nocturnal color has been spotted across the nation—and the globe. Anecdotal reports of purple-looking streetlights have been popping up since early 2021 in states including Florida, Utah, Texas and Massachusetts, as well as in Canada and Ireland.\\nThis phenomenon might seem weird but innocuous. After all, what harm could purple streetlights possibly do other than scare nearby residents as Halloween approaches? But it turns out that the hue of the light illuminating a roadway could affect how drivers and pedestrians perceive their surroundings as they make their way through the night. And that makes purple streetlights a potential safety hazard.\\nHow do white LED streetlights work?\\nUpdating streetlights to use light-emitting diodes makes sense. LEDs are one of the most energy-efficient lighting technologies that currently exist, according to the U.S. Department of Energy. They also tend to be more durable and longer-lasting than other types of lighting while producing light that is comparable or better in quality.\\nThese diodes can emit light at a variety of wavelengths—but one color they do not produce naturally is white. So when you see white LEDs, such as those in streetlights, they are actually emanating some mixture of the colors red, green and blue (or red, yellow and blue), which together produce the appearance of white. There are two popular ways to create this illusion. One is to combine tiny LED lights that each emit red, green or blue into a single big device. The other is to use only blue LEDs but coat them with a type of fluorescent substance called phosphor. When the blue light from the diodes goes through this layer, the phosphor absorbs some of the blue wavelengths and spits out red and yellow ones. This results in a mixture of colors that, once again, appears white.\\nThe second method gained popularity because it’s more energy-efficient than the first. LEDs that generate red and green light require more energy than those that emit blue, says Jakoah Brgoch, an associate professor of chemistry at the University of Houston. In addition to saving energy, the phosphor method also requires less electric circuitry than LEDs of three different colors do. This makes the streetlights less expensive, says John D. Bullough, a program director at the Light and Health Research Center, part of the Icahn School of Medicine at Mount Sinai. This method does not work for all applications; televisions and color-changing lightbulbs, for instance, need to produce multiple colors of light. But to simply illuminate a street with a white light, manufacturers often opt for the cheaper and more efficient blue-LED-and-phosphor-coating combination.\\nBut why are some streetlights suddenly turning purple?\\nThe phosphor technique is sound, says Ram Seshadri, a materials science professor at the University of California, Santa Barbara. “Outside of my university, we’ve had LED lighting on the street for ... years, and there’s [been] no problem,” he adds.\\nAnd yet some streetlights have suddenly turned a jarring shade of purple. It is hard to determine the exact cause without dissecting one of the defective lights, but scientists have a hypothesis: bright purple light suggests the phosphor layer around the lights has been “delaminated”—peeled off—exposing the blue LED light underneath, Brgoch says. Although blue LED lights are, in principle, deep blue in color, they do naturally have a bit of a purple and violet tint, he explains.\\nIt’s possible that the lamps themselves could be malfunctioning in various ways, but other malfunctions would produce different results. If the LED part were flawed, the light would go dark. And if the problem were the chemical degradation of the phosphor layer, the color would gradually turn from white to off-white, says postdoctoral researcher Shruti Hariyani at Texas A&M University, who studied phosphor materials with Brgoch for her doctoral degree.\\nAs for the possible delamination of the lamps’ coating, it could be caused by anything: heat buildup inside the light fixture because of constant operation, vibrations from passing cars or even gravity tugging downward on the phosphor layer, according to Brgoch and Hariyani.\\nHow does the purple light affect vision?\\nSuddenly finding yourself in a street bathed in garish purple light can be unsettling. But a bigger concern is that this light can change how drivers and pedestrians perceive their surroundings. That’s because different types of photoreceptors in the eyes are responsible for vision under different light conditions.\\nCone-shaped photoreceptors in the human retina become active when exposed to daylight, enabling people to discern color. But in low-light conditions, rod-shaped ones become responsible for vision. Despite their inability to distinguish color, rods are more sensitive to low-wavelength light—the blue part of the electromagnetic spectrum—than cones are. Another difference between these two types of photoreceptors is that rods are mostly located in the peripheral part of the retina. As a result, people driving at night may notice a moving object in their peripheral vision more quickly under bluish-white light than under yellowish-white light, Bullough says. (He notes that most studies of this kind were done using relatively broad-spectrum lights, white lights with blue and yellow undertones, instead of completely blue or yellow lights.) Gaining improved peripheral vision under blue-tinged light comes with a trade-off, however: once the moving object comes into focus, it becomes harder to see. That’s because human eyes have very few blue-sensitive cone photoreceptors that are dominant in their central vision. Plus, cone receptors are less reliable in dim environments.\\nBullough says he believes purple streetlights aren’t good for driver or pedestrian safety. First, it’s possible that losing the phosphor layer dims the lamps’ brightness—and streetlights are supposed to emit a certain level of light depending on the type of the road that they’re used on. Second, blue- and violet-saturated light can worsen people’s ability to see details because of the lack of blue-sensitive cones in the center of the retina. Finally, the blue-violet light makes it very difficult to distinguish between different colors, Bullough says; everything becomes a shade of blue or black.\\nOne thing that Bullough suggests pedestrians and drivers do to stay safe under purple streetlights—or any lights, for that matter—is to remove sunglasses and blue-light-filtering glasses when walking or driving at night. Because blueish light tends to appear brighter to humans, one might be tempted to put on shades to prevent glare. “But at nighttime,” Bullough says, “we really want to have all the light that we can get.”\\nMost importantly, mishaps with purple streetlamps shouldn’t be used to vilify all LED lights, Seshadri says. “The materials that are normally used to make the phosphor are extremely stable,” he says. “There must be some issue with the manufacturing or some particular LEDs, because most LEDs that the world is using don’t face this problem.”\\n\\n\\n\\n Rights & Permissions\\n\\t\\t\\t\\t\\t\\n\\nABOUT THE AUTHOR(S)Karen Kwon is a science journalist and editor based in the Washington D.C. area. She was a 2020 AAAS Mass Media Fellow at Scientific American.Recent Articles by Karen KwonDo Blue-Light Glasses Help with Eyestrain?Queen Bee Sperm Storage Holds Clues to Colony CollapseMetal-Breathing Bacteria Synthesize High-Tech MaterialRead This NextElectronicsDo Blue-Light Glasses Help with Eyestrain?Karen KwonCultureHow did purple become a Halloween color?Krystal D'CostaSpace & PhysicsBe Seen in the DarkScience BuddiesAdvertisement NewsletterGet smart. Sign up for our email newsletter.Sign UpSupport Science JournalismDiscover world-changing science. Explore our digital archive back to 1845, including articles by more than 150 Nobel Prize winners.Subscribe Now!Follow us instagram soundcloud youtube twitter facebook rssScientific american arabicالعربية\\n\\nReturn & Refund Policy\\nAbout\\nPress Room\\n\\n\\n\\n\\nFAQs\\nContact Us\\nSite Map\\n\\n\\n\\n\\nAdvertise\\nSA Custom Media\\nTerms of Use\\n\\n\\n\\n\\nPrivacy Policy\\nYour US State Privacy Rights\\nYour Privacy Choices/Manage Cookies\\nInternational Editions\\n\\nScientific American is part of Springer Nature, which owns or has commercial relations with thousands of scientific publications (many of them can be found at www.springernature.com/us). Scientific American maintains a strict policy of editorial independence in reporting developments in science to our readers.© 2023 Scientific American, a Division of Springer Nature America, Inc.All Rights Reserved.Scroll To Top \\n\\nSupport science journalism.Thanks for reading Scientific American. Knowledge awaits.See Subscription OptionsAlready a subscriber? Sign in.Thanks for reading Scientific American. Create your free account or Sign in to continue.Create AccountSee Subscription OptionsContinue reading with a Scientific American subscription.Subscribe NowYou may cancel at any time.Sign in.\\n\\nHoʻoleilana, a Billion-Light-Year-Wide Bubble of Galaxies, Astounds Astronomers - Scientific American \\n\\n\\n\\n\\n\\n\\n\\n\\n\\n\\n\\n\\n\\n\\n\\n\\nSkip to main contentSubscribeLatest IssuesMenuScientific AmericanSign In|NewslettersSearchSubscribeCloseCOVIDHealthMind & BrainEnvironmentTechnologySpace & PhysicsVideoPodcastsOpinionSubscribeCurrent IssueSign InNewslettersShareLatestSave $10 on digital!SubscribeCosmologyHo’oleilana, a Billion-Light-Year-Wide Bubble of Galaxies, Astounds AstronomersThis enormous structure could help explain processes close to the dawn of time—or it could be a random cosmic flukeBy Adam Mann on September 27, 2023Share on FacebookShare on TwitterShare on RedditShare on LinkedInShare via EmailPrintAn artist's Illustration of Hoʻoleilana. Credit: Frédéric Durillon, Animea Studio; Daniel Pomarède, IRFU, CEA University Paris-Saclay. This work benefited from a government funding by France 2030 (P2I - Graduate School of Physics) under reference ANR-11-IDEX-0003Advertisement\\nCosmic cartographer Brent Tully was inspecting his team’s latest high-precision maps of the positions and motions of 56,000 galaxies in the local universe when he noticed a colossal ringlike structure.\\n“It was one billion light-years in diameter,” recalls his colleague Daniel Pomarède of Paris-Saclay University. “This is exactly what you’d expect for a BAO shell. I’ve been working with Brent for 13 years, and we’ve never talked about the possibility of uncovering a BAO.”\\nBAO stands for “baryon acoustic oscillation,” a sort of frozen sound wave created by processes near the dawn of time. For the first few hundred thousand years after the big bang, the entire universe was a blistering and dense plasma similar to the sun’s interior, with spots of heat that emanated pressure waves. But once the expanding cosmos turned 380,000 years old, the plasma cooled and thinned out, leaving those oscillations with no medium to travel through.\\nThis left behind titanic remnant bubbles centered on those former heat spots, each with slightly more baryons—building blocks of matter such as neutrons and protons—in them. Over billions of years, gravity pulled additional material into those baryon-dense regions, and galaxies and galactic clusters preferentially formed along their boundaries in thin shells like dust settling on a soap bubble. Astronomers have glimpsed these large-scale patterns in surveys of hundreds of thousands of galaxies across huge swaths of sky. But nobody had ever spotted an individual BAO until Tully and Pomarède’s finding—that is, if it’s real.\\nAccording to theoretical predictions, that formation—which the researchers named Hoʻoleilana, a term that means “sent murmurs of awakening” in Hawaiian—isn’t quite the right size to be a BAO. This discrepancy could either imply that conditions in the early universe weren’t quite what astronomers have expected or that the structure is a chance alignment of galaxies masquerading as a BAO. Tully and Pomarède think their discovery could be used to probe fundamental properties of the cosmos. But in order to do so, they need to convince the rest of the community that the result is what they believe it to be.\\nPomarède considers serendipity to have played a large part in his career. At a conference in Ouagadougou, Burkina Faso, many years ago, he was showing off a computer program he’d created for visualizing astronomical data when Tully approached him. Tully “looked at me and said, ‘All my life, I’ve dreamt of having this software,’” Pomarède says.\\nThe two have since worked together to map our cosmic surroundings in detail. In 2014 they co-discovered the Laniakea Supercluster, a collection of around 100,000 nearby galaxies, including the Milky Way, that stretches over half a billion light-years. Their most recent dataset uses information from multiple telescopes to produce distance measurements to celestial objects with a precision level as small as 0.001 percent, says Cullan Howlett of the University of Queensland in Australia, who is also a co-author of the Hoʻoleilana finding.\\nIt was while looking through this dataset, which maps things farther afield than the team’s previous catalogs, that Tully spied Hoʻoleilana. The spherical collection of galaxies is situated roughly 820 million light-years from Earth. In its center sit the Bootes superclusters, two collections of about a dozen galaxy clusters, while the bubble’s edges include other monumental cosmic structures, such as the Sloan Great Wall, the CfA2 Great Wall and the Hercules Supercluster. The team’s findings appeared in two recent papers in the Astrophysical Journal.\\nThe size of any individual BAO is set by the speed of sound in the early universe’s primordial plasma—which was roughly half the speed of light. This created pressure waves with particular amplitudes, which were stretched out by later cosmic expansion to a bit less than half a billion light-years. But Hoʻoleilana’s radius is actually about 10 percent greater than would be expected with such processes. To Tully and his colleagues, this could indicate something important about the nascent universe.\\nAccording to the standard model of cosmology, those early hot spots should have been scattered randomly throughout space. “But it may be that there was some intrinsic pattern that the basic model of cosmology doesn’t predict,” Howlett says, and this pattern could have caused things near us to be larger than naively presumed.\\nThe hotspots themselves are thought to have arisen from a bizarre hypothetical epoch a split second after the big bang known as inflation, during which the entire universe greatly ballooned in size. Subatomic quantum fluctuations in the primordial cosmos would have been magnified to a macroscopic level, generating the presumably random distribution of hot and cold patches that later formed BAOs.\\nInflation as a concept has been around since the 1980s, Howlett says, “but there’s a million different theories for the exact details of how it occurred.” In principle, crafting explanations for a slightly oversized BAO could help physicists narrow down these myriad theories, ideally to a single one.\\nOf course, the aberrant size of the team’s BAO could also lead to other conclusions. The outlines of the billionish-light-year bubbles are extremely faint and only become apparent when one examines an enormous number of objects over great distances, says Kyle Dawson of the University of Utah, co-spokesperson for the Dark Energy Spectroscopic Instrument (DESI). He’s more inclined to believe that this latest finding is something of a coincidence, a chance alignment that simply looks like a sphere with a radius around what you’d expect for a BAO.\\nSeeking to determine how often such statistical flukes might occur, Howlett created computer simulations that modeled universes that he artificially smoothed out to prevent the initial hotspots’ oscillations from turning into large-scale structures. Of the 256 simulations he ran, only two produced features that resembled BAOs—and even then, they weren’t as BAO-like as Hoʻoleilana. This suggests, Howlett says, that the chance of accidentally creating such structures is less than 1 percent.\\nDawson isn’t entirely convinced. “One percent still happens,” he says.\\nNathalie Palanque-Delabrouille, the other co-spokesperson for DESI, is more persuaded by the team’s arguments. After the putative BAO’s formation, subsequent gravitational interactions among the galaxies and clusters could have caused distortions to its size, she says. “It’s actually pretty close,” Palanque-Delabrouille adds. “The fact that it doesn’t match exactly could just be because, in this particular case, the motions of the galaxies were such that the feature is no longer exactly how we would expect it.” She suggests that future observations could try to determine how much variation there is among individual BAOs, perhaps explaining why this one is slightly off.\\nDESI in particular is poised to help weigh in on this matter and could be the key to finding additional structures like Hoʻoleilana. Mounted on the four-meter Mayall Telescope atop Kitt Peak in the desert outside Tucson, Ariz., the instrument is making a detailed three-dimensional map of 40 million galaxies in both the local and the distant universe. That surveyed slice of the cosmos should be big enough to allow DESI to find and study BAOs in detail. Additional information from the European Space Agency’s recently launched Euclid satellite, as well as ground-based telescopes such as the Square Kilometer Array, will help cosmographers produce even better plots of galaxies and galactic clusters, Pomarède says. Given such work, he often feels like he’s partaking in a long lineage of humans mapping their surroundings in order to better understand their place in the universe.\\nTully agrees. “As details are filled in, we see richer complexity,” he says, “and we increasingly appreciate the place we call home.”\\n\\n\\n\\n Rights & Permissions\\n\\t\\t\\t\\t\\t\\n\\nABOUT THE AUTHOR(S)Adam Mann is a journalist specializing in astronomy and physics. His work has appeared in National Geographic, the Wall Street Journal, Wired, and elsewhere. Credit: Nick HigginsRecent Articles by Adam MannBlack Holes Evaporate--Now Physicists Think Everything Else Does, TooHas Anyone Created a Black Hole on Earth?See the Facility That Tests whether Nuclear Weapons WorkRead This NextSpace & PhysicsWorld's Largest Map of Space Offers Clues on Dark EnergyKyle Dawson and Will PercivalSpace & PhysicsHow Astronomers Found Our Cosmic AddressNoam I. Libeskind and R. Brent TullySpace & PhysicsMapping Laniakea, the Milky Way's Cosmic Home [Video]Lee BillingsAdvertisement NewsletterGet smart. Sign up for our email newsletter.Sign UpSupport Science JournalismDiscover world-changing science. Explore our digital archive back to 1845, including articles by more than 150 Nobel Prize winners.Subscribe Now!Follow us instagram soundcloud youtube twitter facebook rssScientific american arabicالعربية\\n\\nReturn & Refund Policy\\nAbout\\nPress Room\\n\\n\\n\\n\\nFAQs\\nContact Us\\nSite Map\\n\\n\\n\\n\\nAdvertise\\nSA Custom Media\\nTerms of Use\\n\\n\\n\\n\\nPrivacy Policy\\nYour US State Privacy Rights\\nYour Privacy Choices/Manage Cookies\\nInternational Editions\\n\\nScientific American is part of Springer Nature, which owns or has commercial relations with thousands of scientific publications (many of them can be found at www.springernature.com/us). Scientific American maintains a strict policy of editorial independence in reporting developments in science to our readers.© 2023 Scientific American, a Division of Springer Nature America, Inc.All Rights Reserved.Scroll To Top \\n\\nSupport science journalism.Thanks for reading Scientific American. Knowledge awaits.See Subscription OptionsAlready a subscriber? Sign in.Thanks for reading Scientific American. Create your free account or Sign in to continue.Create AccountSee Subscription OptionsContinue reading with a Scientific American subscription.Subscribe NowYou may cancel at any time.Sign in.\\n\\nDead Trees and a Mysterious Cosmic Explosion Reveal Bigger Quake Risk for Seattle - Scientific American \\n\\n\\n\\n\\n\\n\\n\\n\\n\\n\\n\\n\\n\\n\\n\\n\\nSkip to main contentSubscribeLatest IssuesMenuScientific AmericanSign In|NewslettersSearchSubscribeCloseCOVIDHealthMind & BrainEnvironmentTechnologySpace & PhysicsVideoPodcastsOpinionSubscribeCurrent IssueSign InNewslettersShareLatestSave $10 on digital!SubscribeGeologyDead Trees and a Mysterious Cosmic Explosion Reveal Bigger Quake Risk for SeattleWashington State’s Puget Sound could face previously unknown earthquake risks, according to a new study that has pinned down the date of an ancient earthquake using tree rings and the radiation left by a mysterious cosmic forceBy Robin George Andrews on September 27, 2023Share on FacebookShare on TwitterShare on RedditShare on LinkedInShare via EmailPrint Credit: Kevin Cruff/Getty ImagesAdvertisement\\nWashington State’s Puget Sound—home to the metropolises of Seattle, Tacoma and Olympia—is a sitting duck for a major earthquake, whether it comes in the form of a deep tremor triggered by a fragmenting tectonic plate, a shallow crustal fracture or an almighty megathrust on the boundary where one tectonic plate tumbles beneath another.\\nAlthough nobody can say when the next significant quake will occur or precisely which of the region’s plentiful faults will be responsible, scientists can glean insights into contemporary seismic hazards by assembling a detailed record of the types and frequency of temblors that have rocked the region in the past few thousand years. But finding detailed evidence of major quakes prior to the dawn of modern seismology in the 20th century can be extremely difficult.\\nNow, thanks to some clever scientific detective work, a catastrophic “hidden” quake has come to light. Using the natural clocks preserved within the carcasses of trees and aided by a mysterious cosmic explosion that showered Earth in radiation, researchers have fairly precisely pinned down a seismic event in the Puget Sound area to within a six-month period in the 10th century C.E. Their results, published on Wednesday in Science Advances, point to the possibility of multiple faults rupturing essentially simultaneously—a risk that is currently not planned for in the area. “It’s showing that these complex, large earthquakes are a real possibility,” says Bryan Black, a dendrochronologist at the University of Arizona and lead author of the new study.\\nScientists know plenty of quakes have hit Puget Sound over the past few millennia. But the exact timing and manner of these ruptures is hazy. “Modern seismological instrumentation for global earthquake observations has only been around for a few decades, which is short, compared with the large earthquake cycles of hundreds to thousands of years,” says Zhe Jia, a geophysicist at the Scripps Institution of Oceanography, who wasn’t involved with the new study. “As a result, our observations of earthquake complexities remain limited.”\\nThat means “we have to use creative techniques to help us gather as many clues as we can about past earthquakes, because what happened in the past gives us constraints about what could happen in the future,” says Wendy Bohon, an independent earthquake geologist and science communicator, who also did not take part in the newly reported research.\\nOne way to identify “missing” major quakes is to work out when trees were killed by seismic activity—directly by the shaking itself or indirectly by landslides, tsunamis or other quake-related mass movements. Radiocarbon dating of dead tree material in the Puget Sound region has suggested trees at multiple locations were killed by earthquakes around 1,100 years ago—give or take a few decades to a century or more. That uncertainty is not especially helpful for understanding a region’s seismic hazard potential. “Did these happen 100 years apart? That was a possibility. And that’s a much different seismic hazard than these happening within six months or less,” Black says.\\nFortunately, the field of dendrochronology can come to the rescue. Tree trunks have growth rings; each concentric circle represents one year. Sample enough living trees in a region, and you can produce a tree-ring “barcode” that spans the hundreds or thousands of years various tree species can live. If you examine the tree-ring pattern on a dead tree that is preserved by mud and water, you can compare it with the living-tree-ring barcode and work out exactly what year the dead tree perished.\\n\\nThe hydraulic chainsaw and generator used to cut earthquake-killed trees that are submerged in Price Lake, Washington. Credit: Bryan Black\\n\\nThis technique has been previously used to determine the exact years of various cataclysms, ranging from volcanic explosions on the Greek island of Thíra (also called Santorini) to quake-generated tsunamis along the Pacific Northwest’s Cascadia subduction zone. Black’s team applied this forensic technique to dead preserved Douglas-fir-tree samples from multiple locations across Puget Sound, all associated with the area’s active Seattle and Saddle Mountain fault zones. “These were all underwater,” Black says. For example, one swath of trees in Seattle’s Lake Washington were submerged when an ancient, quake-induced landslide carried much of a forest down to the lake’s floor, drowning them.\\nAn enigmatic radioactivity spike also helped the researchers. Between C.E. 774 and 775, trees all over the world recorded an uptick in radiogenic carbon 14 from an unknown but extremely energetic event in space—a potent solar flare or the violent outburst of a dying star or a black hole, perhaps—that sprinkled Earth in radiation. That created a very convenient and extremely well-defined time stamp that anchored those dendrochronological time lines and let the scientists determine that a quake, or quakes, slaughtered all these trees within a six-month period between the late fall of C.E. 923 to the early spring of C.E. 924. “I am in awe of the power this method shows to precisely date earthquakes for which we have no direct historic records,” says Harold Tobin, director of the Pacific Northwest Seismic Network, who wasn’t involved with the new study. “The result seems extraordinarily robust.”\\nTurning to preexisting geophysical models that simulate the multitude of ways in which a studied fault can rupture, the researchers posit two versions of events that could have killed all those trees over that short time span: One scenario involves two distinct quakes—a magnitude 7.5 on the Seattle fault zone and a magnitude 7.3 on the Saddle Mountain fault zone—separated by a few hours to a few months. The other features a so-called compound earthquake, a single earthquake that happened nearly simultaneously across multiple faults in the region, with an estimated magnitude of 7.8.\\nThat latter possibility in particular has experts concerned about how much they still have to learn about the seismic behavior of the area. “This would produce longer and stronger shaking over a wider area than is currently used in regional disaster planning,” Tobin says. The “one-two punch” of the individual but closely timed quakes is also worrying. “The first can cause damage, and thereby weakening, to both manmade structures and potential landslide slopes that would then fail in the second,” he adds.\\nThe good news is that this is all coming to light before any such quakes have happened in the present. Emergency management plans can be tweaked accordingly, and communities can be better prepared for the days to come. Major quakes like these “are rare, fortunately,” Black says. “But they happen.”\\n\\n\\n\\n Rights & Permissions\\n\\t\\t\\t\\t\\t\\n\\nABOUT THE AUTHOR(S)Robin George Andrews is a volcanologist, author and science writer based in London. His first book, Super Volcanoes: What They Reveal about Earth and the Worlds Beyond, was published in November 2021. Follow Robin George Andrews on Twitter. Credit: Nick HigginsRecent Articles by Robin George AndrewsNASA's DART Mission Could Help Cancel an Asteroid ApocalypseStarlink Offers Internet Access in Times of Crisis, but Is It Just a PR Stunt?Looming Rocket Impact Forecasts Trouble for Future Lunar ExplorationRead This NextNatural DisastersWe May Never Predict Earthquakes, but We Can Make Them Less DeadlyHarold Tobin and The Conversation | OpinionNatural DisastersHow to Engineer Buildings That Withstand EarthquakesAndrea ThompsonNatural DisastersThe Longest Known Earthquake Lasted 32 YearsStephanie PappasEARTHScientists Uncover California's Hidden EarthquakesShannon HallAdvertisement NewsletterGet smart. Sign up for our email newsletter.Sign UpSupport Science JournalismDiscover world-changing science. Explore our digital archive back to 1845, including articles by more than 150 Nobel Prize winners.Subscribe Now!Follow us instagram soundcloud youtube twitter facebook rssScientific american arabicالعربية\\n\\nReturn & Refund Policy\\nAbout\\nPress Room\\n\\n\\n\\n\\nFAQs\\nContact Us\\nSite Map\\n\\n\\n\\n\\nAdvertise\\nSA Custom Media\\nTerms of Use\\n\\n\\n\\n\\nPrivacy Policy\\nYour US State Privacy Rights\\nYour Privacy Choices/Manage Cookies\\nInternational Editions\\n\\nScientific American is part of Springer Nature, which owns or has commercial relations with thousands of scientific publications (many of them can be found at www.springernature.com/us). Scientific American maintains a strict policy of editorial independence in reporting developments in science to our readers.© 2023 Scientific American, a Division of Springer Nature America, Inc.All Rights Reserved.Scroll To Top \\n\\nSupport science journalism.Thanks for reading Scientific American. Knowledge awaits.See Subscription OptionsAlready a subscriber? Sign in.Thanks for reading Scientific American. Create your free account or Sign in to continue.Create AccountSee Subscription OptionsContinue reading with a Scientific American subscription.Subscribe NowYou may cancel at any time.Sign in.\\n\\nSkip to main contentSubscribeLatest IssuesMenuScientific AmericanSign In|NewslettersSearchSubscribeCloseCOVIDHealthMind & BrainEnvironmentTechnologySpace & PhysicsVideoPodcastsOpinionSubscribeCurrent IssueSign InNewslettersShareLatestSave $10 on digital!SubscribeSave $10 on digital!SubscribeQuantum PhysicsTo Move Fast, Quantum Maze Solvers Must Forget the PastQuantum algorithms can find their way out of mazes exponentially faster than classical ones, at the cost of forgetting the paths they tookBy Ben Brubaker, Quanta Magazine on September 27, 2023Share on FacebookShare on TwitterShare on RedditShare on LinkedInShare via EmailPrint Credit: YAY Media AS/Alamy Stock PhotoAdvertisement\\nImagine you visit a maze with some friends. You emerge from the exit shortly after going in, and wait around for hours before your friends emerge. Naturally, they ask about the path you took — surely you can retrace your steps and show them the way, right?\\nNot so in a world governed by the strange laws of quantum physics. Twenty years ago, quantum computing researchers developed an algorithm that harnessed those laws to traverse a specific kind of mathematical maze much faster than any algorithm running on an ordinary classical computer. But that speedup comes at a cost: The fast quantum algorithm finds the exit but has no idea how it got there.\\nResearchers have long wondered whether this trade-off is inevitable. Is it really impossible to find the exit quickly without forgetting the way?\\n“It’s kind of mind-blowing that you would even need to ask this question,” said Matthew Coudron, a computer scientist at the National Institute of Standards and Technology in Gaithersburg, Maryland.\\nLast November, Coudron and two colleagues took a big step toward resolving that long-standing problem: They proved that no algorithm in a broad and natural class of fast quantum algorithms can find a path through that special maze, called a welded tree graph. The results show that any hypothetical path-finding algorithm that doesn’t blindly guess would have to temporarily lose track of the entrance to have any chance of succeeding. It seems that forgetting is inevitable.\\n“There is no way I would have guessed that they could actually prove that,” said Simon Apers, a quantum computing researcher with the National Center for Scientific Research at the Institute for Research in Foundations of Computer Science in Paris, adding that the result “is very useful in illustrating what quantum algorithms can and cannot do.”\\nThe Quantum Boost\\nQuantum computers owe their power in part to a phenomenon known as superposition, which effectively allows them to simultaneously explore many options that a classical computer would need to consider individually. But it’s not as simple as performing multiple calculations at once to save time. Checking the result of a superposition of choices never reveals a superposition of outcomes — rather, you only ever obtain one of the possible outcomes, each of which has a different probability. Quantum algorithms rely on the fact that contributions to these probabilities can interfere with each other like waves on the surface of a pond, boosting the probability of getting the right answer while reducing the probability of every other outcome.\\nBecause the interference has to work out just right, not every computational task is amenable to a quantum speedup, and indeed researchers are still working out where quantum algorithms can help, decades after quantum computing was first proposed. But they’ve had some notable successes. In 1994, Peter Shor developed a quantum algorithm for factoring large numbers — a task whose apparent difficulty for classical computers underlies much of modern cryptography. Shor’s algorithm could rapidly factor numbers so large that all known classical algorithms would be practically useless.\\nIn 1996, the computer scientist Lov Grover found a second potentially practical example: a quantum algorithm for a very generic search problem, one akin to finding a single item hidden inside one of many identical boxes.\\n“Classically, what you could do is just randomly try one and see if it’s good, and then try again and see if it’s good, and you keep on trying until you find a good element,” Apers said. This approach takes time proportional to the number of boxes. Multiply that number by 100, and the search will be 100 times slower.\\nWith a quantum algorithm, you can do better. Grover proved that if you set up a superposition of all the boxes, you can exploit interference to practically guarantee that the algorithm will select the right box at the end. The whole process takes time proportional to the square root of the number of boxes: Increasing that number by a factor of 100 only increases the runtime by a factor of 10.\\nGrover’s algorithm was a remarkably simple illustration of the value of quantum superposition, but the speedup it achieved was relatively modest — tasks that were far beyond the reach of the best classical algorithms would also stump Grover’s algorithm. Shor’s factoring algorithm had offered a glimpse of a dramatic gulf between the capabilities of quantum and classical computers. Was there a variant of Grover’s search problem that was like factoring — practically intractable for classical computers yet easy for quantum computers?\\nIn the late 1990s, researchers began exploring this question by reformulating it as a question about graphs — networks of points, or nodes, connected by lines, called edges. Any search problem can be framed in the language of graph theory, with one node representing the starting point, another node representing the destination, and edges representing the possible choices at each step along the way\\nGrover’s problem, for example, corresponds to searching a graph in which every node is connected to every other node (because you can open boxes in any order). Different classical algorithms for a given search problem amount to different strategies for exploring the corresponding graph one node at a time, while quantum algorithms can move along multiple edges in superposition.\\nBranching Out\\nIn 2002, a team of computer scientists finally identified a classically intractable search problem that a quantum algorithm could solve easily. They started with a simple graph called a tree, in which each node sprouts two edges leading to two more nodes, which each split into two more branches, and so on. Starting from a single “root” node, a tree graph branches many times before ending in a final layer of nodes called “leaves.” The team imagined taking two identical trees and “welding” them together by positioning them with the leaves facing each other and then using a random process to connect each leaf on one tree to two leaves on the other. They then posed the following question: Starting at one root of the welded tree graph, can you find your way to the other?\\nWithout a bird’s-eye view of the graph, any classical algorithm that attempts to solve this search problem will get hopelessly lost after reaching the middle layers of the graph — all the edges look identical, and there’s no way to distinguish those that point forward from those leading backward. An algorithm might stumble upon the exit node accidentally, but the average time it spends wandering around grows exponentially with the number of layers in the tree.\\nThe authors of the 2002 paper proved that a simple quantum algorithm — a “quantum walk” that spreads through the graph evenly by taking many paths in superposition — can find its way to the exit much faster. That’s because the symmetric layout of the welded tree graph leads to interference between paths that concentrates flow in the forward direction. The exit node is “like a focus point of the algorithm,” said Alexander Belov, a computer scientist at the University of Latvia.\\nThere’s a good chance that this quantum walk algorithm converges on the exit in time that’s merely proportional to the number of layers. That makes it exponentially faster than any classical algorithm — a speedup comparable to that of Shor’s factoring algorithm. But the interference that causes the quantum speedup also wipes out all record of the paths the algorithm traverses on its way to the exit.\\nResearchers wondered if there was some way to get the best of both worlds — a fast algorithm that identifies a path from entrance to exit.\\n“If it’s just the basic quantum walk that somehow finds the exit, that’s not going to work,” said Andrew Childs, a computer scientist at the University of Maryland, College Park who co-authored the 2002 paper as a graduate student and worked with Coudron on the new result. “But maybe you could soup it up in some way.”\\nSouping It Up\\nAmong the first to approach the problem was Ansis Rosmanis, a computer scientist now at the Nagoya University Graduate School of Mathematics. In a 2010 paper, Rosmanis developed a class of algorithms that he dubbed “quantum snake walks,” which supplement the standard quantum walk algorithm with a memory of where they’ve been.\\nAs the standard quantum walk algorithm flows through the graph, its next step depends solely on where it is currently — how it got there doesn’t matter. In Rosmanis’ snake walks, by contrast, you need to know the past to predict the future. Specifically, the evolution of the snake walk is determined by “snakes,” strings of adjacent nodes that the walk has previously passed through. There are many varieties of snake walks, differing among other respects in how the length of those snakes changes over the course of the walk.\\nRosmanis showed that quantum snake walks using superpositions of multiple snakes could still exhibit helpful interference, despite remembering their trajectories, and that some snake walks could in principle find a path to the exit. But he couldn’t find a specific snake walk algorithm that did so quickly, and he also couldn’t prove that such an algorithm didn’t exist. Snake walks, it seemed, were promising, but too slippery to pin down. Rosmanis’ work was the last word on the path-finding problem for nearly a decade.\\nThen in 2019, Coudron encountered the welded tree graph in a different context: He and a colleague proved that all quantum walk algorithms that find the exit lack a property universal among algorithms that were known to yield exponential quantum speedups for other problems. The result wasn’t directly related to path-finding, but Coudron began to suspect that the mathematical techniques that allowed him to prove this sweeping statement about the properties of all welded tree graph algorithms might also help resolve the question of whether snake walks (or other algorithms) could find a path. After moving to Maryland later that year, he struck up a collaboration with Childs, hoping to settle that question decisively.\\nChilds, Coudron and their graduate student Amin Shiraz Gilani began by making two assumptions to constrain the scope of the problem. First, they decided to ignore outlandish algorithms that would try to teleport to random points in the graph in hopes of stumbling upon the exit. This strategy is like trying to beat a video game by rooting around for a glitch to exploit — technically possible, perhaps, but against the spirit of the problem. It’s also hard to imagine that such behavior could be helpful, since the odds of landing in the right spot become minuscule on large graphs. Ignoring algorithms that hop around randomly made it easier to analyze the algorithms that remained, which the authors dubbed “genuine” algorithms — these included Rosmanis’ snake walk algorithms and perhaps others that nobody had yet discovered.\\n\\nReturn & Refund Policy\\nAbout\\nPress Room\\n\\n\\n\\n\\nFAQs\\nContact Us\\nSite Map\\n\\n\\n\\n\\nAdvertise\\nSA Custom Media\\nTerms of Use\\n\\n\\n\\n\\nPrivacy Policy\\nYour US State Privacy Rights\\nYour Privacy Choices/Manage Cookies\\nInternational Editions\\n\\nScientific American is part of Springer Nature, which owns or has commercial relations with thousands of scientific publications (many of them can be found at www.springernature.com/us). Scientific American maintains a strict policy of editorial independence in reporting developments in science to our readers.© 2023 Scientific American, a Division of Springer Nature America, Inc.All Rights Reserved.Scroll To Top \\n\\nSupport science journalism.Thanks for reading Scientific American. Knowledge awaits.See Subscription OptionsAlready a subscriber? Sign in.Thanks for reading Scientific American. Create your free account or Sign in to continue.Create AccountSee Subscription OptionsContinue reading with a Scientific American subscription.Subscribe NowYou may cancel at any time.Sign in.\\n</ctx>\\n------\\nWhat are the other reasons behind streetlights turning purple?<|im_end|>\\nAnswer:\"\n",
      "  ]\n",
      "}\n"
     ]
    },
    {
     "name": "stdout",
     "output_type": "stream",
     "text": [
      "\u001b[36;1m\u001b[1;3m[llm/end]\u001b[0m \u001b[1m[1:chain:ConversationalRetrievalChain > 5:chain:StuffDocumentsChain > 6:chain:LLMChain > 7:llm:AzureOpenAI] [3.06s] Exiting LLM run with output:\n",
      "\u001b[0m{\n",
      "  \"generations\": [\n",
      "    [\n",
      "      {\n",
      "        \"text\": \" The phosphor layer around the lights has been “delaminated”—peeled off—exposing the blue LED light underneath. Although blue LED lights are, in principle, deep blue in color, they do naturally have a bit of a purple and violet tint. It’s possible that the lamps themselves could be malfunctioning in various ways, but other malfunctions would produce different results.<|im_end|>\",\n",
      "        \"generation_info\": {\n",
      "          \"finish_reason\": \"stop\",\n",
      "          \"logprobs\": null\n",
      "        }\n",
      "      }\n",
      "    ]\n",
      "  ],\n",
      "  \"llm_output\": {\n",
      "    \"token_usage\": {\n",
      "      \"completion_tokens\": 78,\n",
      "      \"total_tokens\": 8882,\n",
      "      \"prompt_tokens\": 8804\n",
      "    },\n",
      "    \"model_name\": \"text-davinci-002\"\n",
      "  },\n",
      "  \"run\": null\n",
      "}\n",
      "\u001b[36;1m\u001b[1;3m[chain/end]\u001b[0m \u001b[1m[1:chain:ConversationalRetrievalChain > 5:chain:StuffDocumentsChain > 6:chain:LLMChain] [3.06s] Exiting Chain run with output:\n",
      "\u001b[0m{\n",
      "  \"text\": \" The phosphor layer around the lights has been “delaminated”—peeled off—exposing the blue LED light underneath. Although blue LED lights are, in principle, deep blue in color, they do naturally have a bit of a purple and violet tint. It’s possible that the lamps themselves could be malfunctioning in various ways, but other malfunctions would produce different results.<|im_end|>\"\n",
      "}\n",
      "\u001b[36;1m\u001b[1;3m[chain/end]\u001b[0m \u001b[1m[1:chain:ConversationalRetrievalChain > 5:chain:StuffDocumentsChain] [3.06s] Exiting Chain run with output:\n",
      "\u001b[0m{\n",
      "  \"output_text\": \" The phosphor layer around the lights has been “delaminated”—peeled off—exposing the blue LED light underneath. Although blue LED lights are, in principle, deep blue in color, they do naturally have a bit of a purple and violet tint. It’s possible that the lamps themselves could be malfunctioning in various ways, but other malfunctions would produce different results.<|im_end|>\"\n",
      "}\n",
      "\u001b[36;1m\u001b[1;3m[chain/end]\u001b[0m \u001b[1m[1:chain:ConversationalRetrievalChain] [4.27s] Exiting Chain run with output:\n",
      "\u001b[0m{\n",
      "  \"answer\": \" The phosphor layer around the lights has been “delaminated”—peeled off—exposing the blue LED light underneath. Although blue LED lights are, in principle, deep blue in color, they do naturally have a bit of a purple and violet tint. It’s possible that the lamps themselves could be malfunctioning in various ways, but other malfunctions would produce different results.<|im_end|>\"\n",
      "}\n"
     ]
    }
   ],
   "source": [
    "question = \"what others reasons can be behind streetlights turning purple\"\n",
    "results = qna_chain({\"question\": question})"
   ]
  },
  {
   "cell_type": "code",
   "execution_count": 55,
   "id": "4b51312f",
   "metadata": {},
   "outputs": [
    {
     "name": "stdout",
     "output_type": "stream",
     "text": [
      " The phosphor layer around the lights has been “delaminated”—peeled off—exposing the blue LED light underneath. Although blue LED lights are, in principle, deep blue in color, they do naturally have a bit of a purple and violet tint. It’s possible that the lamps themselves could be malfunctioning in various ways, but other malfunctions would produce different results.<|im_end|>\n"
     ]
    }
   ],
   "source": [
    "print(results['answer'])"
   ]
  },
  {
   "cell_type": "code",
   "execution_count": null,
   "id": "b7643849",
   "metadata": {},
   "outputs": [],
   "source": []
  }
 ],
 "metadata": {
  "kernelspec": {
   "display_name": "finbot",
   "language": "python",
   "name": "finbot"
  },
  "language_info": {
   "codemirror_mode": {
    "name": "ipython",
    "version": 3
   },
   "file_extension": ".py",
   "mimetype": "text/x-python",
   "name": "python",
   "nbconvert_exporter": "python",
   "pygments_lexer": "ipython3",
   "version": "3.9.6"
  }
 },
 "nbformat": 4,
 "nbformat_minor": 5
}
