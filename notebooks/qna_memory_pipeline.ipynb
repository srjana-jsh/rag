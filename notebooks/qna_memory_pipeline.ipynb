{
 "cells": [
  {
   "cell_type": "markdown",
   "id": "cc2732d0",
   "metadata": {},
   "source": [
    "### Pipeline for QnA with Memory"
   ]
  },
  {
   "cell_type": "code",
   "execution_count": 1,
   "id": "591866e7",
   "metadata": {},
   "outputs": [],
   "source": [
    "####Notes####\n",
    "# chunked data length can be atmost 16 for azureopenai"
   ]
  },
  {
   "cell_type": "code",
   "execution_count": 2,
   "id": "0b44b03c",
   "metadata": {},
   "outputs": [],
   "source": [
    "# !pip3 install langchain\n",
    "# !pip install openai\n",
    "# !pip3 install openai chromadb\n",
    "# !pip3 install tiktoken"
   ]
  },
  {
   "cell_type": "code",
   "execution_count": 3,
   "id": "1e3b368d",
   "metadata": {},
   "outputs": [],
   "source": [
    "# !pip3 install unstructured\n",
    "# !pip3 install pdf2image\n",
    "# !pip3 install pdfminer\n",
    "# !pip3 install pdfminer.six\n",
    "# !pip3 install pymupdf \n",
    "# !pip3 install lxml\n",
    "# !pip3 install lxml"
   ]
  },
  {
   "cell_type": "code",
   "execution_count": 2,
   "id": "65d86529",
   "metadata": {},
   "outputs": [
    {
     "data": {
      "text/plain": [
       "<module 'scraper' from '/Users/rachitjoshi/Documents/Finbot/notebooks/../scripts/scraper.py'>"
      ]
     },
     "execution_count": 2,
     "metadata": {},
     "output_type": "execute_result"
    }
   ],
   "source": [
    "import os\n",
    "import sys\n",
    "import glob\n",
    "import re\n",
    "import importlib\n",
    "import langchain\n",
    "from pathlib import Path\n",
    "from langchain.document_loaders import WebBaseLoader, UnstructuredPDFLoader, PyMuPDFLoader\n",
    "from langchain.text_splitter import RecursiveCharacterTextSplitter, TextSplitter\n",
    "from langchain.indexes import VectorstoreIndexCreator\n",
    "from langchain.embeddings import OpenAIEmbeddings\n",
    "from langchain.vectorstores import Chroma\n",
    "from langchain.chains import RetrievalQA\n",
    "from langchain.llms import AzureOpenAI\n",
    "from langchain.prompts import PromptTemplate\n",
    "from dotenv import load_dotenv\n",
    "#environment-variables\n",
    "load_dotenv()\n",
    "sys.path.append(os.path.join(os.getcwd(), '../scripts'))\n",
    "import helpers as h\n",
    "import constants as c\n",
    "import scraper as sc\n",
    "importlib.reload(h)\n",
    "importlib.reload(c)\n",
    "importlib.reload(sc)"
   ]
  },
  {
   "cell_type": "markdown",
   "id": "ddeb387c",
   "metadata": {},
   "source": [
    "#### Paths"
   ]
  },
  {
   "cell_type": "code",
   "execution_count": 3,
   "id": "689055b3",
   "metadata": {},
   "outputs": [],
   "source": [
    "pdfs_path = os.path.join(os.getcwd(), '../data/pdfs')\n",
    "merged_pdfs_path = os.path.join(os.getcwd(), '../data/pdfs_processed/merged')"
   ]
  },
  {
   "cell_type": "markdown",
   "id": "288a6688",
   "metadata": {},
   "source": [
    "#### Data"
   ]
  },
  {
   "cell_type": "code",
   "execution_count": 4,
   "id": "d849861f",
   "metadata": {},
   "outputs": [],
   "source": [
    "investorcom_pdfs = [ \n",
    "    _ for _ in glob.glob(os.path.join(pdfs_path, '*.pdf')) if 'investorcom' in _\n",
    "]"
   ]
  },
  {
   "cell_type": "code",
   "execution_count": 5,
   "id": "a16cb6b9",
   "metadata": {
    "scrolled": true
   },
   "outputs": [],
   "source": [
    "# web_list = sc.scrape_site(\n",
    "#     \"https://www.economist.com/\",\n",
    "#     c.header_template\n",
    "# )\n",
    "# web_list"
   ]
  },
  {
   "cell_type": "code",
   "execution_count": 6,
   "id": "b0f3149d",
   "metadata": {},
   "outputs": [],
   "source": [
    "# web_list = [\n",
    "#     'https://www.scientificamerican.com/article/pangaea-ultima-the-next-supercontinent-may-doom-mammals-to-far-future-extinction/',\n",
    "#     'https://www.scientificamerican.com/article/ho-oleilana-a-billion-light-year-wide-bubble-of-galaxies-astounds-astronomers/',\n",
    "#     'https://www.scientificamerican.com/article/dead-trees-and-a-mysterious-cosmic-explosion-reveal-bigger-quake-risk-for-seattle/',\n",
    "#     'https://www.scientificamerican.com/article/streetlights-are-mysteriously-turning-purple-heres-why/',\n",
    "#     'https://www.scientificamerican.com/article/to-move-fast-quantum-maze-solvers-must-forget-the-past/',\n",
    "# ]"
   ]
  },
  {
   "cell_type": "markdown",
   "id": "6569d75a",
   "metadata": {},
   "source": [
    "##### - Load"
   ]
  },
  {
   "cell_type": "code",
   "execution_count": 7,
   "id": "f078336e",
   "metadata": {},
   "outputs": [],
   "source": [
    "loaded_data = []\n",
    "for pdf in investorcom_pdfs :\n",
    "    loaded_data.extend(UnstructuredPDFLoader(file_path=pdf).load())        "
   ]
  },
  {
   "cell_type": "code",
   "execution_count": 8,
   "id": "8dba9531",
   "metadata": {},
   "outputs": [],
   "source": [
    "# loaded_data = []\n",
    "# for page in web_list[:40]:\n",
    "#     try:\n",
    "#         loaded_data.extend(WebBaseLoader(page).load())\n",
    "#     except:\n",
    "#         continue"
   ]
  },
  {
   "cell_type": "code",
   "execution_count": 9,
   "id": "e841f1f5",
   "metadata": {},
   "outputs": [
    {
     "data": {
      "text/plain": [
       "7"
      ]
     },
     "execution_count": 9,
     "metadata": {},
     "output_type": "execute_result"
    }
   ],
   "source": [
    "len(loaded_data)"
   ]
  },
  {
   "cell_type": "code",
   "execution_count": 10,
   "id": "dc420076",
   "metadata": {},
   "outputs": [
    {
     "name": "stdout",
     "output_type": "stream",
     "text": [
      "{'source': '/Users/rachitjoshi/Documents/Finbot/notebooks/../data/pdfs/meta_investorcom_1.pdf'}\n"
     ]
    }
   ],
   "source": [
    "print(loaded_data[5].metadata)"
   ]
  },
  {
   "cell_type": "code",
   "execution_count": 11,
   "id": "3c69da54",
   "metadata": {},
   "outputs": [],
   "source": [
    "# for pdf in pdf_list :\n",
    "#     try :\n",
    "#         pdf_data.extend(UnstructuredPDFLoader(file_path=pdf).load())        \n",
    "#     except NameError:\n",
    "#         pdf_loader = UnstructuredPDFLoader(file_path=pdf)\n",
    "#         pdf_data = pdf_loader.load()"
   ]
  },
  {
   "cell_type": "markdown",
   "id": "6215c716",
   "metadata": {},
   "source": [
    "##### - Split"
   ]
  },
  {
   "cell_type": "code",
   "execution_count": 27,
   "id": "1288cf29",
   "metadata": {},
   "outputs": [],
   "source": [
    "# chunk_size = c.prompt_max//c.retrieval_kwargs['k']\n",
    "chunk_size = 4000\n",
    "chunk_overlap = 0"
   ]
  },
  {
   "cell_type": "code",
   "execution_count": 28,
   "id": "00017c4a",
   "metadata": {},
   "outputs": [],
   "source": [
    "data_splitter = RecursiveCharacterTextSplitter(\n",
    "    chunk_size = chunk_size, chunk_overlap = chunk_overlap\n",
    ")"
   ]
  },
  {
   "cell_type": "code",
   "execution_count": 29,
   "id": "046f7b04",
   "metadata": {},
   "outputs": [],
   "source": [
    "chunked_data = data_splitter.split_documents(loaded_data)"
   ]
  },
  {
   "cell_type": "code",
   "execution_count": 30,
   "id": "39cdf6d6",
   "metadata": {},
   "outputs": [],
   "source": [
    "for doc in chunked_data:\n",
    "    doc.metadata['company']=os.path.basename(\n",
    "        doc.metadata['source']).replace('_investorcom_1.pdf', ''\n",
    "   )"
   ]
  },
  {
   "cell_type": "code",
   "execution_count": 31,
   "id": "3bec634e",
   "metadata": {},
   "outputs": [
    {
     "data": {
      "text/plain": [
       "{'source': '/Users/rachitjoshi/Documents/Finbot/notebooks/../data/pdfs/google_investorcom_1.pdf',\n",
       " 'company': 'google'}"
      ]
     },
     "execution_count": 31,
     "metadata": {},
     "output_type": "execute_result"
    }
   ],
   "source": [
    "doc.metadata"
   ]
  },
  {
   "cell_type": "code",
   "execution_count": 16,
   "id": "6e5806f4",
   "metadata": {},
   "outputs": [],
   "source": [
    "#####"
   ]
  },
  {
   "cell_type": "code",
   "execution_count": 97,
   "id": "b95e7894",
   "metadata": {},
   "outputs": [],
   "source": [
    "entity_types = ['ORG', 'PERSON']"
   ]
  },
  {
   "cell_type": "code",
   "execution_count": 98,
   "id": "39b57efe",
   "metadata": {},
   "outputs": [],
   "source": [
    "import spacy\n",
    "from spacy import displacy\n",
    "from collections import Counter\n",
    "import en_core_web_sm\n",
    "nlp = en_core_web_sm.load()"
   ]
  },
  {
   "cell_type": "code",
   "execution_count": 125,
   "id": "3e2c77f0",
   "metadata": {},
   "outputs": [],
   "source": [
    "doc_metadata={}"
   ]
  },
  {
   "cell_type": "code",
   "execution_count": 116,
   "id": "227ac33b",
   "metadata": {},
   "outputs": [],
   "source": [
    "# multiple values for each entity"
   ]
  },
  {
   "cell_type": "code",
   "execution_count": 100,
   "id": "b76713e1",
   "metadata": {},
   "outputs": [],
   "source": [
    "doc=nlp(chunked_data[0].page_content)"
   ]
  },
  {
   "cell_type": "code",
   "execution_count": 101,
   "id": "1aa500af",
   "metadata": {},
   "outputs": [],
   "source": [
    "doc_entities = set([\n",
    "    (X.label_, X.text) for X in doc.ents if any(\n",
    "        k in X.label_ for k in entity_types\n",
    "    )\n",
    "])"
   ]
  },
  {
   "cell_type": "code",
   "execution_count": 102,
   "id": "233fb629",
   "metadata": {},
   "outputs": [],
   "source": [
    "for e, v in doc_entities :\n",
    "    doc_metadata.setdefault(e, []).append(v)"
   ]
  },
  {
   "cell_type": "code",
   "execution_count": 103,
   "id": "17729f90",
   "metadata": {},
   "outputs": [
    {
     "data": {
      "text/plain": [
       "{'ORG': ['Google',\n",
       "  'Amazon',\n",
       "  'Amazon Web Services',\n",
       "  'Heightened Focus On Cost Savings',\n",
       "  'CFRA',\n",
       "  'Amazon Jumps Into Arti\\x00cial Intelligence',\n",
       "  'Amazon Health Services',\n",
       "  'AI',\n",
       "  'One Medical',\n",
       "  'Oppenheimer',\n",
       "  'Microsoft',\n",
       "  'AWS',\n",
       "  'MSFT'],\n",
       " 'PERSON': ['Jason Helfstein',\n",
       "  'Twitch',\n",
       "  'Andy Jassy',\n",
       "  'Sundaram',\n",
       "  'Jassy',\n",
       "  'Neil Lindsay',\n",
       "  'Arun Sundaram']}"
      ]
     },
     "execution_count": 103,
     "metadata": {},
     "output_type": "execute_result"
    }
   ],
   "source": [
    "doc_metadata"
   ]
  },
  {
   "cell_type": "code",
   "execution_count": 121,
   "id": "44cbb2e4",
   "metadata": {},
   "outputs": [],
   "source": [
    "# unique value for each entity"
   ]
  },
  {
   "cell_type": "code",
   "execution_count": 143,
   "id": "6357066b",
   "metadata": {},
   "outputs": [],
   "source": [
    "doc=nlp(chunked_data[0].page_content)\n",
    "x = Counter([\n",
    "    (X.text, X.label_) for X in doc.ents if any(\n",
    "        k in X.label_ for k in entity_types\n",
    "    )\n",
    "])"
   ]
  },
  {
   "cell_type": "code",
   "execution_count": 152,
   "id": "ab5dc5b6",
   "metadata": {},
   "outputs": [],
   "source": [
    "doc_metadata = dict.fromkeys(set([_[1] for _ in x.keys()]))\n",
    "for v in list(dict(x.keys()).items()):\n",
    "    if None in doc_metadata.values():\n",
    "        if doc_metadata[v[1]] is None:\n",
    "            doc_metadata[v[1]]=[v[0]]\n",
    "    else:\n",
    "        break"
   ]
  },
  {
   "cell_type": "code",
   "execution_count": 154,
   "id": "df28d0c3",
   "metadata": {},
   "outputs": [],
   "source": [
    "doc_metadata = dict.fromkeys(set([_[1] for _ in x.keys()]))"
   ]
  },
  {
   "cell_type": "code",
   "execution_count": 156,
   "id": "a061607f",
   "metadata": {},
   "outputs": [],
   "source": [
    "doc_metadata['ORG']='Ama'"
   ]
  },
  {
   "cell_type": "code",
   "execution_count": 33,
   "id": "7dd2d208",
   "metadata": {},
   "outputs": [
    {
     "name": "stdout",
     "output_type": "stream",
     "text": [
      "[('Amazon', 'ORG'), ('Google', 'ORG')]\n"
     ]
    }
   ],
   "source": [
    "doc=nlp('what are the pros and cons of investing in Amazon, Google')\n",
    "print([(X.text, X.label_) for X in doc.ents])"
   ]
  },
  {
   "cell_type": "code",
   "execution_count": null,
   "id": "6de1a11c",
   "metadata": {},
   "outputs": [],
   "source": []
  },
  {
   "cell_type": "code",
   "execution_count": null,
   "id": "19544ff5",
   "metadata": {},
   "outputs": [],
   "source": []
  },
  {
   "cell_type": "code",
   "execution_count": null,
   "id": "01d7bfaa",
   "metadata": {},
   "outputs": [],
   "source": [
    "######"
   ]
  },
  {
   "cell_type": "markdown",
   "id": "7f965017",
   "metadata": {},
   "source": [
    "##### - Store"
   ]
  },
  {
   "cell_type": "code",
   "execution_count": null,
   "id": "76e93aa0",
   "metadata": {},
   "outputs": [],
   "source": [
    "chunks_max = 15"
   ]
  },
  {
   "cell_type": "code",
   "execution_count": null,
   "id": "6bae9700",
   "metadata": {},
   "outputs": [],
   "source": [
    "vectorstore_engine = 'Finbot-embedding-2'"
   ]
  },
  {
   "cell_type": "code",
   "execution_count": null,
   "id": "844575f6",
   "metadata": {},
   "outputs": [],
   "source": [
    "embedding_model = OpenAIEmbeddings(deployment=vectorstore_engine)"
   ]
  },
  {
   "cell_type": "code",
   "execution_count": null,
   "id": "7bad3ae4",
   "metadata": {},
   "outputs": [],
   "source": [
    "try:\n",
    "    vectorstore.delete_collection()\n",
    "except (ValueError, NameError):\n",
    "    pass\n",
    "for _ in range(0, len(chunked_data), chunks_max):\n",
    "    vectorstore = Chroma.from_documents(\n",
    "        documents=chunked_data[_: _ + chunks_max], embedding=embedding_model\n",
    "    )"
   ]
  },
  {
   "cell_type": "code",
   "execution_count": null,
   "id": "d3507766",
   "metadata": {},
   "outputs": [],
   "source": []
  },
  {
   "cell_type": "code",
   "execution_count": null,
   "id": "cdfe08e1",
   "metadata": {
    "scrolled": true
   },
   "outputs": [],
   "source": [
    "len(vectorstore.get()['documents'])"
   ]
  },
  {
   "cell_type": "code",
   "execution_count": null,
   "id": "cfb0605d",
   "metadata": {},
   "outputs": [],
   "source": [
    "vectorstore.get().keys()"
   ]
  },
  {
   "cell_type": "code",
   "execution_count": null,
   "id": "1c8f5352",
   "metadata": {},
   "outputs": [],
   "source": [
    "vectorstore.get()['metadatas']"
   ]
  },
  {
   "cell_type": "markdown",
   "id": "4d893183",
   "metadata": {},
   "source": [
    "##### - Retrieve"
   ]
  },
  {
   "cell_type": "code",
   "execution_count": null,
   "id": "231675b2",
   "metadata": {},
   "outputs": [],
   "source": [
    "question = \"tell me about the world in brief?\"\n",
    "docs = vectorstore.similarity_search_with_relevance_scores(question, k=7)\n",
    "len(docs)"
   ]
  },
  {
   "cell_type": "code",
   "execution_count": null,
   "id": "37d47485",
   "metadata": {},
   "outputs": [],
   "source": [
    "len(docs[0][0].page_content)"
   ]
  },
  {
   "cell_type": "code",
   "execution_count": null,
   "id": "97a1fdce",
   "metadata": {},
   "outputs": [],
   "source": [
    "# print(docs[1][0].page_content)"
   ]
  },
  {
   "cell_type": "markdown",
   "id": "b3756b18",
   "metadata": {},
   "source": [
    "##### - Generate"
   ]
  },
  {
   "cell_type": "code",
   "execution_count": null,
   "id": "617476d9",
   "metadata": {},
   "outputs": [],
   "source": [
    "llm_engine = 'finbot-gpt'\n",
    "llm_model = 'text-davinci-002'\n",
    "temperature = 0\n",
    "search_type = 'mmr'\n",
    "retrieval_kwargs = {'k': 5, 'lambda_mult': 0.5, 'fetch_k':10}\n",
    "answer_max_tokens = 512\n",
    "save_folder = '../data/pdfs/'\n",
    "prompt_template_file = os.path.join(os.getcwd(), '../scripts/prompt_template.txt')\n",
    "pdf_list = [\n",
    "    _ for _ in glob.glob(os.path.join(os.getcwd(), save_folder, '*.pdf'))\n",
    "]\n",
    "web_list = []\n",
    "langchain.debug=False"
   ]
  },
  {
   "cell_type": "code",
   "execution_count": null,
   "id": "57f3c217",
   "metadata": {},
   "outputs": [],
   "source": [
    "############"
   ]
  },
  {
   "cell_type": "code",
   "execution_count": null,
   "id": "61ac49ab",
   "metadata": {},
   "outputs": [],
   "source": [
    "base_llm = AzureOpenAI(\n",
    "    engine=llm_engine, \n",
    "    model_name=llm_model, \n",
    "    temperature=temperature, \n",
    "    max_tokens=answer_max_tokens\n",
    ")"
   ]
  },
  {
   "cell_type": "code",
   "execution_count": null,
   "id": "1cb7296e",
   "metadata": {},
   "outputs": [],
   "source": [
    "langchain.debug=False"
   ]
  },
  {
   "cell_type": "code",
   "execution_count": null,
   "id": "a9ab4d3d",
   "metadata": {},
   "outputs": [],
   "source": [
    "from langchain.memory import ConversationSummaryBufferMemory\n",
    "from langchain.chains import ConversationalRetrievalChain"
   ]
  },
  {
   "cell_type": "code",
   "execution_count": null,
   "id": "4313f632",
   "metadata": {},
   "outputs": [],
   "source": [
    "condense_question_template = os.path.join(\n",
    "    os.getcwd(), '..', 'scripts/condense_question_template.txt'\n",
    ")\n",
    "condense_question_input = c.condense_question_input"
   ]
  },
  {
   "cell_type": "code",
   "execution_count": null,
   "id": "00c07a71",
   "metadata": {},
   "outputs": [],
   "source": [
    "chat_prompt = PromptTemplate.from_file(\n",
    "    condense_question_template,\n",
    "    input_variables=condense_question_input\n",
    ")"
   ]
  },
  {
   "cell_type": "code",
   "execution_count": null,
   "id": "e5c57681",
   "metadata": {},
   "outputs": [],
   "source": [
    "qna_prompt_template = os.path.join(os.getcwd(), '..', 'scripts/qna_prompt_template.txt')\n",
    "qna_prompt_input = c.qna_prompt_input\n",
    "prompt_role = c.prompt_role"
   ]
  },
  {
   "cell_type": "code",
   "execution_count": null,
   "id": "406d3d6a",
   "metadata": {},
   "outputs": [],
   "source": [
    "qna_prompt = PromptTemplate.from_file(\n",
    "    qna_prompt_template,\n",
    "    input_variables=qna_prompt_input,\n",
    "    partial_variables={'role':prompt_role}\n",
    ")"
   ]
  },
  {
   "cell_type": "code",
   "execution_count": null,
   "id": "5f8db888",
   "metadata": {},
   "outputs": [],
   "source": [
    "history_tokens = 2000\n",
    "memory = ConversationSummaryBufferMemory(\n",
    "    llm=base_llm, \n",
    "    memory_key=\"chat_history\", \n",
    "    return_messages=True, \n",
    "    max_token_limit=history_tokens\n",
    ")"
   ]
  },
  {
   "cell_type": "code",
   "execution_count": null,
   "id": "81e95a29",
   "metadata": {},
   "outputs": [],
   "source": [
    "qna_chain = ConversationalRetrievalChain.from_llm(\n",
    "    base_llm, \n",
    "    retriever=vectorstore.as_retriever(\n",
    "        search_type=search_type, search_kwargs=retrieval_kwargs\n",
    "    ),\n",
    "    memory=memory,\n",
    "    condense_question_prompt=chat_prompt,\n",
    "    combine_docs_chain_kwargs=dict(prompt=qna_prompt)\n",
    ")"
   ]
  },
  {
   "cell_type": "code",
   "execution_count": null,
   "id": "b8d4fba2",
   "metadata": {},
   "outputs": [],
   "source": [
    "question = \"tell me about the world in brief?\"\n",
    "results = qna_chain({\"question\": question})"
   ]
  },
  {
   "cell_type": "code",
   "execution_count": null,
   "id": "4b51312f",
   "metadata": {},
   "outputs": [],
   "source": [
    "print(results['answer'])"
   ]
  },
  {
   "cell_type": "code",
   "execution_count": null,
   "id": "b7643849",
   "metadata": {},
   "outputs": [],
   "source": []
  }
 ],
 "metadata": {
  "kernelspec": {
   "display_name": "finbot",
   "language": "python",
   "name": "finbot"
  },
  "language_info": {
   "codemirror_mode": {
    "name": "ipython",
    "version": 3
   },
   "file_extension": ".py",
   "mimetype": "text/x-python",
   "name": "python",
   "nbconvert_exporter": "python",
   "pygments_lexer": "ipython3",
   "version": "3.9.6"
  }
 },
 "nbformat": 4,
 "nbformat_minor": 5
}
