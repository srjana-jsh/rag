{
 "cells": [
  {
   "cell_type": "markdown",
   "id": "cc2732d0",
   "metadata": {},
   "source": [
    "### Pipeline for QnA with Memory"
   ]
  },
  {
   "cell_type": "code",
   "execution_count": 1,
   "id": "591866e7",
   "metadata": {},
   "outputs": [],
   "source": [
    "####Notes####\n",
    "# chunked data length can be atmost 16 for azureopenai"
   ]
  },
  {
   "cell_type": "code",
   "execution_count": 2,
   "id": "0b44b03c",
   "metadata": {},
   "outputs": [],
   "source": [
    "# !pip3 install langchain\n",
    "# !pip install openai\n",
    "# !pip3 install openai chromadb\n",
    "# !pip3 install tiktoken"
   ]
  },
  {
   "cell_type": "code",
   "execution_count": 3,
   "id": "1e3b368d",
   "metadata": {},
   "outputs": [],
   "source": [
    "# !pip3 install unstructured\n",
    "# !pip3 install pdf2image\n",
    "# !pip3 install pdfminer\n",
    "# !pip3 install pdfminer.six\n",
    "# !pip3 install pymupdf \n",
    "# !pip3 install lxml\n",
    "# !pip3 install lxml"
   ]
  },
  {
   "cell_type": "code",
   "execution_count": 55,
   "id": "65d86529",
   "metadata": {},
   "outputs": [
    {
     "data": {
      "text/plain": [
       "<module 'scraper' from '/Users/rachitjoshi/Documents/Finbot/notebooks/../scripts/scraper.py'>"
      ]
     },
     "execution_count": 55,
     "metadata": {},
     "output_type": "execute_result"
    }
   ],
   "source": [
    "import os\n",
    "import sys\n",
    "import glob\n",
    "import re\n",
    "import importlib\n",
    "import langchain\n",
    "from pathlib import Path\n",
    "from langchain.document_loaders import WebBaseLoader, UnstructuredPDFLoader, PyMuPDFLoader\n",
    "from langchain.text_splitter import RecursiveCharacterTextSplitter, TextSplitter\n",
    "from langchain.indexes import VectorstoreIndexCreator\n",
    "from langchain.embeddings import OpenAIEmbeddings\n",
    "from langchain.vectorstores import Chroma\n",
    "from langchain.chains import RetrievalQA\n",
    "from langchain.llms import AzureOpenAI\n",
    "from langchain.prompts import PromptTemplate\n",
    "sys.path.append(os.path.join(os.getcwd(), '../scripts'))\n",
    "import helpers as h\n",
    "import constants as c\n",
    "import scraper as sc\n",
    "importlib.reload(h)\n",
    "importlib.reload(c)\n",
    "importlib.reload(sc)"
   ]
  },
  {
   "cell_type": "markdown",
   "id": "a7269850",
   "metadata": {},
   "source": [
    "#### Environment"
   ]
  },
  {
   "cell_type": "code",
   "execution_count": 29,
   "id": "797152d8",
   "metadata": {},
   "outputs": [],
   "source": [
    "os.environ[\"OPENAI_API_KEY\"] = \"6cdb659e5a9d402e80c212fe8ea26483\""
   ]
  },
  {
   "cell_type": "code",
   "execution_count": 30,
   "id": "1f1d835b",
   "metadata": {},
   "outputs": [],
   "source": [
    "os.environ[\"OPENAI_API_TYPE\"] = \"azure\"\n",
    "os.environ[\"OPENAI_API_VERSION\"] = \"2023-03-15-preview\"\n",
    "os.environ[\"OPENAI_API_BASE\"] = \"https://test-chatgpt-flomoney.openai.azure.com/\"\n",
    "os.environ[\"OPENAI_API_KEY\"] = os.getenv(\"OPENAI_API_KEY\")"
   ]
  },
  {
   "cell_type": "markdown",
   "id": "ddeb387c",
   "metadata": {},
   "source": [
    "#### Paths"
   ]
  },
  {
   "cell_type": "code",
   "execution_count": 31,
   "id": "689055b3",
   "metadata": {},
   "outputs": [],
   "source": [
    "pdfs_path = os.path.join(os.getcwd(), '../data/pdfs')\n",
    "merged_pdfs_path = os.path.join(os.getcwd(), '../data/pdfs_processed/merged')"
   ]
  },
  {
   "cell_type": "markdown",
   "id": "288a6688",
   "metadata": {},
   "source": [
    "#### Data"
   ]
  },
  {
   "cell_type": "code",
   "execution_count": 9,
   "id": "d849861f",
   "metadata": {},
   "outputs": [],
   "source": [
    "investorcom_pdfs = [ \n",
    "    _ for _ in glob.glob(os.path.join(pdfs_path, '*.pdf')) if 'investorcom' in _\n",
    "]"
   ]
  },
  {
   "cell_type": "code",
   "execution_count": 6,
   "id": "a16cb6b9",
   "metadata": {
    "scrolled": true
   },
   "outputs": [],
   "source": [
    "# web_list = sc.scrape_site(\n",
    "#     \"https://www.economist.com/\",\n",
    "#     c.header_template\n",
    "# )\n",
    "# web_list"
   ]
  },
  {
   "cell_type": "code",
   "execution_count": 154,
   "id": "b0f3149d",
   "metadata": {},
   "outputs": [],
   "source": [
    "# web_list = [\n",
    "#     'https://www.scientificamerican.com/article/pangaea-ultima-the-next-supercontinent-may-doom-mammals-to-far-future-extinction/',\n",
    "#     'https://www.scientificamerican.com/article/ho-oleilana-a-billion-light-year-wide-bubble-of-galaxies-astounds-astronomers/',\n",
    "#     'https://www.scientificamerican.com/article/dead-trees-and-a-mysterious-cosmic-explosion-reveal-bigger-quake-risk-for-seattle/',\n",
    "#     'https://www.scientificamerican.com/article/streetlights-are-mysteriously-turning-purple-heres-why/',\n",
    "#     'https://www.scientificamerican.com/article/to-move-fast-quantum-maze-solvers-must-forget-the-past/',\n",
    "# ]"
   ]
  },
  {
   "cell_type": "markdown",
   "id": "6569d75a",
   "metadata": {},
   "source": [
    "##### - Load"
   ]
  },
  {
   "cell_type": "code",
   "execution_count": 10,
   "id": "f078336e",
   "metadata": {},
   "outputs": [],
   "source": [
    "loaded_data = []\n",
    "for pdf in investorcom_pdfs :\n",
    "    loaded_data.extend(UnstructuredPDFLoader(file_path=pdf).load())        "
   ]
  },
  {
   "cell_type": "code",
   "execution_count": 11,
   "id": "8dba9531",
   "metadata": {},
   "outputs": [],
   "source": [
    "# loaded_data = []\n",
    "# for page in web_list[:40]:\n",
    "#     try:\n",
    "#         loaded_data.extend(WebBaseLoader(page).load())\n",
    "#     except:\n",
    "#         continue"
   ]
  },
  {
   "cell_type": "code",
   "execution_count": 12,
   "id": "e841f1f5",
   "metadata": {},
   "outputs": [
    {
     "data": {
      "text/plain": [
       "7"
      ]
     },
     "execution_count": 12,
     "metadata": {},
     "output_type": "execute_result"
    }
   ],
   "source": [
    "len(loaded_data)"
   ]
  },
  {
   "cell_type": "code",
   "execution_count": 13,
   "id": "dc420076",
   "metadata": {},
   "outputs": [
    {
     "name": "stdout",
     "output_type": "stream",
     "text": [
      "{'source': '/Users/rachitjoshi/Documents/Finbot/notebooks/../data/pdfs/meta_investorcom_1.pdf'}\n"
     ]
    }
   ],
   "source": [
    "print(loaded_data[5].metadata)"
   ]
  },
  {
   "cell_type": "code",
   "execution_count": 16,
   "id": "3c69da54",
   "metadata": {},
   "outputs": [],
   "source": [
    "# for pdf in pdf_list :\n",
    "#     try :\n",
    "#         pdf_data.extend(UnstructuredPDFLoader(file_path=pdf).load())        \n",
    "#     except NameError:\n",
    "#         pdf_loader = UnstructuredPDFLoader(file_path=pdf)\n",
    "#         pdf_data = pdf_loader.load()"
   ]
  },
  {
   "cell_type": "markdown",
   "id": "6215c716",
   "metadata": {},
   "source": [
    "##### - Split"
   ]
  },
  {
   "cell_type": "code",
   "execution_count": 60,
   "id": "1288cf29",
   "metadata": {},
   "outputs": [],
   "source": [
    "# chunk_size = c.prompt_max//c.retrieval_kwargs['k']\n",
    "chunk_size = 4000\n",
    "chunk_overlap = 0"
   ]
  },
  {
   "cell_type": "code",
   "execution_count": 61,
   "id": "00017c4a",
   "metadata": {},
   "outputs": [],
   "source": [
    "data_splitter = RecursiveCharacterTextSplitter(\n",
    "    chunk_size = chunk_size, chunk_overlap = chunk_overlap\n",
    ")"
   ]
  },
  {
   "cell_type": "code",
   "execution_count": 62,
   "id": "046f7b04",
   "metadata": {},
   "outputs": [],
   "source": [
    "chunked_data = data_splitter.split_documents(loaded_data)"
   ]
  },
  {
   "cell_type": "code",
   "execution_count": 64,
   "id": "2cafdfb2",
   "metadata": {},
   "outputs": [],
   "source": [
    "for doc in chunked_data:\n",
    "    doc.metadata['company']=os.path.basename(\n",
    "        doc.metadata['source']).replace('_investorcom_1.pdf', ''\n",
    "   )"
   ]
  },
  {
   "cell_type": "code",
   "execution_count": 77,
   "id": "211a2988",
   "metadata": {},
   "outputs": [
    {
     "data": {
      "text/plain": [
       "{'source': '/Users/rachitjoshi/Documents/Finbot/notebooks/../data/pdfs/amazon_investorcom_1.pdf',\n",
       " 'company': 'amazon'}"
      ]
     },
     "execution_count": 77,
     "metadata": {},
     "output_type": "execute_result"
    }
   ],
   "source": [
    "chunked_data[0].metadata"
   ]
  },
  {
   "cell_type": "markdown",
   "id": "7f965017",
   "metadata": {},
   "source": [
    "##### - Store"
   ]
  },
  {
   "cell_type": "code",
   "execution_count": 67,
   "id": "76e93aa0",
   "metadata": {},
   "outputs": [],
   "source": [
    "chunks_max = 15"
   ]
  },
  {
   "cell_type": "code",
   "execution_count": 68,
   "id": "6bae9700",
   "metadata": {},
   "outputs": [],
   "source": [
    "vectorstore_engine = 'Finbot-embedding-2'"
   ]
  },
  {
   "cell_type": "code",
   "execution_count": 69,
   "id": "844575f6",
   "metadata": {},
   "outputs": [],
   "source": [
    "embedding_model = OpenAIEmbeddings(deployment=vectorstore_engine)"
   ]
  },
  {
   "cell_type": "code",
   "execution_count": 70,
   "id": "7bad3ae4",
   "metadata": {},
   "outputs": [],
   "source": [
    "try:\n",
    "    vectorstore.delete_collection()\n",
    "except (ValueError, NameError):\n",
    "    pass\n",
    "for _ in range(0, len(chunked_data), chunks_max):\n",
    "    vectorstore = Chroma.from_documents(\n",
    "        documents=chunked_data[_: _ + chunks_max], embedding=embedding_model\n",
    "    )"
   ]
  },
  {
   "cell_type": "code",
   "execution_count": 71,
   "id": "305a760f",
   "metadata": {},
   "outputs": [
    {
     "data": {
      "text/plain": [
       "{'source': '/Users/rachitjoshi/Documents/Finbot/notebooks/../data/pdfs/amazon_investorcom_1.pdf',\n",
       " 'company': 'amazon'}"
      ]
     },
     "execution_count": 71,
     "metadata": {},
     "output_type": "execute_result"
    }
   ],
   "source": []
  },
  {
   "cell_type": "code",
   "execution_count": 72,
   "id": "cdfe08e1",
   "metadata": {
    "scrolled": true
   },
   "outputs": [
    {
     "data": {
      "text/plain": [
       "17"
      ]
     },
     "execution_count": 72,
     "metadata": {},
     "output_type": "execute_result"
    }
   ],
   "source": [
    "len(vectorstore.get()['documents'])"
   ]
  },
  {
   "cell_type": "code",
   "execution_count": 73,
   "id": "cfb0605d",
   "metadata": {},
   "outputs": [
    {
     "data": {
      "text/plain": [
       "dict_keys(['ids', 'embeddings', 'metadatas', 'documents'])"
      ]
     },
     "execution_count": 73,
     "metadata": {},
     "output_type": "execute_result"
    }
   ],
   "source": [
    "vectorstore.get().keys()"
   ]
  },
  {
   "cell_type": "code",
   "execution_count": 75,
   "id": "22b32aca",
   "metadata": {},
   "outputs": [
    {
     "data": {
      "text/plain": [
       "[{'company': 'amazon',\n",
       "  'source': '/Users/rachitjoshi/Documents/Finbot/notebooks/../data/pdfs/amazon_investorcom_1.pdf'},\n",
       " {'company': 'amazon',\n",
       "  'source': '/Users/rachitjoshi/Documents/Finbot/notebooks/../data/pdfs/amazon_investorcom_1.pdf'},\n",
       " {'company': 'nvidia',\n",
       "  'source': '/Users/rachitjoshi/Documents/Finbot/notebooks/../data/pdfs/nvidia_investorcom_1.pdf'},\n",
       " {'company': 'nvidia',\n",
       "  'source': '/Users/rachitjoshi/Documents/Finbot/notebooks/../data/pdfs/nvidia_investorcom_1.pdf'},\n",
       " {'company': 'apple',\n",
       "  'source': '/Users/rachitjoshi/Documents/Finbot/notebooks/../data/pdfs/apple_investorcom_1.pdf'},\n",
       " {'company': 'apple',\n",
       "  'source': '/Users/rachitjoshi/Documents/Finbot/notebooks/../data/pdfs/apple_investorcom_1.pdf'},\n",
       " {'company': 'tesla',\n",
       "  'source': '/Users/rachitjoshi/Documents/Finbot/notebooks/../data/pdfs/tesla_investorcom_1.pdf'},\n",
       " {'company': 'tesla',\n",
       "  'source': '/Users/rachitjoshi/Documents/Finbot/notebooks/../data/pdfs/tesla_investorcom_1.pdf'},\n",
       " {'company': 'tesla',\n",
       "  'source': '/Users/rachitjoshi/Documents/Finbot/notebooks/../data/pdfs/tesla_investorcom_1.pdf'},\n",
       " {'company': 'microsoft',\n",
       "  'source': '/Users/rachitjoshi/Documents/Finbot/notebooks/../data/pdfs/microsoft_investorcom_1.pdf'},\n",
       " {'company': 'microsoft',\n",
       "  'source': '/Users/rachitjoshi/Documents/Finbot/notebooks/../data/pdfs/microsoft_investorcom_1.pdf'},\n",
       " {'company': 'meta',\n",
       "  'source': '/Users/rachitjoshi/Documents/Finbot/notebooks/../data/pdfs/meta_investorcom_1.pdf'},\n",
       " {'company': 'meta',\n",
       "  'source': '/Users/rachitjoshi/Documents/Finbot/notebooks/../data/pdfs/meta_investorcom_1.pdf'},\n",
       " {'company': 'meta',\n",
       "  'source': '/Users/rachitjoshi/Documents/Finbot/notebooks/../data/pdfs/meta_investorcom_1.pdf'},\n",
       " {'company': 'google',\n",
       "  'source': '/Users/rachitjoshi/Documents/Finbot/notebooks/../data/pdfs/google_investorcom_1.pdf'},\n",
       " {'company': 'google',\n",
       "  'source': '/Users/rachitjoshi/Documents/Finbot/notebooks/../data/pdfs/google_investorcom_1.pdf'},\n",
       " {'company': 'google',\n",
       "  'source': '/Users/rachitjoshi/Documents/Finbot/notebooks/../data/pdfs/google_investorcom_1.pdf'}]"
      ]
     },
     "execution_count": 75,
     "metadata": {},
     "output_type": "execute_result"
    }
   ],
   "source": [
    "vectorstore.get()['metadatas']"
   ]
  },
  {
   "cell_type": "markdown",
   "id": "4d893183",
   "metadata": {},
   "source": [
    "##### - Retrieve"
   ]
  },
  {
   "cell_type": "code",
   "execution_count": 173,
   "id": "231675b2",
   "metadata": {},
   "outputs": [
    {
     "data": {
      "text/plain": [
       "7"
      ]
     },
     "execution_count": 173,
     "metadata": {},
     "output_type": "execute_result"
    }
   ],
   "source": [
    "question = \"tell me about the world in brief?\"\n",
    "docs = vectorstore.similarity_search_with_relevance_scores(question, k=7)\n",
    "len(docs)"
   ]
  },
  {
   "cell_type": "code",
   "execution_count": 174,
   "id": "37d47485",
   "metadata": {},
   "outputs": [
    {
     "data": {
      "text/plain": [
       "3996"
      ]
     },
     "execution_count": 174,
     "metadata": {},
     "output_type": "execute_result"
    }
   ],
   "source": [
    "len(docs[0][0].page_content)"
   ]
  },
  {
   "cell_type": "code",
   "execution_count": 175,
   "id": "97a1fdce",
   "metadata": {},
   "outputs": [],
   "source": [
    "# print(docs[1][0].page_content)"
   ]
  },
  {
   "cell_type": "markdown",
   "id": "b3756b18",
   "metadata": {},
   "source": [
    "##### - Generate"
   ]
  },
  {
   "cell_type": "code",
   "execution_count": 176,
   "id": "617476d9",
   "metadata": {},
   "outputs": [],
   "source": [
    "llm_engine = 'finbot-gpt'\n",
    "llm_model = 'text-davinci-002'\n",
    "temperature = 0\n",
    "search_type = 'mmr'\n",
    "retrieval_kwargs = {'k': 5, 'lambda_mult': 0.5, 'fetch_k':10}\n",
    "answer_max_tokens = 512\n",
    "save_folder = '../data/pdfs/'\n",
    "prompt_template_file = os.path.join(os.getcwd(), '../scripts/prompt_template.txt')\n",
    "pdf_list = [\n",
    "    _ for _ in glob.glob(os.path.join(os.getcwd(), save_folder, '*.pdf'))\n",
    "]\n",
    "web_list = []\n",
    "langchain.debug=False"
   ]
  },
  {
   "cell_type": "code",
   "execution_count": 177,
   "id": "57f3c217",
   "metadata": {},
   "outputs": [],
   "source": [
    "############"
   ]
  },
  {
   "cell_type": "code",
   "execution_count": 178,
   "id": "61ac49ab",
   "metadata": {},
   "outputs": [],
   "source": [
    "base_llm = AzureOpenAI(\n",
    "    engine=llm_engine, \n",
    "    model_name=llm_model, \n",
    "    temperature=temperature, \n",
    "    max_tokens=answer_max_tokens\n",
    ")"
   ]
  },
  {
   "cell_type": "code",
   "execution_count": 179,
   "id": "1cb7296e",
   "metadata": {},
   "outputs": [],
   "source": [
    "langchain.debug=False"
   ]
  },
  {
   "cell_type": "code",
   "execution_count": 180,
   "id": "a9ab4d3d",
   "metadata": {},
   "outputs": [],
   "source": [
    "from langchain.memory import ConversationSummaryBufferMemory\n",
    "from langchain.chains import ConversationalRetrievalChain"
   ]
  },
  {
   "cell_type": "code",
   "execution_count": 181,
   "id": "4313f632",
   "metadata": {},
   "outputs": [],
   "source": [
    "condense_question_template = os.path.join(\n",
    "    os.getcwd(), '..', 'scripts/condense_question_template.txt'\n",
    ")\n",
    "condense_question_input = c.condense_question_input"
   ]
  },
  {
   "cell_type": "code",
   "execution_count": 182,
   "id": "00c07a71",
   "metadata": {},
   "outputs": [],
   "source": [
    "chat_prompt = PromptTemplate.from_file(\n",
    "    condense_question_template,\n",
    "    input_variables=condense_question_input\n",
    ")"
   ]
  },
  {
   "cell_type": "code",
   "execution_count": 183,
   "id": "e5c57681",
   "metadata": {},
   "outputs": [],
   "source": [
    "qna_prompt_template = os.path.join(os.getcwd(), '..', 'scripts/qna_prompt_template.txt')\n",
    "qna_prompt_input = c.qna_prompt_input\n",
    "prompt_role = c.prompt_role"
   ]
  },
  {
   "cell_type": "code",
   "execution_count": 184,
   "id": "406d3d6a",
   "metadata": {},
   "outputs": [],
   "source": [
    "qna_prompt = PromptTemplate.from_file(\n",
    "    qna_prompt_template,\n",
    "    input_variables=qna_prompt_input,\n",
    "    partial_variables={'role':prompt_role}\n",
    ")"
   ]
  },
  {
   "cell_type": "code",
   "execution_count": 185,
   "id": "5f8db888",
   "metadata": {},
   "outputs": [],
   "source": [
    "history_tokens = 2000\n",
    "memory = ConversationSummaryBufferMemory(\n",
    "    llm=base_llm, \n",
    "    memory_key=\"chat_history\", \n",
    "    return_messages=True, \n",
    "    max_token_limit=history_tokens\n",
    ")"
   ]
  },
  {
   "cell_type": "code",
   "execution_count": 186,
   "id": "81e95a29",
   "metadata": {},
   "outputs": [],
   "source": [
    "qna_chain = ConversationalRetrievalChain.from_llm(\n",
    "    base_llm, \n",
    "    retriever=vectorstore.as_retriever(\n",
    "        search_type=search_type, search_kwargs=retrieval_kwargs\n",
    "    ),\n",
    "    memory=memory,\n",
    "    condense_question_prompt=chat_prompt,\n",
    "    combine_docs_chain_kwargs=dict(prompt=qna_prompt)\n",
    ")"
   ]
  },
  {
   "cell_type": "code",
   "execution_count": 187,
   "id": "b8d4fba2",
   "metadata": {},
   "outputs": [],
   "source": [
    "question = \"tell me about the world in brief?\"\n",
    "results = qna_chain({\"question\": question})"
   ]
  },
  {
   "cell_type": "code",
   "execution_count": 188,
   "id": "4b51312f",
   "metadata": {},
   "outputs": [
    {
     "name": "stdout",
     "output_type": "stream",
     "text": [
      " Kevin McCarthy was ousted as speaker of America’s House of Representatives in a vote forced by Matt Gaetz, a fellow Republican congressman. The motion to unseat Mr McCarthy was supported by eight Republicans and all 208 Democrats present. Mr Gaetz, a firebrand from Florida, filed the “motion to vacate” on Monday after Mr McCarthy pushed through a bipartisan spending bill. The House has taken such a vote only once before, in 1910; that effort, however, was unsuccessful. Mr McCarthy’s exit has thrown the House into turmoil. The Republican majority has no obvious replacement for him. The judge overseeing Donald Trump’s civil trial for alleged business fraud imposed a gagging order to bar the former president, and others involved in the case, from making public remarks about court staff. He warned that violating the order would result in “serious sanctions”. Mr Trump had denigrated a law clerk on social media; the judge then ordered that his post be deleted. It was removed from Mr Trump’s Truth Social site by Tuesday afternoon. America will impose sanctions on 25 companies and people in China for allegedly producing and distributing the chemicals used to make fentanyl, a deadly opioid. It is the Biden administration’s latest crackdown on China-based entities as it seeks to curb imports of the drug. A spokesperson for the Chinese government accused America of “scapegoating”. More than 250,000 Americans have died of a fentanyl overdose since 2018. The International Committee of the Red Cross published its first code of conduct for civilian cyber-hackers involved in conflicts. The eight rules of engagement include a ban on attacks on hospitals and those that foster terror among civilians. The aid agency said that unprecedented numbers of civilians had joined patriotic cyber “armies” since Russia’s invasion of Ukraine. At least 21 people, including two children, died after a coach veered off an overpass near Venice in Italy. Another 18 were injured. The bus, which was carrying tourists from Ukraine, fell 30 metres before catching fire. The mayor of Venice described the scene as “apocalyptic”. The cause of the crash is unclear. Niger’s government banned all exports of liquefied petroleum gas, an alternative fuel also known as propane, until further notice. It said that national production should be restricted to the domestic market, with exports allowed only under special authorisation. Niger usually exports its surplus LPG to neighbouring Nigeria. Mexico will increase protection for the vaquita porpoise, the world’s most endangered marine mammal, by expanding a protection zone,\n"
     ]
    }
   ],
   "source": [
    "print(results['answer'])"
   ]
  },
  {
   "cell_type": "code",
   "execution_count": null,
   "id": "b7643849",
   "metadata": {},
   "outputs": [],
   "source": []
  }
 ],
 "metadata": {
  "kernelspec": {
   "display_name": "finbot",
   "language": "python",
   "name": "finbot"
  },
  "language_info": {
   "codemirror_mode": {
    "name": "ipython",
    "version": 3
   },
   "file_extension": ".py",
   "mimetype": "text/x-python",
   "name": "python",
   "nbconvert_exporter": "python",
   "pygments_lexer": "ipython3",
   "version": "3.9.6"
  }
 },
 "nbformat": 4,
 "nbformat_minor": 5
}
