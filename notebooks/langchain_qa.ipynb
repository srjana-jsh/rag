{
 "cells": [
  {
   "cell_type": "markdown",
   "id": "cc2732d0",
   "metadata": {},
   "source": [
    "### Question-Answer using Langchain"
   ]
  },
  {
   "cell_type": "code",
   "execution_count": 23,
   "id": "591866e7",
   "metadata": {},
   "outputs": [],
   "source": [
    "####Notes####\n",
    "#not good with graphs and tables in pdfs (PyMuPDFLoader better than UnstructuredPDFLoader)\n",
    "#reasonably good answers for articles with text only"
   ]
  },
  {
   "cell_type": "code",
   "execution_count": 2,
   "id": "0b44b03c",
   "metadata": {},
   "outputs": [],
   "source": [
    "# !pip3 install langchain\n",
    "# !pip install openai\n",
    "# !pip3 install openai chromadb\n",
    "# !pip3 install tiktoken"
   ]
  },
  {
   "cell_type": "code",
   "execution_count": 3,
   "id": "1e3b368d",
   "metadata": {},
   "outputs": [],
   "source": [
    "# !pip3 install unstructured\n",
    "# !pip3 install pdf2image\n",
    "# !pip3 install pdfminer\n",
    "# !pip3 install pdfminer.six\n",
    "# !pip3 install pymupdf "
   ]
  },
  {
   "cell_type": "code",
   "execution_count": 42,
   "id": "65d86529",
   "metadata": {},
   "outputs": [
    {
     "data": {
      "text/plain": [
       "<module 'helpers' from '/Users/rachitjoshi/Documents/Finbot/notebooks/../scripts/helpers.py'>"
      ]
     },
     "execution_count": 42,
     "metadata": {},
     "output_type": "execute_result"
    }
   ],
   "source": [
    "import os\n",
    "import sys\n",
    "import glob\n",
    "import re\n",
    "import importlib\n",
    "from langchain.document_loaders import WebBaseLoader, UnstructuredPDFLoader, PyMuPDFLoader\n",
    "from langchain.indexes import VectorstoreIndexCreator\n",
    "from langchain.text_splitter import RecursiveCharacterTextSplitter, TextSplitter\n",
    "sys.path.append(os.path.join(os.getcwd(), '../scripts'))\n",
    "import helpers as h\n",
    "importlib.reload(h)\n",
    "# from langchain.document_loaders import WebBaseLoader, BasePDFLoader"
   ]
  },
  {
   "cell_type": "markdown",
   "id": "a7269850",
   "metadata": {},
   "source": [
    "#### API Key"
   ]
  },
  {
   "cell_type": "code",
   "execution_count": 8,
   "id": "797152d8",
   "metadata": {},
   "outputs": [],
   "source": [
    "os.environ[\"OPENAI_API_KEY\"] = \"\""
   ]
  },
  {
   "cell_type": "markdown",
   "id": "ddeb387c",
   "metadata": {},
   "source": [
    "#### Parameters"
   ]
  },
  {
   "cell_type": "code",
   "execution_count": 41,
   "id": "689055b3",
   "metadata": {},
   "outputs": [],
   "source": [
    "pdfs_path = os.path.join(os.getcwd(), '../data/pdfs')\n",
    "chunk_size=2000\n",
    "chunk_overlap=0"
   ]
  },
  {
   "cell_type": "markdown",
   "id": "288a6688",
   "metadata": {},
   "source": [
    "#### Test"
   ]
  },
  {
   "cell_type": "markdown",
   "id": "9b2a5c29",
   "metadata": {},
   "source": [
    "###### 1. Web"
   ]
  },
  {
   "cell_type": "code",
   "execution_count": 7,
   "id": "5d4c5b73",
   "metadata": {},
   "outputs": [],
   "source": [
    "loader = WebBaseLoader(\"https://www.forbes.com/sites/mattnovak/2023/07/10/google-confirms-bug-sending-less-traffic-to-online-news-publishers\")\n",
    "index = VectorstoreIndexCreator().from_loaders([loader])"
   ]
  },
  {
   "cell_type": "code",
   "execution_count": 10,
   "id": "226144ec",
   "metadata": {},
   "outputs": [
    {
     "data": {
      "text/plain": [
       "' Google has confirmed that an issue with Google News has been identified that is causing a drop in traffic to news publishers on Monday. The issue is not yet resolved and Google has not provided any further information. This serves as a reminder of the power of Google, as when it sneezes, the internet gets a cold. The article discusses how the new version of Google Search essentially plagiarizes answers, giving users little reason to click on websites for more information.'"
      ]
     },
     "execution_count": 10,
     "metadata": {},
     "output_type": "execute_result"
    }
   ],
   "source": [
    "index.query(\"Can you summarise this article in less than 200 words?\")"
   ]
  },
  {
   "cell_type": "markdown",
   "id": "26b3b9a5",
   "metadata": {},
   "source": [
    "###### 2. PDF"
   ]
  },
  {
   "cell_type": "code",
   "execution_count": 4,
   "id": "c26d0d88",
   "metadata": {},
   "outputs": [],
   "source": [
    "all_pdfs = glob.glob(os.path.join(pdfs_path, '*.pdf'))"
   ]
  },
  {
   "cell_type": "markdown",
   "id": "7fdaa55f",
   "metadata": {},
   "source": [
    "###### - single document"
   ]
  },
  {
   "cell_type": "code",
   "execution_count": 49,
   "id": "e7036d32",
   "metadata": {},
   "outputs": [],
   "source": [
    "#PyMuPDFLoader\n",
    "try :\n",
    "    del(loader, index_creator, index)\n",
    "except NameError:\n",
    "    pass\n",
    "loader = PyMuPDFLoader(\n",
    "    file_path=[_ for _ in all_pdfs if '_fund' in _][0]\n",
    ")\n",
    "index_creator = VectorstoreIndexCreator()\n",
    "index_creator.text_splitter = h._text_splitter(500, chunk_overlap)\n",
    "index = index_creator.from_loaders([loader])"
   ]
  },
  {
   "cell_type": "code",
   "execution_count": 50,
   "id": "f39420fc",
   "metadata": {},
   "outputs": [
    {
     "data": {
      "text/plain": [
       "\" I don't know.\""
      ]
     },
     "execution_count": 50,
     "metadata": {},
     "output_type": "execute_result"
    }
   ],
   "source": [
    "index.query(\"What is the price to book ratio for BGF World Technology Fund A2 SGD Hedged?\")"
   ]
  },
  {
   "cell_type": "code",
   "execution_count": 45,
   "id": "d4b18b7c",
   "metadata": {},
   "outputs": [],
   "source": [
    "#PyMuPDFLoader\n",
    "try :\n",
    "    del(loader, index_creator, index)\n",
    "except NameError:\n",
    "    pass\n",
    "loader = PyMuPDFLoader(\n",
    "    file_path=[_ for _ in all_pdfs if '_fund' in _][0]\n",
    ")\n",
    "index_creator = VectorstoreIndexCreator()\n",
    "index_creator.text_splitter = h._text_splitter(chunk_size, chunk_overlap)\n",
    "index = index_creator.from_loaders([loader])"
   ]
  },
  {
   "cell_type": "code",
   "execution_count": 46,
   "id": "dd09ef81",
   "metadata": {},
   "outputs": [
    {
     "data": {
      "text/plain": [
       "' The top holdings of BGF World Technology Fund A2 SGD Hedged are Microsoft Corp, Apple Inc, Nvidia Corp, ASML Holding NV, Cadence Design Systems Inc, Advanced Micro Devices Inc, Mastercard Inc Class A, Broadcom Inc, Tesla Inc, and Meta Platforms Inc Class A.'"
      ]
     },
     "execution_count": 46,
     "metadata": {},
     "output_type": "execute_result"
    }
   ],
   "source": [
    "index.query(\"Which companies are part of BGF World Technology Fund A2 SGD Hedged?\")"
   ]
  },
  {
   "cell_type": "code",
   "execution_count": 51,
   "id": "49d500eb",
   "metadata": {},
   "outputs": [
    {
     "data": {
      "text/plain": [
       "' The top holdings of companies by percentage for BGF World Technology Fund A2 SGD Hedged are Microsoft Corp (9.67%), Apple Inc (8.88%), Nvidia Corp (6.89%), Asml Holding NV (3.40%), Cadence Design Systems Inc (3.25%), Advanced Micro Devices Inc (2.62%), Mastercard Inc Class A (2.59%), Broadcom Inc (2.54%), Tesla Inc (2.44%), and Meta Platforms Inc Class A (2.35%).'"
      ]
     },
     "execution_count": 51,
     "metadata": {},
     "output_type": "execute_result"
    }
   ],
   "source": [
    "index.query(\"What are the top holdings of companies by percenatge BGF World Technology Fund A2 SGD Hedged?\")"
   ]
  },
  {
   "cell_type": "code",
   "execution_count": 37,
   "id": "653b4d35",
   "metadata": {},
   "outputs": [
    {
     "data": {
      "text/plain": [
       "' Software & Services (30.15%), Semiconductor & Equip (27.83%), Tech Hardware & Equip (11.97%), Financial Services (8.48%), Media & Entertainment (8.07%), Consumer Discretionary Distribution & Retail (4.63%), Cash and/or Derivatives (2.48%), Autos & Components (2.43%), Consumer Serv. (0.78%), Transportation (0.75%), Capital Goods (0.66%), Commercial & Professional Services (0.66%), Consumer Durables (0.58%), Other (0.52%).'"
      ]
     },
     "execution_count": 37,
     "metadata": {},
     "output_type": "execute_result"
    }
   ],
   "source": [
    "index.query(\"What is the sector breakdown for BGF World Technology Fund A2 SGD Hedged?\")"
   ]
  },
  {
   "cell_type": "code",
   "execution_count": 38,
   "id": "2fc7e795",
   "metadata": {},
   "outputs": [
    {
     "data": {
      "text/plain": [
       "' 7.87x'"
      ]
     },
     "execution_count": 38,
     "metadata": {},
     "output_type": "execute_result"
    }
   ],
   "source": [
    "index.query(\"What is the price to book ratio for BGF World Technology Fund A2 SGD Hedged?\")"
   ]
  },
  {
   "cell_type": "code",
   "execution_count": 40,
   "id": "9472a20c",
   "metadata": {},
   "outputs": [
    {
     "data": {
      "text/plain": [
       "' 2.44%'"
      ]
     },
     "execution_count": 40,
     "metadata": {},
     "output_type": "execute_result"
    }
   ],
   "source": [
    "index.query(\"What is the share of tesla in BGF World Technology Fund A2 SGD Hedged?\")"
   ]
  },
  {
   "cell_type": "code",
   "execution_count": 48,
   "id": "cede4d8f",
   "metadata": {},
   "outputs": [
    {
     "data": {
      "text/plain": [
       "' The fund size for BGF World Technology Fund A2 SGD Hedged is 9,251.68 USD.'"
      ]
     },
     "execution_count": 48,
     "metadata": {},
     "output_type": "execute_result"
    }
   ],
   "source": [
    "index.query(\"What is the fund size for BGF World Technology Fund A2 SGD Hedged?\")"
   ]
  },
  {
   "cell_type": "code",
   "execution_count": 58,
   "id": "0e9aa06e",
   "metadata": {},
   "outputs": [
    {
     "data": {
      "text/plain": [
       "' Europe: 8.50%, North America: 78.14%.'"
      ]
     },
     "execution_count": 58,
     "metadata": {},
     "output_type": "execute_result"
    }
   ],
   "source": [
    "index.query(\"What is the breakdown in percentage by continent as in Europe, North America ?\")"
   ]
  },
  {
   "cell_type": "code",
   "execution_count": 20,
   "id": "746ab7b6",
   "metadata": {},
   "outputs": [],
   "source": [
    "#UnstructuredPDFLoader\n",
    "try :\n",
    "    del(loader, index)\n",
    "except NameError:\n",
    "    pass\n",
    "loader = UnstructuredPDFLoader(\n",
    "    file_path=[_ for _ in all_pdfs if 'em_dm' in _][0], \n",
    "    mode='single'\n",
    ")\n",
    "index = VectorstoreIndexCreator().from_loaders([loader])"
   ]
  },
  {
   "cell_type": "code",
   "execution_count": 21,
   "id": "a6c9d7c8",
   "metadata": {},
   "outputs": [
    {
     "data": {
      "text/plain": [
       "' The U.S. five-year Treasury yield in 2009 was 8%.'"
      ]
     },
     "execution_count": 21,
     "metadata": {},
     "output_type": "execute_result"
    }
   ],
   "source": [
    "index.query(\"What is the U.S. five-year Treasury yield in 2009 based on this article?\")"
   ]
  },
  {
   "cell_type": "code",
   "execution_count": 22,
   "id": "83999298",
   "metadata": {},
   "outputs": [
    {
     "data": {
      "text/plain": [
       "' According to the BlackRock Investment Institute, they favor emerging markets over developed markets on a brighter macro backdrop. They suggest getting granular and harnessing mega forces to capture structural shifts within emerging markets.'"
      ]
     },
     "execution_count": 22,
     "metadata": {},
     "output_type": "execute_result"
    }
   ],
   "source": [
    "index.query(\"Should I invest in emerging markets or developed markets?\")"
   ]
  },
  {
   "cell_type": "markdown",
   "id": "3e8c66bc",
   "metadata": {},
   "source": [
    "###### - multiple documents"
   ]
  },
  {
   "cell_type": "code",
   "execution_count": 73,
   "id": "04ec19e4",
   "metadata": {},
   "outputs": [],
   "source": [
    "try :\n",
    "    del(loader, index)\n",
    "except NameError:\n",
    "    pass\n",
    "loader_google = UnstructuredPDFLoader(\n",
    "    file_path=[_ for _ in all_pdfs if 'google' in _][0], \n",
    "    mode='single'\n",
    ")\n",
    "loader_apple = UnstructuredPDFLoader(\n",
    "    file_path=[_ for _ in all_pdfs if 'apple' in _][0], \n",
    "    mode='single'\n",
    ")\n",
    "index = VectorstoreIndexCreator().from_loaders(\n",
    "    [loader_google, loader_apple]\n",
    ")"
   ]
  },
  {
   "cell_type": "code",
   "execution_count": 74,
   "id": "24abf439",
   "metadata": {},
   "outputs": [
    {
     "data": {
      "text/plain": [
       "' It depends on your investment goals and risk tolerance. Google stock has been performing well due to its investments in artificial intelligence, while Apple has been successful in the smartphone and smart-home appliance markets. Consider researching both stocks further to determine which one is a better fit for your portfolio.'"
      ]
     },
     "execution_count": 74,
     "metadata": {},
     "output_type": "execute_result"
    }
   ],
   "source": [
    "index.query(\"Should I invest in google stock or apple stock?\")"
   ]
  },
  {
   "cell_type": "code",
   "execution_count": 77,
   "id": "b4e37f8a",
   "metadata": {},
   "outputs": [
    {
     "data": {
      "text/plain": [
       "' Apple stock has an IBD Accumulation/Distribution Rating of B, indicating institutional buying of shares, and it has been trading above its 50-day and 200-day moving average lines. Google stock has shrugged off three fines totaling $9.3 billion levied by the European Union on antitrust grounds, and it has rolled out the Performance Max advertising platform.'"
      ]
     },
     "execution_count": 77,
     "metadata": {},
     "output_type": "execute_result"
    }
   ],
   "source": [
    "index.query(\"What are the advantages of investing in apple stock over google stock?\")"
   ]
  },
  {
   "cell_type": "code",
   "execution_count": 78,
   "id": "b73350f9",
   "metadata": {},
   "outputs": [
    {
     "data": {
      "text/plain": [
       "' The best growth stocks have a Composite Rating of 90 or better.'"
      ]
     },
     "execution_count": 78,
     "metadata": {},
     "output_type": "execute_result"
    }
   ],
   "source": [
    "index.query(\"What composite rating do the best growth stocks have?\")"
   ]
  },
  {
   "cell_type": "code",
   "execution_count": 80,
   "id": "db6b1849",
   "metadata": {},
   "outputs": [
    {
     "data": {
      "text/plain": [
       "' The biggest threats to Google stock are competition in artificial intelligence and internet search, as well as investor appetite for AI stocks potentially driving a market melt-up.'"
      ]
     },
     "execution_count": 80,
     "metadata": {},
     "output_type": "execute_result"
    }
   ],
   "source": [
    "index.query(\"What are the biggest threats to the google stock?\")"
   ]
  },
  {
   "cell_type": "code",
   "execution_count": null,
   "id": "92e9c247",
   "metadata": {},
   "outputs": [],
   "source": [
    "###########"
   ]
  }
 ],
 "metadata": {
  "kernelspec": {
   "display_name": "chatbot_env",
   "language": "python",
   "name": "python3"
  },
  "language_info": {
   "codemirror_mode": {
    "name": "ipython",
    "version": 3
   },
   "file_extension": ".py",
   "mimetype": "text/x-python",
   "name": "python",
   "nbconvert_exporter": "python",
   "pygments_lexer": "ipython3",
   "version": "3.8.13 (default, Apr 13 2022, 08:52:43) \n[Clang 12.0.5 (clang-1205.0.22.9)]"
  },
  "vscode": {
   "interpreter": {
    "hash": "ccb2e870ebfbe3232f7342d0641b3edc22d06c458ab0e8be45ca907ffcd77392"
   }
  }
 },
 "nbformat": 4,
 "nbformat_minor": 5
}
