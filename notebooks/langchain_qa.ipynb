{
 "cells": [
  {
   "cell_type": "markdown",
   "id": "cc2732d0",
   "metadata": {},
   "source": [
    "### Question-Answer using Langchain"
   ]
  },
  {
   "cell_type": "code",
   "execution_count": 1,
   "id": "0b44b03c",
   "metadata": {},
   "outputs": [],
   "source": [
    "# !pip3 install langchain"
   ]
  },
  {
   "cell_type": "code",
   "execution_count": 2,
   "id": "fce892bd",
   "metadata": {},
   "outputs": [],
   "source": [
    "# !pip install openai"
   ]
  },
  {
   "cell_type": "code",
   "execution_count": 3,
   "id": "08d744b8",
   "metadata": {},
   "outputs": [],
   "source": [
    "# !pip3 install openai chromadb\n",
    "# !pip3 install tiktoken"
   ]
  },
  {
   "cell_type": "code",
   "execution_count": 4,
   "id": "1e3b368d",
   "metadata": {},
   "outputs": [],
   "source": [
    "# !pip3 install unstructured\n",
    "# !pip3 install pdf2image\n",
    "# !pip3 install pdfminer\n",
    "# !pip3 install pdfminer.six"
   ]
  },
  {
   "cell_type": "code",
   "execution_count": 5,
   "id": "65d86529",
   "metadata": {},
   "outputs": [],
   "source": [
    "import os\n",
    "import sys\n",
    "import glob\n",
    "import re\n",
    "from langchain.document_loaders import WebBaseLoader, UnstructuredPDFLoader\n",
    "from langchain.indexes import VectorstoreIndexCreator\n",
    "# from langchain.document_loaders import WebBaseLoader, BasePDFLoader"
   ]
  },
  {
   "cell_type": "markdown",
   "id": "a7269850",
   "metadata": {},
   "source": [
    "#### API Key"
   ]
  },
  {
   "cell_type": "code",
   "execution_count": 6,
   "id": "797152d8",
   "metadata": {},
   "outputs": [],
   "source": [
    "os.environ[\"OPENAI_API_KEY\"] = \"\""
   ]
  },
  {
   "cell_type": "markdown",
   "id": "ddeb387c",
   "metadata": {},
   "source": [
    "#### Parameters"
   ]
  },
  {
   "cell_type": "code",
   "execution_count": 7,
   "id": "689055b3",
   "metadata": {},
   "outputs": [],
   "source": [
    "pdfs_path = os.path.join(os.getcwd(), '../data/pdfs')"
   ]
  },
  {
   "cell_type": "markdown",
   "id": "288a6688",
   "metadata": {},
   "source": [
    "#### Test"
   ]
  },
  {
   "cell_type": "markdown",
   "id": "9b2a5c29",
   "metadata": {},
   "source": [
    "###### 1.Web"
   ]
  },
  {
   "cell_type": "code",
   "execution_count": 8,
   "id": "5d4c5b73",
   "metadata": {},
   "outputs": [],
   "source": [
    "loader = WebBaseLoader(\"https://www.forbes.com/sites/mattnovak/2023/07/10/google-confirms-bug-sending-less-traffic-to-online-news-publishers\")\n",
    "index = VectorstoreIndexCreator().from_loaders([loader])"
   ]
  },
  {
   "cell_type": "code",
   "execution_count": 10,
   "id": "226144ec",
   "metadata": {},
   "outputs": [
    {
     "data": {
      "text/plain": [
       "' Google has confirmed that an issue with Google News has been identified that is causing a drop in traffic to news publishers on Monday. The issue is not yet resolved and Google has not provided any further information. This serves as a reminder of the power of Google, as when it sneezes, the internet gets a cold. The article discusses how the new version of Google Search essentially plagiarizes answers, giving users little reason to click on websites for more information.'"
      ]
     },
     "execution_count": 10,
     "metadata": {},
     "output_type": "execute_result"
    }
   ],
   "source": [
    "index.query(\"Can you summarise this article in less than 200 words?\")"
   ]
  },
  {
   "cell_type": "markdown",
   "id": "26b3b9a5",
   "metadata": {},
   "source": [
    "###### 2.PDF"
   ]
  },
  {
   "cell_type": "code",
   "execution_count": 8,
   "id": "c26d0d88",
   "metadata": {},
   "outputs": [],
   "source": [
    "all_pdfs = glob.glob(os.path.join(pdfs_path, '*.pdf'))"
   ]
  },
  {
   "cell_type": "code",
   "execution_count": 9,
   "id": "746ab7b6",
   "metadata": {},
   "outputs": [],
   "source": [
    "loader = UnstructuredPDFLoader(file_path=all_pdfs[-1], mode='single')\n",
    "index = VectorstoreIndexCreator().from_loaders([loader])"
   ]
  },
  {
   "cell_type": "code",
   "execution_count": 10,
   "id": "a6c9d7c8",
   "metadata": {},
   "outputs": [
    {
     "data": {
      "text/plain": [
       "\" Google is a holding company that was formerly known as Google. It has a core internet advertising business and other 'moonshots' such as autonomous vehicles and Verily Life Sciences. In March 2022, Google spun off its quantum computing technology group as a separate company. Google stock is strong in arti\\x00cial intelligence, digital advertising, Google Cloud Platform, YouTube, consumer hardware products, and e-commerce. It has huge cash holdings and has shrugged off \\x00nes from the European Union. Google has rolled out the Performance Max advertising platform to automate buying across its ad inventory. It has also acquired \\x00rms such as Looker and Mandiant to boost its cloud business. Google stock faces more dif\\x00cult year-over-year growth comparisons in 2023 as the coronavirus emergency fades.\""
      ]
     },
     "execution_count": 10,
     "metadata": {},
     "output_type": "execute_result"
    }
   ],
   "source": [
    "index.query(\"Can you summarise this article in less than 200 words?\")"
   ]
  },
  {
   "cell_type": "code",
   "execution_count": null,
   "id": "3f545c84",
   "metadata": {},
   "outputs": [],
   "source": []
  }
 ],
 "metadata": {
  "kernelspec": {
   "display_name": "Python 3 (ipykernel)",
   "language": "python",
   "name": "python3"
  },
  "language_info": {
   "codemirror_mode": {
    "name": "ipython",
    "version": 3
   },
   "file_extension": ".py",
   "mimetype": "text/x-python",
   "name": "python",
   "nbconvert_exporter": "python",
   "pygments_lexer": "ipython3",
   "version": "3.9.6"
  }
 },
 "nbformat": 4,
 "nbformat_minor": 5
}
