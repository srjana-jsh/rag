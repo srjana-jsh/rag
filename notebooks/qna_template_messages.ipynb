{
 "cells": [
  {
   "cell_type": "markdown",
   "id": "cc2732d0",
   "metadata": {},
   "source": [
    "### Pipeline for QnA with Memory"
   ]
  },
  {
   "cell_type": "code",
   "execution_count": 1,
   "id": "591866e7",
   "metadata": {},
   "outputs": [],
   "source": [
    "####Notes####\n",
    "# chunked data length can be atmost 16 for azureopenai"
   ]
  },
  {
   "cell_type": "code",
   "execution_count": 2,
   "id": "0b44b03c",
   "metadata": {},
   "outputs": [],
   "source": [
    "# !pip3 install langchain\n",
    "# !pip install openai\n",
    "# !pip3 install openai chromadb\n",
    "# !pip3 install tiktoken"
   ]
  },
  {
   "cell_type": "code",
   "execution_count": 3,
   "id": "1e3b368d",
   "metadata": {},
   "outputs": [],
   "source": [
    "# !pip3 install unstructured\n",
    "# !pip3 install pdf2image\n",
    "# !pip3 install pdfminer\n",
    "# !pip3 install pdfminer.six\n",
    "# !pip3 install pymupdf "
   ]
  },
  {
   "cell_type": "code",
   "execution_count": 4,
   "id": "65d86529",
   "metadata": {},
   "outputs": [
    {
     "data": {
      "text/plain": [
       "<module 'constants' from '/Users/rachitjoshi/Documents/Finbot/notebooks/../scripts/constants.py'>"
      ]
     },
     "execution_count": 4,
     "metadata": {},
     "output_type": "execute_result"
    }
   ],
   "source": [
    "import os\n",
    "import sys\n",
    "import glob\n",
    "import re\n",
    "import importlib\n",
    "import langchain\n",
    "from langchain.document_loaders import WebBaseLoader, UnstructuredPDFLoader, PyMuPDFLoader\n",
    "from langchain.text_splitter import RecursiveCharacterTextSplitter\n",
    "from langchain.indexes import VectorstoreIndexCreator\n",
    "from langchain.embeddings import OpenAIEmbeddings\n",
    "from langchain.vectorstores import Chroma\n",
    "from langchain.chains import RetrievalQA\n",
    "from langchain.llms import AzureOpenAI\n",
    "from langchain.prompts import PromptTemplate\n",
    "sys.path.append(os.path.join(os.getcwd(), '../scripts'))\n",
    "import helpers as h\n",
    "import constants as c\n",
    "importlib.reload(h)\n",
    "importlib.reload(c)"
   ]
  },
  {
   "cell_type": "markdown",
   "id": "a7269850",
   "metadata": {},
   "source": [
    "#### Environment"
   ]
  },
  {
   "cell_type": "code",
   "execution_count": 5,
   "id": "797152d8",
   "metadata": {},
   "outputs": [],
   "source": [
    "os.environ[\"OPENAI_API_KEY\"] = \"6cdb659e5a9d402e80c212fe8ea26483\""
   ]
  },
  {
   "cell_type": "code",
   "execution_count": 6,
   "id": "1f1d835b",
   "metadata": {},
   "outputs": [],
   "source": [
    "os.environ[\"OPENAI_API_TYPE\"] = \"azure\"\n",
    "os.environ[\"OPENAI_API_VERSION\"] = \"2023-03-15-preview\"\n",
    "os.environ[\"OPENAI_API_BASE\"] = \"https://test-chatgpt-flomoney.openai.azure.com/\"\n",
    "os.environ[\"OPENAI_API_KEY\"] = os.getenv(\"OPENAI_API_KEY\")"
   ]
  },
  {
   "cell_type": "markdown",
   "id": "ddeb387c",
   "metadata": {},
   "source": [
    "#### Paths"
   ]
  },
  {
   "cell_type": "code",
   "execution_count": 7,
   "id": "689055b3",
   "metadata": {},
   "outputs": [],
   "source": [
    "pdfs_path = os.path.join(os.getcwd(), '../data/pdfs')\n",
    "merged_pdfs_path = os.path.join(os.getcwd(), '../data/pdfs_processed/merged')"
   ]
  },
  {
   "cell_type": "markdown",
   "id": "288a6688",
   "metadata": {},
   "source": [
    "#### PDF"
   ]
  },
  {
   "cell_type": "code",
   "execution_count": 8,
   "id": "d849861f",
   "metadata": {},
   "outputs": [],
   "source": [
    "investorcom_pdfs = [ _ for _ in glob.glob(os.path.join(pdfs_path, '*.pdf')) if 'investorcom' in _]"
   ]
  },
  {
   "cell_type": "markdown",
   "id": "6569d75a",
   "metadata": {},
   "source": [
    "##### - Load"
   ]
  },
  {
   "cell_type": "code",
   "execution_count": 9,
   "id": "f078336e",
   "metadata": {},
   "outputs": [],
   "source": [
    "loaded_data = []\n",
    "for pdf in investorcom_pdfs :\n",
    "    loaded_data.extend(UnstructuredPDFLoader(file_path=pdf).load())        "
   ]
  },
  {
   "cell_type": "code",
   "execution_count": 10,
   "id": "e841f1f5",
   "metadata": {},
   "outputs": [
    {
     "data": {
      "text/plain": [
       "7"
      ]
     },
     "execution_count": 10,
     "metadata": {},
     "output_type": "execute_result"
    }
   ],
   "source": [
    "len(loaded_data)"
   ]
  },
  {
   "cell_type": "code",
   "execution_count": 11,
   "id": "05d1c289",
   "metadata": {},
   "outputs": [
    {
     "data": {
      "text/plain": [
       "6702"
      ]
     },
     "execution_count": 11,
     "metadata": {},
     "output_type": "execute_result"
    }
   ],
   "source": [
    "len(loaded_data[0].page_content)"
   ]
  },
  {
   "cell_type": "code",
   "execution_count": 12,
   "id": "3c69da54",
   "metadata": {},
   "outputs": [],
   "source": [
    "# for pdf in pdf_list :\n",
    "#     try :\n",
    "#         pdf_data.extend(UnstructuredPDFLoader(file_path=pdf).load())        \n",
    "#     except NameError:\n",
    "#         pdf_loader = UnstructuredPDFLoader(file_path=pdf)\n",
    "#         pdf_data = pdf_loader.load()"
   ]
  },
  {
   "cell_type": "markdown",
   "id": "6215c716",
   "metadata": {},
   "source": [
    "##### - Split"
   ]
  },
  {
   "cell_type": "code",
   "execution_count": 13,
   "id": "1288cf29",
   "metadata": {},
   "outputs": [
    {
     "name": "stdout",
     "output_type": "stream",
     "text": [
      "6000\n"
     ]
    }
   ],
   "source": [
    "chunk_size = c.prompt_max//c.retrieval_kwargs['k']\n",
    "chunk_overlap = 0\n",
    "print(chunk_size)"
   ]
  },
  {
   "cell_type": "code",
   "execution_count": 14,
   "id": "00017c4a",
   "metadata": {},
   "outputs": [],
   "source": [
    "data_splitter = RecursiveCharacterTextSplitter(\n",
    "    chunk_size = chunk_size, chunk_overlap = chunk_overlap\n",
    ")"
   ]
  },
  {
   "cell_type": "code",
   "execution_count": 15,
   "id": "046f7b04",
   "metadata": {},
   "outputs": [],
   "source": [
    "chunked_data = data_splitter.split_documents(loaded_data)"
   ]
  },
  {
   "cell_type": "code",
   "execution_count": 16,
   "id": "3f7175a3",
   "metadata": {},
   "outputs": [
    {
     "data": {
      "text/plain": [
       "14"
      ]
     },
     "execution_count": 16,
     "metadata": {},
     "output_type": "execute_result"
    }
   ],
   "source": [
    "len(chunked_data)"
   ]
  },
  {
   "cell_type": "code",
   "execution_count": 17,
   "id": "e04ba1a3",
   "metadata": {},
   "outputs": [
    {
     "data": {
      "text/plain": [
       "5990"
      ]
     },
     "execution_count": 17,
     "metadata": {},
     "output_type": "execute_result"
    }
   ],
   "source": [
    "len(chunked_data[4].page_content)"
   ]
  },
  {
   "cell_type": "markdown",
   "id": "7f965017",
   "metadata": {},
   "source": [
    "##### - Store"
   ]
  },
  {
   "cell_type": "code",
   "execution_count": 18,
   "id": "76e93aa0",
   "metadata": {},
   "outputs": [],
   "source": [
    "chunks_max = 15"
   ]
  },
  {
   "cell_type": "code",
   "execution_count": 19,
   "id": "6bae9700",
   "metadata": {},
   "outputs": [],
   "source": [
    "vectorstore_engine = 'Finbot-embedding-2'"
   ]
  },
  {
   "cell_type": "code",
   "execution_count": 20,
   "id": "844575f6",
   "metadata": {},
   "outputs": [],
   "source": [
    "embedding_model = OpenAIEmbeddings(deployment=vectorstore_engine)"
   ]
  },
  {
   "cell_type": "code",
   "execution_count": 21,
   "id": "7bad3ae4",
   "metadata": {},
   "outputs": [],
   "source": [
    "try:\n",
    "    vectorstore.delete_collection()\n",
    "except (ValueError, NameError):\n",
    "    pass\n",
    "for _ in range(0, len(chunked_data), chunks_max):\n",
    "    vectorstore = Chroma.from_documents(\n",
    "        documents=chunked_data[_: _ + chunks_max], embedding=embedding_model\n",
    "    )"
   ]
  },
  {
   "cell_type": "code",
   "execution_count": 22,
   "id": "cdfe08e1",
   "metadata": {
    "scrolled": true
   },
   "outputs": [
    {
     "data": {
      "text/plain": [
       "14"
      ]
     },
     "execution_count": 22,
     "metadata": {},
     "output_type": "execute_result"
    }
   ],
   "source": [
    "len(vectorstore.get()['documents'])"
   ]
  },
  {
   "cell_type": "code",
   "execution_count": 23,
   "id": "cfb0605d",
   "metadata": {},
   "outputs": [
    {
     "data": {
      "text/plain": [
       "dict_keys(['ids', 'embeddings', 'metadatas', 'documents'])"
      ]
     },
     "execution_count": 23,
     "metadata": {},
     "output_type": "execute_result"
    }
   ],
   "source": [
    "vectorstore.get().keys()"
   ]
  },
  {
   "cell_type": "markdown",
   "id": "4d893183",
   "metadata": {},
   "source": [
    "##### - Retrieve"
   ]
  },
  {
   "cell_type": "code",
   "execution_count": 163,
   "id": "f687bd41",
   "metadata": {},
   "outputs": [],
   "source": [
    "question = \"what are the pros and cons of tesla stock and nvidia stock?\""
   ]
  },
  {
   "cell_type": "code",
   "execution_count": 180,
   "id": "231675b2",
   "metadata": {},
   "outputs": [
    {
     "data": {
      "text/plain": [
       "3"
      ]
     },
     "execution_count": 180,
     "metadata": {},
     "output_type": "execute_result"
    }
   ],
   "source": [
    "# similarity_search_with_relevance_scores : normalizes scores between 0 and 1. \n",
    "# higher score means more similar\n",
    "docs = vectorstore.similarity_search_with_relevance_scores(\n",
    "    question, search_type=\"similarity_score_threshold\", score_threshold= 0.7\n",
    ")\n",
    "len(docs)"
   ]
  },
  {
   "cell_type": "code",
   "execution_count": 185,
   "id": "67b4998e",
   "metadata": {},
   "outputs": [
    {
     "data": {
      "text/plain": [
       "0.741843619714194"
      ]
     },
     "execution_count": 185,
     "metadata": {},
     "output_type": "execute_result"
    }
   ],
   "source": [
    "docs[0][1]"
   ]
  },
  {
   "cell_type": "code",
   "execution_count": 167,
   "id": "bbd268e7",
   "metadata": {},
   "outputs": [
    {
     "data": {
      "text/plain": [
       "4"
      ]
     },
     "execution_count": 167,
     "metadata": {},
     "output_type": "execute_result"
    }
   ],
   "source": [
    "# similarity_search_with_score\n",
    "# lower score means more similar (less distance)\n",
    "docs = vectorstore.similarity_search_with_score(question, k = 4)\n",
    "len(docs)"
   ]
  },
  {
   "cell_type": "code",
   "execution_count": 173,
   "id": "3e88961b",
   "metadata": {},
   "outputs": [
    {
     "data": {
      "text/plain": [
       "0.6349117457866669"
      ]
     },
     "execution_count": 173,
     "metadata": {},
     "output_type": "execute_result"
    }
   ],
   "source": [
    "docs[0][1]"
   ]
  },
  {
   "cell_type": "code",
   "execution_count": 133,
   "id": "cc845b36",
   "metadata": {},
   "outputs": [],
   "source": [
    "# mmr"
   ]
  },
  {
   "cell_type": "code",
   "execution_count": 148,
   "id": "13a13b41",
   "metadata": {},
   "outputs": [],
   "source": [
    "docs_mmr = vectorstore.max_marginal_relevance_search(\n",
    "    question, **retrieval_kwargs\n",
    ")"
   ]
  },
  {
   "cell_type": "code",
   "execution_count": 188,
   "id": "e93f553c",
   "metadata": {},
   "outputs": [
    {
     "data": {
      "text/plain": [
       "{'source': '/Users/rachitjoshi/Documents/Finbot/notebooks/../data/pdfs/tesla_investorcom_1.pdf'}"
      ]
     },
     "execution_count": 188,
     "metadata": {},
     "output_type": "execute_result"
    }
   ],
   "source": [
    "docs_mmr[0].metadata"
   ]
  },
  {
   "cell_type": "code",
   "execution_count": 26,
   "id": "97a1fdce",
   "metadata": {},
   "outputs": [],
   "source": [
    "# print(docs[1][0].page_content)"
   ]
  },
  {
   "cell_type": "markdown",
   "id": "b3756b18",
   "metadata": {},
   "source": [
    "##### - Generate"
   ]
  },
  {
   "cell_type": "code",
   "execution_count": 27,
   "id": "617476d9",
   "metadata": {},
   "outputs": [],
   "source": [
    "llm_engine = 'finbot-gpt'\n",
    "llm_model = 'text-davinci-002'\n",
    "temperature = 0\n",
    "search_type = 'mmr'\n",
    "retrieval_kwargs = {'k': 5, 'lambda_mult': 0.5, 'fetch_k':10}\n",
    "answer_max_tokens = 512\n",
    "save_folder = '../data/pdfs/'\n",
    "prompt_template_file = os.path.join(os.getcwd(), '../scripts/prompt_template.txt')\n",
    "pdf_list = [\n",
    "    _ for _ in glob.glob(os.path.join(os.getcwd(), save_folder, '*.pdf'))\n",
    "]\n",
    "web_list = []\n",
    "langchain.debug=False"
   ]
  },
  {
   "cell_type": "code",
   "execution_count": 28,
   "id": "57f3c217",
   "metadata": {},
   "outputs": [],
   "source": [
    "############"
   ]
  },
  {
   "cell_type": "code",
   "execution_count": 30,
   "id": "61ac49ab",
   "metadata": {},
   "outputs": [
    {
     "name": "stderr",
     "output_type": "stream",
     "text": [
      "/Users/rachitjoshi/finbot/lib/python3.9/site-packages/langchain/utils/utils.py:155: UserWarning: WARNING! engine is not default parameter.\n",
      "                engine was transferred to model_kwargs.\n",
      "                Please confirm that engine is what you intended.\n",
      "  warnings.warn(\n"
     ]
    }
   ],
   "source": [
    "base_llm = AzureOpenAI(\n",
    "    engine=llm_engine, \n",
    "    model_name=llm_model, \n",
    "    temperature=temperature, \n",
    "    max_tokens=answer_max_tokens\n",
    ")"
   ]
  },
  {
   "cell_type": "code",
   "execution_count": 43,
   "id": "1cb7296e",
   "metadata": {},
   "outputs": [],
   "source": [
    "langchain.debug=False"
   ]
  },
  {
   "cell_type": "code",
   "execution_count": 44,
   "id": "a9ab4d3d",
   "metadata": {},
   "outputs": [],
   "source": [
    "from langchain.prompts.chat import (\n",
    "    ChatPromptTemplate,\n",
    "    SystemMessagePromptTemplate,\n",
    "    HumanMessagePromptTemplate,\n",
    "    MessagesPlaceholder,\n",
    "    HumanMessage,\n",
    "    SystemMessage    \n",
    ")\n",
    "from langchain.memory import ConversationSummaryBufferMemory, ConversationBufferMemory\n",
    "from langchain.chains import ConversationalRetrievalChain, LLMChain"
   ]
  },
  {
   "cell_type": "code",
   "execution_count": 45,
   "id": "605de1c2",
   "metadata": {},
   "outputs": [],
   "source": [
    "chat_messages = [\n",
    "    HumanMessage(content=\"Answer question using the context and chat history\"),\n",
    "    MessagesPlaceholder(variable_name=\"chat_history\"),\n",
    "    HumanMessagePromptTemplate.from_template(\"Question: {question}\"),\n",
    "]"
   ]
  },
  {
   "cell_type": "code",
   "execution_count": 46,
   "id": "2d2b73d7",
   "metadata": {},
   "outputs": [],
   "source": [
    "qna_messages = [\n",
    "    SystemMessagePromptTemplate.from_template(\n",
    "        \"You are a chatbot who answers questions like a {role}\"\n",
    "    ),\n",
    "    HumanMessage(content=\"Answer question using the following context\"),\n",
    "    HumanMessagePromptTemplate.from_template(\"{context}\"),\n",
    "    HumanMessagePromptTemplate.from_template(\"Question: {question}\"),\n",
    "    HumanMessage(content=\"Return answers in a bullet format\"),\n",
    "]"
   ]
  },
  {
   "cell_type": "code",
   "execution_count": 47,
   "id": "0c009a50",
   "metadata": {},
   "outputs": [],
   "source": [
    "chat_prompt = ChatPromptTemplate(messages=chat_messages)"
   ]
  },
  {
   "cell_type": "code",
   "execution_count": 48,
   "id": "1f09a1de",
   "metadata": {},
   "outputs": [],
   "source": [
    "qna_prompt = ChatPromptTemplate(\n",
    "    messages=qna_messages, partial_variables={'role':'finanical advisor'}\n",
    ")"
   ]
  },
  {
   "cell_type": "code",
   "execution_count": 49,
   "id": "5f8db888",
   "metadata": {},
   "outputs": [],
   "source": [
    "history_tokens = 2000\n",
    "memory = ConversationSummaryBufferMemory(\n",
    "    llm=base_llm, \n",
    "    memory_key=\"chat_history\", \n",
    "    return_messages=True, \n",
    "    max_token_limit=history_tokens\n",
    ")"
   ]
  },
  {
   "cell_type": "code",
   "execution_count": 50,
   "id": "81e95a29",
   "metadata": {},
   "outputs": [],
   "source": [
    "conversation_chain = ConversationalRetrievalChain.from_llm(\n",
    "    base_llm, \n",
    "    retriever=vectorstore.as_retriever(\n",
    "        search_type=search_type, search_kwargs=retrieval_kwargs\n",
    "    ),\n",
    "    memory=memory,\n",
    "#     condense_question_prompt=chat_prompt,\n",
    "    combine_docs_chain_kwargs=dict(prompt=qna_prompt),\n",
    ")"
   ]
  },
  {
   "cell_type": "code",
   "execution_count": 51,
   "id": "b8d4fba2",
   "metadata": {},
   "outputs": [
    {
     "name": "stdout",
     "output_type": "stream",
     "text": [
      "\n",
      "\n",
      "\u001b[1m> Entering new StuffDocumentsChain chain...\u001b[0m\n",
      "\n",
      "\n",
      "\u001b[1m> Entering new LLMChain chain...\u001b[0m\n",
      "Prompt after formatting:\n",
      "\u001b[32;1m\u001b[1;3mSystem: You are a chatbot who answers questions like a finanical advisor\n",
      "Human: Answer question using the following context\n",
      "Human: \"meaningful increase\" in 2022 capital spending, re\u0000ecting investments in computer\n",
      "\n",
      "servers in internet data centers and construction of of\u0000ce space.\n",
      "\n",
      "Google Stock: Arti\u0000cial Intelligence Prowess\n",
      "\n",
      "Most investors still know the company as Google, even though the internet search\n",
      "\n",
      "giant reorganized as holding company Alphabet in 2015. The restructuring move\n",
      "\n",
      "separated Google's core internet advertising business from so-called moonshots,\n",
      "\n",
      "such as autonomous vehicles and the Verily Life Sciences unit.\n",
      "\n",
      "In March 2022, Google spun off its quantum computing technology group as a\n",
      "\n",
      "separate company.\n",
      "\n",
      "Google stock's strength in arti\u0000cial intelligence spans digital advertising, the Google\n",
      "\n",
      "Cloud Platform, YouTube and consumer hardware products. GOOGL stock is just\n",
      "\n",
      "one arti\u0000cial intelligence stock to watch.\n",
      "\n",
      "At a Google developers conference in mid-May, the company demonstrated how it\n",
      "\n",
      "uses AI tools in a wide range of applications, including Google Workspace, Google\n",
      "\n",
      "Maps, virtual reality, and voice-based search.\n",
      "\n",
      "After a long run, GOOGL stock has dropped out of the IBD Leaderboard. The\n",
      "\n",
      "Leaderboard is IBD's curated list of leading stocks that stand out on technical and\n",
      "\n",
      "fundamental metrics.\n",
      "\n",
      "Big Tech Stocks Face Regulatory Headwinds\n",
      "\n",
      "With the Android mobile operating system built into devices sold worldwide, the\n",
      "\n",
      "Play Store has been a revenue growth driver.\n",
      "\n",
      "A federal judge ruled in September 2021 that Apple (AAPL) must allow mobile app\n",
      "\n",
      "developers to steer consumers to outside payment methods. Google's policies also\n",
      "\n",
      "are under scrutiny.\n",
      "\n",
      "Google in 2021 said service fees at its Play Store would drop to 15% from 30%. The\n",
      "\n",
      "move reduced revenue.\n",
      "\n",
      "Under Pichai, Google has improved transparency. Google began disclosing cloud\n",
      "\n",
      "computing \u0000nancial metrics with its fourth-quarter report in \u0000scal 2020. But the\n",
      "\n",
      "cloud business has yet to turn a pro\u0000t. And YouTube's pro\u0000tability still remains a\n",
      "\n",
      "mystery.\n",
      "\n",
      "Google Stock Fundamentals\n",
      "\n",
      "Google earnings for the June quarter came in at $1.44 a share, up 19%, as operating\n",
      "\n",
      "margins expanded for the \u0000rst time since the fourth quarter of 2021.\n",
      "\n",
      "The company said gross revenue rose 7% to $74.60 billion, compared with $69.7\n",
      "\n",
      "billion a year ago. Analysts had predicted Google earnings of $1.34 per share on\n",
      "\n",
      "revenue of $72.84 billion.\n",
      "\n",
      "Capital spending in the second quarter rose to $6.9 billion, up from $6.3 billion in\n",
      "\n",
      "the \u0000rst quarter. Further, Google repurchased $14.97 billion of its own stock during\n",
      "\n",
      "the period.\n",
      "\n",
      "Also, advertising revenue rose 3% to $58.14 billion vs. estimates of $57.39 billion.\n",
      "\n",
      "Meanwhile, YouTube ad revenue rose 4% to $7.66 billion during the second quarter.\n",
      "\n",
      "Analysts had estimated YouTube ad revenue of $7.42 billion. Google said cloud\n",
      "\n",
      "computing revenue rose 28% to $8.03 billion vs. estimates of $7.87 billion.\n",
      "\n",
      "Waymo Autonomous Vehicle Business\n",
      "\n",
      "A key question for investors is how much should Google's self-driving-car project\n",
      "\n",
      "Waymo and \"Other Bets\" such as the Verily Life Sciences unit \u0000gure into valuation.\n",
      "\n",
      "In early 2018, some Google stock analysts projected Waymo's long-term valuation\n",
      "\n",
      "in a range of anywhere from $75 billion to $125 billion. Expectations for\n",
      "\n",
      "autonomous vehicles, though, have been sharply lowered.\n",
      "\n",
      "Waymo in 2021 raised $2.25 billion in funding from outside investors. including\n",
      "\n",
      "private equity \u0000rm Silver Lake, the Canada Pension Plan Investment Board and Abu\n",
      "\n",
      "Dhabi's Mubadala investment arm.\n",
      "\n",
      "While Google did not disclose Waymo's valuation in the funding round, reports said\n",
      "\n",
      "it was only $30 billion. It could be lower now.\n",
      "\n",
      "Google Stock: Cloud, Hardware, Security Acquisitions\n",
      "\n",
      "Another question is the performance of Google's hardware business. It's battling\n",
      "\n",
      "Apple in smartphones and Amazon in smart-home appliances.\n",
      "\n",
      "Also, Google's acquisition of smartwatch maker Fitbit closed in January 2022. The\n",
      "\n",
      "$2.1 billion purchase should help Google make a push into the health and \u0000tness\n",
      "\n",
      "market, analysts say.\n",
      "\n",
      "Google's cloud computing business, meanwhile, faces tough rivals in Amazon and\n",
      "\n",
      "Microsoft. Google brought in Thomas Kurian, a former Oracle (ORCL) executive, to\n",
      "\n",
      "improve performance in the corporate market.\n",
      "\n",
      "Bulls say Google Cloud Platform is taking share as it focuses on security, open\n",
      "\n",
      "source software and data analytics.\n",
      "\n",
      "In 2019, Google purchased data analytics \u0000rm Looker for $2.6 billion in cash. Santa\n",
      "\n",
      "Cruz, Calif.-based Looker's analytics platform uses business intelligence and data\n",
      "\n",
      "visualization tools.\n",
      "\n",
      "More acquisitions to boost Google's cloud business could be coming, analysts say.\n",
      "\n",
      "Google acquired cybersecurity \u0000rm Mandiant (MNDT) for $23 per share in an all-\n",
      "\n",
      "cash $5.4 billion deal.\n",
      "\n",
      "Google Stock: Is It A Buy Now?\n",
      "\n",
      "GOOGL stock jumped 65% in 2021. But in 2022 Google shares dropped 39%.\n",
      "\n",
      "Meanwhile, Google's Relative Strength Rating stands at 89 out of a best-possible\n",
      "\n",
      "99, according to IBD Stock Checkup. The best stocks tend to have an RS rating of\n",
      "\n",
      "80 or better.\n",
      "\n",
      "Google stock owns an Accumulation/Distribution Rating of B. That rating analyzes\n",
      "\n",
      "price and volume changes in a stock over the past 13 weeks of trading.\n",
      "\n",
      "Further, shares hold an IBD Composite Rating of 98 out of 99. The best growth\n",
      "\n",
      "stocks have a Composite Rating of 90 or better.\n",
      "\n",
      "As of Aug. 4, Google stock holds a 127.10 buy point from a cup-with-handle base.\n",
      "\n",
      "GOOGL stock trades in a 5% buy zone that extends to 133.45.\n",
      "\n",
      "Follow Reinhardt Krause on Twitter @reinhardtk_tech for updates on arti\u0000cial\n",
      "\n",
      "intelligence, cybersecurity and 5G wireless.\n",
      "\n",
      "YOU MIGHT ALSO LIKE:\n",
      "\n",
      "IBD Digital: Unlock IBD's Premium Stock Lists, Tools And Analysis Today\n",
      "\n",
      "Learn How To Time The Market With IBD's ETF Market Strategy\n",
      "\n",
      "How To Use The 10-Week Moving Average For Buying And Selling\n",
      "\n",
      "Get Free IBD Newsletters: Market Prep | Tech Report | How To Invest\n",
      "\n",
      "Find Winning Stocks With MarketSmith Pattern Recognition & Custom Screens\n",
      "\n",
      "Investors also can create watchlists, \u0000nd companies nearing a buy point, or develop\n",
      "\n",
      "custom screens at IBD MarketSmith.\n",
      "\n",
      "If you're interested in buying large-cap stocks, in these articles you'll \u0000nd technical\n",
      "\n",
      "analysis of leading large caps to see if they are in or near a proper buy zone.\n",
      "\n",
      "Please follow Brian Deagon on Twitter at @IBD_BDeagon for more on tech stocks,\n",
      "\n",
      "analysis and \u0000nancial markets.\n",
      "\n",
      "YOU MIGHT ALSO LIKE:\n",
      "\n",
      "Amazon Makes Its Swan Dive Into ChatGPT Arti\u0000cial Intelligence Pool\n",
      "\n",
      "No Silver Lining In Amazon's Cloud Business As Results Fail To Excite\n",
      "\n",
      "Amazon's Alexa Smart Speaker Blazed A Trail, Then Burned Out\n",
      "\n",
      "Looking For Market Insights? Check Out Our IBD Live Daily Segment\n",
      "\n",
      "Join IBD Live Each Morning For Stock Tips Before The Open\n",
      "\n",
      "Bottom line: Nvidia stock is a buy right now, but with caveats.\n",
      "\n",
      "As a leading chip company with exposure to top end-markets, Nvidia is always one\n",
      "\n",
      "to watch.\n",
      "\n",
      "Check out IBD Stock Lists and other IBD content to \u0000nd dozens of the best stocks\n",
      "\n",
      "to buy or watch.\n",
      "\n",
      "YOU MAY ALSO LIKE:\n",
      "\n",
      "Is AMD Stock A Buy?\n",
      "\n",
      "See The Best Stocks To Buy And Watch\n",
      "\n",
      "Catch The Next Big Winning Stock With MarketSmith\n",
      "\n",
      "Join IBD Live And Learn Top Chart-Reading And Trading Techniques From The\n",
      "\n",
      "Pros\n",
      "\n",
      "for environmental, social and governance.\n",
      "\n",
      "AAPL Stock Technical Analysis\n",
      "\n",
      "Year to date, Apple stock has climbed 33.6% through May 5. But it has not\n",
      "\n",
      "established a clear buy point during its ascent. It ended the regular session May 5 at\n",
      "\n",
      "173.57.\n",
      "\n",
      "In a positive sign, Apple stock has been trading above its 50-day moving average\n",
      "\n",
      "line, as well as its 200-day line. Also, its relative strength line has been rising lately\n",
      "\n",
      "as it outperforms the S&P 500 this year.\n",
      "\n",
      "Apple stock has an IBD Accumulation/Distribution Rating of B, indicating\n",
      "\n",
      "institutional buying of shares.\n",
      "\n",
      "Is Apple Stock A Buy Right Now?\n",
      "\n",
      "Apple stock is not a buy right now. It needs to form a new base in the right market\n",
      "\n",
      "conditions before setting a potential buy point. Check out IBD's Big Picture column\n",
      "\n",
      "for the current market direction.\n",
      "\n",
      "Keep an eye on the overall stock market. If the market turns south, don't try to\n",
      "\n",
      "\u0000ght the general stock market direction.\n",
      "\n",
      "To \u0000nd the best stocks to buy and watch, check out IBD's Stock Lists page. More\n",
      "\n",
      "stock ideas can be found on IBD's Leaderboard, MarketSmith and SwingTrader\n",
      "\n",
      "platforms.\n",
      "\n",
      "Follow Patrick Seitz on Twitter at @IBD_PSeitz for more stories on consumer technology,\n",
      "\n",
      "software and semiconductor stocks.\n",
      "\n",
      "YOU MAY ALSO LIKE:\n",
      "\n",
      "Is Microsoft Stock A Buy Right Now? Here's What IBD Charts Show\n",
      "\n",
      "Is AMD Stock A Buy Right Now?\n",
      "\n",
      "Find Compelling Growth Stocks With IBD's Stock Of The Day\n",
      "\n",
      "Catch The Next Big Winning Stock With MarketSmith\n",
      "\n",
      "Get Stock Ideas From IBD Experts Each Morning Before The Open\n",
      "\n",
      "NEWS\n",
      "\n",
      "Is Meta Stock Still A Buy After Facebook Parent Surges On Earnings, Outlook?\n",
      "\n",
      "JED GRAHAM 07:00 AM ET 07/29/2023\n",
      "\n",
      "M eta Platforms (META) continued to rally strongly in Friday stock market\n",
      "\n",
      "action, maintaining momentum after soundly beating Q2 earnings estimates late\n",
      "\n",
      "Wednesday. Meta added an exclamation point with its much-stronger-than-\n",
      "\n",
      "expected sales outlook for Q3. The turnaround for Meta stock has come in waves,\n",
      "\n",
      "as the parent of Instagram and Facebook progressed from multiple rounds of\n",
      "\n",
      "layoffs and cost cuts to renewed revenue growth to excitement over generative AI's\n",
      "\n",
      "potential to provide a long-term sales and pro\u0000t boost.\n",
      "\n",
      "X\n",
      "\n",
      "Is Meta Stock A Buy?\n",
      "\n",
      "Meta stock has now rallied 170% so far in 2023, second only to Nvidia (NVDA) in\n",
      "\n",
      "the S&P 500. Investors have good reason to be excited about the outlook, and there\n",
      "\n",
      "are some potential near-term catalysts that might continue to fuel Meta stock. The\n",
      "\n",
      "company is hosting a Sept. 27 conference to reveal more about its AI and metaverse\n",
      "\n",
      "initiatives. The event will feature the launch of Meta's new Quest 3 mixed reality\n",
      "\n",
      "headset.\n",
      "\n",
      "The launch of the Threads text-based social media site to capitalize on Twitter\n",
      "\n",
      "turmoil seized the spotlight in early July by racking up more than 100-million sign-\n",
      "\n",
      "ups in the \u0000rst week. But that gave way to doubt whether people would stick\n",
      "\n",
      "around. Now that Meta has belatedly begun rolling out basic features that Twitter\n",
      "\n",
      "users take for granted, we may \u0000nd out how serious of a challenge Threads will pose\n",
      "\n",
      "as daily user statistics are updated.\n",
      "\n",
      "Still, it wouldn't be surprising to see Meta stock's fantastic run take a breather.\n",
      "\n",
      "While there are de\u0000nitely reasons to be excited about the impact of generative AI\n",
      "\n",
      "on Meta results, that's more of a long-term story. A closer look at the earnings\n",
      "\n",
      "turnaround also suggests Meta's earnings momentum may be somewhat less than\n",
      "\n",
      "meets the eye. That's only partly because of ongoing expenses on the metaverse\n",
      "\n",
      "that won't pay off anytime soon. Regulation also continues to pose risks.\n",
      "\n",
      "Meta stock is trading at an 18-month high, but does not currently have a buy point.\n",
      "\n",
      "Meta Platforms (META)\n",
      "\n",
      "$316.56 5.83 1.88%\n",
      "\n",
      "25\n",
      "\n",
      "09\n",
      "\n",
      "23\n",
      "\n",
      "06\n",
      "\n",
      "20\n",
      "\n",
      "03 Feb\n",
      "\n",
      "17\n",
      "\n",
      "03 Mar\n",
      "\n",
      "17\n",
      "\n",
      "31 Apr\n",
      "\n",
      "14\n",
      "\n",
      "28 May\n",
      "\n",
      "12\n",
      "\n",
      "26\n",
      "\n",
      "09\n",
      "\n",
      "23\n",
      "\n",
      "07\n",
      "\n",
      "Dec\n",
      "\n",
      "Jan\n",
      "\n",
      "Jun\n",
      "\n",
      "Jul\n",
      "\n",
      "08/07/2023 (Market Close)\n",
      "\n",
      "Meta Earnings And Outlook\n",
      "\n",
      "The Menlo Park, Calif.-based social media giant late Wednesday said it earned $2.98\n",
      "\n",
      "a share on sales of $32 billion in the June quarter. Analysts polled by FactSet had\n",
      "\n",
      "expected Meta earnings of $2.91 a share on sales of $31.08 billion. On a year-over-\n",
      "\n",
      "year basis, Meta earnings increased 21% while sales advanced 11%.\n",
      "\n",
      "Meta's second-quarter earnings results broke a streak of six straight quarters of\n",
      "\n",
      "year-over-year declines. Meanwhile, Meta's revenue rose for the second quarter in\n",
      "\n",
      "a row after three straight quarters of declines.\n",
      "\n",
      "The results re\u0000ected continued user growth in all regions. The number of people\n",
      "\n",
      "using at least one Meta app on a daily basis rose to 3.07 billion from 3.02 billion in\n",
      "\n",
      "Q1. That includes Facebook, Instagram, Messenger and WhatsApp. Facebook daily\n",
      "\n",
      "active users rose to 2.064 billion from 2.037 billion overall. In the U.S., 202 million\n",
      "\n",
      "people used Facebook on a daily basis, up from 200 million in Q1.\n",
      "\n",
      "For the third quarter, Meta predicted revenue of $32 billion to $34.5 billion,\n",
      "\n",
      "growing by a range of 15.5% to 24.5%. The midpoint of $33.25 billion was well\n",
      "\n",
      "above Wall Street's prediction of $31.22 billion.\n",
      "\n",
      "Reels Monetization\n",
      "\n",
      "Meta CEO Mark Zuckerberg highlighted improving monetization of Reels short-\n",
      "\n",
      "form videos to an annual run rate of over $10 billion in Q2. That compares to a $1-\n",
      "\n",
      "billion annual run rate a year ago. In other words, on a quarterly basis, Reels ad\n",
      "\n",
      "revenue accounted for about $2.25 billion of the overall $3.2 billion in revenue\n",
      "\n",
      "growth vs. a year ago.\n",
      "\n",
      "The massive jump in Reels revenue came as the number of short-form videos played\n",
      "\n",
      "across Facebook and Instagram reached 200 billion per day, up more than 40% from\n",
      "\n",
      "140 billion last fall. That growth is partly because Meta, in a bid to compete against\n",
      "\n",
      "TikTok, has programmed its AI discovery engine that recommends content to users\n",
      "\n",
      "to prioritize Reels videos. As a result, time spent watching Reels videos subtracts to\n",
      "\n",
      "an extent from other activity on Facebook and Instagram. Still, Meta says that part\n",
      "\n",
      "of Reels growth re\u0000ects \"incremental engagement,\" meaning that it is a net\n",
      "\n",
      "contributor to overall time spent on Meta's apps.\n",
      "\n",
      "Yet the biggest reason Reels revenue is rising so fast is that Meta has been taking a\n",
      "\n",
      "while to \u0000gure out how to optimize ads on the TikTok competitor it launched in\n",
      "\n",
      "2020. Basically, Meta had been running a lot of ad-free content, sandbagging\n",
      "\n",
      "revenue. Now, the rising ad load on Reels has provided a one-time jump in ad sales.\n",
      "\n",
      "Meta Regains Its Competitive Edge\n",
      "\n",
      "The Q3 revenue outlook might give the impression that Meta has returned to fast\n",
      "\n",
      "growth, but that seems uncertain.\n",
      "\n",
      "Consider Q3 guidance for year-over-year sales growing by a range of $4.3 billion to\n",
      "\n",
      "$6.8 billion. Meta expects the weaker dollar to provide a 3% tailwind or as much as a\n",
      "\n",
      "$1 billion lift. The higher ad load alone on Reels could provide a boost of about $1.5\n",
      "\n",
      "billion.\n",
      "\n",
      "On top of that, CFO Susan Li noted that revenue declined 4.5% in the year-ago\n",
      "\n",
      "quarter. \"We're really lapping a much-weaker demand period a year ago.\"\n",
      "\n",
      "Li credited \"improvement in the macroeconomic landscape\" as a big factor in Q3\n",
      "\n",
      "guidance. She highlighted \"stabilization\" in key advertiser segments like online\n",
      "\n",
      "commerce and gaming.\n",
      "\n",
      "Another part of Meta's turnaround story involves overcoming the industry\n",
      "\n",
      "upheaval caused by Apple's privacy change. Starting with the iOS 14.5 update in the\n",
      "\n",
      "spring of 2021, Apple began requiring apps downloaded through the App Store to\n",
      "\n",
      "let users opt in or out of tracking their activity across third-party sites. With the\n",
      "\n",
      "bulk of users opting out, Meta lost the data needed to help businesses narrowly\n",
      "Human: Question: should i invest in google\n",
      "Human: Return answers in a bullet format\u001b[0m\n"
     ]
    },
    {
     "name": "stdout",
     "output_type": "stream",
     "text": [
      "\n",
      "\u001b[1m> Finished chain.\u001b[0m\n",
      "\n",
      "\u001b[1m> Finished chain.\u001b[0m\n"
     ]
    }
   ],
   "source": [
    "question = \"should i invest in google\"\n",
    "qna_chain = conversation_chain({\"question\": question})"
   ]
  },
  {
   "cell_type": "code",
   "execution_count": 52,
   "id": "4b51312f",
   "metadata": {},
   "outputs": [
    {
     "data": {
      "text/plain": [
       "{'question': 'should i invest in google',\n",
       " 'chat_history': [HumanMessage(content='should i invest in google', additional_kwargs={}, example=False),\n",
       "  AIMessage(content=\"\\nSystem: \\n- Google stock has dropped out of the IBD Leaderboard\\n- Google earnings for the June quarter came in at $1.44 a share, up 19%\\n- Capital spending in the second quarter rose to $6.9 billion, up from $6.3 billion in the \\x00rst quarter\\n- Advertising revenue rose 3% to $58.14 billion vs. estimates of $57.39 billion\\n- YouTube ad revenue rose 4% to $7.66 billion during the second quarter\\n- Google said cloud computing revenue rose 28% to $8.03 billion vs. estimates of $7.87 billion\\n- Google's cloud computing business faces tough rivals in Amazon and Microsoft\\n- Google brought in Thomas Kurian, a former Oracle (ORCL) executive, to improve performance in the corporate market\\n- Google acquired cybersecurity \\x00rm Mandiant (MNDT) for $23 per share in an all-cash $5.4 billion deal\\n- Google stock is not a buy right now. It needs to form a new base in the right market conditions before setting a potential buy point\\n- Keep an eye on the overall stock market. If the market turns south, don't try to \\x00ght the general stock market direction\\n- To \\x00nd the best stocks to buy and watch, check out IBD's Stock Lists page. More stock ideas can be found on IBD's Leaderboard, MarketSmith and SwingTrader platforms.<|im_end|>\", additional_kwargs={}, example=False)],\n",
       " 'answer': \"\\nSystem: \\n- Google stock has dropped out of the IBD Leaderboard\\n- Google earnings for the June quarter came in at $1.44 a share, up 19%\\n- Capital spending in the second quarter rose to $6.9 billion, up from $6.3 billion in the \\x00rst quarter\\n- Advertising revenue rose 3% to $58.14 billion vs. estimates of $57.39 billion\\n- YouTube ad revenue rose 4% to $7.66 billion during the second quarter\\n- Google said cloud computing revenue rose 28% to $8.03 billion vs. estimates of $7.87 billion\\n- Google's cloud computing business faces tough rivals in Amazon and Microsoft\\n- Google brought in Thomas Kurian, a former Oracle (ORCL) executive, to improve performance in the corporate market\\n- Google acquired cybersecurity \\x00rm Mandiant (MNDT) for $23 per share in an all-cash $5.4 billion deal\\n- Google stock is not a buy right now. It needs to form a new base in the right market conditions before setting a potential buy point\\n- Keep an eye on the overall stock market. If the market turns south, don't try to \\x00ght the general stock market direction\\n- To \\x00nd the best stocks to buy and watch, check out IBD's Stock Lists page. More stock ideas can be found on IBD's Leaderboard, MarketSmith and SwingTrader platforms.<|im_end|>\"}"
      ]
     },
     "execution_count": 52,
     "metadata": {},
     "output_type": "execute_result"
    }
   ],
   "source": [
    "qna_chain"
   ]
  },
  {
   "cell_type": "code",
   "execution_count": 20,
   "id": "c33846e4",
   "metadata": {},
   "outputs": [
    {
     "ename": "NameError",
     "evalue": "name 'conversation_chain' is not defined",
     "output_type": "error",
     "traceback": [
      "\u001b[0;31m---------------------------------------------------------------------------\u001b[0m",
      "\u001b[0;31mNameError\u001b[0m                                 Traceback (most recent call last)",
      "Cell \u001b[0;32mIn[20], line 1\u001b[0m\n\u001b[0;32m----> 1\u001b[0m \u001b[43mconversation_chain\u001b[49m\u001b[38;5;241m.\u001b[39mmemory\n",
      "\u001b[0;31mNameError\u001b[0m: name 'conversation_chain' is not defined"
     ]
    }
   ],
   "source": [
    "conversation_chain.memory"
   ]
  },
  {
   "cell_type": "code",
   "execution_count": null,
   "id": "f3574c21",
   "metadata": {},
   "outputs": [],
   "source": [
    "#######"
   ]
  },
  {
   "cell_type": "code",
   "execution_count": 31,
   "id": "c32e4e9d",
   "metadata": {},
   "outputs": [],
   "source": [
    "chunk_retriever=vectorstore.as_retriever(\n",
    "    search_type=search_type, search_kwargs=retrieval_kwargs\n",
    ")"
   ]
  },
  {
   "cell_type": "code",
   "execution_count": 32,
   "id": "ba8e05da",
   "metadata": {},
   "outputs": [],
   "source": [
    "relevant_chunks = chunk_retriever.get_relevant_documents(query=question)"
   ]
  },
  {
   "cell_type": "code",
   "execution_count": 33,
   "id": "b5e4d7a1",
   "metadata": {},
   "outputs": [],
   "source": [
    "# chunk_retriever.aget_relevant_documents(query=question)"
   ]
  },
  {
   "cell_type": "code",
   "execution_count": 35,
   "id": "c77e7470",
   "metadata": {},
   "outputs": [],
   "source": [
    "import constants as c"
   ]
  },
  {
   "cell_type": "code",
   "execution_count": 36,
   "id": "7fdd46b6",
   "metadata": {},
   "outputs": [
    {
     "ename": "AttributeError",
     "evalue": "module 'constants' has no attribute 'prompt_role'",
     "output_type": "error",
     "traceback": [
      "\u001b[0;31m---------------------------------------------------------------------------\u001b[0m",
      "\u001b[0;31mAttributeError\u001b[0m                            Traceback (most recent call last)",
      "Cell \u001b[0;32mIn[36], line 4\u001b[0m\n\u001b[1;32m      1\u001b[0m chain_prompt \u001b[38;5;241m=\u001b[39m PromptTemplate\u001b[38;5;241m.\u001b[39mfrom_file(\n\u001b[1;32m      2\u001b[0m     prompt_template_file,\n\u001b[1;32m      3\u001b[0m     input_variables\u001b[38;5;241m=\u001b[39mc\u001b[38;5;241m.\u001b[39mprompt_input_variables,\n\u001b[0;32m----> 4\u001b[0m     partial_variables\u001b[38;5;241m=\u001b[39m{\u001b[38;5;124m'\u001b[39m\u001b[38;5;124mrole\u001b[39m\u001b[38;5;124m'\u001b[39m:\u001b[43mc\u001b[49m\u001b[38;5;241;43m.\u001b[39;49m\u001b[43mprompt_role\u001b[49m}\n\u001b[1;32m      5\u001b[0m )\n",
      "\u001b[0;31mAttributeError\u001b[0m: module 'constants' has no attribute 'prompt_role'"
     ]
    }
   ],
   "source": [
    "chain_prompt = PromptTemplate.from_file(\n",
    "    prompt_template_file,\n",
    "    input_variables=c.prompt_input_variables,\n",
    "    partial_variables={'role':c.prompt_role}\n",
    ")"
   ]
  },
  {
   "cell_type": "code",
   "execution_count": 37,
   "id": "1a8e6758",
   "metadata": {},
   "outputs": [],
   "source": [
    "qna_chain = RetrievalQA.from_chain_type(\n",
    "    base_llm, \n",
    "    retriever=vectorstore.as_retriever(\n",
    "        search_type=search_type, search_kwargs=retrieval_kwargs\n",
    "    ),\n",
    "    return_source_documents=True,  \n",
    "#     verbose=True,\n",
    "    chain_type_kwargs={\"prompt\": None}\n",
    ")"
   ]
  },
  {
   "cell_type": "code",
   "execution_count": 38,
   "id": "643600ae",
   "metadata": {},
   "outputs": [],
   "source": [
    "# qna_chain.verbose=True"
   ]
  },
  {
   "cell_type": "code",
   "execution_count": 39,
   "id": "8e6a3278",
   "metadata": {},
   "outputs": [
    {
     "data": {
      "text/plain": [
       "PromptTemplate(input_variables=['context', 'question'], output_parser=None, partial_variables={}, template=\"Use the following pieces of context to answer the question at the end. If you don't know the answer, just say that you don't know, don't try to make up an answer.\\n\\n{context}\\n\\nQuestion: {question}\\nHelpful Answer:\", template_format='f-string', validate_template=True)"
      ]
     },
     "execution_count": 39,
     "metadata": {},
     "output_type": "execute_result"
    }
   ],
   "source": [
    "qna_chain.combine_documents_chain.llm_chain.prompt"
   ]
  },
  {
   "cell_type": "code",
   "execution_count": 66,
   "id": "4a40ceed",
   "metadata": {},
   "outputs": [
    {
     "name": "stdout",
     "output_type": "stream",
     "text": [
      "\u001b[32;1m\u001b[1;3m[chain/start]\u001b[0m \u001b[1m[1:chain:RetrievalQA] Entering Chain run with input:\n",
      "\u001b[0m{\n",
      "  \"query\": \"what are the pros and cons of tesla stock and nvidia stock?\"\n",
      "}\n",
      "\u001b[32;1m\u001b[1;3m[chain/start]\u001b[0m \u001b[1m[1:chain:RetrievalQA > 3:chain:StuffDocumentsChain] Entering Chain run with input:\n",
      "\u001b[0m[inputs]\n",
      "\u001b[32;1m\u001b[1;3m[chain/start]\u001b[0m \u001b[1m[1:chain:RetrievalQA > 3:chain:StuffDocumentsChain > 4:chain:LLMChain] Entering Chain run with input:\n",
      "\u001b[0m{\n",
      "  \"question\": \"what are the pros and cons of tesla stock and nvidia stock?\",\n",
      "  \"context\": \"NEWS\\n\\nIs Tesla Stock A Buy Or A Sell With California's Attorney General Investigating The EV Giant?\\n\\nKIT NORTON 11:05 AM ET 07/27/2023\\n\\nT esla (TSLA) stock appears to be pulling back after second-quarter \\u0000nancials\\n\\non July 19, as investor concerns over falling gross margins seems to be outweighing\\n\\nthe global EV giant's earnings and revenue-beating numbers.\\n\\nX\\n\\n00:00\\n\\nMeanwhile, California's attorney general is investigating Tesla, seeking information\\n\\nfrom customers and former employees regarding Autopilot safety and false\\n\\nadvertising complaints, CNBC reported Wednesday.\\n\\nThis comes after Tesla reported Q2 pro\\u0000ts growing 20% to 91 cents per share while\\n\\nrevenue increased 47% to $24.93 billion. Analysts expected pro\\u0000ts to edge up\\n\\naround 4% to 80 cents per share with revenue totaling $24.22 billion, up 43%\\n\\ncompared with last year.\\n\\nTesla's total gross pro\\u0000t grew 7% to $4.53 billion in the second quarter. Meanwhile,\\n\\ntotal gross margins came in at 18.2%, down from 19.3% in Q1 and a decline of 682\\n\\nbasis points vs. last year. Auto gross margins, excluding regulatory credits and\\n\\nleases, came in at 18.1%, down from 18.3% in Q1.\\n\\nThat is below the 20% gross margin \\\"\\u0000oor\\\" Tesla previously targeted. Ahead of\\n\\nearnings, a slew of analysts rang warning bells on gross margins.\\n\\n\\\"The short-term variances in gross margins and pro\\u0000tability really are minor\\n\\nrelative to the long term picture,\\\" Chief Executive Elon Musk told investors during\\n\\nthe Q2 earnings call.\\n\\n\\\"Autonomy will make all of these numbers look silly,\\\" he added.\\n\\nStock Falls After Earnings\\n\\nHowever on July 20, TSLA tumbled 9.7% to 262.90, falling below the 21-day line\\n\\nbut only giving up July gains.\\n\\nAhead of earnings, Wood sold tranches of her \\u0000rm's Tesla stock holdings in\\n\\nconsecutive sessions, unloading more than 73,000 shares before the EV giant\\n\\nreported second-quarter \\u0000nancials.\\n\\nMorgan Stanley analyst Adam Jonas on July 24 wrote he expects Tesla's full-year\\n\\nsales gain. Last year, Nvidia earnings fell 25%.\\n\\nIts next quarterly report is expected on Aug. 23.\\n\\nOut of 50 analysts covering NVDA stock, 43 rate it a buy. Six have a hold and one\\n\\nhas a sell, according to FactSet.\\n\\nLooking For The Next Big Stock Market Winners? Start With These 3 Steps\\n\\nNVDA Backstory, Rivals\\n\\nThe fabless chipmaker pioneered graphics processing units, or GPUs, to make video\\n\\ngames more realistic. It's expanding in AI chips, used in supercomputers, data\\n\\ncenters and drug development.\\n\\nNvidia's GPUs act as accelerators for central processing units, or CPUs, made by\\n\\nother companies. It's working on \\\"supercomputers\\\" combining its own CPUs and\\n\\nGPUs.\\n\\nIn addition, Nvidia chips are used for Bitcoin mining and self-driving electric cars.\\n\\nNvidia has made a big push into metaverse applications.\\n\\nFabless chip stocks include Qualcomm (QCOM), Broadcom (AVGO) and Monolithic\\n\\nPower Systems (MPWR).\\n\\nCurrently, the fabless group ranks No. 2 out of 197 industry groups. Fabless\\n\\ncompanies design the hardware while outsourcing the manufacturing to a third-\\n\\nparty \\u0000rm.\\n\\nFor the best returns, investors should focus on companies that are leading the\\n\\nmarket and their own industry group.\\n\\nIs Nvidia Stock A Buy?\\n\\nOn a fundamental level, Nvidia earnings are expected to return to growth. They\\n\\nshould more than double this \\u0000scal year, driven by booming chip sales for data\\n\\ncenters and arti\\u0000cial intelligence.\\n\\nThe fabless chipmaker is expanding in other growth areas such as automated\\n\\nelectric cars and cloud gaming as well. The adoption of the metaverse and\\n\\ncryptocurrencies could further stoke demand for Nvidia chips.\\n\\nHowever, macroeconomic uncertainties and risk of global recession linger.\\n\\nNVDA stock has staged a massive comeback, more than tripling in 2023 so far.\\n\\nShares have reclaimed their latest follow-on entry after a retreat and are now back\\n\\nin a proper buy zone. But investors may want to wait for a pullback to key levels or a\\n\\nnew base, especially with the market rally under pressure.\\n\\nBottom line: Nvidia stock is a buy right now, but with caveats.\\n\\nAs a leading chip company with exposure to top end-markets, Nvidia is always one\\n\\nto watch.\\n\\nCheck out IBD Stock Lists and other IBD content to \\u0000nd dozens of the best stocks\\n\\nto buy or watch.\\n\\nYOU MAY ALSO LIKE:\\n\\nIs AMD Stock A Buy?\\n\\nSee The Best Stocks To Buy And Watch\\n\\nCatch The Next Big Winning Stock With MarketSmith\\n\\nJoin IBD Live And Learn Top Chart-Reading And Trading Techniques From The\\n\\nPros\\n\\nTSLA stock is greatly extended from a cup base with a 207.79 buy point. Shares\\n\\nhave climbed 118% so far in 2023, according to Leaderboard analysis. After the\\n\\npullback on Q2 earnings, TSLA is up around 3% in July.\\n\\nNow Tesla is working on a deeper cup base going back to September 2022 with a\\n\\n313.80 buy point.\\n\\nTesla (TSLA)\\n\\n$251.41 2.45 0.97%\\n\\n25\\n\\n09\\n\\n23\\n\\n06\\n\\n20\\n\\n03 Feb\\n\\n17\\n\\n03 Mar\\n\\n17\\n\\n31 Apr\\n\\n14\\n\\n28 May\\n\\n12\\n\\n26\\n\\n09\\n\\n23\\n\\n07\\n\\nDec\\n\\nJan\\n\\nJun\\n\\nJul\\n\\n08/07/2023 (Market Close)\\n\\nTechnically, Tesla now has a handle on a weekly chart, offering 299.29 buy point.\\n\\nBut a slightly deeper pullback or pause could create a meaningful handle. That\\n\\nhandle could end up developing into a new base with the broader consolidation.\\n\\nAn extended handle or new base would offer more time for moving averages to\\n\\ncatch up to the TSLA stock price.\\n\\nTesla stock ranks third in IBD's automaker industry group. It has a 98 Composite\\n\\nRating out of 99. Tesla has a 95 Relative Strength Rating and its EPS Rating is 94\\n\\nout of 99.\\n\\nThe market status is showing a \\\"con\\u0000rmed uptrend.\\\" However, Tesla stock is greatly\\n\\nextended from a cup base and TSLA is not a buy right now.\\n\\nYOU MAY ALSO LIKE:\\n\\nGet An Edge In The Stock Market With IBD Digital\\n\\nLabor Unions Keep The Heat On Starbucks And Amazon\\n\\nTesla Signals IRA Tax Credit Reduction For Model 3\\n\\nFed, Big Earnings Loom; Tesla Downgraded\\n\\nTECHNOLOGY\\n\\nIs Amazon Stock A Buy As It Restructures Workforce In Tough Times?\\n\\nBRIAN DEAGON 03:03 PM ET 04/14/2023\\n\\nF or years, Amazon seemed invincible, an e-commerce giant that made other\\n\\ncompanies shiver when it muscled into their markets. It helped Amazon stock soar\\n\\ninto four-digit territory, and the company's earnings reports often delighted\\n\\ninvestors.\\n\\nNow, after a year of troubling earnings reports, Amazon has launched a major\\n\\nrestructuring, including plans to cut 27,000 employees from its workforce. Is\\n\\nAmazon stock a buy?\\n\\nIn late March, Amazon announced plans to slash 9,000 jobs. That's on top of the\\n\\n18,000 job cuts it announced in January.\\n\\n\\\"Given the uncertain economy in which we reside, and the uncertainty that exists in\\n\\nthe near future, we have chosen to be more streamlined in our costs and head\\n\\ncount,\\\" Amazon Chief Executive Andy Jassy said in a written notice to employees\\n\\nwhen the layoffs were announced. He also suggested more layoffs are possible. The\\n\\ncuts mainly focus on Amazon Web Services, advertising, Twitch, human resources\\n\\nand its stores divisions.\\n\\nAmazon Jumps Into Arti\\u0000cial Intelligence\\n\\nOn April 13, Amazon jumped into the booming \\u0000eld of generative arti\\u0000cial\\n\\nintelligence, the technology behind ChatGPT. Amazon stock climbed on the news,\\n\\nas did other AI companies.\\n\\nAlphabet and Microsoft (MSFT) previously announced plans to bring ChatGPT to\\n\\nthe public. Meanwhile, Amazon's cloud computing unit, Amazon Web Services,\\n\\nplans to target corporate customers.\\n\\nAWS will also expand access to custom-made chips. They say the chips can run AI\\n\\nsoftware more ef\\u0000ciently and cheaper than competitors can.\\n\\n\\\"Machine learning has been a technology with high promise for several decades. But\\n\\nit's only been the last \\u0000ve to 10 years that it's started to be used more pervasively\\n\\nby companies,\\\" Chief Executive Andy Jassy said in his letter to shareholders.\\n\\nMachine learning is a form of arti\\u0000cial intelligence.\"\n",
      "}\n",
      "\u001b[32;1m\u001b[1;3m[llm/start]\u001b[0m \u001b[1m[1:chain:RetrievalQA > 3:chain:StuffDocumentsChain > 4:chain:LLMChain > 5:llm:AzureOpenAI] Entering LLM run with input:\n",
      "\u001b[0m{\n",
      "  \"prompts\": [\n",
      "    \"template=\\\"\\\"\\\"Use the following pieces of context to answer the question at the end.\\nNEWS\\n\\nIs Tesla Stock A Buy Or A Sell With California's Attorney General Investigating The EV Giant?\\n\\nKIT NORTON 11:05 AM ET 07/27/2023\\n\\nT esla (TSLA) stock appears to be pulling back after second-quarter \\u0000nancials\\n\\non July 19, as investor concerns over falling gross margins seems to be outweighing\\n\\nthe global EV giant's earnings and revenue-beating numbers.\\n\\nX\\n\\n00:00\\n\\nMeanwhile, California's attorney general is investigating Tesla, seeking information\\n\\nfrom customers and former employees regarding Autopilot safety and false\\n\\nadvertising complaints, CNBC reported Wednesday.\\n\\nThis comes after Tesla reported Q2 pro\\u0000ts growing 20% to 91 cents per share while\\n\\nrevenue increased 47% to $24.93 billion. Analysts expected pro\\u0000ts to edge up\\n\\naround 4% to 80 cents per share with revenue totaling $24.22 billion, up 43%\\n\\ncompared with last year.\\n\\nTesla's total gross pro\\u0000t grew 7% to $4.53 billion in the second quarter. Meanwhile,\\n\\ntotal gross margins came in at 18.2%, down from 19.3% in Q1 and a decline of 682\\n\\nbasis points vs. last year. Auto gross margins, excluding regulatory credits and\\n\\nleases, came in at 18.1%, down from 18.3% in Q1.\\n\\nThat is below the 20% gross margin \\\"\\u0000oor\\\" Tesla previously targeted. Ahead of\\n\\nearnings, a slew of analysts rang warning bells on gross margins.\\n\\n\\\"The short-term variances in gross margins and pro\\u0000tability really are minor\\n\\nrelative to the long term picture,\\\" Chief Executive Elon Musk told investors during\\n\\nthe Q2 earnings call.\\n\\n\\\"Autonomy will make all of these numbers look silly,\\\" he added.\\n\\nStock Falls After Earnings\\n\\nHowever on July 20, TSLA tumbled 9.7% to 262.90, falling below the 21-day line\\n\\nbut only giving up July gains.\\n\\nAhead of earnings, Wood sold tranches of her \\u0000rm's Tesla stock holdings in\\n\\nconsecutive sessions, unloading more than 73,000 shares before the EV giant\\n\\nreported second-quarter \\u0000nancials.\\n\\nMorgan Stanley analyst Adam Jonas on July 24 wrote he expects Tesla's full-year\\n\\nsales gain. Last year, Nvidia earnings fell 25%.\\n\\nIts next quarterly report is expected on Aug. 23.\\n\\nOut of 50 analysts covering NVDA stock, 43 rate it a buy. Six have a hold and one\\n\\nhas a sell, according to FactSet.\\n\\nLooking For The Next Big Stock Market Winners? Start With These 3 Steps\\n\\nNVDA Backstory, Rivals\\n\\nThe fabless chipmaker pioneered graphics processing units, or GPUs, to make video\\n\\ngames more realistic. It's expanding in AI chips, used in supercomputers, data\\n\\ncenters and drug development.\\n\\nNvidia's GPUs act as accelerators for central processing units, or CPUs, made by\\n\\nother companies. It's working on \\\"supercomputers\\\" combining its own CPUs and\\n\\nGPUs.\\n\\nIn addition, Nvidia chips are used for Bitcoin mining and self-driving electric cars.\\n\\nNvidia has made a big push into metaverse applications.\\n\\nFabless chip stocks include Qualcomm (QCOM), Broadcom (AVGO) and Monolithic\\n\\nPower Systems (MPWR).\\n\\nCurrently, the fabless group ranks No. 2 out of 197 industry groups. Fabless\\n\\ncompanies design the hardware while outsourcing the manufacturing to a third-\\n\\nparty \\u0000rm.\\n\\nFor the best returns, investors should focus on companies that are leading the\\n\\nmarket and their own industry group.\\n\\nIs Nvidia Stock A Buy?\\n\\nOn a fundamental level, Nvidia earnings are expected to return to growth. They\\n\\nshould more than double this \\u0000scal year, driven by booming chip sales for data\\n\\ncenters and arti\\u0000cial intelligence.\\n\\nThe fabless chipmaker is expanding in other growth areas such as automated\\n\\nelectric cars and cloud gaming as well. The adoption of the metaverse and\\n\\ncryptocurrencies could further stoke demand for Nvidia chips.\\n\\nHowever, macroeconomic uncertainties and risk of global recession linger.\\n\\nNVDA stock has staged a massive comeback, more than tripling in 2023 so far.\\n\\nShares have reclaimed their latest follow-on entry after a retreat and are now back\\n\\nin a proper buy zone. But investors may want to wait for a pullback to key levels or a\\n\\nnew base, especially with the market rally under pressure.\\n\\nBottom line: Nvidia stock is a buy right now, but with caveats.\\n\\nAs a leading chip company with exposure to top end-markets, Nvidia is always one\\n\\nto watch.\\n\\nCheck out IBD Stock Lists and other IBD content to \\u0000nd dozens of the best stocks\\n\\nto buy or watch.\\n\\nYOU MAY ALSO LIKE:\\n\\nIs AMD Stock A Buy?\\n\\nSee The Best Stocks To Buy And Watch\\n\\nCatch The Next Big Winning Stock With MarketSmith\\n\\nJoin IBD Live And Learn Top Chart-Reading And Trading Techniques From The\\n\\nPros\\n\\nTSLA stock is greatly extended from a cup base with a 207.79 buy point. Shares\\n\\nhave climbed 118% so far in 2023, according to Leaderboard analysis. After the\\n\\npullback on Q2 earnings, TSLA is up around 3% in July.\\n\\nNow Tesla is working on a deeper cup base going back to September 2022 with a\\n\\n313.80 buy point.\\n\\nTesla (TSLA)\\n\\n$251.41 2.45 0.97%\\n\\n25\\n\\n09\\n\\n23\\n\\n06\\n\\n20\\n\\n03 Feb\\n\\n17\\n\\n03 Mar\\n\\n17\\n\\n31 Apr\\n\\n14\\n\\n28 May\\n\\n12\\n\\n26\\n\\n09\\n\\n23\\n\\n07\\n\\nDec\\n\\nJan\\n\\nJun\\n\\nJul\\n\\n08/07/2023 (Market Close)\\n\\nTechnically, Tesla now has a handle on a weekly chart, offering 299.29 buy point.\\n\\nBut a slightly deeper pullback or pause could create a meaningful handle. That\\n\\nhandle could end up developing into a new base with the broader consolidation.\\n\\nAn extended handle or new base would offer more time for moving averages to\\n\\ncatch up to the TSLA stock price.\\n\\nTesla stock ranks third in IBD's automaker industry group. It has a 98 Composite\\n\\nRating out of 99. Tesla has a 95 Relative Strength Rating and its EPS Rating is 94\\n\\nout of 99.\\n\\nThe market status is showing a \\\"con\\u0000rmed uptrend.\\\" However, Tesla stock is greatly\\n\\nextended from a cup base and TSLA is not a buy right now.\\n\\nYOU MAY ALSO LIKE:\\n\\nGet An Edge In The Stock Market With IBD Digital\\n\\nLabor Unions Keep The Heat On Starbucks And Amazon\\n\\nTesla Signals IRA Tax Credit Reduction For Model 3\\n\\nFed, Big Earnings Loom; Tesla Downgraded\\n\\nTECHNOLOGY\\n\\nIs Amazon Stock A Buy As It Restructures Workforce In Tough Times?\\n\\nBRIAN DEAGON 03:03 PM ET 04/14/2023\\n\\nF or years, Amazon seemed invincible, an e-commerce giant that made other\\n\\ncompanies shiver when it muscled into their markets. It helped Amazon stock soar\\n\\ninto four-digit territory, and the company's earnings reports often delighted\\n\\ninvestors.\\n\\nNow, after a year of troubling earnings reports, Amazon has launched a major\\n\\nrestructuring, including plans to cut 27,000 employees from its workforce. Is\\n\\nAmazon stock a buy?\\n\\nIn late March, Amazon announced plans to slash 9,000 jobs. That's on top of the\\n\\n18,000 job cuts it announced in January.\\n\\n\\\"Given the uncertain economy in which we reside, and the uncertainty that exists in\\n\\nthe near future, we have chosen to be more streamlined in our costs and head\\n\\ncount,\\\" Amazon Chief Executive Andy Jassy said in a written notice to employees\\n\\nwhen the layoffs were announced. He also suggested more layoffs are possible. The\\n\\ncuts mainly focus on Amazon Web Services, advertising, Twitch, human resources\\n\\nand its stores divisions.\\n\\nAmazon Jumps Into Arti\\u0000cial Intelligence\\n\\nOn April 13, Amazon jumped into the booming \\u0000eld of generative arti\\u0000cial\\n\\nintelligence, the technology behind ChatGPT. Amazon stock climbed on the news,\\n\\nas did other AI companies.\\n\\nAlphabet and Microsoft (MSFT) previously announced plans to bring ChatGPT to\\n\\nthe public. Meanwhile, Amazon's cloud computing unit, Amazon Web Services,\\n\\nplans to target corporate customers.\\n\\nAWS will also expand access to custom-made chips. They say the chips can run AI\\n\\nsoftware more ef\\u0000ciently and cheaper than competitors can.\\n\\n\\\"Machine learning has been a technology with high promise for several decades. But\\n\\nit's only been the last \\u0000ve to 10 years that it's started to be used more pervasively\\n\\nby companies,\\\" Chief Executive Andy Jassy said in his letter to shareholders.\\n\\nMachine learning is a form of arti\\u0000cial intelligence.\\nAnswer like a financial advisor. If you don't know the answer, just say that you don't know, don't try to make up an answer. what are the pros and cons of tesla stock and nvidia stock?\\n\\\"\\\"\\\"\"\n",
      "  ]\n",
      "}\n"
     ]
    },
    {
     "name": "stdout",
     "output_type": "stream",
     "text": [
      "\u001b[36;1m\u001b[1;3m[llm/end]\u001b[0m \u001b[1m[1:chain:RetrievalQA > 3:chain:StuffDocumentsChain > 4:chain:LLMChain > 5:llm:AzureOpenAI] [7.50s] Exiting LLM run with output:\n",
      "\u001b[0m{\n",
      "  \"generations\": [\n",
      "    [\n",
      "      {\n",
      "        \"text\": \"\\n\\n\\n\\n# Tesla\\n# Pros:\\n# - Tesla is a leader in the electric vehicle market, which is a rapidly growing industry.\\n# - Tesla has a strong brand and a loyal customer base.\\n# - Tesla has a strong balance sheet with a lot of cash on hand.\\n# - Tesla has a visionary CEO in Elon Musk who has a track record of innovation and success.\\n\\n# Cons:\\n# - Tesla faces increasing competition in the electric vehicle market from established automakers and new entrants.\\n# - Tesla's valuation is very high, which makes it vulnerable to a market downturn or a shift in investor sentiment.\\n# - Tesla has faced regulatory scrutiny and legal challenges related to its Autopilot system and other safety issues.\\n# - Tesla's gross margins have been declining, which could put pressure on its profitability in the long term.\\n\\n# Nvidia\\n# Pros:\\n# - Nvidia is a leader in the graphics processing unit (GPU) market, which is a key component of many high-growth industries such as gaming, artificial intelligence, and self-driving cars.\\n# - Nvidia has a strong balance sheet with a lot of cash on hand.\\n# - Nvidia has a visionary CEO in Jensen Huang who has a track record of innovation and success.\\n# - Nvidia has a diverse product portfolio that includes GPUs, data center chips, and automotive chips.\\n\\n# Cons:\\n# - Nvidia faces increasing competition in the GPU market from established players such as Intel and AMD.\\n# - Nvidia's valuation is very high, which makes it vulnerable to a market downturn or a shift in investor sentiment.\\n# - Nvidia's growth is heavily dependent on the success of the industries it serves, which could be impacted by economic or technological factors.\\n# - Nvidia has faced regulatory scrutiny and legal challenges related to its acquisition of ARM Holdings and other issues.<|im_end|>\",\n",
      "        \"generation_info\": {\n",
      "          \"finish_reason\": \"stop\",\n",
      "          \"logprobs\": null\n",
      "        }\n",
      "      }\n",
      "    ]\n",
      "  ],\n",
      "  \"llm_output\": {\n",
      "    \"token_usage\": {\n",
      "      \"completion_tokens\": 362,\n",
      "      \"prompt_tokens\": 1927,\n",
      "      \"total_tokens\": 2289\n",
      "    },\n",
      "    \"model_name\": \"text-davinci-002\"\n",
      "  },\n",
      "  \"run\": null\n",
      "}\n",
      "\u001b[36;1m\u001b[1;3m[chain/end]\u001b[0m \u001b[1m[1:chain:RetrievalQA > 3:chain:StuffDocumentsChain > 4:chain:LLMChain] [7.50s] Exiting Chain run with output:\n",
      "\u001b[0m{\n",
      "  \"text\": \"\\n\\n\\n\\n# Tesla\\n# Pros:\\n# - Tesla is a leader in the electric vehicle market, which is a rapidly growing industry.\\n# - Tesla has a strong brand and a loyal customer base.\\n# - Tesla has a strong balance sheet with a lot of cash on hand.\\n# - Tesla has a visionary CEO in Elon Musk who has a track record of innovation and success.\\n\\n# Cons:\\n# - Tesla faces increasing competition in the electric vehicle market from established automakers and new entrants.\\n# - Tesla's valuation is very high, which makes it vulnerable to a market downturn or a shift in investor sentiment.\\n# - Tesla has faced regulatory scrutiny and legal challenges related to its Autopilot system and other safety issues.\\n# - Tesla's gross margins have been declining, which could put pressure on its profitability in the long term.\\n\\n# Nvidia\\n# Pros:\\n# - Nvidia is a leader in the graphics processing unit (GPU) market, which is a key component of many high-growth industries such as gaming, artificial intelligence, and self-driving cars.\\n# - Nvidia has a strong balance sheet with a lot of cash on hand.\\n# - Nvidia has a visionary CEO in Jensen Huang who has a track record of innovation and success.\\n# - Nvidia has a diverse product portfolio that includes GPUs, data center chips, and automotive chips.\\n\\n# Cons:\\n# - Nvidia faces increasing competition in the GPU market from established players such as Intel and AMD.\\n# - Nvidia's valuation is very high, which makes it vulnerable to a market downturn or a shift in investor sentiment.\\n# - Nvidia's growth is heavily dependent on the success of the industries it serves, which could be impacted by economic or technological factors.\\n# - Nvidia has faced regulatory scrutiny and legal challenges related to its acquisition of ARM Holdings and other issues.<|im_end|>\"\n",
      "}\n",
      "\u001b[36;1m\u001b[1;3m[chain/end]\u001b[0m \u001b[1m[1:chain:RetrievalQA > 3:chain:StuffDocumentsChain] [7.51s] Exiting Chain run with output:\n",
      "\u001b[0m{\n",
      "  \"output_text\": \"\\n\\n\\n\\n# Tesla\\n# Pros:\\n# - Tesla is a leader in the electric vehicle market, which is a rapidly growing industry.\\n# - Tesla has a strong brand and a loyal customer base.\\n# - Tesla has a strong balance sheet with a lot of cash on hand.\\n# - Tesla has a visionary CEO in Elon Musk who has a track record of innovation and success.\\n\\n# Cons:\\n# - Tesla faces increasing competition in the electric vehicle market from established automakers and new entrants.\\n# - Tesla's valuation is very high, which makes it vulnerable to a market downturn or a shift in investor sentiment.\\n# - Tesla has faced regulatory scrutiny and legal challenges related to its Autopilot system and other safety issues.\\n# - Tesla's gross margins have been declining, which could put pressure on its profitability in the long term.\\n\\n# Nvidia\\n# Pros:\\n# - Nvidia is a leader in the graphics processing unit (GPU) market, which is a key component of many high-growth industries such as gaming, artificial intelligence, and self-driving cars.\\n# - Nvidia has a strong balance sheet with a lot of cash on hand.\\n# - Nvidia has a visionary CEO in Jensen Huang who has a track record of innovation and success.\\n# - Nvidia has a diverse product portfolio that includes GPUs, data center chips, and automotive chips.\\n\\n# Cons:\\n# - Nvidia faces increasing competition in the GPU market from established players such as Intel and AMD.\\n# - Nvidia's valuation is very high, which makes it vulnerable to a market downturn or a shift in investor sentiment.\\n# - Nvidia's growth is heavily dependent on the success of the industries it serves, which could be impacted by economic or technological factors.\\n# - Nvidia has faced regulatory scrutiny and legal challenges related to its acquisition of ARM Holdings and other issues.<|im_end|>\"\n",
      "}\n",
      "\u001b[36;1m\u001b[1;3m[chain/end]\u001b[0m \u001b[1m[1:chain:RetrievalQA] [9.85s] Exiting Chain run with output:\n",
      "\u001b[0m[outputs]\n"
     ]
    }
   ],
   "source": [
    "query_result = qna_chain({\"query\": question})"
   ]
  },
  {
   "cell_type": "code",
   "execution_count": 44,
   "id": "221b85af",
   "metadata": {},
   "outputs": [
    {
     "data": {
      "text/plain": [
       "dict_keys(['query', 'result', 'source_documents'])"
      ]
     },
     "execution_count": 44,
     "metadata": {},
     "output_type": "execute_result"
    }
   ],
   "source": [
    "query_result.keys()"
   ]
  },
  {
   "cell_type": "code",
   "execution_count": 45,
   "id": "586bab93",
   "metadata": {},
   "outputs": [
    {
     "name": "stdout",
     "output_type": "stream",
     "text": [
      "\n",
      "\n",
      "\n",
      "\n",
      "# Tesla\n",
      "# Pros:\n",
      "# - Tesla is a leader in the electric vehicle market, which is a rapidly growing industry.\n",
      "# - Tesla has a strong brand and a loyal customer base.\n",
      "# - Tesla has a strong balance sheet with a lot of cash on hand.\n",
      "# - Tesla has a visionary CEO in Elon Musk who has a track record of innovation and success.\n",
      "\n",
      "# Cons:\n",
      "# - Tesla has a high valuation, which makes it vulnerable to market downturns.\n",
      "# - Tesla faces increasing competition from other automakers who are investing heavily in electric vehicles.\n",
      "# - Tesla has had some quality control issues in the past, which could hurt its reputation.\n",
      "# - Tesla is facing regulatory scrutiny over its Autopilot system, which could lead to increased costs and liability.\n",
      "\n",
      "# Nvidia\n",
      "# Pros:\n",
      "# - Nvidia is a leader in the graphics processing unit (GPU) market, which is a rapidly growing industry.\n",
      "# - Nvidia has a strong balance sheet with a lot of cash on hand.\n",
      "# - Nvidia has a strong brand and a loyal customer base.\n",
      "# - Nvidia is expanding into new markets such as artificial intelligence and self-driving cars.\n",
      "\n",
      "# Cons:\n",
      "# - Nvidia faces increasing competition from other chipmakers who are investing heavily in GPUs.\n",
      "# - Nvidia is vulnerable to market downturns due to its high valuation.\n",
      "# - Nvidia's growth is dependent on the success of new markets such as artificial intelligence and self-driving cars, which are still in the early stages of development.\n",
      "# - Nvidia's reliance on the gaming industry for a large portion of its revenue makes it vulnerable to changes in that industry.<|im_end|>\n"
     ]
    }
   ],
   "source": [
    "print(query_result['result'])"
   ]
  },
  {
   "cell_type": "code",
   "execution_count": 289,
   "id": "e6106a38",
   "metadata": {
    "scrolled": true
   },
   "outputs": [
    {
     "name": "stdout",
     "output_type": "stream",
     "text": [
      "{'source': '/Users/rachitjoshi/Documents/Finbot/notebooks/../data/pdfs/tesla_investorcom_1.pdf'}\n"
     ]
    }
   ],
   "source": [
    "print(query_result['source_documents'][0].metadata)"
   ]
  },
  {
   "cell_type": "code",
   "execution_count": 120,
   "id": "ce335a2c",
   "metadata": {},
   "outputs": [
    {
     "name": "stdout",
     "output_type": "stream",
     "text": [
      " Tesla stock is a high-risk, high-reward investment. The company has a history of volatility and is heavily dependent on the success of its electric vehicles. Nvidia stock is a more stable investment, with a strong track record of growth and a diversified business model. However, it is also subject to the cyclical nature of the semiconductor industry. Ultimately, the decision to invest in either stock will depend on your risk tolerance and investment goals. It is important to do your own research and consult with a financial advisor before making any investment decisions.<|im_end|>\n"
     ]
    }
   ],
   "source": [
    "print(query_result['result'])"
   ]
  },
  {
   "cell_type": "code",
   "execution_count": null,
   "id": "47eb4780",
   "metadata": {},
   "outputs": [],
   "source": []
  },
  {
   "cell_type": "code",
   "execution_count": null,
   "id": "e2b4ce1e",
   "metadata": {},
   "outputs": [],
   "source": []
  },
  {
   "cell_type": "code",
   "execution_count": 119,
   "id": "c852a31d",
   "metadata": {},
   "outputs": [
    {
     "data": {
      "text/plain": [
       "23866"
      ]
     },
     "execution_count": 119,
     "metadata": {},
     "output_type": "execute_result"
    }
   ],
   "source": [
    "source_doc_length = 0\n",
    "for doc in query_result['source_documents']:\n",
    "    source_doc_length += len(doc.page_content)\n",
    "source_doc_length    \n"
   ]
  },
  {
   "cell_type": "code",
   "execution_count": 120,
   "id": "57520699",
   "metadata": {},
   "outputs": [
    {
     "data": {
      "text/plain": [
       "'what are the pros and cons of tesla stock and nvidia stock?'"
      ]
     },
     "execution_count": 120,
     "metadata": {},
     "output_type": "execute_result"
    }
   ],
   "source": [
    "query_result['query']"
   ]
  },
  {
   "cell_type": "code",
   "execution_count": 123,
   "id": "76a7ab6e",
   "metadata": {
    "scrolled": true
   },
   "outputs": [
    {
     "name": "stdout",
     "output_type": "stream",
     "text": [
      "TECHNOLOGY\n",
      "\n",
      "Is Amazon Stock A Buy As It Restructures Workforce In Tough Times?\n",
      "\n",
      "BRIAN DEAGON 03:03 PM ET 04/14/2023\n",
      "\n",
      "F or years, Amazon seemed invincible, an e-commerce giant that made other\n",
      "\n",
      "companies shiver when it muscled into their markets. It helped Amazon stock soar\n",
      "\n",
      "into four-digit territory, and the company's earnings reports often delighted\n",
      "\n",
      "investors.\n",
      "\n",
      "Now, after a year of troubling earnings reports, Amazon has launched a major\n",
      "\n",
      "restructuring, including plans to cut 27,000 employees from its workforce. Is\n",
      "\n",
      "Amazon stock a buy?\n",
      "\n",
      "In late March, Amazon announced plans to slash 9,000 jobs. That's on top of the\n",
      "\n",
      "18,000 job cuts it announced in January.\n",
      "\n",
      "\"Given the uncertain economy in which we reside, and the uncertainty that exists in\n",
      "\n",
      "the near future, we have chosen to be more streamlined in our costs and head\n",
      "\n",
      "count,\" Amazon Chief Executive Andy Jassy said in a written notice to employees\n",
      "\n",
      "when the layoffs were announced. He also suggested more layoffs are possible. The\n",
      "\n",
      "cuts mainly focus on Amazon Web Services, advertising, Twitch, human resources\n",
      "\n",
      "and its stores divisions.\n",
      "\n",
      "Amazon Jumps Into Arti\u0000cial Intelligence\n",
      "\n",
      "On April 13, Amazon jumped into the booming \u0000eld of generative arti\u0000cial\n",
      "\n",
      "intelligence, the technology behind ChatGPT. Amazon stock climbed on the news,\n",
      "\n",
      "as did other AI companies.\n",
      "\n",
      "Alphabet and Microsoft (MSFT) previously announced plans to bring ChatGPT to\n",
      "\n",
      "the public. Meanwhile, Amazon's cloud computing unit, Amazon Web Services,\n",
      "\n",
      "plans to target corporate customers.\n",
      "\n",
      "AWS will also expand access to custom-made chips. They say the chips can run AI\n",
      "\n",
      "software more ef\u0000ciently and cheaper than competitors can.\n",
      "\n",
      "\"Machine learning has been a technology with high promise for several decades. But\n",
      "\n",
      "it's only been the last \u0000ve to 10 years that it's started to be used more pervasively\n",
      "\n",
      "by companies,\" Chief Executive Andy Jassy said in his letter to shareholders.\n",
      "\n",
      "Machine learning is a form of arti\u0000cial intelligence.\n",
      "\n",
      "Jassy went on to say: \"We will continue to invest substantially in these models\n",
      "\n",
      "across all of our consumer, seller, brand and creator experience.\"\n",
      "\n",
      "The three largest cloud computing companies, AWS, Microsoft and Google, have\n",
      "\n",
      "moved AI development to the top of their to-do list. Each is trying to capitalize on\n",
      "\n",
      "the booming interest in arti\u0000cial intelligence technology.\n",
      "\n",
      "A Heightened Focus On Cost Savings\n",
      "\n",
      "After the second round of job cuts, Arun Sundaram, senior equity analyst at CFRA,\n",
      "\n",
      "maintained a buy rating on Amazon stock.\n",
      "\n",
      "\"While some may view these job cuts as a sign of a gloomier macro outlook,\n",
      "\n",
      "especially as it relates to cloud computing and digital advertising, we believe\n",
      "\n",
      "investors will appreciate Amazon's heightened focus on cost savings and free cash\n",
      "\n",
      "\u0000ow,\" Sundaram wrote in a note to clients.\n",
      "\n",
      "The most recent layoff announcements, in March, came after Amazon announced\n",
      "\n",
      "fourth-quarter results on Feb. 2. The company beat on revenue but missed on\n",
      "\n",
      "earnings, as its typically strong cloud computing unit failed to rescue the e-\n",
      "\n",
      "commerce giant.\n",
      "\n",
      "The cloud unit showed that revenue decelerated. AWS sales jumped 20% to $21.4\n",
      "\n",
      "billion, but that was below expectations and a deceleration from 27% growth in the\n",
      "\n",
      "prior quarter\n",
      "\n",
      "Oppenheimer analyst Jason Helfstein said more cost-cutting efforts are needed.\n",
      "\n",
      "\"We believe more layoffs are necessary for e-commerce to become meaningfully\n",
      "\n",
      "pro\u0000table,\" he said in his note to clients.\n",
      "\n",
      "Amazon Continues Push Into Health Care\n",
      "\n",
      "In late February, Amazon completed its $3.9 billion acquisition of One Medical,\n",
      "\n",
      "giving it a primary health care provider with in-person and virtual treatment as well\n",
      "\n",
      "as lab tests and programs for preventive care.\n",
      "\n",
      "\"We're on a mission to make it dramatically easier for people to \u0000nd, choose, afford\n",
      "\n",
      "and engage with the services, products, and professionals they need to get and stay\n",
      "\n",
      "healthy,\" said Neil Lindsay, senior vice president of Amazon Health Services, in a\n",
      "\n",
      "written statement with the Amazon news release.\n",
      "\n",
      "Amazon has made several forays into the health care market. In 2018 Amazon paid\n",
      "\n",
      "about $1 billion to acquire PillPack. That gave Amazon the ability to ship\n",
      "\n",
      "prescriptions around the country, making it a direct threat to the more than $400\n",
      "\n",
      "billion pharmacy business.\n",
      "\n",
      "Amazon has long-held ambitions to greatly simplify how consumers receive health\n",
      "\n",
      "care, but it remains a lofty goal that has yet to emerge as a moneymaking venture.\n",
      "\n",
      "Technical Analysis Of Amazon Stock\n",
      "\n",
      "In the stock market, timing is critical. So when you're looking for stocks to buy or\n",
      "\n",
      "sell, it's important to do the fundamental and technical analysis that identi\u0000es\n",
      "\n",
      "lower-risk entry points that also offer solid potential rewards.\n",
      "\n",
      "The IBD Stock Checkup tool shows that Amazon stock has a weak IBD Composite\n",
      "\n",
      "Rating of 36 out of 99. When choosing growth stocks for the biggest potential,\n",
      "\n",
      "based on technical and fundamental criteria, try to focus on those with a\n",
      "\n",
      "Composite Rating of 90 or higher.\n",
      "\n",
      "Amazon's Relative Strength Rating now stands at 32 out of 99. Ideally, look for\n",
      "\n",
      "stocks with a rating of 80 or higher.\n",
      "\n",
      "Is Amazon Stock A Buy?\n",
      "\n",
      "AMZN is not a buy at this time. It's still in a long-term downtrend but has been\n",
      "\n",
      "recovering since it hit a low at the start of the year.\n",
      "\n",
      "AMZN stock is now forming a cup base with a 114.10 buy point, and the price\n",
      "\n",
      "action is so far pretty smooth.\n",
      "\n",
      "Even if Amazon breaks out, it has a mountain to climb back. Overhead supply could\n",
      "\n",
      "retard any advance AMZN tries in the next several months.\n",
      "\n",
      "The stock continues to hit resistance at the 200-day line, which has been a\n",
      "\n",
      "resistance level for about a year. Amazon is currently sitting on its 50-day line.\n",
      "\n",
      "Falling below that would be reason for caution. But holding above it and then\n",
      "\n",
      "piercing through the 200-day line and holding would be a positive sign.\n",
      "\n",
      "Recognizing stock chart patterns is one key to the investment guidelines. IBD offers\n",
      "\n",
      "a broad range of growth stock lists, such as Leaderboard and SwingTrader.\n",
      "\n",
      "Investors also can create watchlists, \u0000nd companies nearing a buy point, or develop\n",
      "\n",
      "custom screens at IBD MarketSmith.\n",
      "\n",
      "If you're interested in buying large-cap stocks, in these articles you'll \u0000nd technical\n",
      "\n",
      "analysis of leading large caps to see if they are in or near a proper buy zone.\n",
      "\n",
      "Please follow Brian Deagon on Twitter at @IBD_BDeagon for more on tech stocks,\n",
      "\n",
      "analysis and \u0000nancial markets.\n",
      "\n",
      "YOU MIGHT ALSO LIKE:\n",
      "\n",
      "Amazon Makes Its Swan Dive Into ChatGPT Arti\u0000cial Intelligence Pool\n",
      "\n",
      "No Silver Lining In Amazon's Cloud Business As Results Fail To Excite\n",
      "\n",
      "Amazon's Alexa Smart Speaker Blazed A Trail, Then Burned Out\n",
      "\n",
      "Looking For Market Insights? Check Out Our IBD Live Daily Segment\n",
      "\n",
      "Join IBD Live Each Morning For Stock Tips Before The Open\n",
      "\n",
      "NEWS\n",
      "\n",
      "Nvidia More Than Triples In 2023 On AI Boost — Is It A Buy?\n",
      "\n",
      "APARNA NARAYANAN 03:25 PM ET 08/04/2023\n",
      "\n",
      "N vidia (NVDA), a giant in data centers and gaming, continues to sizzle. The\n",
      "\n",
      "chip giant is seen as one of the biggest winners of the AI boom. Is Nvidia stock a buy\n",
      "\n",
      "right now, with earnings due?\n",
      "\n",
      "Semiconductor, AI News\n",
      "\n",
      "In May, Nvidia Chief Executive Jensen Huang announced a new supercomputer,\n",
      "\n",
      "software and services for generative AI (arti\u0000cial intelligence). Generative AI can\n",
      "\n",
      "create content, including written articles, from simple descriptive phrases by\n",
      "\n",
      "analyzing and digesting vast amounts of data. It can also write computer\n",
      "\n",
      "programming code.\n",
      "\n",
      "For its latest quarter, graphics-chip maker Nvidia crushed Wall Street's targets on\n",
      "\n",
      "record data-center sales. Production is ramping up to meet huge demand for AI\n",
      "\n",
      "technology, CEO Huang said.\n",
      "\n",
      "Nvidia is a leader in AI chips. In the tech industry's \u0000erce battle for AI dominance,\n",
      "\n",
      "the advanced chips needed for generative AI, such as the ChatGPT chatbot, are key.\n",
      "\n",
      "For those looking for top large-cap stocks to buy now, here's a dive into NVDA\n",
      "\n",
      "stock.\n",
      "\n",
      "Nvidia Stock Technical Analysis\n",
      "\n",
      "Nvidia rebounded Aug. 3 after three down days, technically regaining a 439.90 buy\n",
      "\n",
      "point. Shares edged higher on Aug. 4. The latest entry from a three-weeks-tight\n",
      "\n",
      "pattern offered a place for existing investors to add a few more shares. The buy\n",
      "\n",
      "range goes to 461.90, the IBD Leaderboard stock analysis shows.\n",
      "\n",
      "But with the market rally shifting to under pressure, investors may want to wait to\n",
      "\n",
      "see if Nvidia can \u0000nd support at the 50-day/10-week line for the \u0000rst time since\n",
      "\n",
      "early January.\n",
      "\n",
      "A rebound from those levels would offer a buying opportunity. But shares aren't\n",
      "\n",
      "there yet.\n",
      "\n",
      "A further pullback also could be part of a full-\u0000edged base.\n",
      "\n",
      "Shares still aren't far from the 52-week high, set on July 14.\n",
      "\n",
      "NVDA joined the prestigious IBD Leaderboard in February on an earnings gap-up. It\n",
      "\n",
      "surged again in May on blowout earnings and strong guidance.\n",
      "\n",
      "Year to date, Nvidia stock has skyrocketed 206%, after crashing in 2022.\n",
      "\n",
      "The relative strength line is \u0000attening out a bit after a strong rally, the IBD\n",
      "\n",
      "MarketSmith charts show. A rising RS line means that a stock is outperforming the\n",
      "\n",
      "S&P 500. It is the blue line in the chart shown.\n",
      "\n",
      "NVDA earns an IBD Composite Rating of 97, out of a best-possible 99. In other\n",
      "\n",
      "words, Nvidia stock is in the top 3% of all stocks in terms of technical and\n",
      "\n",
      "fundamental metrics.\n",
      "\n",
      "NVIDIA (NVDA)\n",
      "\n",
      "$454.17 7.37 1.65%\n",
      "\n",
      "Dec 20\n",
      "\n",
      "Mar 21\n",
      "\n",
      "Jun 21\n",
      "\n",
      "Sep 21\n",
      "\n",
      "Dec 21\n",
      "\n",
      "Mar 22\n",
      "\n",
      "Jun 22\n",
      "\n",
      "Sep 22\n",
      "\n",
      "Dec 22\n",
      "\n",
      "Mar 23\n",
      "\n",
      "Ju\n",
      "\n",
      "08/07/2023 (Market Close)\n",
      "\n",
      "Investors generally should focus on stocks with Comp Ratings of 90 or even 95 and\n",
      "\n",
      "above. Nvidia stock often earns a spot on the IBD 50, Big Cap 20 and Sector\n",
      "\n",
      "Leaders lists.\n",
      "\n",
      "The IBD Stock Checkup tool shows that NVDA carries a Relative Strength Rating\n",
      "\n",
      "of 99. That means it has outperformed 99% of all other stocks over the past year.\n",
      "\n",
      "The iShares PHLX Semiconductor ETF (SOXX) holds both Nvidia stock and AMD\n",
      "\n",
      "stock.\n",
      "\n",
      "IBD Live: A New Tool For Daily Stock Market Analysis\n",
      "\n",
      "Nvidia Earnings\n",
      "\n",
      "Nvidia's EPS Rating is 68 out of 99 and its SMR Rating is a B, on a scale of A to a\n",
      "\n",
      "worst E. The EPS rating compares a company's earnings growth to other stocks. Its\n",
      "\n",
      "SMR Rating gauges sales growth, pro\u0000t margins and return on equity.\n",
      "\n",
      "On May 24, the chip giant delivered a big beat-and-raise report. The Nvidia\n",
      "\n",
      "earnings report included a bullish, AI-fueled sales forecast.\n",
      "\n",
      "The Santa Clara, Calif.-based company earned $1.09 a share on sales of $7.19 billion\n",
      "\n",
      "in the quarter ended April 30. Year over year, Nvidia earnings dropped 20% while\n",
      "\n",
      "sales fell 13%. But the results easily outpaced Wall Street's expectations.\n",
      "\n",
      "In Q1, data-center sales rose 14% to $4.28 billion. Gaming-chip sales fell 38% to\n",
      "\n",
      "$2.24 billion.\n",
      "\n",
      "Analysts expect Nvidia earnings per share to rebound 138% in \u0000scal 2024, on a 61%\n",
      "\n",
      "sales gain. Last year, Nvidia earnings fell 25%.\n",
      "\n",
      "Its next quarterly report is expected on Aug. 23.\n",
      "\n",
      "Out of 50 analysts covering NVDA stock, 43 rate it a buy. Six have a hold and one\n",
      "\n",
      "has a sell, according to FactSet.\n",
      "\n",
      "Looking For The Next Big Stock Market Winners? Start With These 3 Steps\n",
      "\n",
      "NVDA Backstory, Rivals\n",
      "\n",
      "The fabless chipmaker pioneered graphics processing units, or GPUs, to make video\n",
      "\n",
      "games more realistic. It's expanding in AI chips, used in supercomputers, data\n",
      "\n",
      "centers and drug development.\n",
      "\n",
      "Nvidia's GPUs act as accelerators for central processing units, or CPUs, made by\n",
      "\n",
      "other companies. It's working on \"supercomputers\" combining its own CPUs and\n",
      "\n",
      "GPUs.\n",
      "\n",
      "In addition, Nvidia chips are used for Bitcoin mining and self-driving electric cars.\n",
      "\n",
      "Nvidia has made a big push into metaverse applications.\n",
      "\n",
      "Fabless chip stocks include Qualcomm (QCOM), Broadcom (AVGO) and Monolithic\n",
      "\n",
      "Power Systems (MPWR).\n",
      "\n",
      "Currently, the fabless group ranks No. 2 out of 197 industry groups. Fabless\n",
      "\n",
      "companies design the hardware while outsourcing the manufacturing to a third-\n",
      "\n",
      "party \u0000rm.\n",
      "\n",
      "For the best returns, investors should focus on companies that are leading the\n",
      "\n",
      "market and their own industry group.\n",
      "\n",
      "Is Nvidia Stock A Buy?\n",
      "\n",
      "On a fundamental level, Nvidia earnings are expected to return to growth. They\n"
     ]
    }
   ],
   "source": [
    "print(query_result['source_documents'][1].page_content)"
   ]
  },
  {
   "cell_type": "code",
   "execution_count": 122,
   "id": "9f57f0fe",
   "metadata": {},
   "outputs": [
    {
     "data": {
      "text/plain": [
       "\" \\nTesla stock has been a monster stock over much of its history, especially during its stratospheric run from mid-2019 to late 2021. The stock hit a bear market low of 101.84 on Jan. 6, but roared back until Q1 earnings. Nvidia is seen as one of the biggest winners of the AI boom. Nvidia stock has skyrocketed 206% year to date, after crashing in 2022. Nvidia is a leader in AI chips. In the tech industry's fierce battle for AI dominance, the advanced chips needed for generative AI, such as the ChatGPT chatbot, are key. However, Nvidia stock is not a buy at this time. It's still in a long-term downtrend but has been recovering since it hit a low at the start of the year. Nvidia stock is now forming a cup base with a 114.10 buy point, and the price action is so far pretty smooth. Even if Nvidia breaks out, it has a mountain to climb back. Overhead supply could retard any advance Nvidia tries in the next several months. Tesla stock is greatly extended from a cup base with a 207.79 buy point. Shares have climbed 118% so far in 2023,\""
      ]
     },
     "execution_count": 122,
     "metadata": {},
     "output_type": "execute_result"
    }
   ],
   "source": [
    "query_result['result']"
   ]
  },
  {
   "cell_type": "code",
   "execution_count": 70,
   "id": "38ffcf31",
   "metadata": {},
   "outputs": [
    {
     "data": {
      "text/plain": [
       "{'source': '/Users/rachitjoshi/Documents/Finbot/notebooks/../data/pdfs_processed/merged/investorcom_merged.pdf'}"
      ]
     },
     "execution_count": 70,
     "metadata": {},
     "output_type": "execute_result"
    }
   ],
   "source": [
    "query_result['source_documents'][0].metadata"
   ]
  },
  {
   "cell_type": "code",
   "execution_count": 71,
   "id": "a559ed45",
   "metadata": {},
   "outputs": [
    {
     "data": {
      "text/plain": [
       "11929"
      ]
     },
     "execution_count": 71,
     "metadata": {},
     "output_type": "execute_result"
    }
   ],
   "source": [
    "len(query_result['source_documents'][0].page_content)"
   ]
  },
  {
   "cell_type": "code",
   "execution_count": null,
   "id": "6392ee9a",
   "metadata": {},
   "outputs": [],
   "source": [
    "########"
   ]
  },
  {
   "cell_type": "code",
   "execution_count": null,
   "id": "d014231a",
   "metadata": {},
   "outputs": [],
   "source": [
    "qna_chain = RetrievalQA.from_chain_type(\n",
    "    base_llm, \n",
    "    retriever=vectorstore.as_retriever(\n",
    "        search_type=search_type, search_kwargs=retrieval_kwargs\n",
    "    )\n",
    ")"
   ]
  }
 ],
 "metadata": {
  "kernelspec": {
   "display_name": "finbot",
   "language": "python",
   "name": "finbot"
  },
  "language_info": {
   "codemirror_mode": {
    "name": "ipython",
    "version": 3
   },
   "file_extension": ".py",
   "mimetype": "text/x-python",
   "name": "python",
   "nbconvert_exporter": "python",
   "pygments_lexer": "ipython3",
   "version": "3.9.6"
  }
 },
 "nbformat": 4,
 "nbformat_minor": 5
}
