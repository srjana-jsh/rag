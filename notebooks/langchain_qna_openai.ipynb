{
 "cells": [
  {
   "cell_type": "markdown",
   "id": "cc2732d0",
   "metadata": {},
   "source": [
    "### Pipeline for QnA using Langchain"
   ]
  },
  {
   "cell_type": "code",
   "execution_count": 1,
   "id": "591866e7",
   "metadata": {},
   "outputs": [],
   "source": [
    "####Notes####"
   ]
  },
  {
   "cell_type": "code",
   "execution_count": 2,
   "id": "0b44b03c",
   "metadata": {},
   "outputs": [],
   "source": [
    "# !pip3 install langchain\n",
    "# !pip install openai\n",
    "# !pip3 install openai chromadb\n",
    "# !pip3 install tiktoken"
   ]
  },
  {
   "cell_type": "code",
   "execution_count": 3,
   "id": "1e3b368d",
   "metadata": {},
   "outputs": [],
   "source": [
    "# !pip3 install unstructured\n",
    "# !pip3 install pdf2image\n",
    "# !pip3 install pdfminer\n",
    "# !pip3 install pdfminer.six\n",
    "# !pip3 install pymupdf "
   ]
  },
  {
   "cell_type": "code",
   "execution_count": 1,
   "id": "65d86529",
   "metadata": {},
   "outputs": [
    {
     "data": {
      "text/plain": [
       "<module 'langchain_qna' from '/Users/rachitjoshi/Documents/Finbot/notebooks/../scripts/langchain_qna.py'>"
      ]
     },
     "execution_count": 1,
     "metadata": {},
     "output_type": "execute_result"
    }
   ],
   "source": [
    "import os\n",
    "import sys\n",
    "import glob\n",
    "import re\n",
    "import importlib\n",
    "from langchain.text_splitter import RecursiveCharacterTextSplitter\n",
    "from langchain.embeddings import OpenAIEmbeddings\n",
    "sys.path.append(os.path.join(os.getcwd(), '../scripts'))\n",
    "import langchain_qna as lc_qna\n",
    "importlib.reload(lc_qna)"
   ]
  },
  {
   "cell_type": "markdown",
   "id": "a7269850",
   "metadata": {},
   "source": [
    "#### Environment"
   ]
  },
  {
   "cell_type": "code",
   "execution_count": 2,
   "id": "7143a70d",
   "metadata": {},
   "outputs": [],
   "source": [
    "os.environ[\"OPENAI_API_KEY\"] = \"\""
   ]
  },
  {
   "cell_type": "code",
   "execution_count": 3,
   "id": "797152d8",
   "metadata": {},
   "outputs": [],
   "source": [
    "os.environ[\"OPENAI_API_TYPE\"] = \"openai\""
   ]
  },
  {
   "cell_type": "markdown",
   "id": "ddeb387c",
   "metadata": {},
   "source": [
    "#### Parameters"
   ]
  },
  {
   "cell_type": "code",
   "execution_count": 8,
   "id": "689055b3",
   "metadata": {},
   "outputs": [],
   "source": [
    "chunking_interface = RecursiveCharacterTextSplitter\n",
    "embedding_model = OpenAIEmbeddings\n",
    "pdf_list = [\n",
    "    _ for _ in glob.glob(\n",
    "        os.path.join(os.path.join(os.getcwd(), '../data/pdfs'), '*.pdf')\n",
    "    ) if 'investorcom' in _\n",
    "]\n",
    "web_list = []\n",
    "chunk_size = 2000\n",
    "chunk_overlap = 0\n",
    "vectorstore_engine = None\n",
    "llm_model = 'gpt-3.5-turbo'\n",
    "llm_engine = None\n",
    "temperature = 0\n",
    "search_type = 'mmr'\n",
    "retrieval_kwargs = {'k': 6, 'lambda_mult': 0.5}"
   ]
  },
  {
   "cell_type": "markdown",
   "id": "a9959db6",
   "metadata": {},
   "source": [
    "#### QnA Chain "
   ]
  },
  {
   "cell_type": "code",
   "execution_count": 9,
   "id": "5a8911e7",
   "metadata": {},
   "outputs": [],
   "source": [
    "langchain_qna = lc_qna.LangchainQnA(chunking_interface, embedding_model)"
   ]
  },
  {
   "cell_type": "code",
   "execution_count": 10,
   "id": "1bc26171",
   "metadata": {},
   "outputs": [],
   "source": [
    "qna_chain = langchain_qna.main_function(\n",
    "    pdf_list, web_list, chunk_size, chunk_overlap, vectorstore_engine,\n",
    "    llm_model, llm_engine, temperature, search_type, **retrieval_kwargs\n",
    ")"
   ]
  },
  {
   "cell_type": "markdown",
   "id": "1f596b17",
   "metadata": {},
   "source": [
    "#### QnA (using Chain)"
   ]
  },
  {
   "cell_type": "code",
   "execution_count": 15,
   "id": "e5e18a0a",
   "metadata": {},
   "outputs": [
    {
     "name": "stdout",
     "output_type": "stream",
     "text": [
      "Based on the provided content, it appears that Meta stock has been performing well and has rallied strongly in 2023. The company has beaten earnings estimates and has a positive sales outlook. Additionally, Meta is hosting a conference to reveal more about its AI and metaverse initiatives, which could be a potential catalyst for the stock. On the other hand, Amazon has been going through a major restructuring and has announced plans to cut jobs. While Amazon has made moves in the field of artificial intelligence, its stock has a weak IBD Composite Rating. Ultimately, the decision to buy either stock should be based on your own research and investment strategy.\n"
     ]
    }
   ],
   "source": [
    "question = 'Based on the provided content, should I consider buying amazon stock or meta stock?'\n",
    "answer = qna_chain({\"query\": question})\n",
    "print(answer['result'])"
   ]
  },
  {
   "cell_type": "code",
   "execution_count": 13,
   "id": "d014231a",
   "metadata": {},
   "outputs": [
    {
     "name": "stdout",
     "output_type": "stream",
     "text": [
      "Pros of investing in Nvidia stock:\n",
      "1. Strong growth potential: Nvidia is a leading chipmaker with exposure to top-end markets, such as data centers, artificial intelligence, and automated electric cars. The company's earnings are expected to more than double this fiscal year, driven by booming chip sales.\n",
      "2. Diversification: Investing in Nvidia provides exposure to the semiconductor industry, which is a crucial component of various technological advancements and innovations.\n",
      "3. Expansion into new markets: Nvidia is expanding its presence in areas like metaverse applications and cryptocurrencies, which could further stoke demand for its chips.\n",
      "4. Positive analyst sentiment: Many analysts rate Nvidia stock as a buy, highlighting its growth prospects and market leadership.\n",
      "\n",
      "Cons of investing in Nvidia stock:\n",
      "1. Macroeconomic uncertainties: The risk of a global recession and other macroeconomic factors could impact Nvidia's business and financial performance.\n",
      "2. Market volatility: The stock has already experienced significant growth, and there is a possibility of a pullback or pause in the market rally, which could affect Nvidia's stock price.\n",
      "3. Competition: Nvidia faces competition from other chipmakers in the industry, such as Qualcomm and Broadcom, which could impact its market share and profitability.\n",
      "\n",
      "Pros of investing in Tesla stock:\n",
      "1. Disruptive technology: Tesla is a global leader in electric vehicles and has played a significant role in revolutionizing the auto industry. The company's focus on autonomous vehicle technology and the Cybertruck offers long-term growth potential.\n",
      "2. Strong brand and market position: Tesla has established itself as a dominant player in the electric vehicle market, with a strong brand and loyal customer base.\n",
      "3. Innovation and future growth potential: Tesla's CEO, Elon Musk, is known for his ambitious vision and focus on technological advancements. The company's investments in areas like autonomy and renewable energy contribute to its growth potential.\n",
      "4. Positive financial performance: Tesla has reported strong revenue growth and improved profitability in recent quarters, which has been well-received by investors.\n",
      "\n",
      "Cons of investing in Tesla stock:\n",
      "1. Valuation concerns: Tesla's stock price has experienced significant growth, leading to concerns about its valuation being overinflated.\n",
      "2. Regulatory and legal challenges: Tesla has faced scrutiny and investigations related to Autopilot safety and false advertising complaints, which could impact its reputation and business operations.\n",
      "3. Volatility: Tesla's stock price has been known to be highly volatile, which can lead to significant fluctuations and uncertainty for investors.\n",
      "4. Competition: The electric vehicle market is becoming increasingly competitive, with traditional automakers and other tech companies entering the space. This could impact Tesla's market share and profitability.\n"
     ]
    }
   ],
   "source": [
    "question = 'What are the pros and cons of investing in nvidia stock versus tesla stock?'\n",
    "answer = qna_chain({\"query\": question})\n",
    "print(answer['result'])"
   ]
  },
  {
   "cell_type": "code",
   "execution_count": null,
   "id": "d2d5a2b4",
   "metadata": {},
   "outputs": [],
   "source": []
  }
 ],
 "metadata": {
  "kernelspec": {
   "display_name": "Python 3 (ipykernel)",
   "language": "python",
   "name": "python3"
  },
  "language_info": {
   "codemirror_mode": {
    "name": "ipython",
    "version": 3
   },
   "file_extension": ".py",
   "mimetype": "text/x-python",
   "name": "python",
   "nbconvert_exporter": "python",
   "pygments_lexer": "ipython3",
   "version": "3.9.6"
  }
 },
 "nbformat": 4,
 "nbformat_minor": 5
}
