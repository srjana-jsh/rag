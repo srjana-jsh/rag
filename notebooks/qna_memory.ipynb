{
 "cells": [
  {
   "cell_type": "markdown",
   "id": "cc2732d0",
   "metadata": {},
   "source": [
    "### Pipeline for QnA with Memory"
   ]
  },
  {
   "cell_type": "code",
   "execution_count": 61,
   "id": "591866e7",
   "metadata": {},
   "outputs": [],
   "source": [
    "####Notes####\n",
    "# chunked data length can be atmost 16 for azureopenai"
   ]
  },
  {
   "cell_type": "code",
   "execution_count": 62,
   "id": "0b44b03c",
   "metadata": {},
   "outputs": [],
   "source": [
    "# !pip3 install langchain\n",
    "# !pip install openai\n",
    "# !pip3 install openai chromadb\n",
    "# !pip3 install tiktoken"
   ]
  },
  {
   "cell_type": "code",
   "execution_count": 63,
   "id": "1e3b368d",
   "metadata": {},
   "outputs": [],
   "source": [
    "# !pip3 install unstructured\n",
    "# !pip3 install pdf2image\n",
    "# !pip3 install pdfminer\n",
    "# !pip3 install pdfminer.six\n",
    "# !pip3 install pymupdf "
   ]
  },
  {
   "cell_type": "code",
   "execution_count": 64,
   "id": "65d86529",
   "metadata": {},
   "outputs": [
    {
     "data": {
      "text/plain": [
       "<module 'constants' from '/Users/rachitjoshi/Documents/Finbot/notebooks/../scripts/constants.py'>"
      ]
     },
     "execution_count": 64,
     "metadata": {},
     "output_type": "execute_result"
    }
   ],
   "source": [
    "import os\n",
    "import sys\n",
    "import glob\n",
    "import re\n",
    "import importlib\n",
    "import langchain\n",
    "from langchain.document_loaders import WebBaseLoader, UnstructuredPDFLoader, PyMuPDFLoader\n",
    "from langchain.text_splitter import RecursiveCharacterTextSplitter\n",
    "from langchain.indexes import VectorstoreIndexCreator\n",
    "from langchain.embeddings import OpenAIEmbeddings\n",
    "from langchain.vectorstores import Chroma\n",
    "from langchain.chains import RetrievalQA\n",
    "from langchain.llms import AzureOpenAI\n",
    "from langchain.prompts import PromptTemplate\n",
    "sys.path.append(os.path.join(os.getcwd(), '../scripts'))\n",
    "import qna_memory_jn as qna_m\n",
    "import constants as c\n",
    "importlib.reload(qna_m)\n",
    "importlib.reload(c)"
   ]
  },
  {
   "cell_type": "markdown",
   "id": "a7269850",
   "metadata": {},
   "source": [
    "#### Environment"
   ]
  },
  {
   "cell_type": "code",
   "execution_count": 65,
   "id": "797152d8",
   "metadata": {},
   "outputs": [],
   "source": [
    "os.environ[\"OPENAI_API_KEY\"] = \"6cdb659e5a9d402e80c212fe8ea26483\""
   ]
  },
  {
   "cell_type": "code",
   "execution_count": 66,
   "id": "1f1d835b",
   "metadata": {},
   "outputs": [],
   "source": [
    "os.environ[\"OPENAI_API_TYPE\"] = \"azure\"\n",
    "os.environ[\"OPENAI_API_VERSION\"] = \"2023-03-15-preview\"\n",
    "os.environ[\"OPENAI_API_BASE\"] = \"https://test-chatgpt-flomoney.openai.azure.com/\"\n",
    "os.environ[\"OPENAI_API_KEY\"] = os.getenv(\"OPENAI_API_KEY\")"
   ]
  },
  {
   "cell_type": "markdown",
   "id": "ddeb387c",
   "metadata": {},
   "source": [
    "#### Parameters"
   ]
  },
  {
   "cell_type": "code",
   "execution_count": 67,
   "id": "689055b3",
   "metadata": {},
   "outputs": [],
   "source": [
    "save_folder = '../data/pdfs/'\n",
    "qna_prompt_template = os.path.join(os.getcwd(), '../scripts/qna_prompt_template.txt')\n",
    "# prompt_template_file = None\n",
    "condense_question_template = os.path.join(os.getcwd(), '../scripts/condense_question_template.txt')\n",
    "# condense_question_template = None\n",
    "pdf_list = [\n",
    "    _ for _ in glob.glob(os.path.join(os.getcwd(), save_folder, '*.pdf'))\n",
    "]\n",
    "web_list = []"
   ]
  },
  {
   "cell_type": "markdown",
   "id": "a9959db6",
   "metadata": {},
   "source": [
    "#### QnA Chain "
   ]
  },
  {
   "cell_type": "code",
   "execution_count": 68,
   "id": "5a8911e7",
   "metadata": {},
   "outputs": [],
   "source": [
    "langchain_qna = qna_m.LangchainQnA(c.chunking_interface, c.embedding_model)"
   ]
  },
  {
   "cell_type": "code",
   "execution_count": 69,
   "id": "1bc26171",
   "metadata": {},
   "outputs": [],
   "source": [
    "qna_chain = langchain_qna.main_function(\n",
    "    pdf_list, web_list, qna_prompt_template, condense_question_template\n",
    ")"
   ]
  },
  {
   "cell_type": "markdown",
   "id": "1f596b17",
   "metadata": {},
   "source": [
    "#### QnA (using Chain)"
   ]
  },
  {
   "cell_type": "code",
   "execution_count": 72,
   "id": "b61dc6a9",
   "metadata": {},
   "outputs": [
    {
     "name": "stdout",
     "output_type": "stream",
     "text": [
      "\u001b[32;1m\u001b[1;3m[chain/start]\u001b[0m \u001b[1m[1:chain:ConversationalRetrievalChain] Entering Chain run with input:\n",
      "\u001b[0m[inputs]\n",
      "\u001b[32;1m\u001b[1;3m[chain/start]\u001b[0m \u001b[1m[1:chain:ConversationalRetrievalChain > 2:chain:LLMChain] Entering Chain run with input:\n",
      "\u001b[0m{\n",
      "  \"question\": \"Does Nvidia paln to make cars\",\n",
      "  \"chat_history\": \"\\nHuman: Ok thank you\\nAssistant:  You're welcome. Have a great day!\\n<|im_end|>\"\n",
      "}\n",
      "\u001b[32;1m\u001b[1;3m[llm/start]\u001b[0m \u001b[1m[1:chain:ConversationalRetrievalChain > 2:chain:LLMChain > 3:llm:AzureOpenAI] Entering LLM run with input:\n",
      "\u001b[0m{\n",
      "  \"prompts\": [\n",
      "    \"Given the following conversation and a follow up question, rephrase the follow up question to be a standalone question, in its original language.\\n\\nChat History:\\n\\nHuman: Ok thank you\\nAssistant:  You're welcome. Have a great day!\\n<|im_end|>\\nFollow Up Input: Does Nvidia paln to make cars\\nStandalone question:\"\n",
      "  ]\n",
      "}\n",
      "\u001b[36;1m\u001b[1;3m[llm/end]\u001b[0m \u001b[1m[1:chain:ConversationalRetrievalChain > 2:chain:LLMChain > 3:llm:AzureOpenAI] [335ms] Exiting LLM run with output:\n",
      "\u001b[0m{\n",
      "  \"generations\": [\n",
      "    [\n",
      "      {\n",
      "        \"text\": \"<|im_end|>\",\n",
      "        \"generation_info\": {\n",
      "          \"finish_reason\": \"stop\",\n",
      "          \"logprobs\": null\n",
      "        }\n",
      "      }\n",
      "    ]\n",
      "  ],\n",
      "  \"llm_output\": {\n",
      "    \"token_usage\": {\n",
      "      \"prompt_tokens\": 66,\n",
      "      \"completion_tokens\": 1,\n",
      "      \"total_tokens\": 67\n",
      "    },\n",
      "    \"model_name\": \"text-davinci-002\"\n",
      "  },\n",
      "  \"run\": null\n",
      "}\n",
      "\u001b[36;1m\u001b[1;3m[chain/end]\u001b[0m \u001b[1m[1:chain:ConversationalRetrievalChain > 2:chain:LLMChain] [336ms] Exiting Chain run with output:\n",
      "\u001b[0m{\n",
      "  \"text\": \"<|im_end|>\"\n",
      "}\n",
      "\u001b[32;1m\u001b[1;3m[chain/start]\u001b[0m \u001b[1m[1:chain:ConversationalRetrievalChain > 5:chain:StuffDocumentsChain] Entering Chain run with input:\n",
      "\u001b[0m[inputs]\n",
      "\u001b[32;1m\u001b[1;3m[chain/start]\u001b[0m \u001b[1m[1:chain:ConversationalRetrievalChain > 5:chain:StuffDocumentsChain > 6:chain:LLMChain] Entering Chain run with input:\n",
      "\u001b[0m{\n",
      "  \"question\": \"<|im_end|>\",\n",
      "  \"context\": \"FOR PUBLIC DISTRIBUTION IN THE U.S., CANADA, LATIN AMERICA, HONG KONG, SINGAPORE AND AUSTRALIA. FOR INSTITUTIONAL, PROFESSIONAL, QUALIFIED INVESTORS AND QUALIFIED CLIENTS IN OTHER PERMITTED COUNTRIES. FOR PUBLIC DISTRIBUTION IN THE U.S., HONG KONG, SINGAPORE AND AUSTRALIA. FOR INSTITUTIONAL, PROFESSIONAL, QUALIFIED INVESTORS AND QUALIFIED CLIENTS IN OTHER PERMITTED COUNTRIES.\\n\\nWeekly commentary\\n\\nJuly 17, 2023\\n\\nApplying our playbook to EM • We favor emerging market (EM) to developed market (DM) assets on a brighter macro backdrop. We get granular and harness mega forces, per our playbook.\\n\\nWei Li\\n\\nGlobal Chief Investment Strategist – BlackRock Investment Institute\\n\\nU.S. bond yields slumped last week on softer CPI inflation data. We think still-\\n\\ntight labor markets will compel the Federal Reserve to hold policy tight.\\n\\nAlex Brazier\\n\\nWe look to this week’s U.S. data for more signs higher policy rates are cooling\\n\\nDeputy Head – BlackRock Investment Institute\\n\\nproduction and spending. We see policy staying tight even as activity weakens.\\n\\nWe tapped into what’s proved a stealth rally in EM stocks and bonds, along with the DM stock gains this year. We still think EM assets have an edge over developed market (DM) peers in the first layer of our new playbook, the macro assessment. Inflation is cooling enough in key EMs to allow policy rate cuts. We get granular in our playbook’s second layer to find countries and sectors we like. Our third layer harnesses mega forces to capture structural shifts within EMs.\\n\\nAxel Christensen\\n\\nChief Investment Strategist for Latin America — BlackRock Investment Institute\\n\\nMichel Dilmanian\\n\\nEmerging market edge Emerging market bond vs. U.S. Treasury yields, 2005-2023\\n\\nInvestment Strategist – BlackRock Investment Institute\\n\\nEM hard currency\\n\\n12%\\n\\nEM local currency\\n\\n10%\\n\\nU.S. five-year Treasury\\n\\n8%\\n\\nd l e i Y\\n\\n6%\\n\\n4%\\n\\n2%\\n\\n0%\\n\\n2005 2007 2009 2011 2013 2015 2017 2019 2021 2023\\n\\nSource: BlackRock Investment Institute, with data from Refinitiv Datastream, July 2023. Notes: The chart shows yield levels for the JP Morgan Emerging Market Bond Index Global Diversified (EM hard currency), JP Morgan GBI-Emerging Market Bond Index Global Diversified and the benchmark U.S. five-year Treasury.\\n\\nVisit BlackRock Investment\\n\\nInstitute for insights on the global economy, markets\\n\\nWe’ve preferred EM debt to DM long-term peers for some time. We went tactically overweight EM local currency debt in March, picking up higher yields for carry and benefiting from a broadly weaker U.S. dollar plus tightening spreads this year (yellow line in chart). Higher EM yields remain attractive, but tightening spreads with Treasuries (pink line) lead us to consider switching to hard currency peers typically issued in U.S. dollars (orange line). But peaking DM policy rates should support EM currencies, bolstering EM local debt for now. DM rate hikes have hit EM hard in the past, but we think they’re in a different spot now thanks to improved external balance sheets. We think that’s why we’re not seeing the EM asset volatility as in the 2013 taper tantrum. The Fed’s plan to taper bond purchases then sparked sharp EM capital outflows and currency depreciation. It’s the opposite now: capital inflows and stronger currencies are boosting returns in EM local currency bonds.\\n\\nand geopolitics.\\n\\nBIIM0723U/M-3004416-1/6\\n\\nFOR PUBLIC DISTRIBUTION IN THE U.S., CANADA, LATIN AMERICA, HONG KONG, SINGAPORE AND AUSTRALIA. FOR INSTITUTIONAL, PROFESSIONAL, QUALIFIED INVESTORS AND QUALIFIED CLIENTS IN OTHER PERMITTED COUNTRIES.\\n\\nFOR PUBLIC DISTRIBUTION IN THE U.S., HONG KONG, SINGAPORE AND AUSTRALIA. FOR INSTITUTIONAL, PROFESSIONAL, QUALIFIED INVESTORS AND QUALIFIED CLIENTS IN OTHER PERMITTED COUNTRIES.\\n\\nA brighter EM macro and policy picture may also be underappreciated, in our view. DM central banks inching toward the end of rapid hikes is good for EMs – but a key difference is we think EM peers are closer to rate cuts as inflation falls. EM central banks were well ahead of DM peers in hiking – and some have hiked much more to bring inflation down quickly. Take Brazil: Policy rates have risen to just under 14% from 2% in 2021. When it comes to EM investing this year, much focus has been on China’s economy losing steam. But outside China, EM equities have staged a stealth rally with double-digit gains across Latin America and other parts of Asia. We see more upside there and more attractive valuations relative to DM economies as the policy picture and EM economic growth prospects improve, even as China’s restart sputters. That’s the first layer of our new playbook in action: our macro take in the context of what’s in the price.\\n\\nThe second layer of our new playbook is about getting granular. We go beyond broad EM exposures to find the brightest macro backdrops across countries and most attractive valuations under the surface. Within EM local currency bonds, we like Mexico for its quality tilt and Brazil for its exceptional carry from still-high bond yields. Our playbook also calls for being nimble. EM is not disconnected from global growth, so we are constantly watching for how that may affect the EM backdrop.\\n\\nWe also get granular in sectors and regions and use the third layer of our playbook – harnessing mega forces – to capture returns now and in the future. We see five big structural forces transcending the macro backdrop: digital disruption and artificial intelligence (AI), geopolitical fragmentation, the low-carbon transition, aging populations and the future of finance. We see abundant EM equity opportunities through these mega forces – what matters is what markets have priced. The semiconductor industry is powering AI and is a key part of the EM technology sector. A rapidly growing population in India sets the country apart from DMs. India's system of digital payments also bodes well for the future of finance there, we believe: It could pave the way for a credit boom as banks adapt lending. We think the low-carbon transition presents an important opportunity for Latin America, especially for countries that hold large reserves of key resources like copper and lithium. The rewiring of supply chains due to global fragmentation could also have significant implications for countries like Mexico that could benefit if U.S. companies bring operations and production closer to home.\\n\\nBottom line: Our new playbook leads us to favor EM over DM assets. We see a brighter policy outlook as some EMs stand ready to cut policy rates. We get granular in EM debt across countries and in EM equities by harnessing mega forces.\\n\\nMarket backdrop U.S. bond yields dropped and stocks climbed to 15-month highs last week as markets eyed an end in sight to the Fed’s rapid hiking cycle after the softer-than-expected June CPI data. Both two- and 10-year Treasury yields posted their sharpest weekly declines since the March banking turmoil. The labor market is key for what lies ahead for inflation. We see still-strong wage growth keeping core inflation elevated, compelling the Federal Reserve to hold policy tight.\\n\\nAssets in review Selected asset performance, 2023 year-to-date return and range\\n\\nU.S. equities\\n\\n2023 range\\n\\nEuropean equities\\n\\nYear-to-date\\n\\nEM equities\\n\\nItalian 10-year BTP\\n\\nGold\\n\\nGlobal high yield\\n\\nGlobal corporate IG\\n\\nHard-currency EM debt\\n\\nU.S. 10-year Treasury\\n\\nGerman 10-year Bund\\n\\nU.S. dollar index\\n\\nBrent crude\\n\\n20%\\n\\n15%\\n\\n10%\\n\\n5%\\n\\n0%\\n\\n5%\\n\\n10%\\n\\n15%\\n\\n20%\\n\\nTotal return\\n\\nPast performance is not a reliable indicator of current or future results. Indexes are unmanaged and do not account for fees. It is not possible to invest directly in an index. Sources: BlackRock Investment Institute, with data from Refinitiv Datastream as of July 13, 2023. Notes: The two ends of the bars show the lowest and highest returns at any point in the last 12-months, and the dots represent current year-to-date returns. Emerging market (EM), high yield and global corporate investment grade (IG) returns are denominated in U.S. dollars, and the rest in local currencies. Indexes or prices used are: spot Brent crude, ICE U.S. Dollar Index (DXY), spot gold, MSCI Emerging Markets Index, MSCI Europe Index, Refinitiv Datastream 10-year benchmark government bond index (U.S., Germany and Italy), Bank of America Merrill Lynch Global High Yield Index, J.P. Morgan EMBI Index, Bank of America Merrill Lynch Global Broad Corporate Index and MSCI USA Index.\\n\\nBIIM0723U/M-3004416-2/6\\n\\nFOR PUBLIC DISTRIBUTION IN THE U.S., CANADA, LATIN AMERICA, HONG KONG, SINGAPORE AND AUSTRALIA. FOR INSTITUTIONAL, PROFESSIONAL, QUALIFIED INVESTORS AND QUALIFIED CLIENTS IN OTHER PERMITTED COUNTRIES. FOR PUBLIC DISTRIBUTION IN THE U.S., HONG KONG, SINGAPORE AND AUSTRALIA. FOR INSTITUTIONAL, PROFESSIONAL, QUALIFIED INVESTORS AND QUALIFIED CLIENTS IN OTHER PERMITTED COUNTRIES.\\n\\nInflation rollercoaster Contribution to monthly core CPI inflation, 2021-2023\\n\\nMacro take The U.S. core CPI inflation for June came in at 0.2% month- on-month, down from 0.4% in May and below expectations.\\n\\n0.6\\n\\nOne element of that was unsurprising: the drag from goods prices. See the chart. We expected goods prices to fall as consumer spending normalized following a surge in goods consumption during the pandemic. Some of that started in the second half of last year (see the orange bars in the chart) and it reoccurred in June, driven by a decline in used car prices. We see more goods deflation ahead, reinforcing our view that overall inflation will be on something of a rollercoaster in coming months.\\n\\ns t n o p e g a t n e c r e P\\n\\n0.4\\n\\ni\\n\\n0.2\\n\\n0\\n\\n0.2\\n\\nJun-21\\n\\nDec-21\\n\\nJun-22\\n\\nDec-22\\n\\nJun-23\\n\\nThe real surprise was that core services inflation excluding housing was flat on the month. We think this could be a one- off and unlikely to happen again this year: It’s difficult to see how core services inflation can be so low with wage growth remaining strong. We still think core inflation is proving persistent at levels well above the Fed’s 2% target. And that’s why we think the Fed will still hike rates later this month. See our Macro take blog posts here.\\n\\nCore services ex-shelter Rent Core goods Core CPI inflation (monthly)\\n\\nSource: BlackRock Investment Institute, U.S. Bureau of Labor Statistics with data from Haver Analytics, July 2023. Notes: The chart shows the contribution of individual components to overall monthly core Consumer Price Index (CPI) inflation. Rent refers to owners’ equivalent rent. The core services ex shelter contribution is the contribution of “Services less energy services” inflation after excluding owners' equivalent rent.\\n\\nInvestment themes\\n\\n1 Holding tight • Markets have come around to the view that central banks will not quickly ease policy in a world shaped by supply\\n\\nconstraints – notably worker shortages in the U.S.\\n\\nWe see central banks being forced to keep policy tight to lean against inflationary pressures. This is not a friendly • backdrop for broad asset class returns, marking a break from the four decades of steady growth and inflation known\\n\\nas the Great Moderation.\\n\\nEconomic relationships investors have relied upon could break down in the new regime. The shrinking supply of\\n\\nworkers in several major economies due to aging means a low unemployment rate is no longer a sign of the cyclical health of the economy. Broad worker shortages could create incentives for companies to hold onto workers, even if sales decline, for fear of not being able to hire them back. This poses the unusual possibility of “full employment recessions” in the U.S. and Europe. That could take a bigger toll on corporate profit margins than in the past as companies maintain employment, creating a tough outlook for DM equities. Investment implication: Income is back. That motivates our overweight to short-dated U.S. Treasuries.\\n\\nWe also get granular in sectors and regions and use the third layer of our playbook – harnessing mega forces – to capture returns now and in the future. We see five big structural forces transcending the macro backdrop: digital disruption and artificial intelligence (AI), geopolitical fragmentation, the low-carbon transition, aging populations and the future of finance. We see abundant EM equity opportunities through these mega forces – what matters is what markets have priced. The semiconductor industry is powering AI and is a key part of the EM technology sector. A rapidly growing population in India sets the country apart from DMs. India's system of digital payments also bodes well for the future of finance there, we believe: It could pave the way for a credit boom as banks adapt lending. We think the low-carbon transition presents an important opportunity for Latin America, especially for countries that hold large reserves of key resources like copper and lithium. The rewiring of supply chains due to global fragmentation could also have significant implications for countries like Mexico that could benefit if U.S. companies bring operations and production closer to home.\\n\\nBottom line: Our new playbook leads us to favor EM over DM assets. We see a brighter policy outlook as some EMs stand ready to cut policy rates. We get granular in EM debt across countries and in EM equities by harnessing mega forces.\\n\\nMarket backdrop U.S. bond yields dropped and stocks climbed to 15-month highs last week as markets eyed an end in sight to the Fed’s rapid hiking cycle after the softer-than-expected June CPI data. Both two- and 10-year Treasury yields posted their sharpest weekly declines since the March banking turmoil. The labor market is key for what lies ahead for inflation. We see still-strong wage growth keeping core inflation elevated, compelling the Federal Reserve to hold policy tight.\\n\\nAssets in review Selected asset performance, 2023 year-to-date return and range\\n\\nU.S. equities\\n\\n2023 range\\n\\nEuropean equities\\n\\nYear-to-date\\n\\nEM equities\\n\\nItalian 10-year BTP\\n\\nGold\\n\\nGlobal high yield\\n\\nGlobal corporate IG\\n\\nHard-currency EM debt\\n\\nU.S. 10-year Treasury\\n\\nGerman 10-year Bund\\n\\nU.S. dollar index\\n\\nBrent crude\\n\\n20%\\n\\n15%\\n\\n10%\\n\\n5%\\n\\n0%\\n\\n5%\\n\\n10%\\n\\n15%\\n\\n20%\\n\\nTotal return\\n\\nPast performance is not a reliable indicator of current or future results. Indexes are unmanaged and do not account for fees. It is not possible to invest directly in an index. Sources: BlackRock Investment Institute, with data from Refinitiv Datastream as of July 13, 2023. Notes: The two ends of the bars show the lowest and highest returns at any point in the last 12-months, and the dots represent current year-to-date returns. Emerging market (EM), high yield and global corporate investment grade (IG) returns are denominated in U.S. dollars, and the rest in local currencies. Indexes or prices used are: spot Brent crude, ICE U.S. Dollar Index (DXY), spot gold, MSCI Emerging Markets Index, MSCI Europe Index, Refinitiv Datastream 10-year benchmark government bond index (U.S., Germany and Italy), Bank of America Merrill Lynch Global High Yield Index, J.P. Morgan EMBI Index, Bank of America Merrill Lynch Global Broad Corporate Index and MSCI USA Index.\\n\\nBIIM0723U/M-3004416-2/6\\n\\nFOR PUBLIC DISTRIBUTION IN THE U.S., CANADA, LATIN AMERICA, HONG KONG, SINGAPORE AND AUSTRALIA. FOR INSTITUTIONAL, PROFESSIONAL, QUALIFIED INVESTORS AND QUALIFIED CLIENTS IN OTHER PERMITTED COUNTRIES. FOR PUBLIC DISTRIBUTION IN THE U.S., HONG KONG, SINGAPORE AND AUSTRALIA. FOR INSTITUTIONAL, PROFESSIONAL, QUALIFIED INVESTORS AND QUALIFIED CLIENTS IN OTHER PERMITTED COUNTRIES.\\n\\nInflation rollercoaster Contribution to monthly core CPI inflation, 2021-2023\\n\\nMacro take The U.S. core CPI inflation for June came in at 0.2% month- on-month, down from 0.4% in May and below expectations.\\n\\n0.6\\n\\nOne element of that was unsurprising: the drag from goods prices. See the chart. We expected goods prices to fall as consumer spending normalized following a surge in goods consumption during the pandemic. Some of that started in the second half of last year (see the orange bars in the chart) and it reoccurred in June, driven by a decline in used car prices. We see more goods deflation ahead, reinforcing our view that overall inflation will be on something of a rollercoaster in coming months.\\n\\ns t n o p e g a t n e c r e P\\n\\n0.4\\n\\ni\\n\\n0.2\\n\\n0\\n\\n0.2\\n\\nJun-21\\n\\nDec-21\\n\\nJun-22\\n\\nDec-22\\n\\nJun-23\\n\\nThe real surprise was that core services inflation excluding housing was flat on the month. We think this could be a one- off and unlikely to happen again this year: It’s difficult to see how core services inflation can be so low with wage growth remaining strong. We still think core inflation is proving persistent at levels well above the Fed’s 2% target. And that’s why we think the Fed will still hike rates later this month. See our Macro take blog posts here.\\n\\nCore services ex-shelter Rent Core goods Core CPI inflation (monthly)\\n\\nSource: BlackRock Investment Institute, U.S. Bureau of Labor Statistics with data from Haver Analytics, July 2023. Notes: The chart shows the contribution of individual components to overall monthly core Consumer Price Index (CPI) inflation. Rent refers to owners’ equivalent rent. The core services ex shelter contribution is the contribution of “Services less energy services” inflation after excluding owners' equivalent rent.\\n\\nInvestment themes\\n\\n1 Holding tight • Markets have come around to the view that central banks will not quickly ease policy in a world shaped by supply\\n\\nconstraints – notably worker shortages in the U.S.\\n\\nWe see central banks being forced to keep policy tight to lean against inflationary pressures. This is not a friendly • backdrop for broad asset class returns, marking a break from the four decades of steady growth and inflation known\\n\\nas the Great Moderation.\\n\\nWe also get granular in sectors and regions and use the third layer of our playbook – harnessing mega forces – to capture returns now and in the future. We see five big structural forces transcending the macro backdrop: digital disruption and artificial intelligence (AI), geopolitical fragmentation, the low-carbon transition, aging populations and the future of finance. We see abundant EM equity opportunities through these mega forces – what matters is what markets have priced. The semiconductor industry is powering AI and is a key part of the EM technology sector. A rapidly growing population in India sets the country apart from DMs. India's system of digital payments also bodes well for the future of finance there, we believe: It could pave the way for a credit boom as banks adapt lending. We think the low-carbon transition presents an important opportunity for Latin America, especially for countries that hold large reserves of key resources like copper and lithium. The rewiring of supply chains due to global fragmentation could also have significant implications for countries like Mexico that could benefit if U.S. companies bring operations and production closer to home.\\n\\nBottom line: Our new playbook leads us to favor EM over DM assets. We see a brighter policy outlook as some EMs stand ready to cut policy rates. We get granular in EM debt across countries and in EM equities by harnessing mega forces.\\n\\nMarket backdrop U.S. bond yields dropped and stocks climbed to 15-month highs last week as markets eyed an end in sight to the Fed’s rapid hiking cycle after the softer-than-expected June CPI data. Both two- and 10-year Treasury yields posted their sharpest weekly declines since the March banking turmoil. The labor market is key for what lies ahead for inflation. We see still-strong wage growth keeping core inflation elevated, compelling the Federal Reserve to hold policy tight.\\n\\nAssets in review Selected asset performance, 2023 year-to-date return and range\\n\\nU.S. equities\\n\\n2023 range\\n\\nEuropean equities\\n\\nYear-to-date\\n\\nEM equities\\n\\nItalian 10-year BTP\\n\\nGold\\n\\nGlobal high yield\\n\\nGlobal corporate IG\\n\\nHard-currency EM debt\\n\\nU.S. 10-year Treasury\\n\\nGerman 10-year Bund\\n\\nU.S. dollar index\\n\\nBrent crude\\n\\n20%\\n\\n15%\\n\\n10%\\n\\n5%\\n\\n0%\\n\\n5%\\n\\n10%\\n\\n15%\\n\\n20%\\n\\nTotal return\\n\\nPast performance is not a reliable indicator of current or future results. Indexes are unmanaged and do not account for fees. It is not possible to invest directly in an index. Sources: BlackRock Investment Institute, with data from Refinitiv Datastream as of July 13, 2023. Notes: The two ends of the bars show the lowest and highest returns at any point in the last 12-months, and the dots represent current year-to-date returns. Emerging market (EM), high yield and global corporate investment grade (IG) returns are denominated in U.S. dollars, and the rest in local currencies. Indexes or prices used are: spot Brent crude, ICE U.S. Dollar Index (DXY), spot gold, MSCI Emerging Markets Index, MSCI Europe Index, Refinitiv Datastream 10-year benchmark government bond index (U.S., Germany and Italy), Bank of America Merrill Lynch Global High Yield Index, J.P. Morgan EMBI Index, Bank of America Merrill Lynch Global Broad Corporate Index and MSCI USA Index.\\n\\nBIIM0723U/M-3004416-2/6\\n\\nFOR PUBLIC DISTRIBUTION IN THE U.S., CANADA, LATIN AMERICA, HONG KONG, SINGAPORE AND AUSTRALIA. FOR INSTITUTIONAL, PROFESSIONAL, QUALIFIED INVESTORS AND QUALIFIED CLIENTS IN OTHER PERMITTED COUNTRIES. FOR PUBLIC DISTRIBUTION IN THE U.S., HONG KONG, SINGAPORE AND AUSTRALIA. FOR INSTITUTIONAL, PROFESSIONAL, QUALIFIED INVESTORS AND QUALIFIED CLIENTS IN OTHER PERMITTED COUNTRIES.\\n\\nInflation rollercoaster Contribution to monthly core CPI inflation, 2021-2023\\n\\nMacro take The U.S. core CPI inflation for June came in at 0.2% month- on-month, down from 0.4% in May and below expectations.\\n\\n0.6\\n\\nOne element of that was unsurprising: the drag from goods prices. See the chart. We expected goods prices to fall as consumer spending normalized following a surge in goods consumption during the pandemic. Some of that started in the second half of last year (see the orange bars in the chart) and it reoccurred in June, driven by a decline in used car prices. We see more goods deflation ahead, reinforcing our view that overall inflation will be on something of a rollercoaster in coming months.\\n\\ns t n o p e g a t n e c r e P\\n\\n0.4\\n\\ni\\n\\n0.2\\n\\n0\\n\\n0.2\\n\\nJun-21\\n\\nDec-21\\n\\nJun-22\\n\\nDec-22\\n\\nJun-23\\n\\nThe real surprise was that core services inflation excluding housing was flat on the month. We think this could be a one- off and unlikely to happen again this year: It’s difficult to see how core services inflation can be so low with wage growth remaining strong. We still think core inflation is proving persistent at levels well above the Fed’s 2% target. And that’s why we think the Fed will still hike rates later this month. See our Macro take blog posts here.\\n\\nCore services ex-shelter Rent Core goods Core CPI inflation (monthly)\\n\\nSource: BlackRock Investment Institute, U.S. Bureau of Labor Statistics with data from Haver Analytics, July 2023. Notes: The chart shows the contribution of individual components to overall monthly core Consumer Price Index (CPI) inflation. Rent refers to owners’ equivalent rent. The core services ex shelter contribution is the contribution of “Services less energy services” inflation after excluding owners' equivalent rent.\\n\\nInvestment themes\\n\\n1 Holding tight • Markets have come around to the view that central banks will not quickly ease policy in a world shaped by supply\\n\\nconstraints – notably worker shortages in the U.S.\\n\\nWe see central banks being forced to keep policy tight to lean against inflationary pressures. This is not a friendly • backdrop for broad asset class returns, marking a break from the four decades of steady growth and inflation known\\n\\nas the Great Moderation.\\n\\n©2023 BlackRock, Inc. All Rights Reserved. BLACKROCK is a trademark of BlackRock, Inc., or its subsidiaries in the United States and elsewhere. All other trademarks are those of their respective owners.\\n\\nNot FDIC Insured • May Lose Value • No Bank Guarantee\\n\\nBIIM0723U/M-3004416-6/6\"\n",
      "}\n",
      "\u001b[32;1m\u001b[1;3m[llm/start]\u001b[0m \u001b[1m[1:chain:ConversationalRetrievalChain > 5:chain:StuffDocumentsChain > 6:chain:LLMChain > 7:llm:AzureOpenAI] Entering LLM run with input:\n",
      "\u001b[0m{\n",
      "  \"prompts\": [\n",
      "    \"Use the following context (delimited by <ctx></ctx>) to answer the question like a financial advisor. If you don't know the answer, just say that you don't know, don't try to make up an answer. \\n------\\n<ctx>\\nFOR PUBLIC DISTRIBUTION IN THE U.S., CANADA, LATIN AMERICA, HONG KONG, SINGAPORE AND AUSTRALIA. FOR INSTITUTIONAL, PROFESSIONAL, QUALIFIED INVESTORS AND QUALIFIED CLIENTS IN OTHER PERMITTED COUNTRIES. FOR PUBLIC DISTRIBUTION IN THE U.S., HONG KONG, SINGAPORE AND AUSTRALIA. FOR INSTITUTIONAL, PROFESSIONAL, QUALIFIED INVESTORS AND QUALIFIED CLIENTS IN OTHER PERMITTED COUNTRIES.\\n\\nWeekly commentary\\n\\nJuly 17, 2023\\n\\nApplying our playbook to EM • We favor emerging market (EM) to developed market (DM) assets on a brighter macro backdrop. We get granular and harness mega forces, per our playbook.\\n\\nWei Li\\n\\nGlobal Chief Investment Strategist – BlackRock Investment Institute\\n\\nU.S. bond yields slumped last week on softer CPI inflation data. We think still-\\n\\ntight labor markets will compel the Federal Reserve to hold policy tight.\\n\\nAlex Brazier\\n\\nWe look to this week’s U.S. data for more signs higher policy rates are cooling\\n\\nDeputy Head – BlackRock Investment Institute\\n\\nproduction and spending. We see policy staying tight even as activity weakens.\\n\\nWe tapped into what’s proved a stealth rally in EM stocks and bonds, along with the DM stock gains this year. We still think EM assets have an edge over developed market (DM) peers in the first layer of our new playbook, the macro assessment. Inflation is cooling enough in key EMs to allow policy rate cuts. We get granular in our playbook’s second layer to find countries and sectors we like. Our third layer harnesses mega forces to capture structural shifts within EMs.\\n\\nAxel Christensen\\n\\nChief Investment Strategist for Latin America — BlackRock Investment Institute\\n\\nMichel Dilmanian\\n\\nEmerging market edge Emerging market bond vs. U.S. Treasury yields, 2005-2023\\n\\nInvestment Strategist – BlackRock Investment Institute\\n\\nEM hard currency\\n\\n12%\\n\\nEM local currency\\n\\n10%\\n\\nU.S. five-year Treasury\\n\\n8%\\n\\nd l e i Y\\n\\n6%\\n\\n4%\\n\\n2%\\n\\n0%\\n\\n2005 2007 2009 2011 2013 2015 2017 2019 2021 2023\\n\\nSource: BlackRock Investment Institute, with data from Refinitiv Datastream, July 2023. Notes: The chart shows yield levels for the JP Morgan Emerging Market Bond Index Global Diversified (EM hard currency), JP Morgan GBI-Emerging Market Bond Index Global Diversified and the benchmark U.S. five-year Treasury.\\n\\nVisit BlackRock Investment\\n\\nInstitute for insights on the global economy, markets\\n\\nWe’ve preferred EM debt to DM long-term peers for some time. We went tactically overweight EM local currency debt in March, picking up higher yields for carry and benefiting from a broadly weaker U.S. dollar plus tightening spreads this year (yellow line in chart). Higher EM yields remain attractive, but tightening spreads with Treasuries (pink line) lead us to consider switching to hard currency peers typically issued in U.S. dollars (orange line). But peaking DM policy rates should support EM currencies, bolstering EM local debt for now. DM rate hikes have hit EM hard in the past, but we think they’re in a different spot now thanks to improved external balance sheets. We think that’s why we’re not seeing the EM asset volatility as in the 2013 taper tantrum. The Fed’s plan to taper bond purchases then sparked sharp EM capital outflows and currency depreciation. It’s the opposite now: capital inflows and stronger currencies are boosting returns in EM local currency bonds.\\n\\nand geopolitics.\\n\\nBIIM0723U/M-3004416-1/6\\n\\nFOR PUBLIC DISTRIBUTION IN THE U.S., CANADA, LATIN AMERICA, HONG KONG, SINGAPORE AND AUSTRALIA. FOR INSTITUTIONAL, PROFESSIONAL, QUALIFIED INVESTORS AND QUALIFIED CLIENTS IN OTHER PERMITTED COUNTRIES.\\n\\nFOR PUBLIC DISTRIBUTION IN THE U.S., HONG KONG, SINGAPORE AND AUSTRALIA. FOR INSTITUTIONAL, PROFESSIONAL, QUALIFIED INVESTORS AND QUALIFIED CLIENTS IN OTHER PERMITTED COUNTRIES.\\n\\nA brighter EM macro and policy picture may also be underappreciated, in our view. DM central banks inching toward the end of rapid hikes is good for EMs – but a key difference is we think EM peers are closer to rate cuts as inflation falls. EM central banks were well ahead of DM peers in hiking – and some have hiked much more to bring inflation down quickly. Take Brazil: Policy rates have risen to just under 14% from 2% in 2021. When it comes to EM investing this year, much focus has been on China’s economy losing steam. But outside China, EM equities have staged a stealth rally with double-digit gains across Latin America and other parts of Asia. We see more upside there and more attractive valuations relative to DM economies as the policy picture and EM economic growth prospects improve, even as China’s restart sputters. That’s the first layer of our new playbook in action: our macro take in the context of what’s in the price.\\n\\nThe second layer of our new playbook is about getting granular. We go beyond broad EM exposures to find the brightest macro backdrops across countries and most attractive valuations under the surface. Within EM local currency bonds, we like Mexico for its quality tilt and Brazil for its exceptional carry from still-high bond yields. Our playbook also calls for being nimble. EM is not disconnected from global growth, so we are constantly watching for how that may affect the EM backdrop.\\n\\nWe also get granular in sectors and regions and use the third layer of our playbook – harnessing mega forces – to capture returns now and in the future. We see five big structural forces transcending the macro backdrop: digital disruption and artificial intelligence (AI), geopolitical fragmentation, the low-carbon transition, aging populations and the future of finance. We see abundant EM equity opportunities through these mega forces – what matters is what markets have priced. The semiconductor industry is powering AI and is a key part of the EM technology sector. A rapidly growing population in India sets the country apart from DMs. India's system of digital payments also bodes well for the future of finance there, we believe: It could pave the way for a credit boom as banks adapt lending. We think the low-carbon transition presents an important opportunity for Latin America, especially for countries that hold large reserves of key resources like copper and lithium. The rewiring of supply chains due to global fragmentation could also have significant implications for countries like Mexico that could benefit if U.S. companies bring operations and production closer to home.\\n\\nBottom line: Our new playbook leads us to favor EM over DM assets. We see a brighter policy outlook as some EMs stand ready to cut policy rates. We get granular in EM debt across countries and in EM equities by harnessing mega forces.\\n\\nMarket backdrop U.S. bond yields dropped and stocks climbed to 15-month highs last week as markets eyed an end in sight to the Fed’s rapid hiking cycle after the softer-than-expected June CPI data. Both two- and 10-year Treasury yields posted their sharpest weekly declines since the March banking turmoil. The labor market is key for what lies ahead for inflation. We see still-strong wage growth keeping core inflation elevated, compelling the Federal Reserve to hold policy tight.\\n\\nAssets in review Selected asset performance, 2023 year-to-date return and range\\n\\nU.S. equities\\n\\n2023 range\\n\\nEuropean equities\\n\\nYear-to-date\\n\\nEM equities\\n\\nItalian 10-year BTP\\n\\nGold\\n\\nGlobal high yield\\n\\nGlobal corporate IG\\n\\nHard-currency EM debt\\n\\nU.S. 10-year Treasury\\n\\nGerman 10-year Bund\\n\\nU.S. dollar index\\n\\nBrent crude\\n\\n20%\\n\\n15%\\n\\n10%\\n\\n5%\\n\\n0%\\n\\n5%\\n\\n10%\\n\\n15%\\n\\n20%\\n\\nTotal return\\n\\nPast performance is not a reliable indicator of current or future results. Indexes are unmanaged and do not account for fees. It is not possible to invest directly in an index. Sources: BlackRock Investment Institute, with data from Refinitiv Datastream as of July 13, 2023. Notes: The two ends of the bars show the lowest and highest returns at any point in the last 12-months, and the dots represent current year-to-date returns. Emerging market (EM), high yield and global corporate investment grade (IG) returns are denominated in U.S. dollars, and the rest in local currencies. Indexes or prices used are: spot Brent crude, ICE U.S. Dollar Index (DXY), spot gold, MSCI Emerging Markets Index, MSCI Europe Index, Refinitiv Datastream 10-year benchmark government bond index (U.S., Germany and Italy), Bank of America Merrill Lynch Global High Yield Index, J.P. Morgan EMBI Index, Bank of America Merrill Lynch Global Broad Corporate Index and MSCI USA Index.\\n\\nBIIM0723U/M-3004416-2/6\\n\\nFOR PUBLIC DISTRIBUTION IN THE U.S., CANADA, LATIN AMERICA, HONG KONG, SINGAPORE AND AUSTRALIA. FOR INSTITUTIONAL, PROFESSIONAL, QUALIFIED INVESTORS AND QUALIFIED CLIENTS IN OTHER PERMITTED COUNTRIES. FOR PUBLIC DISTRIBUTION IN THE U.S., HONG KONG, SINGAPORE AND AUSTRALIA. FOR INSTITUTIONAL, PROFESSIONAL, QUALIFIED INVESTORS AND QUALIFIED CLIENTS IN OTHER PERMITTED COUNTRIES.\\n\\nInflation rollercoaster Contribution to monthly core CPI inflation, 2021-2023\\n\\nMacro take The U.S. core CPI inflation for June came in at 0.2% month- on-month, down from 0.4% in May and below expectations.\\n\\n0.6\\n\\nOne element of that was unsurprising: the drag from goods prices. See the chart. We expected goods prices to fall as consumer spending normalized following a surge in goods consumption during the pandemic. Some of that started in the second half of last year (see the orange bars in the chart) and it reoccurred in June, driven by a decline in used car prices. We see more goods deflation ahead, reinforcing our view that overall inflation will be on something of a rollercoaster in coming months.\\n\\ns t n o p e g a t n e c r e P\\n\\n0.4\\n\\ni\\n\\n0.2\\n\\n0\\n\\n0.2\\n\\nJun-21\\n\\nDec-21\\n\\nJun-22\\n\\nDec-22\\n\\nJun-23\\n\\nThe real surprise was that core services inflation excluding housing was flat on the month. We think this could be a one- off and unlikely to happen again this year: It’s difficult to see how core services inflation can be so low with wage growth remaining strong. We still think core inflation is proving persistent at levels well above the Fed’s 2% target. And that’s why we think the Fed will still hike rates later this month. See our Macro take blog posts here.\\n\\nCore services ex-shelter Rent Core goods Core CPI inflation (monthly)\\n\\nSource: BlackRock Investment Institute, U.S. Bureau of Labor Statistics with data from Haver Analytics, July 2023. Notes: The chart shows the contribution of individual components to overall monthly core Consumer Price Index (CPI) inflation. Rent refers to owners’ equivalent rent. The core services ex shelter contribution is the contribution of “Services less energy services” inflation after excluding owners' equivalent rent.\\n\\nInvestment themes\\n\\n1 Holding tight • Markets have come around to the view that central banks will not quickly ease policy in a world shaped by supply\\n\\nconstraints – notably worker shortages in the U.S.\\n\\nWe see central banks being forced to keep policy tight to lean against inflationary pressures. This is not a friendly • backdrop for broad asset class returns, marking a break from the four decades of steady growth and inflation known\\n\\nas the Great Moderation.\\n\\nEconomic relationships investors have relied upon could break down in the new regime. The shrinking supply of\\n\\nworkers in several major economies due to aging means a low unemployment rate is no longer a sign of the cyclical health of the economy. Broad worker shortages could create incentives for companies to hold onto workers, even if sales decline, for fear of not being able to hire them back. This poses the unusual possibility of “full employment recessions” in the U.S. and Europe. That could take a bigger toll on corporate profit margins than in the past as companies maintain employment, creating a tough outlook for DM equities. Investment implication: Income is back. That motivates our overweight to short-dated U.S. Treasuries.\\n\\nWe also get granular in sectors and regions and use the third layer of our playbook – harnessing mega forces – to capture returns now and in the future. We see five big structural forces transcending the macro backdrop: digital disruption and artificial intelligence (AI), geopolitical fragmentation, the low-carbon transition, aging populations and the future of finance. We see abundant EM equity opportunities through these mega forces – what matters is what markets have priced. The semiconductor industry is powering AI and is a key part of the EM technology sector. A rapidly growing population in India sets the country apart from DMs. India's system of digital payments also bodes well for the future of finance there, we believe: It could pave the way for a credit boom as banks adapt lending. We think the low-carbon transition presents an important opportunity for Latin America, especially for countries that hold large reserves of key resources like copper and lithium. The rewiring of supply chains due to global fragmentation could also have significant implications for countries like Mexico that could benefit if U.S. companies bring operations and production closer to home.\\n\\nBottom line: Our new playbook leads us to favor EM over DM assets. We see a brighter policy outlook as some EMs stand ready to cut policy rates. We get granular in EM debt across countries and in EM equities by harnessing mega forces.\\n\\nMarket backdrop U.S. bond yields dropped and stocks climbed to 15-month highs last week as markets eyed an end in sight to the Fed’s rapid hiking cycle after the softer-than-expected June CPI data. Both two- and 10-year Treasury yields posted their sharpest weekly declines since the March banking turmoil. The labor market is key for what lies ahead for inflation. We see still-strong wage growth keeping core inflation elevated, compelling the Federal Reserve to hold policy tight.\\n\\nAssets in review Selected asset performance, 2023 year-to-date return and range\\n\\nU.S. equities\\n\\n2023 range\\n\\nEuropean equities\\n\\nYear-to-date\\n\\nEM equities\\n\\nItalian 10-year BTP\\n\\nGold\\n\\nGlobal high yield\\n\\nGlobal corporate IG\\n\\nHard-currency EM debt\\n\\nU.S. 10-year Treasury\\n\\nGerman 10-year Bund\\n\\nU.S. dollar index\\n\\nBrent crude\\n\\n20%\\n\\n15%\\n\\n10%\\n\\n5%\\n\\n0%\\n\\n5%\\n\\n10%\\n\\n15%\\n\\n20%\\n\\nTotal return\\n\\nPast performance is not a reliable indicator of current or future results. Indexes are unmanaged and do not account for fees. It is not possible to invest directly in an index. Sources: BlackRock Investment Institute, with data from Refinitiv Datastream as of July 13, 2023. Notes: The two ends of the bars show the lowest and highest returns at any point in the last 12-months, and the dots represent current year-to-date returns. Emerging market (EM), high yield and global corporate investment grade (IG) returns are denominated in U.S. dollars, and the rest in local currencies. Indexes or prices used are: spot Brent crude, ICE U.S. Dollar Index (DXY), spot gold, MSCI Emerging Markets Index, MSCI Europe Index, Refinitiv Datastream 10-year benchmark government bond index (U.S., Germany and Italy), Bank of America Merrill Lynch Global High Yield Index, J.P. Morgan EMBI Index, Bank of America Merrill Lynch Global Broad Corporate Index and MSCI USA Index.\\n\\nBIIM0723U/M-3004416-2/6\\n\\nFOR PUBLIC DISTRIBUTION IN THE U.S., CANADA, LATIN AMERICA, HONG KONG, SINGAPORE AND AUSTRALIA. FOR INSTITUTIONAL, PROFESSIONAL, QUALIFIED INVESTORS AND QUALIFIED CLIENTS IN OTHER PERMITTED COUNTRIES. FOR PUBLIC DISTRIBUTION IN THE U.S., HONG KONG, SINGAPORE AND AUSTRALIA. FOR INSTITUTIONAL, PROFESSIONAL, QUALIFIED INVESTORS AND QUALIFIED CLIENTS IN OTHER PERMITTED COUNTRIES.\\n\\nInflation rollercoaster Contribution to monthly core CPI inflation, 2021-2023\\n\\nMacro take The U.S. core CPI inflation for June came in at 0.2% month- on-month, down from 0.4% in May and below expectations.\\n\\n0.6\\n\\nOne element of that was unsurprising: the drag from goods prices. See the chart. We expected goods prices to fall as consumer spending normalized following a surge in goods consumption during the pandemic. Some of that started in the second half of last year (see the orange bars in the chart) and it reoccurred in June, driven by a decline in used car prices. We see more goods deflation ahead, reinforcing our view that overall inflation will be on something of a rollercoaster in coming months.\\n\\ns t n o p e g a t n e c r e P\\n\\n0.4\\n\\ni\\n\\n0.2\\n\\n0\\n\\n0.2\\n\\nJun-21\\n\\nDec-21\\n\\nJun-22\\n\\nDec-22\\n\\nJun-23\\n\\nThe real surprise was that core services inflation excluding housing was flat on the month. We think this could be a one- off and unlikely to happen again this year: It’s difficult to see how core services inflation can be so low with wage growth remaining strong. We still think core inflation is proving persistent at levels well above the Fed’s 2% target. And that’s why we think the Fed will still hike rates later this month. See our Macro take blog posts here.\\n\\nCore services ex-shelter Rent Core goods Core CPI inflation (monthly)\\n\\nSource: BlackRock Investment Institute, U.S. Bureau of Labor Statistics with data from Haver Analytics, July 2023. Notes: The chart shows the contribution of individual components to overall monthly core Consumer Price Index (CPI) inflation. Rent refers to owners’ equivalent rent. The core services ex shelter contribution is the contribution of “Services less energy services” inflation after excluding owners' equivalent rent.\\n\\nInvestment themes\\n\\n1 Holding tight • Markets have come around to the view that central banks will not quickly ease policy in a world shaped by supply\\n\\nconstraints – notably worker shortages in the U.S.\\n\\nWe see central banks being forced to keep policy tight to lean against inflationary pressures. This is not a friendly • backdrop for broad asset class returns, marking a break from the four decades of steady growth and inflation known\\n\\nas the Great Moderation.\\n\\nWe also get granular in sectors and regions and use the third layer of our playbook – harnessing mega forces – to capture returns now and in the future. We see five big structural forces transcending the macro backdrop: digital disruption and artificial intelligence (AI), geopolitical fragmentation, the low-carbon transition, aging populations and the future of finance. We see abundant EM equity opportunities through these mega forces – what matters is what markets have priced. The semiconductor industry is powering AI and is a key part of the EM technology sector. A rapidly growing population in India sets the country apart from DMs. India's system of digital payments also bodes well for the future of finance there, we believe: It could pave the way for a credit boom as banks adapt lending. We think the low-carbon transition presents an important opportunity for Latin America, especially for countries that hold large reserves of key resources like copper and lithium. The rewiring of supply chains due to global fragmentation could also have significant implications for countries like Mexico that could benefit if U.S. companies bring operations and production closer to home.\\n\\nBottom line: Our new playbook leads us to favor EM over DM assets. We see a brighter policy outlook as some EMs stand ready to cut policy rates. We get granular in EM debt across countries and in EM equities by harnessing mega forces.\\n\\nMarket backdrop U.S. bond yields dropped and stocks climbed to 15-month highs last week as markets eyed an end in sight to the Fed’s rapid hiking cycle after the softer-than-expected June CPI data. Both two- and 10-year Treasury yields posted their sharpest weekly declines since the March banking turmoil. The labor market is key for what lies ahead for inflation. We see still-strong wage growth keeping core inflation elevated, compelling the Federal Reserve to hold policy tight.\\n\\nAssets in review Selected asset performance, 2023 year-to-date return and range\\n\\nU.S. equities\\n\\n2023 range\\n\\nEuropean equities\\n\\nYear-to-date\\n\\nEM equities\\n\\nItalian 10-year BTP\\n\\nGold\\n\\nGlobal high yield\\n\\nGlobal corporate IG\\n\\nHard-currency EM debt\\n\\nU.S. 10-year Treasury\\n\\nGerman 10-year Bund\\n\\nU.S. dollar index\\n\\nBrent crude\\n\\n20%\\n\\n15%\\n\\n10%\\n\\n5%\\n\\n0%\\n\\n5%\\n\\n10%\\n\\n15%\\n\\n20%\\n\\nTotal return\\n\\nPast performance is not a reliable indicator of current or future results. Indexes are unmanaged and do not account for fees. It is not possible to invest directly in an index. Sources: BlackRock Investment Institute, with data from Refinitiv Datastream as of July 13, 2023. Notes: The two ends of the bars show the lowest and highest returns at any point in the last 12-months, and the dots represent current year-to-date returns. Emerging market (EM), high yield and global corporate investment grade (IG) returns are denominated in U.S. dollars, and the rest in local currencies. Indexes or prices used are: spot Brent crude, ICE U.S. Dollar Index (DXY), spot gold, MSCI Emerging Markets Index, MSCI Europe Index, Refinitiv Datastream 10-year benchmark government bond index (U.S., Germany and Italy), Bank of America Merrill Lynch Global High Yield Index, J.P. Morgan EMBI Index, Bank of America Merrill Lynch Global Broad Corporate Index and MSCI USA Index.\\n\\nBIIM0723U/M-3004416-2/6\\n\\nFOR PUBLIC DISTRIBUTION IN THE U.S., CANADA, LATIN AMERICA, HONG KONG, SINGAPORE AND AUSTRALIA. FOR INSTITUTIONAL, PROFESSIONAL, QUALIFIED INVESTORS AND QUALIFIED CLIENTS IN OTHER PERMITTED COUNTRIES. FOR PUBLIC DISTRIBUTION IN THE U.S., HONG KONG, SINGAPORE AND AUSTRALIA. FOR INSTITUTIONAL, PROFESSIONAL, QUALIFIED INVESTORS AND QUALIFIED CLIENTS IN OTHER PERMITTED COUNTRIES.\\n\\nInflation rollercoaster Contribution to monthly core CPI inflation, 2021-2023\\n\\nMacro take The U.S. core CPI inflation for June came in at 0.2% month- on-month, down from 0.4% in May and below expectations.\\n\\n0.6\\n\\nOne element of that was unsurprising: the drag from goods prices. See the chart. We expected goods prices to fall as consumer spending normalized following a surge in goods consumption during the pandemic. Some of that started in the second half of last year (see the orange bars in the chart) and it reoccurred in June, driven by a decline in used car prices. We see more goods deflation ahead, reinforcing our view that overall inflation will be on something of a rollercoaster in coming months.\\n\\ns t n o p e g a t n e c r e P\\n\\n0.4\\n\\ni\\n\\n0.2\\n\\n0\\n\\n0.2\\n\\nJun-21\\n\\nDec-21\\n\\nJun-22\\n\\nDec-22\\n\\nJun-23\\n\\nThe real surprise was that core services inflation excluding housing was flat on the month. We think this could be a one- off and unlikely to happen again this year: It’s difficult to see how core services inflation can be so low with wage growth remaining strong. We still think core inflation is proving persistent at levels well above the Fed’s 2% target. And that’s why we think the Fed will still hike rates later this month. See our Macro take blog posts here.\\n\\nCore services ex-shelter Rent Core goods Core CPI inflation (monthly)\\n\\nSource: BlackRock Investment Institute, U.S. Bureau of Labor Statistics with data from Haver Analytics, July 2023. Notes: The chart shows the contribution of individual components to overall monthly core Consumer Price Index (CPI) inflation. Rent refers to owners’ equivalent rent. The core services ex shelter contribution is the contribution of “Services less energy services” inflation after excluding owners' equivalent rent.\\n\\nInvestment themes\\n\\n1 Holding tight • Markets have come around to the view that central banks will not quickly ease policy in a world shaped by supply\\n\\nconstraints – notably worker shortages in the U.S.\\n\\nWe see central banks being forced to keep policy tight to lean against inflationary pressures. This is not a friendly • backdrop for broad asset class returns, marking a break from the four decades of steady growth and inflation known\\n\\nas the Great Moderation.\\n\\n©2023 BlackRock, Inc. All Rights Reserved. BLACKROCK is a trademark of BlackRock, Inc., or its subsidiaries in the United States and elsewhere. All other trademarks are those of their respective owners.\\n\\nNot FDIC Insured • May Lose Value • No Bank Guarantee\\n\\nBIIM0723U/M-3004416-6/6\\n</ctx>\\n------\\n<|im_end|>\\nAnswer:\"\n",
      "  ]\n",
      "}\n"
     ]
    },
    {
     "name": "stdout",
     "output_type": "stream",
     "text": [
      "\u001b[36;1m\u001b[1;3m[llm/end]\u001b[0m \u001b[1m[1:chain:ConversationalRetrievalChain > 5:chain:StuffDocumentsChain > 6:chain:LLMChain > 7:llm:AzureOpenAI] [3.07s] Exiting LLM run with output:\n",
      "\u001b[0m{\n",
      "  \"generations\": [\n",
      "    [\n",
      "      {\n",
      "        \"text\": \" The article discusses the BlackRock Investment Institute's new playbook, which leads them to favor emerging market (EM) over developed market (DM) assets. They believe that EM assets have an edge over DM peers in the first layer of their new playbook, the macro assessment. Inflation is cooling enough in key EMs to allow policy rate cuts. They get granular in their playbook’s second layer to find countries and sectors they like. Their third layer harnesses mega forces to capture structural shifts within EMs. They see five big structural forces transcending the macro backdrop: digital disruption and artificial intelligence (AI), geopolitical fragmentation, the low-carbon transition, aging populations and the future of finance. They see abundant EM equity opportunities through these mega forces.<|im_end|>\",\n",
      "        \"generation_info\": {\n",
      "          \"finish_reason\": \"stop\",\n",
      "          \"logprobs\": null\n",
      "        }\n",
      "      }\n",
      "    ]\n",
      "  ],\n",
      "  \"llm_output\": {\n",
      "    \"token_usage\": {\n",
      "      \"prompt_tokens\": 5409,\n",
      "      \"completion_tokens\": 151,\n",
      "      \"total_tokens\": 5560\n",
      "    },\n",
      "    \"model_name\": \"text-davinci-002\"\n",
      "  },\n",
      "  \"run\": null\n",
      "}\n",
      "\u001b[36;1m\u001b[1;3m[chain/end]\u001b[0m \u001b[1m[1:chain:ConversationalRetrievalChain > 5:chain:StuffDocumentsChain > 6:chain:LLMChain] [3.07s] Exiting Chain run with output:\n",
      "\u001b[0m{\n",
      "  \"text\": \" The article discusses the BlackRock Investment Institute's new playbook, which leads them to favor emerging market (EM) over developed market (DM) assets. They believe that EM assets have an edge over DM peers in the first layer of their new playbook, the macro assessment. Inflation is cooling enough in key EMs to allow policy rate cuts. They get granular in their playbook’s second layer to find countries and sectors they like. Their third layer harnesses mega forces to capture structural shifts within EMs. They see five big structural forces transcending the macro backdrop: digital disruption and artificial intelligence (AI), geopolitical fragmentation, the low-carbon transition, aging populations and the future of finance. They see abundant EM equity opportunities through these mega forces.<|im_end|>\"\n",
      "}\n",
      "\u001b[36;1m\u001b[1;3m[chain/end]\u001b[0m \u001b[1m[1:chain:ConversationalRetrievalChain > 5:chain:StuffDocumentsChain] [3.07s] Exiting Chain run with output:\n",
      "\u001b[0m{\n",
      "  \"output_text\": \" The article discusses the BlackRock Investment Institute's new playbook, which leads them to favor emerging market (EM) over developed market (DM) assets. They believe that EM assets have an edge over DM peers in the first layer of their new playbook, the macro assessment. Inflation is cooling enough in key EMs to allow policy rate cuts. They get granular in their playbook’s second layer to find countries and sectors they like. Their third layer harnesses mega forces to capture structural shifts within EMs. They see five big structural forces transcending the macro backdrop: digital disruption and artificial intelligence (AI), geopolitical fragmentation, the low-carbon transition, aging populations and the future of finance. They see abundant EM equity opportunities through these mega forces.<|im_end|>\"\n",
      "}\n",
      "\u001b[36;1m\u001b[1;3m[chain/end]\u001b[0m \u001b[1m[1:chain:ConversationalRetrievalChain] [3.69s] Exiting Chain run with output:\n",
      "\u001b[0m{\n",
      "  \"answer\": \" The article discusses the BlackRock Investment Institute's new playbook, which leads them to favor emerging market (EM) over developed market (DM) assets. They believe that EM assets have an edge over DM peers in the first layer of their new playbook, the macro assessment. Inflation is cooling enough in key EMs to allow policy rate cuts. They get granular in their playbook’s second layer to find countries and sectors they like. Their third layer harnesses mega forces to capture structural shifts within EMs. They see five big structural forces transcending the macro backdrop: digital disruption and artificial intelligence (AI), geopolitical fragmentation, the low-carbon transition, aging populations and the future of finance. They see abundant EM equity opportunities through these mega forces.<|im_end|>\"\n",
      "}\n"
     ]
    }
   ],
   "source": [
    "question = 'What are the advantages of'\n",
    "result = qna_chain({\"question\": question})"
   ]
  },
  {
   "cell_type": "code",
   "execution_count": 73,
   "id": "09628f17",
   "metadata": {},
   "outputs": [
    {
     "name": "stdout",
     "output_type": "stream",
     "text": [
      " The article discusses the BlackRock Investment Institute's new playbook, which leads them to favor emerging market (EM) over developed market (DM) assets. They believe that EM assets have an edge over DM peers in the first layer of their new playbook, the macro assessment. Inflation is cooling enough in key EMs to allow policy rate cuts. They get granular in their playbook’s second layer to find countries and sectors they like. Their third layer harnesses mega forces to capture structural shifts within EMs. They see five big structural forces transcending the macro backdrop: digital disruption and artificial intelligence (AI), geopolitical fragmentation, the low-carbon transition, aging populations and the future of finance. They see abundant EM equity opportunities through these mega forces.<|im_end|>\n"
     ]
    }
   ],
   "source": [
    "print(result['answer'])"
   ]
  },
  {
   "cell_type": "code",
   "execution_count": null,
   "id": "a32b20be",
   "metadata": {},
   "outputs": [],
   "source": []
  },
  {
   "cell_type": "code",
   "execution_count": null,
   "id": "b64856ae",
   "metadata": {},
   "outputs": [],
   "source": []
  }
 ],
 "metadata": {
  "kernelspec": {
   "display_name": "finbot",
   "language": "python",
   "name": "finbot"
  },
  "language_info": {
   "codemirror_mode": {
    "name": "ipython",
    "version": 3
   },
   "file_extension": ".py",
   "mimetype": "text/x-python",
   "name": "python",
   "nbconvert_exporter": "python",
   "pygments_lexer": "ipython3",
   "version": "3.9.6"
  }
 },
 "nbformat": 4,
 "nbformat_minor": 5
}
