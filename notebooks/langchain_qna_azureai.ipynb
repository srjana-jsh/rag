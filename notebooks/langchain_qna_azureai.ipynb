{
 "cells": [
  {
   "cell_type": "markdown",
   "id": "cc2732d0",
   "metadata": {},
   "source": [
    "### Pipeline for QnA using Langchain"
   ]
  },
  {
   "cell_type": "code",
   "execution_count": 1,
   "id": "591866e7",
   "metadata": {},
   "outputs": [],
   "source": [
    "####Notes####"
   ]
  },
  {
   "cell_type": "code",
   "execution_count": 1,
   "id": "0b44b03c",
   "metadata": {},
   "outputs": [
    {
     "name": "stdout",
     "output_type": "stream",
     "text": [
      "Requirement already satisfied: langchain in /Users/bibekabantika/PycharmProjects/Finbot/chatbot_env_py3.10/lib/python3.10/site-packages (0.0.263)\n",
      "Requirement already satisfied: numexpr<3.0.0,>=2.8.4 in /Users/bibekabantika/PycharmProjects/Finbot/chatbot_env_py3.10/lib/python3.10/site-packages (from langchain) (2.8.5)\n",
      "Requirement already satisfied: SQLAlchemy<3,>=1.4 in /Users/bibekabantika/PycharmProjects/Finbot/chatbot_env_py3.10/lib/python3.10/site-packages (from langchain) (2.0.19)\n",
      "Requirement already satisfied: dataclasses-json<0.6.0,>=0.5.7 in /Users/bibekabantika/PycharmProjects/Finbot/chatbot_env_py3.10/lib/python3.10/site-packages (from langchain) (0.5.14)\n",
      "Requirement already satisfied: requests<3,>=2 in /Users/bibekabantika/PycharmProjects/Finbot/chatbot_env_py3.10/lib/python3.10/site-packages (from langchain) (2.31.0)\n",
      "Requirement already satisfied: tenacity<9.0.0,>=8.1.0 in /Users/bibekabantika/PycharmProjects/Finbot/chatbot_env_py3.10/lib/python3.10/site-packages (from langchain) (8.2.2)\n",
      "Requirement already satisfied: numpy<2,>=1 in /Users/bibekabantika/PycharmProjects/Finbot/chatbot_env_py3.10/lib/python3.10/site-packages (from langchain) (1.25.2)\n",
      "Requirement already satisfied: pydantic<2,>=1 in /Users/bibekabantika/PycharmProjects/Finbot/chatbot_env_py3.10/lib/python3.10/site-packages (from langchain) (1.10.12)\n",
      "Requirement already satisfied: langsmith<0.1.0,>=0.0.11 in /Users/bibekabantika/PycharmProjects/Finbot/chatbot_env_py3.10/lib/python3.10/site-packages (from langchain) (0.0.22)\n",
      "Requirement already satisfied: async-timeout<5.0.0,>=4.0.0 in /Users/bibekabantika/PycharmProjects/Finbot/chatbot_env_py3.10/lib/python3.10/site-packages (from langchain) (4.0.3)\n",
      "Requirement already satisfied: openapi-schema-pydantic<2.0,>=1.2 in /Users/bibekabantika/PycharmProjects/Finbot/chatbot_env_py3.10/lib/python3.10/site-packages (from langchain) (1.2.4)\n",
      "Requirement already satisfied: PyYAML>=5.3 in /Users/bibekabantika/PycharmProjects/Finbot/chatbot_env_py3.10/lib/python3.10/site-packages (from langchain) (6.0.1)\n",
      "Requirement already satisfied: aiohttp<4.0.0,>=3.8.3 in /Users/bibekabantika/PycharmProjects/Finbot/chatbot_env_py3.10/lib/python3.10/site-packages (from langchain) (3.8.5)\n",
      "Requirement already satisfied: attrs>=17.3.0 in /Users/bibekabantika/PycharmProjects/Finbot/chatbot_env_py3.10/lib/python3.10/site-packages (from aiohttp<4.0.0,>=3.8.3->langchain) (23.1.0)\n",
      "Requirement already satisfied: frozenlist>=1.1.1 in /Users/bibekabantika/PycharmProjects/Finbot/chatbot_env_py3.10/lib/python3.10/site-packages (from aiohttp<4.0.0,>=3.8.3->langchain) (1.4.0)\n",
      "Requirement already satisfied: aiosignal>=1.1.2 in /Users/bibekabantika/PycharmProjects/Finbot/chatbot_env_py3.10/lib/python3.10/site-packages (from aiohttp<4.0.0,>=3.8.3->langchain) (1.3.1)\n",
      "Requirement already satisfied: multidict<7.0,>=4.5 in /Users/bibekabantika/PycharmProjects/Finbot/chatbot_env_py3.10/lib/python3.10/site-packages (from aiohttp<4.0.0,>=3.8.3->langchain) (6.0.4)\n",
      "Requirement already satisfied: charset-normalizer<4.0,>=2.0 in /Users/bibekabantika/PycharmProjects/Finbot/chatbot_env_py3.10/lib/python3.10/site-packages (from aiohttp<4.0.0,>=3.8.3->langchain) (3.2.0)\n",
      "Requirement already satisfied: yarl<2.0,>=1.0 in /Users/bibekabantika/PycharmProjects/Finbot/chatbot_env_py3.10/lib/python3.10/site-packages (from aiohttp<4.0.0,>=3.8.3->langchain) (1.9.2)\n",
      "Requirement already satisfied: typing-inspect<1,>=0.4.0 in /Users/bibekabantika/PycharmProjects/Finbot/chatbot_env_py3.10/lib/python3.10/site-packages (from dataclasses-json<0.6.0,>=0.5.7->langchain) (0.9.0)\n",
      "Requirement already satisfied: marshmallow<4.0.0,>=3.18.0 in /Users/bibekabantika/PycharmProjects/Finbot/chatbot_env_py3.10/lib/python3.10/site-packages (from dataclasses-json<0.6.0,>=0.5.7->langchain) (3.20.1)\n",
      "Requirement already satisfied: typing-extensions>=4.2.0 in /Users/bibekabantika/PycharmProjects/Finbot/chatbot_env_py3.10/lib/python3.10/site-packages (from pydantic<2,>=1->langchain) (4.7.1)\n",
      "Requirement already satisfied: urllib3<3,>=1.21.1 in /Users/bibekabantika/PycharmProjects/Finbot/chatbot_env_py3.10/lib/python3.10/site-packages (from requests<3,>=2->langchain) (2.0.4)\n",
      "Requirement already satisfied: certifi>=2017.4.17 in /Users/bibekabantika/PycharmProjects/Finbot/chatbot_env_py3.10/lib/python3.10/site-packages (from requests<3,>=2->langchain) (2023.7.22)\n",
      "Requirement already satisfied: idna<4,>=2.5 in /Users/bibekabantika/PycharmProjects/Finbot/chatbot_env_py3.10/lib/python3.10/site-packages (from requests<3,>=2->langchain) (3.4)\n",
      "Requirement already satisfied: greenlet!=0.4.17 in /Users/bibekabantika/PycharmProjects/Finbot/chatbot_env_py3.10/lib/python3.10/site-packages (from SQLAlchemy<3,>=1.4->langchain) (2.0.2)\n",
      "Requirement already satisfied: packaging>=17.0 in /Users/bibekabantika/PycharmProjects/Finbot/chatbot_env_py3.10/lib/python3.10/site-packages (from marshmallow<4.0.0,>=3.18.0->dataclasses-json<0.6.0,>=0.5.7->langchain) (23.1)\n",
      "Requirement already satisfied: mypy-extensions>=0.3.0 in /Users/bibekabantika/PycharmProjects/Finbot/chatbot_env_py3.10/lib/python3.10/site-packages (from typing-inspect<1,>=0.4.0->dataclasses-json<0.6.0,>=0.5.7->langchain) (1.0.0)\n",
      "\n",
      "\u001b[1m[\u001b[0m\u001b[34;49mnotice\u001b[0m\u001b[1;39;49m]\u001b[0m\u001b[39;49m A new release of pip is available: \u001b[0m\u001b[31;49m23.0.1\u001b[0m\u001b[39;49m -> \u001b[0m\u001b[32;49m23.2.1\u001b[0m\n",
      "\u001b[1m[\u001b[0m\u001b[34;49mnotice\u001b[0m\u001b[1;39;49m]\u001b[0m\u001b[39;49m To update, run: \u001b[0m\u001b[32;49mpip install --upgrade pip\u001b[0m\n",
      "Requirement already satisfied: openai in /Users/bibekabantika/PycharmProjects/Finbot/chatbot_env_py3.10/lib/python3.10/site-packages (0.27.8)\n",
      "Requirement already satisfied: aiohttp in /Users/bibekabantika/PycharmProjects/Finbot/chatbot_env_py3.10/lib/python3.10/site-packages (from openai) (3.8.5)\n",
      "Requirement already satisfied: requests>=2.20 in /Users/bibekabantika/PycharmProjects/Finbot/chatbot_env_py3.10/lib/python3.10/site-packages (from openai) (2.31.0)\n",
      "Requirement already satisfied: tqdm in /Users/bibekabantika/PycharmProjects/Finbot/chatbot_env_py3.10/lib/python3.10/site-packages (from openai) (4.66.1)\n",
      "Requirement already satisfied: certifi>=2017.4.17 in /Users/bibekabantika/PycharmProjects/Finbot/chatbot_env_py3.10/lib/python3.10/site-packages (from requests>=2.20->openai) (2023.7.22)\n",
      "Requirement already satisfied: urllib3<3,>=1.21.1 in /Users/bibekabantika/PycharmProjects/Finbot/chatbot_env_py3.10/lib/python3.10/site-packages (from requests>=2.20->openai) (2.0.4)\n",
      "Requirement already satisfied: idna<4,>=2.5 in /Users/bibekabantika/PycharmProjects/Finbot/chatbot_env_py3.10/lib/python3.10/site-packages (from requests>=2.20->openai) (3.4)\n",
      "Requirement already satisfied: charset-normalizer<4,>=2 in /Users/bibekabantika/PycharmProjects/Finbot/chatbot_env_py3.10/lib/python3.10/site-packages (from requests>=2.20->openai) (3.2.0)\n",
      "Requirement already satisfied: yarl<2.0,>=1.0 in /Users/bibekabantika/PycharmProjects/Finbot/chatbot_env_py3.10/lib/python3.10/site-packages (from aiohttp->openai) (1.9.2)\n",
      "Requirement already satisfied: aiosignal>=1.1.2 in /Users/bibekabantika/PycharmProjects/Finbot/chatbot_env_py3.10/lib/python3.10/site-packages (from aiohttp->openai) (1.3.1)\n",
      "Requirement already satisfied: async-timeout<5.0,>=4.0.0a3 in /Users/bibekabantika/PycharmProjects/Finbot/chatbot_env_py3.10/lib/python3.10/site-packages (from aiohttp->openai) (4.0.3)\n",
      "Requirement already satisfied: attrs>=17.3.0 in /Users/bibekabantika/PycharmProjects/Finbot/chatbot_env_py3.10/lib/python3.10/site-packages (from aiohttp->openai) (23.1.0)\n",
      "Requirement already satisfied: frozenlist>=1.1.1 in /Users/bibekabantika/PycharmProjects/Finbot/chatbot_env_py3.10/lib/python3.10/site-packages (from aiohttp->openai) (1.4.0)\n",
      "Requirement already satisfied: multidict<7.0,>=4.5 in /Users/bibekabantika/PycharmProjects/Finbot/chatbot_env_py3.10/lib/python3.10/site-packages (from aiohttp->openai) (6.0.4)\n",
      "\n",
      "\u001b[1m[\u001b[0m\u001b[34;49mnotice\u001b[0m\u001b[1;39;49m]\u001b[0m\u001b[39;49m A new release of pip is available: \u001b[0m\u001b[31;49m23.0.1\u001b[0m\u001b[39;49m -> \u001b[0m\u001b[32;49m23.2.1\u001b[0m\n",
      "\u001b[1m[\u001b[0m\u001b[34;49mnotice\u001b[0m\u001b[1;39;49m]\u001b[0m\u001b[39;49m To update, run: \u001b[0m\u001b[32;49mpip install --upgrade pip\u001b[0m\n",
      "Requirement already satisfied: openai in /Users/bibekabantika/PycharmProjects/Finbot/chatbot_env_py3.10/lib/python3.10/site-packages (0.27.8)\n",
      "Requirement already satisfied: chromadb in /Users/bibekabantika/PycharmProjects/Finbot/chatbot_env_py3.10/lib/python3.10/site-packages (0.4.5)\n",
      "Requirement already satisfied: tqdm in /Users/bibekabantika/PycharmProjects/Finbot/chatbot_env_py3.10/lib/python3.10/site-packages (from openai) (4.66.1)\n",
      "Requirement already satisfied: aiohttp in /Users/bibekabantika/PycharmProjects/Finbot/chatbot_env_py3.10/lib/python3.10/site-packages (from openai) (3.8.5)\n",
      "Requirement already satisfied: requests>=2.20 in /Users/bibekabantika/PycharmProjects/Finbot/chatbot_env_py3.10/lib/python3.10/site-packages (from openai) (2.31.0)\n",
      "Requirement already satisfied: posthog>=2.4.0 in /Users/bibekabantika/PycharmProjects/Finbot/chatbot_env_py3.10/lib/python3.10/site-packages (from chromadb) (3.0.1)\n",
      "Requirement already satisfied: onnxruntime>=1.14.1 in /Users/bibekabantika/PycharmProjects/Finbot/chatbot_env_py3.10/lib/python3.10/site-packages (from chromadb) (1.15.1)\n",
      "Requirement already satisfied: numpy>=1.21.6 in /Users/bibekabantika/PycharmProjects/Finbot/chatbot_env_py3.10/lib/python3.10/site-packages (from chromadb) (1.25.2)\n",
      "Requirement already satisfied: chroma-hnswlib==0.7.2 in /Users/bibekabantika/PycharmProjects/Finbot/chatbot_env_py3.10/lib/python3.10/site-packages (from chromadb) (0.7.2)\n",
      "Requirement already satisfied: pydantic<2.0,>=1.9 in /Users/bibekabantika/PycharmProjects/Finbot/chatbot_env_py3.10/lib/python3.10/site-packages (from chromadb) (1.10.12)\n",
      "Requirement already satisfied: fastapi<0.100.0,>=0.95.2 in /Users/bibekabantika/PycharmProjects/Finbot/chatbot_env_py3.10/lib/python3.10/site-packages (from chromadb) (0.99.1)\n",
      "Requirement already satisfied: pypika>=0.48.9 in /Users/bibekabantika/PycharmProjects/Finbot/chatbot_env_py3.10/lib/python3.10/site-packages (from chromadb) (0.48.9)\n",
      "Requirement already satisfied: typing-extensions>=4.5.0 in /Users/bibekabantika/PycharmProjects/Finbot/chatbot_env_py3.10/lib/python3.10/site-packages (from chromadb) (4.7.1)\n",
      "Requirement already satisfied: overrides>=7.3.1 in /Users/bibekabantika/PycharmProjects/Finbot/chatbot_env_py3.10/lib/python3.10/site-packages (from chromadb) (7.4.0)\n",
      "Requirement already satisfied: tokenizers>=0.13.2 in /Users/bibekabantika/PycharmProjects/Finbot/chatbot_env_py3.10/lib/python3.10/site-packages (from chromadb) (0.13.3)\n",
      "Requirement already satisfied: pulsar-client>=3.1.0 in /Users/bibekabantika/PycharmProjects/Finbot/chatbot_env_py3.10/lib/python3.10/site-packages (from chromadb) (3.2.0)\n",
      "Requirement already satisfied: importlib-resources in /Users/bibekabantika/PycharmProjects/Finbot/chatbot_env_py3.10/lib/python3.10/site-packages (from chromadb) (6.0.1)\n",
      "Requirement already satisfied: uvicorn[standard]>=0.18.3 in /Users/bibekabantika/PycharmProjects/Finbot/chatbot_env_py3.10/lib/python3.10/site-packages (from chromadb) (0.23.2)\n",
      "Requirement already satisfied: starlette<0.28.0,>=0.27.0 in /Users/bibekabantika/PycharmProjects/Finbot/chatbot_env_py3.10/lib/python3.10/site-packages (from fastapi<0.100.0,>=0.95.2->chromadb) (0.27.0)\n",
      "Requirement already satisfied: flatbuffers in /Users/bibekabantika/PycharmProjects/Finbot/chatbot_env_py3.10/lib/python3.10/site-packages (from onnxruntime>=1.14.1->chromadb) (23.5.26)\n",
      "Requirement already satisfied: coloredlogs in /Users/bibekabantika/PycharmProjects/Finbot/chatbot_env_py3.10/lib/python3.10/site-packages (from onnxruntime>=1.14.1->chromadb) (15.0.1)\n",
      "Requirement already satisfied: packaging in /Users/bibekabantika/PycharmProjects/Finbot/chatbot_env_py3.10/lib/python3.10/site-packages (from onnxruntime>=1.14.1->chromadb) (23.1)\n",
      "Requirement already satisfied: protobuf in /Users/bibekabantika/PycharmProjects/Finbot/chatbot_env_py3.10/lib/python3.10/site-packages (from onnxruntime>=1.14.1->chromadb) (4.24.0)\n",
      "Requirement already satisfied: sympy in /Users/bibekabantika/PycharmProjects/Finbot/chatbot_env_py3.10/lib/python3.10/site-packages (from onnxruntime>=1.14.1->chromadb) (1.12)\n",
      "Requirement already satisfied: python-dateutil>2.1 in /Users/bibekabantika/PycharmProjects/Finbot/chatbot_env_py3.10/lib/python3.10/site-packages (from posthog>=2.4.0->chromadb) (2.8.2)\n",
      "Requirement already satisfied: six>=1.5 in /Users/bibekabantika/PycharmProjects/Finbot/chatbot_env_py3.10/lib/python3.10/site-packages (from posthog>=2.4.0->chromadb) (1.16.0)\n",
      "Requirement already satisfied: monotonic>=1.5 in /Users/bibekabantika/PycharmProjects/Finbot/chatbot_env_py3.10/lib/python3.10/site-packages (from posthog>=2.4.0->chromadb) (1.6)\n",
      "Requirement already satisfied: backoff>=1.10.0 in /Users/bibekabantika/PycharmProjects/Finbot/chatbot_env_py3.10/lib/python3.10/site-packages (from posthog>=2.4.0->chromadb) (2.2.1)\n",
      "Requirement already satisfied: certifi in /Users/bibekabantika/PycharmProjects/Finbot/chatbot_env_py3.10/lib/python3.10/site-packages (from pulsar-client>=3.1.0->chromadb) (2023.7.22)\n",
      "Requirement already satisfied: urllib3<3,>=1.21.1 in /Users/bibekabantika/PycharmProjects/Finbot/chatbot_env_py3.10/lib/python3.10/site-packages (from requests>=2.20->openai) (2.0.4)\n",
      "Requirement already satisfied: idna<4,>=2.5 in /Users/bibekabantika/PycharmProjects/Finbot/chatbot_env_py3.10/lib/python3.10/site-packages (from requests>=2.20->openai) (3.4)\n",
      "Requirement already satisfied: charset-normalizer<4,>=2 in /Users/bibekabantika/PycharmProjects/Finbot/chatbot_env_py3.10/lib/python3.10/site-packages (from requests>=2.20->openai) (3.2.0)\n",
      "Requirement already satisfied: click>=7.0 in /Users/bibekabantika/PycharmProjects/Finbot/chatbot_env_py3.10/lib/python3.10/site-packages (from uvicorn[standard]>=0.18.3->chromadb) (8.1.6)\n",
      "Requirement already satisfied: h11>=0.8 in /Users/bibekabantika/PycharmProjects/Finbot/chatbot_env_py3.10/lib/python3.10/site-packages (from uvicorn[standard]>=0.18.3->chromadb) (0.14.0)\n",
      "Requirement already satisfied: pyyaml>=5.1 in /Users/bibekabantika/PycharmProjects/Finbot/chatbot_env_py3.10/lib/python3.10/site-packages (from uvicorn[standard]>=0.18.3->chromadb) (6.0.1)\n",
      "Requirement already satisfied: watchfiles>=0.13 in /Users/bibekabantika/PycharmProjects/Finbot/chatbot_env_py3.10/lib/python3.10/site-packages (from uvicorn[standard]>=0.18.3->chromadb) (0.19.0)\n",
      "Requirement already satisfied: python-dotenv>=0.13 in /Users/bibekabantika/PycharmProjects/Finbot/chatbot_env_py3.10/lib/python3.10/site-packages (from uvicorn[standard]>=0.18.3->chromadb) (1.0.0)\n",
      "Requirement already satisfied: httptools>=0.5.0 in /Users/bibekabantika/PycharmProjects/Finbot/chatbot_env_py3.10/lib/python3.10/site-packages (from uvicorn[standard]>=0.18.3->chromadb) (0.6.0)\n",
      "Requirement already satisfied: websockets>=10.4 in /Users/bibekabantika/PycharmProjects/Finbot/chatbot_env_py3.10/lib/python3.10/site-packages (from uvicorn[standard]>=0.18.3->chromadb) (11.0.3)\n",
      "Requirement already satisfied: uvloop!=0.15.0,!=0.15.1,>=0.14.0 in /Users/bibekabantika/PycharmProjects/Finbot/chatbot_env_py3.10/lib/python3.10/site-packages (from uvicorn[standard]>=0.18.3->chromadb) (0.17.0)\n",
      "Requirement already satisfied: async-timeout<5.0,>=4.0.0a3 in /Users/bibekabantika/PycharmProjects/Finbot/chatbot_env_py3.10/lib/python3.10/site-packages (from aiohttp->openai) (4.0.3)\n",
      "Requirement already satisfied: yarl<2.0,>=1.0 in /Users/bibekabantika/PycharmProjects/Finbot/chatbot_env_py3.10/lib/python3.10/site-packages (from aiohttp->openai) (1.9.2)\n",
      "Requirement already satisfied: aiosignal>=1.1.2 in /Users/bibekabantika/PycharmProjects/Finbot/chatbot_env_py3.10/lib/python3.10/site-packages (from aiohttp->openai) (1.3.1)\n",
      "Requirement already satisfied: attrs>=17.3.0 in /Users/bibekabantika/PycharmProjects/Finbot/chatbot_env_py3.10/lib/python3.10/site-packages (from aiohttp->openai) (23.1.0)\n",
      "Requirement already satisfied: frozenlist>=1.1.1 in /Users/bibekabantika/PycharmProjects/Finbot/chatbot_env_py3.10/lib/python3.10/site-packages (from aiohttp->openai) (1.4.0)\n",
      "Requirement already satisfied: multidict<7.0,>=4.5 in /Users/bibekabantika/PycharmProjects/Finbot/chatbot_env_py3.10/lib/python3.10/site-packages (from aiohttp->openai) (6.0.4)\n",
      "Requirement already satisfied: anyio<5,>=3.4.0 in /Users/bibekabantika/PycharmProjects/Finbot/chatbot_env_py3.10/lib/python3.10/site-packages (from starlette<0.28.0,>=0.27.0->fastapi<0.100.0,>=0.95.2->chromadb) (3.7.1)\n",
      "Requirement already satisfied: humanfriendly>=9.1 in /Users/bibekabantika/PycharmProjects/Finbot/chatbot_env_py3.10/lib/python3.10/site-packages (from coloredlogs->onnxruntime>=1.14.1->chromadb) (10.0)\n",
      "Requirement already satisfied: mpmath>=0.19 in /Users/bibekabantika/PycharmProjects/Finbot/chatbot_env_py3.10/lib/python3.10/site-packages (from sympy->onnxruntime>=1.14.1->chromadb) (1.3.0)\n",
      "Requirement already satisfied: sniffio>=1.1 in /Users/bibekabantika/PycharmProjects/Finbot/chatbot_env_py3.10/lib/python3.10/site-packages (from anyio<5,>=3.4.0->starlette<0.28.0,>=0.27.0->fastapi<0.100.0,>=0.95.2->chromadb) (1.3.0)\n",
      "Requirement already satisfied: exceptiongroup in /Users/bibekabantika/PycharmProjects/Finbot/chatbot_env_py3.10/lib/python3.10/site-packages (from anyio<5,>=3.4.0->starlette<0.28.0,>=0.27.0->fastapi<0.100.0,>=0.95.2->chromadb) (1.1.2)\n",
      "\n",
      "\u001b[1m[\u001b[0m\u001b[34;49mnotice\u001b[0m\u001b[1;39;49m]\u001b[0m\u001b[39;49m A new release of pip is available: \u001b[0m\u001b[31;49m23.0.1\u001b[0m\u001b[39;49m -> \u001b[0m\u001b[32;49m23.2.1\u001b[0m\n",
      "\u001b[1m[\u001b[0m\u001b[34;49mnotice\u001b[0m\u001b[1;39;49m]\u001b[0m\u001b[39;49m To update, run: \u001b[0m\u001b[32;49mpip install --upgrade pip\u001b[0m\n",
      "Requirement already satisfied: tiktoken in /Users/bibekabantika/PycharmProjects/Finbot/chatbot_env_py3.10/lib/python3.10/site-packages (0.4.0)\n",
      "Requirement already satisfied: requests>=2.26.0 in /Users/bibekabantika/PycharmProjects/Finbot/chatbot_env_py3.10/lib/python3.10/site-packages (from tiktoken) (2.31.0)\n",
      "Requirement already satisfied: regex>=2022.1.18 in /Users/bibekabantika/PycharmProjects/Finbot/chatbot_env_py3.10/lib/python3.10/site-packages (from tiktoken) (2023.8.8)\n",
      "Requirement already satisfied: idna<4,>=2.5 in /Users/bibekabantika/PycharmProjects/Finbot/chatbot_env_py3.10/lib/python3.10/site-packages (from requests>=2.26.0->tiktoken) (3.4)\n",
      "Requirement already satisfied: charset-normalizer<4,>=2 in /Users/bibekabantika/PycharmProjects/Finbot/chatbot_env_py3.10/lib/python3.10/site-packages (from requests>=2.26.0->tiktoken) (3.2.0)\n",
      "Requirement already satisfied: certifi>=2017.4.17 in /Users/bibekabantika/PycharmProjects/Finbot/chatbot_env_py3.10/lib/python3.10/site-packages (from requests>=2.26.0->tiktoken) (2023.7.22)\n",
      "Requirement already satisfied: urllib3<3,>=1.21.1 in /Users/bibekabantika/PycharmProjects/Finbot/chatbot_env_py3.10/lib/python3.10/site-packages (from requests>=2.26.0->tiktoken) (2.0.4)\n",
      "\n",
      "\u001b[1m[\u001b[0m\u001b[34;49mnotice\u001b[0m\u001b[1;39;49m]\u001b[0m\u001b[39;49m A new release of pip is available: \u001b[0m\u001b[31;49m23.0.1\u001b[0m\u001b[39;49m -> \u001b[0m\u001b[32;49m23.2.1\u001b[0m\n",
      "\u001b[1m[\u001b[0m\u001b[34;49mnotice\u001b[0m\u001b[1;39;49m]\u001b[0m\u001b[39;49m To update, run: \u001b[0m\u001b[32;49mpip install --upgrade pip\u001b[0m\n"
     ]
    }
   ],
   "source": [
    "! pip3 install langchain\n",
    "! pip install openai\n",
    "! pip3 install openai chromadb\n",
    "! pip3 install tiktoken"
   ]
  },
  {
   "cell_type": "code",
   "execution_count": 3,
   "id": "1e3b368d",
   "metadata": {},
   "outputs": [],
   "source": [
    "# !pip3 install unstructured\n",
    "# !pip3 install pdf2image\n",
    "# !pip3 install pdfminer\n",
    "# !pip3 install pdfminer.six\n",
    "# !pip3 install pymupdf "
   ]
  },
  {
   "cell_type": "code",
   "execution_count": 2,
   "id": "65d86529",
   "metadata": {},
   "outputs": [
    {
     "data": {
      "text/plain": [
       "<module 'langchain_qna' from '/Users/bibekabantika/PycharmProjects/Finbot/notebooks/../scripts/langchain_qna.py'>"
      ]
     },
     "execution_count": 2,
     "metadata": {},
     "output_type": "execute_result"
    }
   ],
   "source": [
    "import os\n",
    "import sys\n",
    "import glob\n",
    "import re\n",
    "import importlib\n",
    "from langchain.text_splitter import RecursiveCharacterTextSplitter\n",
    "from langchain.embeddings import OpenAIEmbeddings\n",
    "sys.path.append(os.path.join(os.getcwd(), '../scripts'))\n",
    "import langchain_qna as lc_qna\n",
    "importlib.reload(lc_qna)"
   ]
  },
  {
   "cell_type": "markdown",
   "id": "a7269850",
   "metadata": {},
   "source": [
    "#### Environment"
   ]
  },
  {
   "cell_type": "code",
   "execution_count": 3,
   "id": "797152d8",
   "metadata": {},
   "outputs": [],
   "source": [
    "os.environ[\"OPENAI_API_KEY\"] = \"6cdb659e5a9d402e80c212fe8ea26483\""
   ]
  },
  {
   "cell_type": "code",
   "execution_count": 4,
   "id": "67f04a4e",
   "metadata": {},
   "outputs": [],
   "source": [
    "os.environ[\"OPENAI_API_TYPE\"] = \"azure\"\n",
    "os.environ[\"OPENAI_API_VERSION\"] = \"2023-03-15-preview\"\n",
    "os.environ[\"OPENAI_API_BASE\"] = \"https://test-chatgpt-flomoney.openai.azure.com/\"\n",
    "os.environ[\"OPENAI_API_KEY\"] = os.getenv(\"OPENAI_API_KEY\")"
   ]
  },
  {
   "cell_type": "markdown",
   "id": "ddeb387c",
   "metadata": {},
   "source": [
    "#### Parameters"
   ]
  },
  {
   "cell_type": "code",
   "execution_count": 5,
   "id": "689055b3",
   "metadata": {},
   "outputs": [],
   "source": [
    "chunking_interface = RecursiveCharacterTextSplitter\n",
    "embedding_model = OpenAIEmbeddings\n",
    "\n",
    "pdf_list = [\n",
    "    _ for _ in glob.glob(\n",
    "        os.path.join(os.path.join(os.getcwd(), '../data/pdfs'), '*.pdf')\n",
    "    ) if 'investorcom' in _\n",
    "]\n",
    "web_list = []\n",
    "chunk_size = 8000\n",
    "chunk_overlap = 0\n",
    "vectorstore_engine = 'Finbot-embedding'\n",
    "llm_model = 'text-davinci-002'\n",
    "llm_engine = 'finbot-gpt'\n",
    "temperature = 0\n",
    "search_type = 'mmr'\n",
    "retrieval_kwargs = {'k': 6, 'lambda_mult': 0.5}"
   ]
  },
  {
   "cell_type": "markdown",
   "id": "a9959db6",
   "metadata": {},
   "source": [
    "#### QnA Chain "
   ]
  },
  {
   "cell_type": "code",
   "execution_count": 6,
   "id": "5a8911e7",
   "metadata": {},
   "outputs": [],
   "source": [
    "langchain_qna = lc_qna.LangchainQnA(chunking_interface, embedding_model)"
   ]
  },
  {
   "cell_type": "code",
   "execution_count": 7,
   "id": "1bc26171",
   "metadata": {},
   "outputs": [
    {
     "name": "stderr",
     "output_type": "stream",
     "text": [
      "/Users/bibekabantika/PycharmProjects/Finbot/chatbot_env_py3.10/lib/python3.10/site-packages/langchain/utils/utils.py:155: UserWarning: WARNING! engine is not default parameter.\n",
      "                engine was transferred to model_kwargs.\n",
      "                Please confirm that engine is what you intended.\n",
      "  warnings.warn(\n"
     ]
    }
   ],
   "source": [
    "qna_chain = langchain_qna.main_function(\n",
    "    pdf_list, web_list, chunk_size, chunk_overlap, vectorstore_engine,\n",
    "    llm_model, llm_engine, temperature, search_type, **retrieval_kwargs\n",
    ")"
   ]
  },
  {
   "cell_type": "markdown",
   "id": "1f596b17",
   "metadata": {},
   "source": [
    "#### QnA (using Chain)"
   ]
  },
  {
   "cell_type": "code",
   "execution_count": 8,
   "id": "54a9af88",
   "metadata": {},
   "outputs": [
    {
     "name": "stderr",
     "output_type": "stream",
     "text": [
      "Retrying langchain.embeddings.openai.embed_with_retry.<locals>._embed_with_retry in 4.0 seconds as it raised RateLimitError: Requests to the Get a vector representation of a given input that can be easily consumed by machine learning models and algorithms. Operation under Azure OpenAI API version 2023-03-15-preview have exceeded call rate limit of your current OpenAI S0 pricing tier. Please retry after 4 seconds. Please go here: https://aka.ms/oai/quotaincrease if you would like to further increase the default rate limit..\n",
      "Number of requested results 20 is greater than number of elements in index 10, updating n_results = 10\n"
     ]
    },
    {
     "name": "stdout",
     "output_type": "stream",
     "text": [
      " Amazon stock is not a buy at this time. It's still in a long-term downtrend but has been recovering since it hit a low at the start of the year. AMZN stock is now forming a cup base with a 114.10 buy point, and the price action is so far pretty smooth. Even if Amazon breaks out, it has a mountain to climb back. Overhead supply could retard any advance AMZN tries in the next several months. The stock continues to hit resistance at the 200-day line, which has been a resistance level for about a year. Amazon is currently sitting on its 50-day line. Falling below that would be reason for caution. But holding above it and then piercing through the 200-day line and holding would be a positive sign. Recognizing stock chart patterns is one key to the investment guidelines. IBD offers a broad range of growth stock lists, such as Leaderboard and SwingTrader. Investors also can create watchlists, find companies nearing a buy point, or develop custom screens at IBD MarketSmith. If you're interested in buying large-cap stocks, in these articles you'll find technical analysis of leading large caps to see if they are in or near a proper buy zone. Meta stock has now rallied 170\n"
     ]
    }
   ],
   "source": [
    "question = 'Based on the provided content, should I consider buying amazon stock or meta stock?'\n",
    "answer = qna_chain({\"query\": question})\n",
    "print(answer['result'])"
   ]
  },
  {
   "cell_type": "code",
   "execution_count": 11,
   "id": "e5e18a0a",
   "metadata": {},
   "outputs": [
    {
     "name": "stderr",
     "output_type": "stream",
     "text": [
      "Number of requested results 20 is greater than number of elements in index 10, updating n_results = 10\n"
     ]
    },
    {
     "name": "stdout",
     "output_type": "stream",
     "text": [
      " \n",
      "\n",
      "Nvidia and Tesla are two very different companies, so it's hard to compare them directly. Nvidia is a semiconductor company that makes graphics processing units (GPUs) for gaming and data centers, as well as other chips for artificial intelligence (AI) and autonomous vehicles. Tesla, on the other hand, is an electric vehicle (EV) maker that also produces solar panels and energy storage systems. \n",
      "\n",
      "That said, here are some pros and cons of investing in each company:\n",
      "\n",
      "Nvidia pros:\n",
      "- Strong growth potential in gaming, data centers, AI, and autonomous vehicles\n",
      "- Dominant market position in GPUs\n",
      "- Strong financials with high margins and low debt\n",
      "- Consistent earnings growth\n",
      "\n",
      "Nvidia cons:\n",
      "- Valuation is high, with a P/E ratio of over 100\n",
      "- Dependence on the gaming industry, which can be cyclical\n",
      "- Competition from other chipmakers like AMD and Intel\n",
      "\n",
      "Tesla pros:\n",
      "- Strong growth potential in the EV market, which is expected to grow rapidly in the coming years\n",
      "- First-mover advantage in the EV market\n",
      "- Strong brand recognition and loyal customer base\n",
      "- Potential for growth in solar and energy storage markets\n",
      "\n",
      "Tesla cons:\n",
      "- Valuation is high, with a P/E ratio of over \n"
     ]
    }
   ],
   "source": [
    "question = 'What are the pros and cons of investing in nvidia stock versus tesla stock?'\n",
    "answer = qna_chain({\"query\": question})\n",
    "print(answer['result'])"
   ]
  },
  {
   "cell_type": "code",
   "execution_count": null,
   "id": "d2d5a2b4",
   "metadata": {},
   "outputs": [],
   "source": []
  }
 ],
 "metadata": {
  "kernelspec": {
   "display_name": "chatbot_env_py3.10",
   "language": "python",
   "name": "python3"
  },
  "language_info": {
   "codemirror_mode": {
    "name": "ipython",
    "version": 3
   },
   "file_extension": ".py",
   "mimetype": "text/x-python",
   "name": "python",
   "nbconvert_exporter": "python",
   "pygments_lexer": "ipython3",
   "version": "3.10.11"
  },
  "vscode": {
   "interpreter": {
    "hash": "c98bbcd8628c632d575f9458e3f473a2d4dcf106450f047df7839287663b13a3"
   }
  }
 },
 "nbformat": 4,
 "nbformat_minor": 5
}
