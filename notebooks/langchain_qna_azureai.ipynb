{
 "cells": [
  {
   "cell_type": "markdown",
   "id": "cc2732d0",
   "metadata": {},
   "source": [
    "### Pipeline for QnA using Langchain"
   ]
  },
  {
   "cell_type": "code",
   "execution_count": 1,
   "id": "591866e7",
   "metadata": {},
   "outputs": [],
   "source": [
    "####Notes####"
   ]
  },
  {
   "cell_type": "code",
   "execution_count": 2,
   "id": "0b44b03c",
   "metadata": {},
   "outputs": [],
   "source": [
    "# !pip3 install langchain\n",
    "# !pip install openai\n",
    "# !pip3 install openai chromadb\n",
    "# !pip3 install tiktoken"
   ]
  },
  {
   "cell_type": "code",
   "execution_count": 3,
   "id": "1e3b368d",
   "metadata": {},
   "outputs": [],
   "source": [
    "# !pip3 install unstructured\n",
    "# !pip3 install pdf2image\n",
    "# !pip3 install pdfminer\n",
    "# !pip3 install pdfminer.six\n",
    "# !pip3 install pymupdf "
   ]
  },
  {
   "cell_type": "code",
   "execution_count": 4,
   "id": "65d86529",
   "metadata": {},
   "outputs": [
    {
     "data": {
      "text/plain": [
       "<module 'langchain_qna' from '/Users/rachitjoshi/Documents/Finbot/notebooks/../scripts/langchain_qna.py'>"
      ]
     },
     "execution_count": 4,
     "metadata": {},
     "output_type": "execute_result"
    }
   ],
   "source": [
    "import os\n",
    "import sys\n",
    "import glob\n",
    "import re\n",
    "import importlib\n",
    "from langchain.text_splitter import RecursiveCharacterTextSplitter\n",
    "from langchain.embeddings import OpenAIEmbeddings\n",
    "sys.path.append(os.path.join(os.getcwd(), '../scripts'))\n",
    "import langchain_qna as lc_qna\n",
    "importlib.reload(lc_qna)"
   ]
  },
  {
   "cell_type": "markdown",
   "id": "a7269850",
   "metadata": {},
   "source": [
    "#### Environment"
   ]
  },
  {
   "cell_type": "code",
   "execution_count": 5,
   "id": "797152d8",
   "metadata": {},
   "outputs": [],
   "source": [
    "os.environ[\"OPENAI_API_KEY\"] = \"\""
   ]
  },
  {
   "cell_type": "code",
   "execution_count": 6,
   "id": "67f04a4e",
   "metadata": {},
   "outputs": [],
   "source": [
    "os.environ[\"OPENAI_API_TYPE\"] = \"azure\"\n",
    "os.environ[\"OPENAI_API_VERSION\"] = \"2023-03-15-preview\"\n",
    "os.environ[\"OPENAI_API_BASE\"] = \"https://test-chatgpt-flomoney.openai.azure.com/\"\n",
    "os.environ[\"OPENAI_API_KEY\"] = os.getenv(\"OPENAI_API_KEY\")"
   ]
  },
  {
   "cell_type": "markdown",
   "id": "ddeb387c",
   "metadata": {},
   "source": [
    "#### Parameters"
   ]
  },
  {
   "cell_type": "code",
   "execution_count": 7,
   "id": "689055b3",
   "metadata": {},
   "outputs": [],
   "source": [
    "chunking_interface = RecursiveCharacterTextSplitter\n",
    "embedding_model = OpenAIEmbeddings\n",
    "pdf_list = [\n",
    "    _ for _ in glob.glob(\n",
    "        os.path.join(os.path.join(os.getcwd(), '../data/pdfs'), '*.pdf')\n",
    "    ) if 'investorcom' in _\n",
    "]\n",
    "web_list = []\n",
    "chunk_size = 8000\n",
    "chunk_overlap = 0\n",
    "vectorstore_engine = 'Finbot-embedding'\n",
    "llm_model = 'text-davinci-002'\n",
    "llm_engine = 'finbot-gpt'\n",
    "temperature = 0\n",
    "search_type = 'mmr'\n",
    "retrieval_kwargs = {'k': 6, 'lambda_mult': 0.5}"
   ]
  },
  {
   "cell_type": "markdown",
   "id": "a9959db6",
   "metadata": {},
   "source": [
    "#### QnA Chain "
   ]
  },
  {
   "cell_type": "code",
   "execution_count": 8,
   "id": "5a8911e7",
   "metadata": {},
   "outputs": [],
   "source": [
    "langchain_qna = lc_qna.LangchainQnA(chunking_interface, embedding_model)"
   ]
  },
  {
   "cell_type": "code",
   "execution_count": 9,
   "id": "1bc26171",
   "metadata": {},
   "outputs": [
    {
     "name": "stderr",
     "output_type": "stream",
     "text": [
      "/usr/local/lib/python3.9/site-packages/langchain/utils/utils.py:149: UserWarning: WARNING! engine is not default parameter.\n",
      "                engine was transferred to model_kwargs.\n",
      "                Please confirm that engine is what you intended.\n",
      "  warnings.warn(\n"
     ]
    }
   ],
   "source": [
    "qna_chain = langchain_qna.main_function(\n",
    "    pdf_list, web_list, chunk_size, chunk_overlap, vectorstore_engine,\n",
    "    llm_model, llm_engine, temperature, search_type, **retrieval_kwargs\n",
    ")"
   ]
  },
  {
   "cell_type": "markdown",
   "id": "1f596b17",
   "metadata": {},
   "source": [
    "#### QnA (using Chain)"
   ]
  },
  {
   "cell_type": "code",
   "execution_count": 10,
   "id": "54a9af88",
   "metadata": {},
   "outputs": [
    {
     "name": "stderr",
     "output_type": "stream",
     "text": [
      "Number of requested results 20 is greater than number of elements in index 10, updating n_results = 10\n"
     ]
    },
    {
     "name": "stdout",
     "output_type": "stream",
     "text": [
      " Amazon stock is not a buy at this time. It's still in a long-term downtrend but has been recovering since it hit a low at the start of the year. AMZN stock is now forming a cup base with a 114.10 buy point, and the price action is so far pretty smooth. Even if Amazon breaks out, it has a mountain to climb back. Overhead supply could retard any advance AMZN tries in the next several months. The stock continues to hit resistance at the 200-day line, which has been a resistance level for about a year. Amazon is currently sitting on its 50-day line. Falling below that would be reason for caution. But holding above it and then piercing through the 200-day line and holding would be a positive sign. Recognizing stock chart patterns is one key to the investment guidelines. IBD offers a broad range of growth stock lists, such as Leaderboard and SwingTrader. Investors also can create watchlists, find companies nearing a buy point, or develop custom screens at IBD MarketSmith. If you're interested in buying large-cap stocks, in these articles you'll find technical analysis of leading large caps to see if they are in or near a proper buy zone. Meta stock has now rallied 170\n"
     ]
    }
   ],
   "source": [
    "question = 'Based on the provided content, should I consider buying amazon stock or meta stock?'\n",
    "answer = qna_chain({\"query\": question})\n",
    "print(answer['result'])"
   ]
  },
  {
   "cell_type": "code",
   "execution_count": 11,
   "id": "e5e18a0a",
   "metadata": {},
   "outputs": [
    {
     "name": "stderr",
     "output_type": "stream",
     "text": [
      "Number of requested results 20 is greater than number of elements in index 10, updating n_results = 10\n"
     ]
    },
    {
     "name": "stdout",
     "output_type": "stream",
     "text": [
      " \n",
      "\n",
      "Nvidia and Tesla are two very different companies, so it's hard to compare them directly. Nvidia is a semiconductor company that makes graphics processing units (GPUs) for gaming and data centers, as well as other chips for artificial intelligence (AI) and autonomous vehicles. Tesla, on the other hand, is an electric vehicle (EV) maker that also produces solar panels and energy storage systems. \n",
      "\n",
      "That said, here are some pros and cons of investing in each company:\n",
      "\n",
      "Nvidia pros:\n",
      "- Strong growth potential in gaming, data centers, AI, and autonomous vehicles\n",
      "- Dominant market position in GPUs\n",
      "- Strong financials with high margins and low debt\n",
      "- Consistent earnings growth\n",
      "\n",
      "Nvidia cons:\n",
      "- Valuation is high, with a P/E ratio of over 100\n",
      "- Dependence on the gaming industry, which can be cyclical\n",
      "- Competition from other chipmakers like AMD and Intel\n",
      "\n",
      "Tesla pros:\n",
      "- Strong growth potential in the EV market, which is expected to grow rapidly in the coming years\n",
      "- First-mover advantage in the EV market\n",
      "- Strong brand recognition and loyal customer base\n",
      "- Potential for growth in solar and energy storage markets\n",
      "\n",
      "Tesla cons:\n",
      "- Valuation is high, with a P/E ratio of over \n"
     ]
    }
   ],
   "source": [
    "question = 'What are the pros and cons of investing in nvidia stock versus tesla stock?'\n",
    "answer = qna_chain({\"query\": question})\n",
    "print(answer['result'])"
   ]
  },
  {
   "cell_type": "code",
   "execution_count": null,
   "id": "d2d5a2b4",
   "metadata": {},
   "outputs": [],
   "source": []
  }
 ],
 "metadata": {
  "kernelspec": {
   "display_name": "Python 3 (ipykernel)",
   "language": "python",
   "name": "python3"
  },
  "language_info": {
   "codemirror_mode": {
    "name": "ipython",
    "version": 3
   },
   "file_extension": ".py",
   "mimetype": "text/x-python",
   "name": "python",
   "nbconvert_exporter": "python",
   "pygments_lexer": "ipython3",
   "version": "3.9.6"
  }
 },
 "nbformat": 4,
 "nbformat_minor": 5
}
